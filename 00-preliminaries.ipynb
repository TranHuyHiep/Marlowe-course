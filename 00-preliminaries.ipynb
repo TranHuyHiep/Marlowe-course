{
 "cells": [
  {
   "cell_type": "markdown",
   "id": "4f3e8ba1-d2d2-4393-8c9e-8d324d444230",
   "metadata": {},
   "source": [
    "# Preliminaries for Using the Marlowe Starter Kit (Chuẩn bị)\n",
    "\n",
    "***Trước khi chạy sổ ghi chép này, bạn có thể muốn sử dụng chức năng \"xóa đầu ra\" của Jupyter để xóa kết quả thực hiện trước đó của sổ ghi chép này. Điều đó sẽ làm rõ hơn những gì đã được thực thi trong phiên hiện tại.***\n",
    "\n",
    "Nền tảng phát triển web3 demeter.run cung cấp tiện ích mở rộng Cardano Marlowe Runtime có cài đặt các công cụ Marlowe và cung cấp các dịch vụ phụ trợ Marlowe Runtime và node Cardano. Nếu bạn không sử dụng demeter.run , hãy xem trang docker để biết hướng dẫn triển khai Marlowe Runtime bằng docker.\n",
    "\n",
    "Sổ ghi chép này cung cấp hướng dẫn về cách thiết lập khóa ký và địa chỉ cho bộ khởi động này. Nó bao gồm các thông tin sau:\n",
    "\n",
    "- Công cụ Marlowe\n",
    "- Tạo địa chỉ và khóa ký\n",
    "    - Faucet\n",
    "    - Người cho vay\n",
    "    - Người vay\n",
    "- Nhận bài kiểm tra ADA\n",
    "- Tài trợ cho địa chỉ của các bên\n",
    "    - Sử dụng Daedalus hoặc ví trình duyệt web\n",
    "    - Sử dụng faucet cục bộ tại dòng lệnh\n",
    "    \n",
    "[Một video hoạt động thông qua sổ ghi chép Jupyter này.](https://youtu.be/hGBmj9ZrYHs)\n",
    "\n",
    "Bạn có thể đặt câu hỏi về Marlowe trong kênh #ask-marlowe trên IOG Discord hoặc đăng sự cố với bài học này lên danh sách sự cố cho kho lưu trữ github của Bộ công cụ khởi động Marlowe ."
   ]
  },
  {
   "cell_type": "markdown",
   "id": "4a2ec343-a4e7-4ad6-ae82-0b3ce6c1d2f9",
   "metadata": {},
   "source": [
    "## Công cụ Marlowe\n",
    "\n",
    "Ba quy trình công việc thay thế có sẵn để chạy các hợp đồng Marlowe:\n",
    "1. Marlowe CLI (`marlowe-cli`) cho các thử nghiệm nhẹ với giao dịch Marlowe.\n",
    "2. Marlowe Runtime CLI (`marlowe-runtime-cli`) cho các ứng dụng không phải web sử dụng dịch vụ phụ trợ Marlowe Runtime.\n",
    "3. Marlowe Runtime Web (`marlowe-web-server`) cho các ứng dụng web sử dụng dịch vụ phụ trợ Marlowe Runtime.\n",
    "\n",
    "Marlowe Runtime cung cấp nhiều dịch vụ xây dựng giao dịch, quản lý UTxO, truy vấn và gửi để sử dụng hợp đồng Marlowe: điều này giúp dễ dàng chạy hợp đồng Marlowe mà không cần tham khảo chi tiết về sổ cái Cardano và hợp đồng thông minh Plutus. Ngược lại, Marlowe CLI không hỗ trợ truy vấn và quản lý UTxO, vì vậy nó phù hợp nhất cho các nhà phát triển Cardano có kinh nghiệm.\n",
    "\n",
    "![Tools for Running and Querying Marlowe Contracts](images/marlowe-tools.png)"
   ]
  },
  {
   "cell_type": "markdown",
   "id": "1d04e564-9695-43f2-b465-74fab8f21f5b",
   "metadata": {},
   "source": [
    "### Truy cập vào node Cardano và Marlowe Runtime\n",
    "\n",
    "Nếu chúng ta đang sử dụng tiện ích mở rộng Cardano Marlowe Runtime của demeter.run, thì chúng ta đã có quyền truy cập vào Cardano Node và Marlowe Runtime.Các lệnh sau sẽ đặt các biến môi trường cần thiết để sử dụng triển khai docker cục bộ trên các cổng mặc định. Nó cũng sẽ thiết lập một số biến môi trường bổ sung."
   ]
  },
  {
   "cell_type": "code",
   "execution_count": 1,
   "id": "37eac541-8c51-47ba-b50e-10d70ad321e0",
   "metadata": {
    "tags": [],
    "vscode": {
     "languageId": "shellscript"
    }
   },
   "outputs": [
    {
     "name": "stdout",
     "output_type": "stream",
     "text": [
      "CARDANO_NODE_SOCKET_PATH = ~/.local/share/containers/storage/volumes/marlowe-starter-kit_shared/_data/node.socket\n",
      "CARDANO_TESTNET_MAGIC = 1\n"
     ]
    }
   ],
   "source": [
    "if [[ -z \"$MARLOWE_RT_PORT\" ]]\n",
    "then\n",
    "\n",
    "  # Only required for `marlowe-cli` and `cardano-cli`.\n",
    "  export CARDANO_NODE_SOCKET_PATH=\"$(docker volume inspect marlowe-starter-kit_shared | jq -r '.[0].Mountpoint')/node.socket\"\n",
    "  export CARDANO_TESTNET_MAGIC=1 # Note that preprod=1 and preview=2. Do not set this variable if using mainnet.\n",
    "\n",
    "fi\n",
    "\n",
    "# FIXME: This should have been inherited from the parent environment.\n",
    "if [[ -z \"$CARDANO_NODE_SOCKET_PATH\" ]]\n",
    "then\n",
    "  export CARDANO_NODE_SOCKET_PATH=/ipc/node.socket\n",
    "fi\n",
    "\n",
    "# FIXME: This should have been set in the parent environment.\n",
    "if [[ -z \"$CARDANO_TESTNET_MAGIC\" ]]\n",
    "then\n",
    "  export CARDANO_TESTNET_MAGIC=$CARDANO_NODE_MAGIC\n",
    "fi\n",
    "\n",
    "echo \"CARDANO_NODE_SOCKET_PATH = $CARDANO_NODE_SOCKET_PATH\"\n",
    "echo \"CARDANO_TESTNET_MAGIC = $CARDANO_TESTNET_MAGIC\""
   ]
  },
  {
   "cell_type": "markdown",
   "id": "49fff9dc-b2cf-4a63-b1fc-ea5eb0b478e7",
   "metadata": {
    "tags": []
   },
   "source": [
    "Lưu ý số magic mạng thử nghiệm:\n",
    "- `preprod` = 1\n",
    "- `preview` = 2"
   ]
  },
  {
   "cell_type": "markdown",
   "id": "979706db-b6a7-4a50-827a-368835374bb8",
   "metadata": {
    "tags": [],
    "vscode": {
     "languageId": "shellscript"
    }
   },
   "source": [
    "## Tạo địa chỉ và khóa\n",
    "\n",
    "Cổng  [Cardano Developers Portal](https://developers.cardano.org/docs/stake-pool-course/handbook/keys-addresses/) chứa hướng dẫn tạo địa chỉ và khóa ký.\n",
    "\n",
    "Bộ khởi động này sử dụng các địa chỉ sau:\n",
    "- Một  ***tuỳ chọn*** cục bộ *Faucet* được sử dụng để tài trợ cho các bên tham gia hợp đồng Marlowe.\n",
    "- Bên *cho vay* đối với các ví dụ trong bộ khởi động này.\n",
    "- Bên *vay* cho các ví dụ trong bộ khởi động này.\n",
    "- Bên *Mediator* cho vài ví dụ trong bộ khởi động này.\n",
    "\n",
    "Hướng dẫn bên dưới trình bày chi tiết cách tạo khóa ký và địa chỉ cho các bên này. Giả định rằng một người có khóa ký và địa chỉ cho faucet và faucet đó đã được tài trợ bằng ADA thử nghiệm.\n",
    "\n",
    "***QUAN TRỌNG:*** Thư  [keys/](keys/) mục chứa các khóa ký sẽ được tạo để tương tác với hợp đồng Marlowe. Nếu bạn xóa hoặc làm mất các tệp này, thì bạn cũng sẽ mất vĩnh viễn ADA thử nghiệm được lưu trữ tại các địa chỉ đó. Sao lưu các tệp này hoặc sau khi chạy hướng dẫn, hãy gửi phần còn lại của quảng cáo thử nghiệm trở lại ví lâu dài hơn hoặc trả lại cho faucet."
   ]
  },
  {
   "cell_type": "markdown",
   "id": "f81c063e-5f03-4dcf-a9b8-297fa2504076",
   "metadata": {},
   "source": [
    "### The Faucet\n",
    "\n",
    "***Bước này là tùy chọn nếu một người đang sử dụng ví đã được tài trợ bằng ADA thử nghiệm.***\n",
    "\n",
    "Đặt tên tệp cho khóa ký và khóa xác minh của bên này."
   ]
  },
  {
   "cell_type": "code",
   "execution_count": 2,
   "id": "8bb867d3-f099-4ce9-8411-af904024e729",
   "metadata": {
    "tags": [],
    "vscode": {
     "languageId": "shellscript"
    }
   },
   "outputs": [],
   "source": [
    "FAUCET_SKEY=keys/faucet.skey\n",
    "FAUCET_VKEY=keys/faucet.vkey"
   ]
  },
  {
   "cell_type": "markdown",
   "id": "4aba92c6-85d1-4960-916f-1b9384cd2c06",
   "metadata": {},
   "source": [
    "Tạo khóa nếu chúng chưa được tạo."
   ]
  },
  {
   "cell_type": "code",
   "execution_count": 3,
   "id": "d3b8e993-a6c8-4307-a8f7-772b15d37731",
   "metadata": {
    "tags": [],
    "vscode": {
     "languageId": "shellscript"
    }
   },
   "outputs": [],
   "source": [
    "if [[ ! -e \"$FAUCET_SKEY\" ]]\n",
    "then\n",
    "  cardano-cli address key-gen \\\n",
    "    --signing-key-file \"$FAUCET_SKEY\" \\\n",
    "    --verification-key-file \"$FAUCET_VKEY\"\n",
    "fi"
   ]
  },
  {
   "cell_type": "markdown",
   "id": "7f6a11b1-8508-48f7-a876-fa36deeca8cb",
   "metadata": {},
   "source": [
    "Tính toán địa chỉ của faucet trên mạng thử nghiệm."
   ]
  },
  {
   "cell_type": "code",
   "execution_count": 4,
   "id": "1f8ede90-4c8d-4c97-a449-36e7a37aca42",
   "metadata": {
    "tags": [],
    "vscode": {
     "languageId": "shellscript"
    }
   },
   "outputs": [
    {
     "name": "stdout",
     "output_type": "stream",
     "text": [
      "FAUCET_ADDR = addr_test1vq9prvx8ufwutkwxx9cmmuuajaqmjqwujqlp9d8pvg6gupczgtm9j\n"
     ]
    }
   ],
   "source": [
    "FAUCET_ADDR=$(cardano-cli address build --testnet-magic \"$CARDANO_TESTNET_MAGIC\" --payment-verification-key-file \"$FAUCET_VKEY\" )\n",
    "echo \"$FAUCET_ADDR\" > keys/faucet.address\n",
    "echo \"FAUCET_ADDR = $FAUCET_ADDR\""
   ]
  },
  {
   "cell_type": "markdown",
   "id": "709cad6d-8355-4959-a0a6-db0cac4824ae",
   "metadata": {},
   "source": [
    "### Người cho vay\n",
    "\n",
    "Đặt tên tệp cho khóa ký và khóa xác minh của bên này."
   ]
  },
  {
   "cell_type": "code",
   "execution_count": 5,
   "id": "c66c378f-34f8-484f-acc7-200a40fb2468",
   "metadata": {
    "tags": [],
    "vscode": {
     "languageId": "shellscript"
    }
   },
   "outputs": [],
   "source": [
    "LENDER_SKEY=keys/lender.skey\n",
    "LENDER_VKEY=keys/lender.vkey"
   ]
  },
  {
   "cell_type": "markdown",
   "id": "da7e0e93-aed7-41bb-ade3-5c5f818578f8",
   "metadata": {},
   "source": [
    "Tạo khóa nếu chúng chưa được tạo."
   ]
  },
  {
   "cell_type": "code",
   "execution_count": 6,
   "id": "e0be461f-2399-4b28-a0c6-21966383bafd",
   "metadata": {
    "tags": [],
    "vscode": {
     "languageId": "shellscript"
    }
   },
   "outputs": [],
   "source": [
    "if [[ ! -e \"$LENDER_SKEY\" ]]\n",
    "then\n",
    "  cardano-cli address key-gen \\\n",
    "    --signing-key-file \"$LENDER_SKEY\" \\\n",
    "    --verification-key-file \"$LENDER_VKEY\"\n",
    "fi"
   ]
  },
  {
   "cell_type": "markdown",
   "id": "a2aa5789-4857-4a28-ac2c-780444adfbff",
   "metadata": {},
   "source": [
    "Tính toán địa chỉ của bên trên testnet."
   ]
  },
  {
   "cell_type": "code",
   "execution_count": 7,
   "id": "67e73e10-0d09-4c8f-b4d0-07ccc34f11cb",
   "metadata": {
    "tags": [],
    "vscode": {
     "languageId": "shellscript"
    }
   },
   "outputs": [
    {
     "name": "stdout",
     "output_type": "stream",
     "text": [
      "LENDER_ADDR = addr_test1vqd3yrtjyx49uld43lvwqaf7z4k03su8gf2x4yr7syzvckgfzm4ck\n"
     ]
    }
   ],
   "source": [
    "LENDER_ADDR=$(cardano-cli address build --testnet-magic \"$CARDANO_TESTNET_MAGIC\" --payment-verification-key-file \"$LENDER_VKEY\" )\n",
    "echo \"$LENDER_ADDR\" > keys/lender.address\n",
    "echo \"LENDER_ADDR = $LENDER_ADDR\""
   ]
  },
  {
   "cell_type": "markdown",
   "id": "82c69f5c-c6fe-4aa6-bef2-6daab94adba4",
   "metadata": {},
   "source": [
    "### Người đi vay\n",
    "\n",
    "Đặt tên tệp cho khóa ký và khóa xác minh của bên này."
   ]
  },
  {
   "cell_type": "code",
   "execution_count": 8,
   "id": "7a4cfdc0-0150-428d-b242-b463dea5a0c7",
   "metadata": {
    "tags": [],
    "vscode": {
     "languageId": "shellscript"
    }
   },
   "outputs": [],
   "source": [
    "BORROWER_SKEY=keys/borrower.skey\n",
    "BORROWER_VKEY=keys/borrower.vkey"
   ]
  },
  {
   "cell_type": "markdown",
   "id": "0a735a03-abfa-443c-9d68-f4b6bdb28386",
   "metadata": {},
   "source": [
    "Tạo khóa nếu chúng chưa được tạo."
   ]
  },
  {
   "cell_type": "code",
   "execution_count": 9,
   "id": "540e6045-d92c-49da-af39-cd339a5963b0",
   "metadata": {
    "tags": [],
    "vscode": {
     "languageId": "shellscript"
    }
   },
   "outputs": [],
   "source": [
    "if [[ ! -e \"$BORROWER_SKEY\" ]]\n",
    "then\n",
    "  cardano-cli address key-gen \\\n",
    "    --signing-key-file \"$BORROWER_SKEY\"  \\\n",
    "    --verification-key-file \"$BORROWER_VKEY\"\n",
    "fi"
   ]
  },
  {
   "cell_type": "markdown",
   "id": "3c5c365e-ebfe-41ee-9070-78f31710df48",
   "metadata": {},
   "source": [
    "Tính toán địa chỉ của bên trên testnet."
   ]
  },
  {
   "cell_type": "code",
   "execution_count": 10,
   "id": "6ed6137d-b9fe-4a87-b0a4-f2b802fa96e4",
   "metadata": {
    "tags": [],
    "vscode": {
     "languageId": "shellscript"
    }
   },
   "outputs": [
    {
     "name": "stdout",
     "output_type": "stream",
     "text": [
      "BORROWER_ADDR = addr_test1vpy4n4peh4suv0y55yptur0066j5kds8r4ncnuzm0vpzfgg0dhz6d\n"
     ]
    }
   ],
   "source": [
    "BORROWER_ADDR=$(cardano-cli address build --testnet-magic \"$CARDANO_TESTNET_MAGIC\" --payment-verification-key-file \"$BORROWER_VKEY\" )\n",
    "echo \"$BORROWER_ADDR\" > keys/borrower.address\n",
    "echo \"BORROWER_ADDR = $BORROWER_ADDR\""
   ]
  },
  {
   "cell_type": "markdown",
   "id": "a888e3e6-bdab-4763-8f7f-5c72c990ea90",
   "metadata": {},
   "source": [
    "### Người hòa giải\n",
    "\n",
    "Đặt tên tệp cho khóa ký và khóa xác minh của bên này."
   ]
  },
  {
   "cell_type": "code",
   "execution_count": 11,
   "id": "89967b6a-01a0-42a6-ba70-258f67a2ddba",
   "metadata": {
    "tags": [],
    "vscode": {
     "languageId": "shellscript"
    }
   },
   "outputs": [],
   "source": [
    "MEDIATOR_SKEY=keys/mediator.skey\n",
    "MEDIATOR_VKEY=keys/mediator.vkey"
   ]
  },
  {
   "cell_type": "markdown",
   "id": "40dd9cf7-5931-47a4-a6c3-6bfcc7031963",
   "metadata": {},
   "source": [
    "Tạo khóa nếu chúng chưa được tạo."
   ]
  },
  {
   "cell_type": "code",
   "execution_count": 12,
   "id": "81238600-8ae9-43fd-881f-5bb1ab85688d",
   "metadata": {
    "tags": [],
    "vscode": {
     "languageId": "shellscript"
    }
   },
   "outputs": [],
   "source": [
    "if [[ ! -e \"$MEDIATOR_SKEY\" ]]\n",
    "then\n",
    "  cardano-cli address key-gen \\\n",
    "    --signing-key-file \"$MEDIATOR_SKEY\"  \\\n",
    "    --verification-key-file \"$MEDIATOR_VKEY\"\n",
    "fi"
   ]
  },
  {
   "cell_type": "markdown",
   "id": "8ddf1475-a5a1-4d63-a83d-311cb7391500",
   "metadata": {},
   "source": [
    "Tính toán địa chỉ của bên trên testnet."
   ]
  },
  {
   "cell_type": "code",
   "execution_count": 13,
   "id": "16cd8dd9-153c-4abc-903e-a91e742044ca",
   "metadata": {
    "tags": [],
    "vscode": {
     "languageId": "shellscript"
    }
   },
   "outputs": [
    {
     "name": "stdout",
     "output_type": "stream",
     "text": [
      "MEDIATOR_ADDR = addr_test1vr6tytqs3x8qgewhw89m3xrz58t3tqu2hfsecw0u06lf3hg052wsv\n"
     ]
    }
   ],
   "source": [
    "MEDIATOR_ADDR=$(cardano-cli address build --testnet-magic \"$CARDANO_TESTNET_MAGIC\" --payment-verification-key-file \"$MEDIATOR_VKEY\" )\n",
    "echo \"$MEDIATOR_ADDR\" > keys/mediator.address\n",
    "echo \"MEDIATOR_ADDR = $MEDIATOR_ADDR\""
   ]
  },
  {
   "cell_type": "markdown",
   "id": "74ea3de1-6c14-4ef6-a5ab-e8784cc879cc",
   "metadata": {},
   "source": [
    "## Nhận bài kiểm tra ADA\n",
    "\n",
    "Để thực hiện các giao dịch trên mạng Cardano, người ta cần tiền tệ bản địa ADA để trả phí và sử dụng làm tiền. Có các faucet dành cho mạng thử nghiệm công khai tại https://docs.cardano.org/cardano-testnet/tools/faucet nơi người ta có thể lấy ADA thử nghiệm hàng ngày.\n",
    "\n",
    "Theo tùy chọn, có thể thuận tiện để quản lý tiền tập trung bằng [Daedalus wallet](https://docs.cardano.org/cardano-testnet/daedalus-testnet) hoặc một trong [các ví trên trình duyệt web](https://builtoncardano.com/ecosystem/wallets): đảm bảo chọn đúng mạng thử nghiệm công khai nếu sử dụng một trong các ví này.\n",
    "\n",
    "Nếu bạn sẽ sử dụng một faucet cục bộ, thì hãy gửi ADA thử nghiệm đến địa chỉ faucet đã tạo trong phần trước. Nếu không, hãy gửi ADA thử nghiệm đến ví Daedalus hoặc trình duyệt web."
   ]
  },
  {
   "cell_type": "code",
   "execution_count": 14,
   "id": "73e739b1-9d2f-4f36-b1ce-24e9e6c88f4b",
   "metadata": {
    "tags": [],
    "vscode": {
     "languageId": "shellscript"
    }
   },
   "outputs": [
    {
     "name": "stdout",
     "output_type": "stream",
     "text": [
      "FAUCET_ADDR = addr_test1vq9prvx8ufwutkwxx9cmmuuajaqmjqwujqlp9d8pvg6gupczgtm9j\n"
     ]
    }
   ],
   "source": [
    "echo \"FAUCET_ADDR = $FAUCET_ADDR\""
   ]
  },
  {
   "cell_type": "markdown",
   "id": "415587c0-2559-4ecc-b4cc-737fd3d955d9",
   "metadata": {},
   "source": [
    "## Tài trợ cho địa chỉ của các bên\n",
    "\n",
    "Chúng ta sẽ tài trợ cho mỗi địa chỉ với 1000 ADA thử nghiệm."
   ]
  },
  {
   "cell_type": "code",
   "execution_count": 15,
   "id": "7c2069be-6817-4193-90bf-fd2a5fb26de7",
   "metadata": {
    "tags": [],
    "vscode": {
     "languageId": "shellscript"
    }
   },
   "outputs": [
    {
     "name": "stdout",
     "output_type": "stream",
     "text": [
      "LENDER_ADDR = addr_test1vqd3yrtjyx49uld43lvwqaf7z4k03su8gf2x4yr7syzvckgfzm4ck\n",
      "BORROWER_ADDR = addr_test1vpy4n4peh4suv0y55yptur0066j5kds8r4ncnuzm0vpzfgg0dhz6d\n",
      "MEDIATOR_ADDR = addr_test1vr6tytqs3x8qgewhw89m3xrz58t3tqu2hfsecw0u06lf3hg052wsv\n"
     ]
    }
   ],
   "source": [
    "echo \"LENDER_ADDR = $LENDER_ADDR\"\n",
    "echo \"BORROWER_ADDR = $BORROWER_ADDR\"\n",
    "echo \"MEDIATOR_ADDR = $MEDIATOR_ADDR\""
   ]
  },
  {
   "cell_type": "markdown",
   "id": "3829569e-7f4a-4d2f-983a-b23d81c5b190",
   "metadata": {},
   "source": [
    "### Sử dụng Daedalus hoặc ví\n",
    "\n",
    "Nếu bạn đã có ví chứa ADA thử nghiệm, thì bạn chỉ cần gửi tiền đến địa chỉ của các khóa mà chúng ta đã tạo trong phần trước. Ảnh chụp màn hình bên dưới cho thấy việc sử dụng Daedalus để tài trợ cho địa chỉ người cho vay.\n",
    "\n",
    "![Sending funds with Daedalus](images/daedalus-example.png)"
   ]
  },
  {
   "cell_type": "markdown",
   "id": "2c14be5d-b4ae-4c62-9cc4-271fe79dcaea",
   "metadata": {},
   "source": [
    "### Sử dụng faucet cục bộ tại cửa sổ dòng lệnh\n",
    "\n",
    "Người ta có thể sử dụng `cardano-cli` hoặc `marlowe-cli` gửi tiền đến một địa chỉ. Ở đây chúng ta sử dụng.\n",
    "\n",
    "***Nếu bạn vừa nạp tiền `FAUCET_ADDR` bằng ADA, bạn có thể phải đợi vài phút trước khi giao dịch đó được xác nhận. Nếu lệnh bên dưới không thành công, hãy thử lại cho đến khi thành công.***"
   ]
  },
  {
   "cell_type": "code",
   "execution_count": 16,
   "id": "5bcf4056-963b-41e1-b963-6af2c09498b5",
   "metadata": {
    "tags": [],
    "vscode": {
     "languageId": "shellscript"
    }
   },
   "outputs": [
    {
     "name": "stdout",
     "output_type": "stream",
     "text": [
      "TxId \"8461a35e612b38d4cb592e4ba1b7f13c2ff2825942d66e7200acc575cd4c8f1c\"\n"
     ]
    }
   ],
   "source": [
    "# Note that `FAUCET_ADDR` must have already been funded with test ada.\n",
    "\n",
    "# 1 ada = 1,000,000 lovelace\n",
    "ADA=1000000\n",
    "\n",
    "# Send 1000 ada\n",
    "AMOUNT=$((1000 * ADA))\n",
    "\n",
    "# Execute the transaction.\n",
    "marlowe-cli util fund-address \\\n",
    " --lovelace \"$AMOUNT\" \\\n",
    " --out-file /dev/null \\\n",
    " --source-wallet-credentials \"$FAUCET_ADDR\":\"$FAUCET_SKEY\" \\\n",
    " --submit 600 \\\n",
    " \"$LENDER_ADDR\" \"$BORROWER_ADDR\" \"$MEDIATOR_ADDR\""
   ]
  },
  {
   "cell_type": "markdown",
   "id": "a9096d7c-9b21-48a6-b747-c14560486d17",
   "metadata": {},
   "source": [
    "Xem rằng các địa chỉ đã thực sự được tài trợ:"
   ]
  },
  {
   "cell_type": "code",
   "execution_count": 17,
   "id": "d4f822da-45bf-4222-95fa-5ce6a912869b",
   "metadata": {
    "tags": [],
    "vscode": {
     "languageId": "shellscript"
    }
   },
   "outputs": [
    {
     "name": "stdout",
     "output_type": "stream",
     "text": [
      "\n",
      "Lender @ addr_test1vqd3yrtjyx49uld43lvwqaf7z4k03su8gf2x4yr7syzvckgfzm4ck\n",
      "                           TxHash                                 TxIx        Amount\n",
      "--------------------------------------------------------------------------------------\n",
      "8461a35e612b38d4cb592e4ba1b7f13c2ff2825942d66e7200acc575cd4c8f1c     1        1000000000 lovelace + TxOutDatumNone\n",
      "\n",
      "\n",
      "Borrower @ addr_test1vpy4n4peh4suv0y55yptur0066j5kds8r4ncnuzm0vpzfgg0dhz6d\n",
      "                           TxHash                                 TxIx        Amount\n",
      "--------------------------------------------------------------------------------------\n",
      "8461a35e612b38d4cb592e4ba1b7f13c2ff2825942d66e7200acc575cd4c8f1c     2        1000000000 lovelace + TxOutDatumNone\n",
      "\n",
      "\n",
      "Mediator @ addr_test1vr6tytqs3x8qgewhw89m3xrz58t3tqu2hfsecw0u06lf3hg052wsv\n",
      "                           TxHash                                 TxIx        Amount\n",
      "--------------------------------------------------------------------------------------\n",
      "8461a35e612b38d4cb592e4ba1b7f13c2ff2825942d66e7200acc575cd4c8f1c     3        1000000000 lovelace + TxOutDatumNone\n",
      "\n"
     ]
    }
   ],
   "source": [
    "echo\n",
    "echo \"Lender @ $LENDER_ADDR\"\n",
    "cardano-cli query utxo --testnet-magic \"$CARDANO_TESTNET_MAGIC\" --address \"$LENDER_ADDR\"\n",
    "echo\n",
    "\n",
    "echo\n",
    "echo \"Borrower @ $BORROWER_ADDR\"\n",
    "cardano-cli query utxo --testnet-magic \"$CARDANO_TESTNET_MAGIC\" --address \"$BORROWER_ADDR\"\n",
    "echo\n",
    "\n",
    "echo\n",
    "echo \"Mediator @ $MEDIATOR_ADDR\"\n",
    "cardano-cli query utxo --testnet-magic \"$CARDANO_TESTNET_MAGIC\" --address \"$MEDIATOR_ADDR\"\n",
    "echo"
   ]
  }
 ],
 "metadata": {
  "kernelspec": {
   "display_name": "Bash with Marlowe Tools",
   "language": "bash",
   "name": "bash-minimal"
  },
  "language_info": {
   "codemirror_mode": "shell",
   "file_extension": ".sh",
   "mimetype": "text/x-sh",
   "name": "bash"
  }
 },
 "nbformat": 4,
 "nbformat_minor": 5
}
