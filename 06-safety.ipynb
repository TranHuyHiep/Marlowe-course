{
 "cells": [
  {
   "cell_type": "markdown",
   "id": "51b36607-12f0-4017-9afa-c59caab579da",
   "metadata": {
    "tags": []
   },
   "source": [
    "# Kiểm tra An toàn của Hợp đồng Marlowe\n",
    "\n",
    "Mặc dù ngôn ngữ Marlowe có đảm bảo an toàn mạnh mẽ, nhưng vẫn có khả năng tạo ra các hợp đồng Marlowe không an toàn trên blockchain Cardano vì một số hợp đồng Marlowe hợp lệ vi phạm quy tắc sổ cái của blockchain.\n",
    "\n",
    "Có ba công cụ Marlowe có sẵn để kiểm tra tính an toàn của một hợp đồng trước khi gửi nó lên blockchain:\n",
    "- Điểm cuối REST của Marlowe Runtime `POST /contracts` trả về một báo cáo an toàn trong phản hồi của nó.\n",
    "- Lệnh CLI của Marlowe Runtime `marlowe-runtime-cli create` in ra báo cáo an toàn.\n",
    "- Lệnh CLI của Marlowe `marlowe-cli run analyze` cũng in ra một báo cáo an toàn tương tự.\n",
    "\n",
    "Trong hướng dẫn này, chúng tôi sử dụng phương pháp đầu tiên, nhưng tất cả ba phương pháp đều cho kết quả giống nhau.\n",
    "\n",
    "***Lưu ý rằng Marlowe Runtime không ngăn chặn người dùng từ việc gửi các hợp đồng không an toàn. Việc xem xét các lỗi an toàn và quyết định liệu có gửi hợp đồng lên blockchain hay không là trách nhiệm của khách hàng.*** Các lỗi an toàn được đánh dấu là \"fatal\" để chỉ ra liệu các vấn đề có nghiêm trọng đến mức hợp đồng có hoạt động trên blockchain hay không.\n",
    "\n",
    "*Ngoài ra, lưu ý rằng các công cụ phân tích an toàn của Marlowe chưa được kiểm định, vì vậy nên thử nghiệm tất cả các đường dẫn thực thi của một hợp đồng Marlowe trên mạng lưới thử nghiệm trước khi chạy hợp đồng trên mạng lưới chính.*"
   ]
  },
  {
   "cell_type": "markdown",
   "id": "e93966d3-f001-4782-b34e-f58161c601a7",
   "metadata": {},
   "source": [
    "## Chuẩn bị \n",
    "\n",
    "Xem [Chuẩn bị](../../docs/preliminaries.md) để biết thông tin về cách thiết lập môi trường của mình để sử dụng hướng dẫn này.\n",
    "\n",
    "Bước đầu tiên là kiểm tra xem chúng ta có tất cả các công cụ cần thiết và biến môi trường có sẵn cho sổ tay hay không."
   ]
  },
  {
   "cell_type": "code",
   "execution_count": 1,
   "id": "baa91b15-24db-40e9-b486-d02012d430cf",
   "metadata": {
    "tags": [],
    "vscode": {
     "languageId": "shellscript"
    }
   },
   "outputs": [
    {
     "name": "stdout",
     "output_type": "stream",
     "text": [
      "########################\n",
      "## Check CLI commands ##\n",
      "########################\n",
      "\n",
      "The following required programs are available in the shell:\n",
      "  * jq\n",
      "  * json2yaml\n",
      "  * marlowe-cli\n",
      "  * marlowe-runtime-cli\n",
      "  * cardano-cli\n",
      "  * cardano-address\n",
      "  * cardano-wallet\n",
      "\n",
      "#########################\n",
      "## Check required envs ##\n",
      "#########################\n",
      "\n",
      "The following environment variables are available in the shell:\n",
      "  * CARDANO_NODE_SOCKET_PATH = /extra\n",
      "  * MARLOWE_RT_HOST = 192.168.0.12\n",
      "  * MARLOWE_RT_PORT = 13700\n",
      "  * MARLOWE_RT_WEBSERVER_HOST = 192.168.0.12\n",
      "  * MARLOWE_RT_WEBSERVER_PORT = 13780\n",
      "  * MARLOWE_RT_WEBSERVER_URL = http://192.168.0.12:13780\n",
      "cat: ../../keys/faucet.address: No such file or directory\n",
      "  * FAUCET_ADDR = \n",
      "  * FAUCET_SKEY = ../../keys/faucet.skey\n",
      "\n",
      "###################\n",
      "## Check Network ##\n",
      "###################\n",
      "\n",
      "CARDANO_SCAN_URL = https://cardanoscan.io\n",
      "MARLOWE_SCAN_URL = https://mainnet.marlowescan.com\n"
     ]
    }
   ],
   "source": [
    "export SCRIPTS=../../scripts\n",
    "export KEYS=../../keys\n",
    "source $SCRIPTS/check-tools-and-env.sh"
   ]
  },
  {
   "cell_type": "markdown",
   "id": "2ab5f0cb-f3b1-4af1-9696-f409a7f5078f",
   "metadata": {},
   "source": [
    "## Ví dụ đầu tiên\n",
    "\n",
    "Chúng ta tạo một hợp đồng chứa nhiều lỗi trong các token, tên, và địa chỉ của nó."
   ]
  },
  {
   "cell_type": "code",
   "execution_count": 2,
   "id": "1286cf19-b263-49f2-a9d7-cffa7272386f",
   "metadata": {
    "tags": []
   },
   "outputs": [],
   "source": [
    "yaml2json << EOI > contract-1.json\n",
    "when:\n",
    "- case:\n",
    "    deposits: 1\n",
    "    into_account:\n",
    "      address: addr_test1vq9prvx8ufwutkwxx9cmmuuajaqmjqwujqlp9d8pvg6gupczgtm9j  # A testnet address.\n",
    "    of_token:\n",
    "      currency_symbol: 14696a4676909f4e3cb1f2e60e2e08e5abed70caf5c02699be9711   # Policy ID too short.\n",
    "      token_name: This token name is longer than the ledger rules allow.        # Token name too long.\n",
    "    party:\n",
    "      address: addr1vy9prvx8ufwutkwxx9cmmuuajaqmjqwujqlp9d8pvg6gupceql82h       # A mainnet address.\n",
    "  then: close\n",
    "- case:\n",
    "    choose_between:\n",
    "    - from: 1\n",
    "      to: 2\n",
    "    for_choice:\n",
    "      choice_name: A Choice\n",
    "      choice_owner:\n",
    "        role_token: This role name is longer than the ledger rules allow.       # Role name too long.\n",
    "  then: close\n",
    "timeout: $((1000 * (`date -u +%s` + 1 * 60 * 60)))\n",
    "timeout_continuation: close\n",
    "EOI"
   ]
  },
  {
   "cell_type": "markdown",
   "id": "7ec19b29-51b2-4ee6-bbd3-f0267a8ea916",
   "metadata": {},
   "source": [
    "Bây giờ hãy tạo yêu cầu JSON cho điểm cuối `POST /contracts` của Marlowe Runtime."
   ]
  },
  {
   "cell_type": "code",
   "execution_count": 3,
   "id": "634f1f80-b943-4c52-a305-36cf598d6697",
   "metadata": {
    "tags": [],
    "vscode": {
     "languageId": "shellscript"
    }
   },
   "outputs": [
    {
     "name": "stdout",
     "output_type": "stream",
     "text": [
      "\u001b[1;39m{\n",
      "  \u001b[0m\u001b[34;1m\"contract\"\u001b[0m\u001b[1;39m: \u001b[0m\u001b[1;39m{\n",
      "    \u001b[0m\u001b[34;1m\"timeout\"\u001b[0m\u001b[1;39m: \u001b[0m\u001b[0;39m1693257312000\u001b[0m\u001b[1;39m,\n",
      "    \u001b[0m\u001b[34;1m\"timeout_continuation\"\u001b[0m\u001b[1;39m: \u001b[0m\u001b[0;32m\"close\"\u001b[0m\u001b[1;39m,\n",
      "    \u001b[0m\u001b[34;1m\"when\"\u001b[0m\u001b[1;39m: \u001b[0m\u001b[1;39m[\n",
      "      \u001b[1;39m{\n",
      "        \u001b[0m\u001b[34;1m\"case\"\u001b[0m\u001b[1;39m: \u001b[0m\u001b[1;39m{\n",
      "          \u001b[0m\u001b[34;1m\"deposits\"\u001b[0m\u001b[1;39m: \u001b[0m\u001b[0;39m1\u001b[0m\u001b[1;39m,\n",
      "          \u001b[0m\u001b[34;1m\"into_account\"\u001b[0m\u001b[1;39m: \u001b[0m\u001b[1;39m{\n",
      "            \u001b[0m\u001b[34;1m\"address\"\u001b[0m\u001b[1;39m: \u001b[0m\u001b[0;32m\"addr_test1vq9prvx8ufwutkwxx9cmmuuajaqmjqwujqlp9d8pvg6gupczgtm9j\"\u001b[0m\u001b[1;39m\n",
      "          \u001b[1;39m}\u001b[0m\u001b[1;39m,\n",
      "          \u001b[0m\u001b[34;1m\"of_token\"\u001b[0m\u001b[1;39m: \u001b[0m\u001b[1;39m{\n",
      "            \u001b[0m\u001b[34;1m\"currency_symbol\"\u001b[0m\u001b[1;39m: \u001b[0m\u001b[0;32m\"14696a4676909f4e3cb1f2e60e2e08e5abed70caf5c02699be9711\"\u001b[0m\u001b[1;39m,\n",
      "            \u001b[0m\u001b[34;1m\"token_name\"\u001b[0m\u001b[1;39m: \u001b[0m\u001b[0;32m\"This token name is longer than the ledger rules allow.\"\u001b[0m\u001b[1;39m\n",
      "          \u001b[1;39m}\u001b[0m\u001b[1;39m,\n",
      "          \u001b[0m\u001b[34;1m\"party\"\u001b[0m\u001b[1;39m: \u001b[0m\u001b[1;39m{\n",
      "            \u001b[0m\u001b[34;1m\"address\"\u001b[0m\u001b[1;39m: \u001b[0m\u001b[0;32m\"addr1vy9prvx8ufwutkwxx9cmmuuajaqmjqwujqlp9d8pvg6gupceql82h\"\u001b[0m\u001b[1;39m\n",
      "          \u001b[1;39m}\u001b[0m\u001b[1;39m\n",
      "        \u001b[1;39m}\u001b[0m\u001b[1;39m,\n",
      "        \u001b[0m\u001b[34;1m\"then\"\u001b[0m\u001b[1;39m: \u001b[0m\u001b[0;32m\"close\"\u001b[0m\u001b[1;39m\n",
      "      \u001b[1;39m}\u001b[0m\u001b[1;39m,\n",
      "      \u001b[1;39m{\n",
      "        \u001b[0m\u001b[34;1m\"case\"\u001b[0m\u001b[1;39m: \u001b[0m\u001b[1;39m{\n",
      "          \u001b[0m\u001b[34;1m\"choose_between\"\u001b[0m\u001b[1;39m: \u001b[0m\u001b[1;39m[\n",
      "            \u001b[1;39m{\n",
      "              \u001b[0m\u001b[34;1m\"from\"\u001b[0m\u001b[1;39m: \u001b[0m\u001b[0;39m1\u001b[0m\u001b[1;39m,\n",
      "              \u001b[0m\u001b[34;1m\"to\"\u001b[0m\u001b[1;39m: \u001b[0m\u001b[0;39m2\u001b[0m\u001b[1;39m\n",
      "            \u001b[1;39m}\u001b[0m\u001b[1;39m\n",
      "          \u001b[1;39m]\u001b[0m\u001b[1;39m,\n",
      "          \u001b[0m\u001b[34;1m\"for_choice\"\u001b[0m\u001b[1;39m: \u001b[0m\u001b[1;39m{\n",
      "            \u001b[0m\u001b[34;1m\"choice_name\"\u001b[0m\u001b[1;39m: \u001b[0m\u001b[0;32m\"A Choice\"\u001b[0m\u001b[1;39m,\n",
      "            \u001b[0m\u001b[34;1m\"choice_owner\"\u001b[0m\u001b[1;39m: \u001b[0m\u001b[1;39m{\n",
      "              \u001b[0m\u001b[34;1m\"role_token\"\u001b[0m\u001b[1;39m: \u001b[0m\u001b[0;32m\"This role name is longer than the ledger rules allow.\"\u001b[0m\u001b[1;39m\n",
      "            \u001b[1;39m}\u001b[0m\u001b[1;39m\n",
      "          \u001b[1;39m}\u001b[0m\u001b[1;39m\n",
      "        \u001b[1;39m}\u001b[0m\u001b[1;39m,\n",
      "        \u001b[0m\u001b[34;1m\"then\"\u001b[0m\u001b[1;39m: \u001b[0m\u001b[0;32m\"close\"\u001b[0m\u001b[1;39m\n",
      "      \u001b[1;39m}\u001b[0m\u001b[1;39m\n",
      "    \u001b[1;39m]\u001b[0m\u001b[1;39m\n",
      "  \u001b[1;39m}\u001b[0m\u001b[1;39m,\n",
      "  \u001b[0m\u001b[34;1m\"metadata\"\u001b[0m\u001b[1;39m: \u001b[0m\u001b[1;39m{}\u001b[0m\u001b[1;39m,\n",
      "  \u001b[0m\u001b[34;1m\"minUTxODeposit\"\u001b[0m\u001b[1;39m: \u001b[0m\u001b[0;39m1200000\u001b[0m\u001b[1;39m,\n",
      "  \u001b[0m\u001b[34;1m\"roles\"\u001b[0m\u001b[1;39m: \u001b[0m\u001b[1;39m{\n",
      "    \u001b[0m\u001b[34;1m\"An Extra Role\"\u001b[0m\u001b[1;39m: \u001b[0m\u001b[0;32m\"addr_test1vq9prvx8ufwutkwxx9cmmuuajaqmjqwujqlp9d8pvg6gupczgtm9j\"\u001b[0m\u001b[1;39m\n",
      "  \u001b[1;39m}\u001b[0m\u001b[1;39m,\n",
      "  \u001b[0m\u001b[34;1m\"tags\"\u001b[0m\u001b[1;39m: \u001b[0m\u001b[1;39m{}\u001b[0m\u001b[1;39m,\n",
      "  \u001b[0m\u001b[34;1m\"version\"\u001b[0m\u001b[1;39m: \u001b[0m\u001b[0;32m\"v1\"\u001b[0m\u001b[1;39m\n",
      "\u001b[1;39m}\u001b[0m\n"
     ]
    }
   ],
   "source": [
    "yaml2json << EOI > request-1.json\n",
    "version: v1\n",
    "contract: $(cat contract-1.json)\n",
    "minUTxODeposit: 1200000\n",
    "roles:\n",
    "    An Extra Role: addr_test1vq9prvx8ufwutkwxx9cmmuuajaqmjqwujqlp9d8pvg6gupczgtm9j  # Not present in the contract.\n",
    "metadata: {}\n",
    "tags: {}\n",
    "EOI\n",
    "cat request-1.json | jq"
   ]
  },
  {
   "cell_type": "markdown",
   "id": "30eb2173-e689-46ab-a4bf-de6d0093f82e",
   "metadata": {},
   "source": [
    "Bây giờ gọi điểm cuối `POST /contracts` và nhận phản hồi, trong đó chứa một số báo cáo về lỗi an toàn."
   ]
  },
  {
   "cell_type": "code",
   "execution_count": 4,
   "id": "ccf327b0-40b4-4583-b211-da1d550068df",
   "metadata": {
    "tags": [],
    "vscode": {
     "languageId": "shellscript"
    }
   },
   "outputs": [
    {
     "name": "stdout",
     "output_type": "stream",
     "text": [
      "links:\n",
      "  contract: contracts/860dbbf717702fbb9ff31194235ef20fd51be839fff0d68ca8763045b38d211e%231\n",
      "resource:\n",
      "  contractId: 860dbbf717702fbb9ff31194235ef20fd51be839fff0d68ca8763045b38d211e#1\n",
      "  safetyErrors:\n",
      "  - detail: This role name is present in the contract, but that role token was not\n",
      "      specified for minting.\n",
      "    error: MissingRoleToken\n",
      "    fatal: true\n",
      "    role-name: This role name is longer than the ledger rules allow.\n",
      "  - detail: This role token was specified for minting, but that role is not present\n",
      "      in the contract.\n",
      "    error: ExtraRoleToken\n",
      "    fatal: false\n",
      "    role-name: An Extra Role\n",
      "  - detail: This role name is longer than the 32 bytes allowed by the ledger rules.\n",
      "    error: RoleNameTooLong\n",
      "    fatal: true\n",
      "    role-name: This role name is longer than the ledger rules allow.\n",
      "  - currency-symbol: 14696a4676909f4e3cb1f2e60e2e08e5abed70caf5c02699be9711\n",
      "    detail: This currency symbol is not the 28-bytes required by the ledger rules.\n",
      "    error: InvalidCurrencySymbol\n",
      "    fatal: true\n",
      "  - detail: The contract contains addresses that are do not match the network on which\n",
      "      it will be executed.\n",
      "    error: WrongNetwork\n",
      "    fatal: true\n",
      "  - detail: The contract contains both mainnet and testnet addresses.\n",
      "    error: InconsistentNetworks\n",
      "    fatal: true\n",
      "  - detail: This transaction fails to validate on the ledger.\n",
      "    error: TransactionValidationError\n",
      "    fatal: true\n",
      "    message: ToCardanoError\n",
      "    transaction:\n",
      "      contract:\n",
      "        timeout: 1693257312000\n",
      "        timeout_continuation: close\n",
      "        when:\n",
      "        - case:\n",
      "            deposits: 1\n",
      "            into_account:\n",
      "              address: addr_test1vq9prvx8ufwutkwxx9cmmuuajaqmjqwujqlp9d8pvg6gupczgtm9j\n",
      "            of_token:\n",
      "              currency_symbol: 14696a4676909f4e3cb1f2e60e2e08e5abed70caf5c02699be9711\n",
      "              token_name: This token name is longer than the ledger rules allow.\n",
      "            party:\n",
      "              address: addr1vy9prvx8ufwutkwxx9cmmuuajaqmjqwujqlp9d8pvg6gupceql82h\n",
      "          then: close\n",
      "        - case:\n",
      "            choose_between:\n",
      "            - from: 1\n",
      "              to: 2\n",
      "            for_choice:\n",
      "              choice_name: A Choice\n",
      "              choice_owner:\n",
      "                role_token: This role name is longer than the ledger rules allow.\n",
      "          then: close\n",
      "      input:\n",
      "        tx_inputs:\n",
      "        - input_from_party:\n",
      "            address: addr1vy9prvx8ufwutkwxx9cmmuuajaqmjqwujqlp9d8pvg6gupceql82h\n",
      "          into_account:\n",
      "            address: addr_test1vq9prvx8ufwutkwxx9cmmuuajaqmjqwujqlp9d8pvg6gupczgtm9j\n",
      "          of_token:\n",
      "            currency_symbol: 14696a4676909f4e3cb1f2e60e2e08e5abed70caf5c02699be9711\n",
      "            token_name: This token name is longer than the ledger rules allow.\n",
      "          that_deposits: 1\n",
      "        tx_interval:\n",
      "          from: 0\n",
      "          to: 0\n",
      "      output:\n",
      "        contract: close\n",
      "        payments:\n",
      "        - amount: 1200000\n",
      "          payment_from:\n",
      "            address: addr_test1vq9prvx8ufwutkwxx9cmmuuajaqmjqwujqlp9d8pvg6gupczgtm9j\n",
      "          to:\n",
      "            party:\n",
      "              address: addr_test1vq9prvx8ufwutkwxx9cmmuuajaqmjqwujqlp9d8pvg6gupczgtm9j\n",
      "          token:\n",
      "            currency_symbol: ''\n",
      "            token_name: ''\n",
      "        - amount: 1\n",
      "          payment_from:\n",
      "            address: addr_test1vq9prvx8ufwutkwxx9cmmuuajaqmjqwujqlp9d8pvg6gupczgtm9j\n",
      "          to:\n",
      "            party:\n",
      "              address: addr_test1vq9prvx8ufwutkwxx9cmmuuajaqmjqwujqlp9d8pvg6gupczgtm9j\n",
      "          token:\n",
      "            currency_symbol: 14696a4676909f4e3cb1f2e60e2e08e5abed70caf5c02699be9711\n",
      "            token_name: This token name is longer than the ledger rules allow.\n",
      "        state:\n",
      "          accounts: []\n",
      "          boundValues: []\n",
      "          choices: []\n",
      "          minTime: 0\n",
      "        warnings: []\n",
      "      state:\n",
      "        accounts:\n",
      "        - - - address: addr_test1vq9prvx8ufwutkwxx9cmmuuajaqmjqwujqlp9d8pvg6gupczgtm9j\n",
      "            - currency_symbol: ''\n",
      "              token_name: ''\n",
      "          - 1200000\n",
      "        boundValues: []\n",
      "        choices: []\n",
      "        minTime: 0\n",
      "  txBody:\n",
      "    cborHex: 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\n",
      "    description: ''\n",
      "    type: TxBodyBabbage\n"
     ]
    }
   ],
   "source": [
    "curl \"$MARLOWE_RT_WEBSERVER_URL/contracts\" \\\n",
    "  -X POST \\\n",
    "  -H 'Content-Type: application/json' \\\n",
    "  -H \"X-Change-Address: addr_test1vq9prvx8ufwutkwxx9cmmuuajaqmjqwujqlp9d8pvg6gupczgtm9j\" \\\n",
    "  -d @request-1.json \\\n",
    "  -o response-1.json \\\n",
    "  -sS\n",
    "json2yaml response-1.json"
   ]
  },
  {
   "cell_type": "markdown",
   "id": "78978c42-b05d-4a0a-80cd-73411847dfec",
   "metadata": {},
   "source": [
    "Có bảy lỗi an toàn, chúng ta sẽ xem xét từng lỗi một."
   ]
  },
  {
   "cell_type": "code",
   "execution_count": 5,
   "id": "2c925298-4adf-45c6-8443-0b3796d80745",
   "metadata": {
    "tags": []
   },
   "outputs": [
    {
     "name": "stdout",
     "output_type": "stream",
     "text": [
      "MissingRoleToken\n",
      "ExtraRoleToken\n",
      "RoleNameTooLong\n",
      "InvalidCurrencySymbol\n",
      "WrongNetwork\n",
      "InconsistentNetworks\n",
      "TransactionValidationError\n"
     ]
    }
   ],
   "source": [
    "jq -r '.resource.safetyErrors | .[] | .error' response-1.json"
   ]
  },
  {
   "cell_type": "markdown",
   "id": "3d468ee3-ab74-4b00-8232-17c4e7d48107",
   "metadata": {},
   "source": [
    "### `MissingRoleToken`\n",
    "\n",
    "Tên vai trò `This role name is longer than the ledger rules allow.` xuất hiện trong hợp đồng, nhưng yêu cầu tạo không đề cập đến vai trò đó."
   ]
  },
  {
   "cell_type": "code",
   "execution_count": 6,
   "id": "9df9f282-2635-45e2-8e8b-29efd836fbd2",
   "metadata": {
    "tags": []
   },
   "outputs": [
    {
     "name": "stdout",
     "output_type": "stream",
     "text": [
      "detail: This role name is present in the contract, but that role token was not specified\n",
      "  for minting.\n",
      "error: MissingRoleToken\n",
      "fatal: true\n",
      "role-name: This role name is longer than the ledger rules allow.\n"
     ]
    }
   ],
   "source": [
    "jq '.resource.safetyErrors[0]' response-1.json | json2yaml"
   ]
  },
  {
   "cell_type": "markdown",
   "id": "ab13d4b8-de78-4568-acc4-abcfe8db0676",
   "metadata": {},
   "source": [
    "### `ExtraRoleToken`\n",
    "\n",
    "Tên vai trò `An Extra Role` được đề cập trong yêu cầu tạo, nhưng không được sử dụng trong hợp đồng chính."
   ]
  },
  {
   "cell_type": "code",
   "execution_count": 7,
   "id": "ee6fe581-037a-4020-9f6f-65a7414f1c2c",
   "metadata": {
    "tags": []
   },
   "outputs": [
    {
     "name": "stdout",
     "output_type": "stream",
     "text": [
      "detail: This role token was specified for minting, but that role is not present in\n",
      "  the contract.\n",
      "error: ExtraRoleToken\n",
      "fatal: false\n",
      "role-name: An Extra Role\n"
     ]
    }
   ],
   "source": [
    "jq '.resource.safetyErrors[1]' response-1.json | json2yaml"
   ]
  },
  {
   "cell_type": "markdown",
   "id": "02fa0de8-d2f4-47f9-8cf1-8dc8cfa8c05c",
   "metadata": {},
   "source": [
    "### `RoleNameTooLong`\n",
    "\n",
    "Vai trò `This role name is longer than the ledger rules allow.` vượt quá giới hạn 32 byte được cho phép bởi các quy tắc sổ cái."
   ]
  },
  {
   "cell_type": "code",
   "execution_count": 8,
   "id": "18e92d5b-a457-455e-9d62-e452ed42888f",
   "metadata": {
    "tags": []
   },
   "outputs": [
    {
     "name": "stdout",
     "output_type": "stream",
     "text": [
      "detail: This role name is longer than the 32 bytes allowed by the ledger rules.\n",
      "error: RoleNameTooLong\n",
      "fatal: true\n",
      "role-name: This role name is longer than the ledger rules allow.\n"
     ]
    }
   ],
   "source": [
    "jq '.resource.safetyErrors[2]' response-1.json | json2yaml"
   ]
  },
  {
   "cell_type": "markdown",
   "id": "3f4c9400-a355-425f-85d7-f0f99d43dfb8",
   "metadata": {},
   "source": [
    "### `InvalidCurrencySymbol`\n",
    "\n",
    "Các byte hexadecimals `14696a4676909f4e3cb1f2e60e2e08e5abed70caf5c02699be9711` không phải là một biểu tượng tiền tệ hợp lệ, vì chúng quá ngắn."
   ]
  },
  {
   "cell_type": "code",
   "execution_count": 9,
   "id": "c4b2b2ac-e8bf-4b5f-98f1-7ca032eca52d",
   "metadata": {
    "tags": []
   },
   "outputs": [
    {
     "name": "stdout",
     "output_type": "stream",
     "text": [
      "currency-symbol: 14696a4676909f4e3cb1f2e60e2e08e5abed70caf5c02699be9711\n",
      "detail: This currency symbol is not the 28-bytes required by the ledger rules.\n",
      "error: InvalidCurrencySymbol\n",
      "fatal: true\n"
     ]
    }
   ],
   "source": [
    "jq '.resource.safetyErrors[3]' response-1.json | json2yaml"
   ]
  },
  {
   "cell_type": "markdown",
   "id": "7e2050ec-68df-476e-a88b-15c8d366529e",
   "metadata": {},
   "source": [
    "### `WrongNetwork`\n",
    "\n",
    "Hợp đồng đề cập đến một địa chỉ `mainnet`, nhưng Marlowe Runtime đang kết nối với mạng thử nghiệm `preprod`."
   ]
  },
  {
   "cell_type": "code",
   "execution_count": 10,
   "id": "eeb496e6-066b-4738-974f-56dbe82d88c6",
   "metadata": {
    "tags": []
   },
   "outputs": [
    {
     "name": "stdout",
     "output_type": "stream",
     "text": [
      "detail: The contract contains addresses that are do not match the network on which\n",
      "  it will be executed.\n",
      "error: WrongNetwork\n",
      "fatal: true\n"
     ]
    }
   ],
   "source": [
    "jq '.resource.safetyErrors[4]' response-1.json | json2yaml"
   ]
  },
  {
   "cell_type": "markdown",
   "id": "ac558279-f1b6-482b-971a-31360b684a68",
   "metadata": {},
   "source": [
    "### `InconsistentNetworks`\n",
    "\n",
    "Hợp đồng chứa một sự kết hợp của các địa chỉ trên mainnet và testnet."
   ]
  },
  {
   "cell_type": "code",
   "execution_count": 11,
   "id": "b1b7f836-6a33-4bc6-87b3-bfa52f7bc55e",
   "metadata": {
    "tags": []
   },
   "outputs": [
    {
     "name": "stdout",
     "output_type": "stream",
     "text": [
      "detail: The contract contains both mainnet and testnet addresses.\n",
      "error: InconsistentNetworks\n",
      "fatal: true\n"
     ]
    }
   ],
   "source": [
    "jq '.resource.safetyErrors[5]' response-1.json | json2yaml"
   ]
  },
  {
   "cell_type": "markdown",
   "id": "ea44cfdf-3eb5-4310-bd0a-bb2afd137a2e",
   "metadata": {},
   "source": [
    "### `TransactionValidationError`\n",
    "\n",
    "Giao dịch tạo sẽ không được xác nhận trên nút nếu được gửi. Nút sẽ không cung cấp một lý do chi tiết về tại sao giao dịch không được xác nhận, vì vậy Marlowe Runtime cũng không thể cung cấp. Trong trường hợp cụ thể này, sự tồn tại của token không hợp lệ là nguyên nhân gây ra sự cố. Báo cáo an toàn liệt kê tất cả các chi tiết của giao dịch tương lai tiềm năng mà sẽ gặp sự cố xác nhận."
   ]
  },
  {
   "cell_type": "code",
   "execution_count": 12,
   "id": "a2baab38-b833-408b-bbc8-440142dbdbdc",
   "metadata": {
    "tags": []
   },
   "outputs": [
    {
     "name": "stdout",
     "output_type": "stream",
     "text": [
      "detail: This transaction fails to validate on the ledger.\n",
      "error: TransactionValidationError\n",
      "fatal: true\n",
      "message: ToCardanoError\n",
      "transaction:\n",
      "  contract:\n",
      "    timeout: 1693257312000\n",
      "    timeout_continuation: close\n",
      "    when:\n",
      "    - case:\n",
      "        deposits: 1\n",
      "        into_account:\n",
      "          address: addr_test1vq9prvx8ufwutkwxx9cmmuuajaqmjqwujqlp9d8pvg6gupczgtm9j\n",
      "        of_token:\n",
      "          currency_symbol: 14696a4676909f4e3cb1f2e60e2e08e5abed70caf5c02699be9711\n",
      "          token_name: This token name is longer than the ledger rules allow.\n",
      "        party:\n",
      "          address: addr1vy9prvx8ufwutkwxx9cmmuuajaqmjqwujqlp9d8pvg6gupceql82h\n",
      "      then: close\n",
      "    - case:\n",
      "        choose_between:\n",
      "        - from: 1\n",
      "          to: 2\n",
      "        for_choice:\n",
      "          choice_name: A Choice\n",
      "          choice_owner:\n",
      "            role_token: This role name is longer than the ledger rules allow.\n",
      "      then: close\n",
      "  input:\n",
      "    tx_inputs:\n",
      "    - input_from_party:\n",
      "        address: addr1vy9prvx8ufwutkwxx9cmmuuajaqmjqwujqlp9d8pvg6gupceql82h\n",
      "      into_account:\n",
      "        address: addr_test1vq9prvx8ufwutkwxx9cmmuuajaqmjqwujqlp9d8pvg6gupczgtm9j\n",
      "      of_token:\n",
      "        currency_symbol: 14696a4676909f4e3cb1f2e60e2e08e5abed70caf5c02699be9711\n",
      "        token_name: This token name is longer than the ledger rules allow.\n",
      "      that_deposits: 1\n",
      "    tx_interval:\n",
      "      from: 0\n",
      "      to: 0\n",
      "  output:\n",
      "    contract: close\n",
      "    payments:\n",
      "    - amount: 1200000\n",
      "      payment_from:\n",
      "        address: addr_test1vq9prvx8ufwutkwxx9cmmuuajaqmjqwujqlp9d8pvg6gupczgtm9j\n",
      "      to:\n",
      "        party:\n",
      "          address: addr_test1vq9prvx8ufwutkwxx9cmmuuajaqmjqwujqlp9d8pvg6gupczgtm9j\n",
      "      token:\n",
      "        currency_symbol: ''\n",
      "        token_name: ''\n",
      "    - amount: 1\n",
      "      payment_from:\n",
      "        address: addr_test1vq9prvx8ufwutkwxx9cmmuuajaqmjqwujqlp9d8pvg6gupczgtm9j\n",
      "      to:\n",
      "        party:\n",
      "          address: addr_test1vq9prvx8ufwutkwxx9cmmuuajaqmjqwujqlp9d8pvg6gupczgtm9j\n",
      "      token:\n",
      "        currency_symbol: 14696a4676909f4e3cb1f2e60e2e08e5abed70caf5c02699be9711\n",
      "        token_name: This token name is longer than the ledger rules allow.\n",
      "    state:\n",
      "      accounts: []\n",
      "      boundValues: []\n",
      "      choices: []\n",
      "      minTime: 0\n",
      "    warnings: []\n",
      "  state:\n",
      "    accounts:\n",
      "    - - - address: addr_test1vq9prvx8ufwutkwxx9cmmuuajaqmjqwujqlp9d8pvg6gupczgtm9j\n",
      "        - currency_symbol: ''\n",
      "          token_name: ''\n",
      "      - 1200000\n",
      "    boundValues: []\n",
      "    choices: []\n",
      "    minTime: 0\n"
     ]
    }
   ],
   "source": [
    "jq '.resource.safetyErrors[6]' response-1.json | json2yaml"
   ]
  },
  {
   "cell_type": "markdown",
   "id": "c7e5937c-c0f5-407b-b11b-ab6a794b5b0d",
   "metadata": {},
   "source": [
    "## Ví dụ 2\n",
    "\n",
    "Chúng ta tạo một hợp đồng có một số vấn đề an toàn khác."
   ]
  },
  {
   "cell_type": "code",
   "execution_count": 13,
   "id": "8982c51e-1b30-4cec-95a2-0eaca7c9fe03",
   "metadata": {
    "tags": []
   },
   "outputs": [],
   "source": [
    "yaml2json << EOI > contract-2.json\n",
    "when:\n",
    "- case:\n",
    "    deposits: 1\n",
    "    into_account:\n",
    "      address: addr_test1vq9prvx8ufwutkwxx9cmmuuajaqmjqwujqlp9d8pvg6gupczgtm9j\n",
    "    of_token:\n",
    "      currency_symbol: c02699be97113914696a4676909f4e3cb1f2e60e2e08e5abed70caf5\n",
    "      token_name: This token name is longer than the ledger rules allow.  # Token name too long.\n",
    "    party:\n",
    "      role_token: ''\n",
    "  then: close\n",
    "- case:\n",
    "    deposits: 1\n",
    "    into_account:\n",
    "      address: addr_test1vq9prvx8ufwutkwxx9cmmuuajaqmjqwujqlp9d8pvg6gupczgtm9j\n",
    "    of_token:\n",
    "      currency_symbol: ''\n",
    "      token_name: Impossible to mint.\n",
    "    party:\n",
    "      role_token: ''\n",
    "  then: close\n",
    "timeout: $((1000 * (`date -u +%s` + 1 * 60 * 60)))\n",
    "timeout_continuation: close\n",
    "EOI"
   ]
  },
  {
   "cell_type": "markdown",
   "id": "a26ef072-fae0-48f7-ab60-aa5138ff1884",
   "metadata": {},
   "source": [
    "Bây giờ hãy tạo yêu cầu JSON cho điểm cuối `POST /contracts` của Marlowe Runtime."
   ]
  },
  {
   "cell_type": "code",
   "execution_count": 14,
   "id": "205f1b1d-02a2-4531-a31f-c69413026cda",
   "metadata": {
    "tags": [],
    "vscode": {
     "languageId": "shellscript"
    }
   },
   "outputs": [
    {
     "name": "stdout",
     "output_type": "stream",
     "text": [
      "\u001b[1;39m{\n",
      "  \u001b[0m\u001b[34;1m\"contract\"\u001b[0m\u001b[1;39m: \u001b[0m\u001b[1;39m{\n",
      "    \u001b[0m\u001b[34;1m\"timeout\"\u001b[0m\u001b[1;39m: \u001b[0m\u001b[0;39m1693257317000\u001b[0m\u001b[1;39m,\n",
      "    \u001b[0m\u001b[34;1m\"timeout_continuation\"\u001b[0m\u001b[1;39m: \u001b[0m\u001b[0;32m\"close\"\u001b[0m\u001b[1;39m,\n",
      "    \u001b[0m\u001b[34;1m\"when\"\u001b[0m\u001b[1;39m: \u001b[0m\u001b[1;39m[\n",
      "      \u001b[1;39m{\n",
      "        \u001b[0m\u001b[34;1m\"case\"\u001b[0m\u001b[1;39m: \u001b[0m\u001b[1;39m{\n",
      "          \u001b[0m\u001b[34;1m\"deposits\"\u001b[0m\u001b[1;39m: \u001b[0m\u001b[0;39m1\u001b[0m\u001b[1;39m,\n",
      "          \u001b[0m\u001b[34;1m\"into_account\"\u001b[0m\u001b[1;39m: \u001b[0m\u001b[1;39m{\n",
      "            \u001b[0m\u001b[34;1m\"address\"\u001b[0m\u001b[1;39m: \u001b[0m\u001b[0;32m\"addr_test1vq9prvx8ufwutkwxx9cmmuuajaqmjqwujqlp9d8pvg6gupczgtm9j\"\u001b[0m\u001b[1;39m\n",
      "          \u001b[1;39m}\u001b[0m\u001b[1;39m,\n",
      "          \u001b[0m\u001b[34;1m\"of_token\"\u001b[0m\u001b[1;39m: \u001b[0m\u001b[1;39m{\n",
      "            \u001b[0m\u001b[34;1m\"currency_symbol\"\u001b[0m\u001b[1;39m: \u001b[0m\u001b[0;32m\"c02699be97113914696a4676909f4e3cb1f2e60e2e08e5abed70caf5\"\u001b[0m\u001b[1;39m,\n",
      "            \u001b[0m\u001b[34;1m\"token_name\"\u001b[0m\u001b[1;39m: \u001b[0m\u001b[0;32m\"This token name is longer than the ledger rules allow.\"\u001b[0m\u001b[1;39m\n",
      "          \u001b[1;39m}\u001b[0m\u001b[1;39m,\n",
      "          \u001b[0m\u001b[34;1m\"party\"\u001b[0m\u001b[1;39m: \u001b[0m\u001b[1;39m{\n",
      "            \u001b[0m\u001b[34;1m\"role_token\"\u001b[0m\u001b[1;39m: \u001b[0m\u001b[0;32m\"\"\u001b[0m\u001b[1;39m\n",
      "          \u001b[1;39m}\u001b[0m\u001b[1;39m\n",
      "        \u001b[1;39m}\u001b[0m\u001b[1;39m,\n",
      "        \u001b[0m\u001b[34;1m\"then\"\u001b[0m\u001b[1;39m: \u001b[0m\u001b[0;32m\"close\"\u001b[0m\u001b[1;39m\n",
      "      \u001b[1;39m}\u001b[0m\u001b[1;39m,\n",
      "      \u001b[1;39m{\n",
      "        \u001b[0m\u001b[34;1m\"case\"\u001b[0m\u001b[1;39m: \u001b[0m\u001b[1;39m{\n",
      "          \u001b[0m\u001b[34;1m\"deposits\"\u001b[0m\u001b[1;39m: \u001b[0m\u001b[0;39m1\u001b[0m\u001b[1;39m,\n",
      "          \u001b[0m\u001b[34;1m\"into_account\"\u001b[0m\u001b[1;39m: \u001b[0m\u001b[1;39m{\n",
      "            \u001b[0m\u001b[34;1m\"address\"\u001b[0m\u001b[1;39m: \u001b[0m\u001b[0;32m\"addr_test1vq9prvx8ufwutkwxx9cmmuuajaqmjqwujqlp9d8pvg6gupczgtm9j\"\u001b[0m\u001b[1;39m\n",
      "          \u001b[1;39m}\u001b[0m\u001b[1;39m,\n",
      "          \u001b[0m\u001b[34;1m\"of_token\"\u001b[0m\u001b[1;39m: \u001b[0m\u001b[1;39m{\n",
      "            \u001b[0m\u001b[34;1m\"currency_symbol\"\u001b[0m\u001b[1;39m: \u001b[0m\u001b[0;32m\"\"\u001b[0m\u001b[1;39m,\n",
      "            \u001b[0m\u001b[34;1m\"token_name\"\u001b[0m\u001b[1;39m: \u001b[0m\u001b[0;32m\"Impossible to mint.\"\u001b[0m\u001b[1;39m\n",
      "          \u001b[1;39m}\u001b[0m\u001b[1;39m,\n",
      "          \u001b[0m\u001b[34;1m\"party\"\u001b[0m\u001b[1;39m: \u001b[0m\u001b[1;39m{\n",
      "            \u001b[0m\u001b[34;1m\"role_token\"\u001b[0m\u001b[1;39m: \u001b[0m\u001b[0;32m\"\"\u001b[0m\u001b[1;39m\n",
      "          \u001b[1;39m}\u001b[0m\u001b[1;39m\n",
      "        \u001b[1;39m}\u001b[0m\u001b[1;39m,\n",
      "        \u001b[0m\u001b[34;1m\"then\"\u001b[0m\u001b[1;39m: \u001b[0m\u001b[0;32m\"close\"\u001b[0m\u001b[1;39m\n",
      "      \u001b[1;39m}\u001b[0m\u001b[1;39m\n",
      "    \u001b[1;39m]\u001b[0m\u001b[1;39m\n",
      "  \u001b[1;39m}\u001b[0m\u001b[1;39m,\n",
      "  \u001b[0m\u001b[34;1m\"metadata\"\u001b[0m\u001b[1;39m: \u001b[0m\u001b[1;39m{}\u001b[0m\u001b[1;39m,\n",
      "  \u001b[0m\u001b[34;1m\"minUTxODeposit\"\u001b[0m\u001b[1;39m: \u001b[0m\u001b[0;39m1200000\u001b[0m\u001b[1;39m,\n",
      "  \u001b[0m\u001b[34;1m\"tags\"\u001b[0m\u001b[1;39m: \u001b[0m\u001b[1;39m{}\u001b[0m\u001b[1;39m,\n",
      "  \u001b[0m\u001b[34;1m\"version\"\u001b[0m\u001b[1;39m: \u001b[0m\u001b[0;32m\"v1\"\u001b[0m\u001b[1;39m\n",
      "\u001b[1;39m}\u001b[0m\n"
     ]
    }
   ],
   "source": [
    "yaml2json << EOI > request-2.json\n",
    "version: v1\n",
    "contract: $(cat contract-2.json)\n",
    "minUTxODeposit: 1200000\n",
    "#roles: 14696a4676909f4e3cb1f2e60e2e08e5abed70caf5c02699be971139\n",
    "metadata: {}\n",
    "tags: {}\n",
    "EOI\n",
    "cat request-2.json | jq"
   ]
  },
  {
   "cell_type": "markdown",
   "id": "41addaf9-f937-48e0-b053-543769127da1",
   "metadata": {},
   "source": [
    "Yêu cầu Marlowe Runtime xây dựng giao dịch tạo dẫn đến năm lỗi an toàn. Chúng ta sẽ thảo luận về ba lỗi đầu tiên."
   ]
  },
  {
   "cell_type": "code",
   "execution_count": 15,
   "id": "8d114ecd-7057-4ce6-9105-11ce0794e4ca",
   "metadata": {
    "tags": [],
    "vscode": {
     "languageId": "shellscript"
    }
   },
   "outputs": [
    {
     "name": "stdout",
     "output_type": "stream",
     "text": [
      "MissingRolesCurrency\n",
      "InvalidToken\n",
      "TokenNameTooLong\n",
      "TransactionValidationError\n",
      "TransactionValidationError\n"
     ]
    }
   ],
   "source": [
    "curl \"$MARLOWE_RT_WEBSERVER_URL/contracts\" \\\n",
    "  -X POST \\\n",
    "  -H 'Content-Type: application/json' \\\n",
    "  -H \"X-Change-Address: addr_test1vq9prvx8ufwutkwxx9cmmuuajaqmjqwujqlp9d8pvg6gupczgtm9j\" \\\n",
    "  -d @request-2.json \\\n",
    "  -o response-2.json \\\n",
    "  -sS\n",
    "jq -r '.resource.safetyErrors | .[] | .error' response-2.json"
   ]
  },
  {
   "cell_type": "markdown",
   "id": "e5928d52-7adb-46b6-b2c6-51134c6f42bc",
   "metadata": {},
   "source": [
    "### `MissingRolesCurrency`\n",
    "\n",
    "Chúng ta đã không chỉ định tiền tệ của các vai trò trong phần thân yêu cầu."
   ]
  },
  {
   "cell_type": "code",
   "execution_count": 16,
   "id": "cd4a7493-b54c-47ed-8501-016e0121bee8",
   "metadata": {
    "tags": []
   },
   "outputs": [
    {
     "name": "stdout",
     "output_type": "stream",
     "text": [
      "detail: Roles are present in the contract, but no roles currency was specified.\n",
      "error: MissingRolesCurrency\n",
      "fatal: true\n"
     ]
    }
   ],
   "source": [
    "jq '.resource.safetyErrors[0]' response-2.json | json2yaml"
   ]
  },
  {
   "cell_type": "markdown",
   "id": "ce13f3a0-d60e-48eb-8374-6e2e1de1bc74",
   "metadata": {},
   "source": [
    "### `InvalidToken`\n",
    "\n",
    "Không thể tồn tại một token không phải ADA cho biểu tượng tiền tệ trống."
   ]
  },
  {
   "cell_type": "code",
   "execution_count": 17,
   "id": "d2bfcb0b-dfb4-47f4-92cf-0ded24340c8b",
   "metadata": {
    "tags": []
   },
   "outputs": [
    {
     "name": "stdout",
     "output_type": "stream",
     "text": [
      "detail: This token associates a name with the ada currency symbol.\n",
      "error: InvalidToken\n",
      "fatal: true\n",
      "token:\n",
      "  currency_symbol: ''\n",
      "  token_name: Impossible to mint.\n"
     ]
    }
   ],
   "source": [
    "jq '.resource.safetyErrors[1]' response-2.json | json2yaml"
   ]
  },
  {
   "cell_type": "markdown",
   "id": "b4867828-ddb9-4d0b-b54c-1b6f53fd4d79",
   "metadata": {},
   "source": [
    "### `TokenNameTooLong`\n",
    "\n",
    "Tên `This token name is longer than the 32 bytes allowed by the ledger rules.` quá dài cho một token, vượt quá giới hạn 32 byte được cho phép bởi các quy tắc sổ cái."
   ]
  },
  {
   "cell_type": "code",
   "execution_count": 18,
   "id": "b5ad3e76-3a97-47d4-b8cf-21da21c757c0",
   "metadata": {
    "tags": []
   },
   "outputs": [
    {
     "name": "stdout",
     "output_type": "stream",
     "text": [
      "detail: This token name is longer than the 32 bytes allowed by the ledger rules.\n",
      "error: TokenNameTooLong\n",
      "fatal: true\n",
      "token-name: This token name is longer than the ledger rules allow.\n"
     ]
    }
   ],
   "source": [
    "jq '.resource.safetyErrors[2]' response-2.json | json2yaml"
   ]
  },
  {
   "cell_type": "markdown",
   "id": "0a76a1a3-320e-4359-9163-46323d6c00c8",
   "metadata": {},
   "source": [
    "## Ví dụ 3\n",
    "\n",
    "Chúng ta sử dụng hợp đồng từ ví dụ trước, nhưng giao dịch tạo chỉ định một ID chính sách tiền tệ của vai trò quá ngắn."
   ]
  },
  {
   "cell_type": "code",
   "execution_count": 19,
   "id": "269a4de7-e709-45ee-b2dd-ec4e7433eecc",
   "metadata": {
    "tags": [],
    "vscode": {
     "languageId": "shellscript"
    }
   },
   "outputs": [
    {
     "name": "stdout",
     "output_type": "stream",
     "text": [
      "\u001b[1;39m{\n",
      "  \u001b[0m\u001b[34;1m\"contract\"\u001b[0m\u001b[1;39m: \u001b[0m\u001b[1;39m{\n",
      "    \u001b[0m\u001b[34;1m\"timeout\"\u001b[0m\u001b[1;39m: \u001b[0m\u001b[0;39m1693257317000\u001b[0m\u001b[1;39m,\n",
      "    \u001b[0m\u001b[34;1m\"timeout_continuation\"\u001b[0m\u001b[1;39m: \u001b[0m\u001b[0;32m\"close\"\u001b[0m\u001b[1;39m,\n",
      "    \u001b[0m\u001b[34;1m\"when\"\u001b[0m\u001b[1;39m: \u001b[0m\u001b[1;39m[\n",
      "      \u001b[1;39m{\n",
      "        \u001b[0m\u001b[34;1m\"case\"\u001b[0m\u001b[1;39m: \u001b[0m\u001b[1;39m{\n",
      "          \u001b[0m\u001b[34;1m\"deposits\"\u001b[0m\u001b[1;39m: \u001b[0m\u001b[0;39m1\u001b[0m\u001b[1;39m,\n",
      "          \u001b[0m\u001b[34;1m\"into_account\"\u001b[0m\u001b[1;39m: \u001b[0m\u001b[1;39m{\n",
      "            \u001b[0m\u001b[34;1m\"address\"\u001b[0m\u001b[1;39m: \u001b[0m\u001b[0;32m\"addr_test1vq9prvx8ufwutkwxx9cmmuuajaqmjqwujqlp9d8pvg6gupczgtm9j\"\u001b[0m\u001b[1;39m\n",
      "          \u001b[1;39m}\u001b[0m\u001b[1;39m,\n",
      "          \u001b[0m\u001b[34;1m\"of_token\"\u001b[0m\u001b[1;39m: \u001b[0m\u001b[1;39m{\n",
      "            \u001b[0m\u001b[34;1m\"currency_symbol\"\u001b[0m\u001b[1;39m: \u001b[0m\u001b[0;32m\"c02699be97113914696a4676909f4e3cb1f2e60e2e08e5abed70caf5\"\u001b[0m\u001b[1;39m,\n",
      "            \u001b[0m\u001b[34;1m\"token_name\"\u001b[0m\u001b[1;39m: \u001b[0m\u001b[0;32m\"This token name is longer than the ledger rules allow.\"\u001b[0m\u001b[1;39m\n",
      "          \u001b[1;39m}\u001b[0m\u001b[1;39m,\n",
      "          \u001b[0m\u001b[34;1m\"party\"\u001b[0m\u001b[1;39m: \u001b[0m\u001b[1;39m{\n",
      "            \u001b[0m\u001b[34;1m\"role_token\"\u001b[0m\u001b[1;39m: \u001b[0m\u001b[0;32m\"\"\u001b[0m\u001b[1;39m\n",
      "          \u001b[1;39m}\u001b[0m\u001b[1;39m\n",
      "        \u001b[1;39m}\u001b[0m\u001b[1;39m,\n",
      "        \u001b[0m\u001b[34;1m\"then\"\u001b[0m\u001b[1;39m: \u001b[0m\u001b[0;32m\"close\"\u001b[0m\u001b[1;39m\n",
      "      \u001b[1;39m}\u001b[0m\u001b[1;39m,\n",
      "      \u001b[1;39m{\n",
      "        \u001b[0m\u001b[34;1m\"case\"\u001b[0m\u001b[1;39m: \u001b[0m\u001b[1;39m{\n",
      "          \u001b[0m\u001b[34;1m\"deposits\"\u001b[0m\u001b[1;39m: \u001b[0m\u001b[0;39m1\u001b[0m\u001b[1;39m,\n",
      "          \u001b[0m\u001b[34;1m\"into_account\"\u001b[0m\u001b[1;39m: \u001b[0m\u001b[1;39m{\n",
      "            \u001b[0m\u001b[34;1m\"address\"\u001b[0m\u001b[1;39m: \u001b[0m\u001b[0;32m\"addr_test1vq9prvx8ufwutkwxx9cmmuuajaqmjqwujqlp9d8pvg6gupczgtm9j\"\u001b[0m\u001b[1;39m\n",
      "          \u001b[1;39m}\u001b[0m\u001b[1;39m,\n",
      "          \u001b[0m\u001b[34;1m\"of_token\"\u001b[0m\u001b[1;39m: \u001b[0m\u001b[1;39m{\n",
      "            \u001b[0m\u001b[34;1m\"currency_symbol\"\u001b[0m\u001b[1;39m: \u001b[0m\u001b[0;32m\"\"\u001b[0m\u001b[1;39m,\n",
      "            \u001b[0m\u001b[34;1m\"token_name\"\u001b[0m\u001b[1;39m: \u001b[0m\u001b[0;32m\"Impossible to mint.\"\u001b[0m\u001b[1;39m\n",
      "          \u001b[1;39m}\u001b[0m\u001b[1;39m,\n",
      "          \u001b[0m\u001b[34;1m\"party\"\u001b[0m\u001b[1;39m: \u001b[0m\u001b[1;39m{\n",
      "            \u001b[0m\u001b[34;1m\"role_token\"\u001b[0m\u001b[1;39m: \u001b[0m\u001b[0;32m\"\"\u001b[0m\u001b[1;39m\n",
      "          \u001b[1;39m}\u001b[0m\u001b[1;39m\n",
      "        \u001b[1;39m}\u001b[0m\u001b[1;39m,\n",
      "        \u001b[0m\u001b[34;1m\"then\"\u001b[0m\u001b[1;39m: \u001b[0m\u001b[0;32m\"close\"\u001b[0m\u001b[1;39m\n",
      "      \u001b[1;39m}\u001b[0m\u001b[1;39m\n",
      "    \u001b[1;39m]\u001b[0m\u001b[1;39m\n",
      "  \u001b[1;39m}\u001b[0m\u001b[1;39m,\n",
      "  \u001b[0m\u001b[34;1m\"metadata\"\u001b[0m\u001b[1;39m: \u001b[0m\u001b[1;39m{}\u001b[0m\u001b[1;39m,\n",
      "  \u001b[0m\u001b[34;1m\"minUTxODeposit\"\u001b[0m\u001b[1;39m: \u001b[0m\u001b[0;39m1200000\u001b[0m\u001b[1;39m,\n",
      "  \u001b[0m\u001b[34;1m\"roles\"\u001b[0m\u001b[1;39m: \u001b[0m\u001b[0;32m\"a4676909f4e3cb1f2e60e2e08e5abed70caf5c02699be971139\"\u001b[0m\u001b[1;39m,\n",
      "  \u001b[0m\u001b[34;1m\"tags\"\u001b[0m\u001b[1;39m: \u001b[0m\u001b[1;39m{}\u001b[0m\u001b[1;39m,\n",
      "  \u001b[0m\u001b[34;1m\"version\"\u001b[0m\u001b[1;39m: \u001b[0m\u001b[0;32m\"v1\"\u001b[0m\u001b[1;39m\n",
      "\u001b[1;39m}\u001b[0m\n"
     ]
    }
   ],
   "source": [
    "yaml2json << EOI > request-3.json\n",
    "version: v1\n",
    "contract: $(cat contract-2.json)\n",
    "minUTxODeposit: 1200000\n",
    "roles: a4676909f4e3cb1f2e60e2e08e5abed70caf5c02699be971139  # Not a valid policy ID.\n",
    "metadata: {}\n",
    "tags: {}\n",
    "EOI\n",
    "cat request-3.json | jq"
   ]
  },
  {
   "cell_type": "markdown",
   "id": "9873826e-eb1b-4e4b-828e-24cd77d735b2",
   "metadata": {},
   "source": [
    "Một loại tiền tệ của vai trò không hợp lệ dẫn đến một phản hồi lỗi HTTP."
   ]
  },
  {
   "cell_type": "code",
   "execution_count": 20,
   "id": "2be6e13f-5c90-43cc-ba9c-7f368094d7bb",
   "metadata": {
    "tags": [],
    "vscode": {
     "languageId": "shellscript"
    }
   },
   "outputs": [
    {
     "name": "stdout",
     "output_type": "stream",
     "text": [
      "HTTP/1.1 400 Bad Request\n",
      "\u001b[1mTransfer-Encoding\u001b[0m: chunked\n",
      "\u001b[1mDate\u001b[0m: Mon, 28 Aug 2023 20:15:20 GMT\n",
      "\u001b[1mServer\u001b[0m: Warp/3.3.24\n",
      "\n",
      "Error in $.roles: invalid bytestring size"
     ]
    }
   ],
   "source": [
    "curl \"$MARLOWE_RT_WEBSERVER_URL/contracts\" \\\n",
    "  -X POST \\\n",
    "  -H 'Content-Type: application/json' \\\n",
    "  -H \"X-Change-Address: addr_test1vq9prvx8ufwutkwxx9cmmuuajaqmjqwujqlp9d8pvg6gupczgtm9j\" \\\n",
    "  -d @request-3.json \\\n",
    "  -iSs"
   ]
  },
  {
   "cell_type": "markdown",
   "id": "dece2eca-d0dc-405a-b31f-f92a94ae3c87",
   "metadata": {},
   "source": [
    "## Ví dụ 4\n",
    "\n",
    "Chúng ta tạo hợp đồng đơn giản nhất, không có vai trò hoặc hoạt động khác."
   ]
  },
  {
   "cell_type": "code",
   "execution_count": 21,
   "id": "96ecbc3a-3123-463a-afff-98b80d963e91",
   "metadata": {
    "tags": []
   },
   "outputs": [],
   "source": [
    "cat << EOI > contract-4.json\n",
    "\"close\"\n",
    "EOI"
   ]
  },
  {
   "cell_type": "markdown",
   "id": "bc4faecd-7e7d-42d1-aa58-5c1cf83139af",
   "metadata": {},
   "source": [
    "Bây giờ hãy tạo yêu cầu JSON cho điểm cuối `POST /contracts` của Marlowe Runtime."
   ]
  },
  {
   "cell_type": "code",
   "execution_count": 22,
   "id": "60bb286b-8065-42b3-bab3-c6f0a191b63e",
   "metadata": {
    "tags": [],
    "vscode": {
     "languageId": "shellscript"
    }
   },
   "outputs": [
    {
     "name": "stdout",
     "output_type": "stream",
     "text": [
      "\u001b[1;39m{\n",
      "  \u001b[0m\u001b[34;1m\"contract\"\u001b[0m\u001b[1;39m: \u001b[0m\u001b[0;32m\"close\"\u001b[0m\u001b[1;39m,\n",
      "  \u001b[0m\u001b[34;1m\"metadata\"\u001b[0m\u001b[1;39m: \u001b[0m\u001b[1;39m{}\u001b[0m\u001b[1;39m,\n",
      "  \u001b[0m\u001b[34;1m\"minUTxODeposit\"\u001b[0m\u001b[1;39m: \u001b[0m\u001b[0;39m1200000\u001b[0m\u001b[1;39m,\n",
      "  \u001b[0m\u001b[34;1m\"roles\"\u001b[0m\u001b[1;39m: \u001b[0m\u001b[0;32m\"14696a4676909f4e3cb1f2e60e2e08e5abed70caf5c02699be971139\"\u001b[0m\u001b[1;39m,\n",
      "  \u001b[0m\u001b[34;1m\"tags\"\u001b[0m\u001b[1;39m: \u001b[0m\u001b[1;39m{}\u001b[0m\u001b[1;39m,\n",
      "  \u001b[0m\u001b[34;1m\"version\"\u001b[0m\u001b[1;39m: \u001b[0m\u001b[0;32m\"v1\"\u001b[0m\u001b[1;39m\n",
      "\u001b[1;39m}\u001b[0m\n"
     ]
    }
   ],
   "source": [
    "yaml2json << EOI > request-4.json\n",
    "version: v1\n",
    "contract: $(cat contract-4.json)\n",
    "minUTxODeposit: 1200000\n",
    "roles: 14696a4676909f4e3cb1f2e60e2e08e5abed70caf5c02699be971139\n",
    "metadata: {}\n",
    "tags: {}\n",
    "EOI\n",
    "cat request-4.json | jq"
   ]
  },
  {
   "cell_type": "markdown",
   "id": "f96827f6-c582-4a9d-b619-77cbe842522d",
   "metadata": {},
   "source": [
    "Yêu cầu Marlowe Runtime xây dựng giao dịch tạo dẫn đến một lỗi an toàn."
   ]
  },
  {
   "cell_type": "code",
   "execution_count": 23,
   "id": "d4759c93-0493-4d9d-b6c5-17dc07317310",
   "metadata": {
    "tags": [],
    "vscode": {
     "languageId": "shellscript"
    }
   },
   "outputs": [
    {
     "name": "stdout",
     "output_type": "stream",
     "text": [
      "ContractHasNoRoles\n"
     ]
    }
   ],
   "source": [
    "curl \"$MARLOWE_RT_WEBSERVER_URL/contracts\" \\\n",
    "  -X POST \\\n",
    "  -H 'Content-Type: application/json' \\\n",
    "  -H \"X-Change-Address: addr_test1vq9prvx8ufwutkwxx9cmmuuajaqmjqwujqlp9d8pvg6gupczgtm9j\" \\\n",
    "  -d @request-4.json \\\n",
    "  -o response-4.json \\\n",
    "  -Ss\n",
    "jq -r '.resource.safetyErrors | .[] | .error' response-4.json"
   ]
  },
  {
   "cell_type": "markdown",
   "id": "4e76e1e6-812c-4044-8532-3104177aafa6",
   "metadata": {},
   "source": [
    "### `ContractHasNoRoles`\n",
    "\n",
    "Một biểu tượng tiền tệ của các vai trò đã được chỉ định cho một hợp đồng không chứa bất kỳ vai trò nào."
   ]
  },
  {
   "cell_type": "code",
   "execution_count": 24,
   "id": "5b8df032-20cc-46d6-86ca-7d4bb35fb517",
   "metadata": {
    "tags": []
   },
   "outputs": [
    {
     "name": "stdout",
     "output_type": "stream",
     "text": [
      "detail: No roles are present in the contract, but a roles currency was specified.\n",
      "error: ContractHasNoRoles\n",
      "fatal: false\n"
     ]
    }
   ],
   "source": [
    "jq '.resource.safetyErrors[0]' response-4.json | json2yaml"
   ]
  },
  {
   "cell_type": "markdown",
   "id": "c7bc030f-76e8-492f-af20-3ad02787bd61",
   "metadata": {},
   "source": [
    "## Ví dụ 5\n",
    "\n",
    "Chúng ta tạo một hợp đồng tuân theo các quy tắc sổ cái nhưng tạo ra cảnh báo do quy tắc ngữ nghĩa Marlowe: trong trường hợp này, hợp đồng cố gắng thanh toán nhiều ada hơn đã được gửi. Hợp đồng này sẽ chạy trên blockchain, nhưng các cảnh báo cho thấy rằng nó có thể chứa các lỗi thiết kế hoặc không tuân thủ các quy tắc thiết kế tốt nhất cho các hợp đồng Marlowe."
   ]
  },
  {
   "cell_type": "code",
   "execution_count": 25,
   "id": "6f43ab7b-69ae-44f0-b864-55ade7de8ff7",
   "metadata": {
    "tags": []
   },
   "outputs": [],
   "source": [
    "yaml2json << EOI > contract-5.json\n",
    "when:\n",
    "- case:\n",
    "    deposits: 10000000\n",
    "    into_account:\n",
    "      role_token: My Role\n",
    "    of_token:\n",
    "      currency_symbol: ''\n",
    "      token_name: ''\n",
    "    party:\n",
    "      role_token: My Role\n",
    "  then:\n",
    "    from_account:\n",
    "      role_token: My Role\n",
    "    pay: 20000000\n",
    "    then: close\n",
    "    to:\n",
    "      party:\n",
    "        role_token: My Role\n",
    "    token:\n",
    "      currency_symbol: ''\n",
    "      token_name: ''\n",
    "timeout: $((1000 * (`date -u +%s` + 1 * 60 * 60)))\n",
    "timeout_continuation: close\n",
    "EOI"
   ]
  },
  {
   "cell_type": "markdown",
   "id": "041bbb49-f481-4a24-b25b-a2dafa4346ce",
   "metadata": {},
   "source": [
    "Bây giờ hãy tạo yêu cầu JSON cho điểm cuối `POST /contracts` của Marlowe Runtime."
   ]
  },
  {
   "cell_type": "code",
   "execution_count": 26,
   "id": "0937f6e4-2c36-43fd-8491-0391f2622e10",
   "metadata": {
    "tags": [],
    "vscode": {
     "languageId": "shellscript"
    }
   },
   "outputs": [
    {
     "name": "stdout",
     "output_type": "stream",
     "text": [
      "\u001b[1;39m{\n",
      "  \u001b[0m\u001b[34;1m\"contract\"\u001b[0m\u001b[1;39m: \u001b[0m\u001b[1;39m{\n",
      "    \u001b[0m\u001b[34;1m\"timeout\"\u001b[0m\u001b[1;39m: \u001b[0m\u001b[0;39m1693257323000\u001b[0m\u001b[1;39m,\n",
      "    \u001b[0m\u001b[34;1m\"timeout_continuation\"\u001b[0m\u001b[1;39m: \u001b[0m\u001b[0;32m\"close\"\u001b[0m\u001b[1;39m,\n",
      "    \u001b[0m\u001b[34;1m\"when\"\u001b[0m\u001b[1;39m: \u001b[0m\u001b[1;39m[\n",
      "      \u001b[1;39m{\n",
      "        \u001b[0m\u001b[34;1m\"case\"\u001b[0m\u001b[1;39m: \u001b[0m\u001b[1;39m{\n",
      "          \u001b[0m\u001b[34;1m\"deposits\"\u001b[0m\u001b[1;39m: \u001b[0m\u001b[0;39m10000000\u001b[0m\u001b[1;39m,\n",
      "          \u001b[0m\u001b[34;1m\"into_account\"\u001b[0m\u001b[1;39m: \u001b[0m\u001b[1;39m{\n",
      "            \u001b[0m\u001b[34;1m\"role_token\"\u001b[0m\u001b[1;39m: \u001b[0m\u001b[0;32m\"My Role\"\u001b[0m\u001b[1;39m\n",
      "          \u001b[1;39m}\u001b[0m\u001b[1;39m,\n",
      "          \u001b[0m\u001b[34;1m\"of_token\"\u001b[0m\u001b[1;39m: \u001b[0m\u001b[1;39m{\n",
      "            \u001b[0m\u001b[34;1m\"currency_symbol\"\u001b[0m\u001b[1;39m: \u001b[0m\u001b[0;32m\"\"\u001b[0m\u001b[1;39m,\n",
      "            \u001b[0m\u001b[34;1m\"token_name\"\u001b[0m\u001b[1;39m: \u001b[0m\u001b[0;32m\"\"\u001b[0m\u001b[1;39m\n",
      "          \u001b[1;39m}\u001b[0m\u001b[1;39m,\n",
      "          \u001b[0m\u001b[34;1m\"party\"\u001b[0m\u001b[1;39m: \u001b[0m\u001b[1;39m{\n",
      "            \u001b[0m\u001b[34;1m\"role_token\"\u001b[0m\u001b[1;39m: \u001b[0m\u001b[0;32m\"My Role\"\u001b[0m\u001b[1;39m\n",
      "          \u001b[1;39m}\u001b[0m\u001b[1;39m\n",
      "        \u001b[1;39m}\u001b[0m\u001b[1;39m,\n",
      "        \u001b[0m\u001b[34;1m\"then\"\u001b[0m\u001b[1;39m: \u001b[0m\u001b[1;39m{\n",
      "          \u001b[0m\u001b[34;1m\"from_account\"\u001b[0m\u001b[1;39m: \u001b[0m\u001b[1;39m{\n",
      "            \u001b[0m\u001b[34;1m\"role_token\"\u001b[0m\u001b[1;39m: \u001b[0m\u001b[0;32m\"My Role\"\u001b[0m\u001b[1;39m\n",
      "          \u001b[1;39m}\u001b[0m\u001b[1;39m,\n",
      "          \u001b[0m\u001b[34;1m\"pay\"\u001b[0m\u001b[1;39m: \u001b[0m\u001b[0;39m20000000\u001b[0m\u001b[1;39m,\n",
      "          \u001b[0m\u001b[34;1m\"then\"\u001b[0m\u001b[1;39m: \u001b[0m\u001b[0;32m\"close\"\u001b[0m\u001b[1;39m,\n",
      "          \u001b[0m\u001b[34;1m\"to\"\u001b[0m\u001b[1;39m: \u001b[0m\u001b[1;39m{\n",
      "            \u001b[0m\u001b[34;1m\"party\"\u001b[0m\u001b[1;39m: \u001b[0m\u001b[1;39m{\n",
      "              \u001b[0m\u001b[34;1m\"role_token\"\u001b[0m\u001b[1;39m: \u001b[0m\u001b[0;32m\"My Role\"\u001b[0m\u001b[1;39m\n",
      "            \u001b[1;39m}\u001b[0m\u001b[1;39m\n",
      "          \u001b[1;39m}\u001b[0m\u001b[1;39m,\n",
      "          \u001b[0m\u001b[34;1m\"token\"\u001b[0m\u001b[1;39m: \u001b[0m\u001b[1;39m{\n",
      "            \u001b[0m\u001b[34;1m\"currency_symbol\"\u001b[0m\u001b[1;39m: \u001b[0m\u001b[0;32m\"\"\u001b[0m\u001b[1;39m,\n",
      "            \u001b[0m\u001b[34;1m\"token_name\"\u001b[0m\u001b[1;39m: \u001b[0m\u001b[0;32m\"\"\u001b[0m\u001b[1;39m\n",
      "          \u001b[1;39m}\u001b[0m\u001b[1;39m\n",
      "        \u001b[1;39m}\u001b[0m\u001b[1;39m\n",
      "      \u001b[1;39m}\u001b[0m\u001b[1;39m\n",
      "    \u001b[1;39m]\u001b[0m\u001b[1;39m\n",
      "  \u001b[1;39m}\u001b[0m\u001b[1;39m,\n",
      "  \u001b[0m\u001b[34;1m\"metadata\"\u001b[0m\u001b[1;39m: \u001b[0m\u001b[1;39m{}\u001b[0m\u001b[1;39m,\n",
      "  \u001b[0m\u001b[34;1m\"minUTxODeposit\"\u001b[0m\u001b[1;39m: \u001b[0m\u001b[0;39m1200000\u001b[0m\u001b[1;39m,\n",
      "  \u001b[0m\u001b[34;1m\"roles\"\u001b[0m\u001b[1;39m: \u001b[0m\u001b[0;32m\"99be97113914696a4676909f4e3cb1f2e60e2e08e5abed70caf5c026\"\u001b[0m\u001b[1;39m,\n",
      "  \u001b[0m\u001b[34;1m\"tags\"\u001b[0m\u001b[1;39m: \u001b[0m\u001b[1;39m{}\u001b[0m\u001b[1;39m,\n",
      "  \u001b[0m\u001b[34;1m\"version\"\u001b[0m\u001b[1;39m: \u001b[0m\u001b[0;32m\"v1\"\u001b[0m\u001b[1;39m\n",
      "\u001b[1;39m}\u001b[0m\n"
     ]
    }
   ],
   "source": [
    "yaml2json << EOI > request-5.json\n",
    "version: v1\n",
    "contract: $(cat contract-5.json)\n",
    "minUTxODeposit: 1200000\n",
    "roles: 99be97113914696a4676909f4e3cb1f2e60e2e08e5abed70caf5c026\n",
    "metadata: {}\n",
    "tags: {}\n",
    "EOI\n",
    "cat request-5.json | jq"
   ]
  },
  {
   "cell_type": "markdown",
   "id": "cbdfb8fd-f522-46a2-8bd6-500568a24d81",
   "metadata": {},
   "source": [
    "Yêu cầu Marlowe Runtime xây dựng giao dịch tạo dẫn đến một lỗi an toàn."
   ]
  },
  {
   "cell_type": "code",
   "execution_count": 27,
   "id": "2c59a96c-ad6e-49ba-b5b8-e461dee9d46a",
   "metadata": {
    "tags": [],
    "vscode": {
     "languageId": "shellscript"
    }
   },
   "outputs": [
    {
     "name": "stdout",
     "output_type": "stream",
     "text": [
      "TransactionWarning\n"
     ]
    }
   ],
   "source": [
    "curl \"$MARLOWE_RT_WEBSERVER_URL/contracts\" \\\n",
    "  -X POST \\\n",
    "  -H 'Content-Type: application/json' \\\n",
    "  -H \"X-Change-Address: addr_test1vq9prvx8ufwutkwxx9cmmuuajaqmjqwujqlp9d8pvg6gupczgtm9j\" \\\n",
    "  -d @request-5.json \\\n",
    "  -o response-5.json \\\n",
    "  -sS\n",
    "jq -r '.resource.safetyErrors | .[] | .error' response-5.json"
   ]
  },
  {
   "cell_type": "markdown",
   "id": "fa1cc7b6-f010-45ae-a25e-e715afb3c32b",
   "metadata": {},
   "source": [
    "### `TransactionWarning`\n",
    "\n",
    "Một số áp dụng của các đầu vào vào hợp đồng có thể kích hoạt một cảnh báo từ ngữ nghĩa Marlowe. Một cảnh báo như vậy cũng sẽ được hiển thị trên tab \"Cảnh báo\" của Marlowe Playground. Báo cáo an toàn liệt kê tất cả các chi tiết của giao dịch tiềm năng trong tương lai mà sẽ xuất hiện cảnh báo."
   ]
  },
  {
   "cell_type": "code",
   "execution_count": 28,
   "id": "cfe7f12f-1c1c-4dc7-8e9a-2adb73c7a54f",
   "metadata": {
    "tags": []
   },
   "outputs": [
    {
     "name": "stdout",
     "output_type": "stream",
     "text": [
      "detail: A Marlowe semantics warning is reported for this transaction.\n",
      "error: TransactionWarning\n",
      "fatal: false\n",
      "transaction:\n",
      "  contract:\n",
      "    timeout: 1693257323000\n",
      "    timeout_continuation: close\n",
      "    when:\n",
      "    - case:\n",
      "        deposits: 10000000\n",
      "        into_account:\n",
      "          role_token: My Role\n",
      "        of_token:\n",
      "          currency_symbol: ''\n",
      "          token_name: ''\n",
      "        party:\n",
      "          role_token: My Role\n",
      "      then:\n",
      "        from_account:\n",
      "          role_token: My Role\n",
      "        pay: 20000000\n",
      "        then: close\n",
      "        to:\n",
      "          party:\n",
      "            role_token: My Role\n",
      "        token:\n",
      "          currency_symbol: ''\n",
      "          token_name: ''\n",
      "  input:\n",
      "    tx_inputs:\n",
      "    - input_from_party:\n",
      "        role_token: My Role\n",
      "      into_account:\n",
      "        role_token: My Role\n",
      "      of_token:\n",
      "        currency_symbol: ''\n",
      "        token_name: ''\n",
      "      that_deposits: 10000000\n",
      "    tx_interval:\n",
      "      from: 0\n",
      "      to: 0\n",
      "  output:\n",
      "    contract: close\n",
      "    payments:\n",
      "    - amount: 10000000\n",
      "      payment_from:\n",
      "        role_token: My Role\n",
      "      to:\n",
      "        party:\n",
      "          role_token: My Role\n",
      "      token:\n",
      "        currency_symbol: ''\n",
      "        token_name: ''\n",
      "    - amount: 1200000\n",
      "      payment_from:\n",
      "        address: addr_test1vq9prvx8ufwutkwxx9cmmuuajaqmjqwujqlp9d8pvg6gupczgtm9j\n",
      "      to:\n",
      "        party:\n",
      "          address: addr_test1vq9prvx8ufwutkwxx9cmmuuajaqmjqwujqlp9d8pvg6gupczgtm9j\n",
      "      token:\n",
      "        currency_symbol: ''\n",
      "        token_name: ''\n",
      "    state:\n",
      "      accounts: []\n",
      "      boundValues: []\n",
      "      choices: []\n",
      "      minTime: 0\n",
      "    warnings:\n",
      "    - account:\n",
      "        role_token: My Role\n",
      "      asked_to_pay: 20000000\n",
      "      but_only_paid: 10000000\n",
      "      of_token:\n",
      "        currency_symbol: ''\n",
      "        token_name: ''\n",
      "      to_payee:\n",
      "        party:\n",
      "          role_token: My Role\n",
      "  state:\n",
      "    accounts:\n",
      "    - - - address: addr_test1vq9prvx8ufwutkwxx9cmmuuajaqmjqwujqlp9d8pvg6gupczgtm9j\n",
      "        - currency_symbol: ''\n",
      "          token_name: ''\n",
      "      - 1200000\n",
      "    boundValues: []\n",
      "    choices: []\n",
      "    minTime: 0\n",
      "warning:\n",
      "  account:\n",
      "    role_token: My Role\n",
      "  asked_to_pay: 20000000\n",
      "  but_only_paid: 10000000\n",
      "  of_token:\n",
      "    currency_symbol: ''\n",
      "    token_name: ''\n",
      "  to_payee:\n",
      "    party:\n",
      "      role_token: My Role\n"
     ]
    }
   ],
   "source": [
    "jq '.resource.safetyErrors[0]' response-5.json | json2yaml"
   ]
  },
  {
   "cell_type": "markdown",
   "id": "858582a2-bec8-4d01-bf23-f7659c51eda1",
   "metadata": {},
   "source": [
    "## Ví dụ 6\n",
    "\n",
    "Chúng ta tạo một hợp đồng có thể vượt quá giới hạn chi phí thực thi Plutus trên blockchain Cardano."
   ]
  },
  {
   "cell_type": "code",
   "execution_count": 29,
   "id": "053cfa92-1823-4272-8f4c-fc4c579fc6f3",
   "metadata": {
    "tags": []
   },
   "outputs": [],
   "source": [
    "yaml2json << EOI > contract-6.json\n",
    "timeout: $((1000 * ($(date -u +%s) + 1 * 60 * 60)))\n",
    "timeout_continuation: close\n",
    "when:\n",
    "- case:\n",
    "    deposits: 5000000\n",
    "    into_account:\n",
    "      role_token: Alice\n",
    "    of_token:\n",
    "      currency_symbol: ''\n",
    "      token_name: ''\n",
    "    party:\n",
    "      address: addr_test1vq9prvx8ufwutkwxx9cmmuuajaqmjqwujqlp9d8pvg6gupczgtm9j\n",
    "  then:\n",
    "    timeout: $((1000 * (`date -u +%s + 2 * 60 * 60)))\n",
    "    timeout_continuation: close\n",
    "    when:\n",
    "    - case:\n",
    "        deposits: 5000000\n",
    "        into_account:\n",
    "          role_token: Bob\n",
    "        of_token:\n",
    "          currency_symbol: ''\n",
    "          token_name: ''\n",
    "        party:\n",
    "          address: addr_test1vq9prvx8ufwutkwxx9cmmuuajaqmjqwujqlp9d8pvg6gupczgtm9j\n",
    "      then:\n",
    "        timeout: $((1000 * (`date -u +%s + 3 * 60 * 60)))\n",
    "        timeout_continuation: close\n",
    "        when:\n",
    "        - case:\n",
    "            deposits: 5000000\n",
    "            into_account:\n",
    "              role_token: Charlie\n",
    "            of_token:\n",
    "              currency_symbol: ''\n",
    "              token_name: ''\n",
    "            party:\n",
    "              address: addr_test1vq9prvx8ufwutkwxx9cmmuuajaqmjqwujqlp9d8pvg6gupczgtm9j\n",
    "          then:\n",
    "            timeout: $((1000 * (`date -u +%s + 4 * 60 * 60)))\n",
    "            timeout_continuation: close\n",
    "            when:\n",
    "            - case:\n",
    "                deposits: 5000000\n",
    "                into_account:\n",
    "                  role_token: Dave\n",
    "                of_token:\n",
    "                  currency_symbol: ''\n",
    "                  token_name: ''\n",
    "                party:\n",
    "                  address: addr_test1vq9prvx8ufwutkwxx9cmmuuajaqmjqwujqlp9d8pvg6gupczgtm9j\n",
    "              then:\n",
    "                timeout: $((1000 * (`date -u +%s + 5 * 60 * 60)))\n",
    "                timeout_continuation: close\n",
    "                when:\n",
    "                - case:\n",
    "                    deposits: 5000000\n",
    "                    into_account:\n",
    "                      role_token: Eve\n",
    "                    of_token:\n",
    "                      currency_symbol: ''\n",
    "                      token_name: ''\n",
    "                    party:\n",
    "                      address: addr_test1vq9prvx8ufwutkwxx9cmmuuajaqmjqwujqlp9d8pvg6gupczgtm9j\n",
    "                  then:\n",
    "                    timeout: $((1000 * (`date -u +%s + 6 * 60 * 60)))\n",
    "                    timeout_continuation: close\n",
    "                    when:\n",
    "                    - case:\n",
    "                        notify_if: true\n",
    "                      then: close\n",
    "EOI"
   ]
  },
  {
   "cell_type": "markdown",
   "id": "a368fcf6-75e1-4936-89fa-a2a5b3bbef9b",
   "metadata": {},
   "source": [
    "Bây giờ hãy tạo yêu cầu JSON cho điểm cuối `POST /contracts` của Marlowe Runtime."
   ]
  },
  {
   "cell_type": "code",
   "execution_count": 30,
   "id": "d22f25e7-4c3e-4018-841d-959ea9cd85d2",
   "metadata": {
    "tags": [],
    "vscode": {
     "languageId": "shellscript"
    }
   },
   "outputs": [
    {
     "name": "stdout",
     "output_type": "stream",
     "text": [
      "\u001b[1;39m{\n",
      "  \u001b[0m\u001b[34;1m\"contract\"\u001b[0m\u001b[1;39m: \u001b[0m\u001b[1;39m{\n",
      "    \u001b[0m\u001b[34;1m\"timeout\"\u001b[0m\u001b[1;39m: \u001b[0m\u001b[0;39m1693257328000\u001b[0m\u001b[1;39m,\n",
      "    \u001b[0m\u001b[34;1m\"timeout_continuation\"\u001b[0m\u001b[1;39m: \u001b[0m\u001b[0;32m\"close\"\u001b[0m\u001b[1;39m,\n",
      "    \u001b[0m\u001b[34;1m\"when\"\u001b[0m\u001b[1;39m: \u001b[0m\u001b[1;39m[\n",
      "      \u001b[1;39m{\n",
      "        \u001b[0m\u001b[34;1m\"case\"\u001b[0m\u001b[1;39m: \u001b[0m\u001b[1;39m{\n",
      "          \u001b[0m\u001b[34;1m\"deposits\"\u001b[0m\u001b[1;39m: \u001b[0m\u001b[0;39m5000000\u001b[0m\u001b[1;39m,\n",
      "          \u001b[0m\u001b[34;1m\"into_account\"\u001b[0m\u001b[1;39m: \u001b[0m\u001b[1;39m{\n",
      "            \u001b[0m\u001b[34;1m\"role_token\"\u001b[0m\u001b[1;39m: \u001b[0m\u001b[0;32m\"Alice\"\u001b[0m\u001b[1;39m\n",
      "          \u001b[1;39m}\u001b[0m\u001b[1;39m,\n",
      "          \u001b[0m\u001b[34;1m\"of_token\"\u001b[0m\u001b[1;39m: \u001b[0m\u001b[1;39m{\n",
      "            \u001b[0m\u001b[34;1m\"currency_symbol\"\u001b[0m\u001b[1;39m: \u001b[0m\u001b[0;32m\"\"\u001b[0m\u001b[1;39m,\n",
      "            \u001b[0m\u001b[34;1m\"token_name\"\u001b[0m\u001b[1;39m: \u001b[0m\u001b[0;32m\"\"\u001b[0m\u001b[1;39m\n",
      "          \u001b[1;39m}\u001b[0m\u001b[1;39m,\n",
      "          \u001b[0m\u001b[34;1m\"party\"\u001b[0m\u001b[1;39m: \u001b[0m\u001b[1;39m{\n",
      "            \u001b[0m\u001b[34;1m\"address\"\u001b[0m\u001b[1;39m: \u001b[0m\u001b[0;32m\"addr_test1vq9prvx8ufwutkwxx9cmmuuajaqmjqwujqlp9d8pvg6gupczgtm9j\"\u001b[0m\u001b[1;39m\n",
      "          \u001b[1;39m}\u001b[0m\u001b[1;39m\n",
      "        \u001b[1;39m}\u001b[0m\u001b[1;39m,\n",
      "        \u001b[0m\u001b[34;1m\"then\"\u001b[0m\u001b[1;39m: \u001b[0m\u001b[1;39m{\n",
      "          \u001b[0m\u001b[34;1m\"timeout\"\u001b[0m\u001b[1;39m: \u001b[0m\u001b[0;39m1693260928000\u001b[0m\u001b[1;39m,\n",
      "          \u001b[0m\u001b[34;1m\"timeout_continuation\"\u001b[0m\u001b[1;39m: \u001b[0m\u001b[0;32m\"close\"\u001b[0m\u001b[1;39m,\n",
      "          \u001b[0m\u001b[34;1m\"when\"\u001b[0m\u001b[1;39m: \u001b[0m\u001b[1;39m[\n",
      "            \u001b[1;39m{\n",
      "              \u001b[0m\u001b[34;1m\"case\"\u001b[0m\u001b[1;39m: \u001b[0m\u001b[1;39m{\n",
      "                \u001b[0m\u001b[34;1m\"deposits\"\u001b[0m\u001b[1;39m: \u001b[0m\u001b[0;39m5000000\u001b[0m\u001b[1;39m,\n",
      "                \u001b[0m\u001b[34;1m\"into_account\"\u001b[0m\u001b[1;39m: \u001b[0m\u001b[1;39m{\n",
      "                  \u001b[0m\u001b[34;1m\"role_token\"\u001b[0m\u001b[1;39m: \u001b[0m\u001b[0;32m\"Bob\"\u001b[0m\u001b[1;39m\n",
      "                \u001b[1;39m}\u001b[0m\u001b[1;39m,\n",
      "                \u001b[0m\u001b[34;1m\"of_token\"\u001b[0m\u001b[1;39m: \u001b[0m\u001b[1;39m{\n",
      "                  \u001b[0m\u001b[34;1m\"currency_symbol\"\u001b[0m\u001b[1;39m: \u001b[0m\u001b[0;32m\"\"\u001b[0m\u001b[1;39m,\n",
      "                  \u001b[0m\u001b[34;1m\"token_name\"\u001b[0m\u001b[1;39m: \u001b[0m\u001b[0;32m\"\"\u001b[0m\u001b[1;39m\n",
      "                \u001b[1;39m}\u001b[0m\u001b[1;39m,\n",
      "                \u001b[0m\u001b[34;1m\"party\"\u001b[0m\u001b[1;39m: \u001b[0m\u001b[1;39m{\n",
      "                  \u001b[0m\u001b[34;1m\"address\"\u001b[0m\u001b[1;39m: \u001b[0m\u001b[0;32m\"addr_test1vq9prvx8ufwutkwxx9cmmuuajaqmjqwujqlp9d8pvg6gupczgtm9j\"\u001b[0m\u001b[1;39m\n",
      "                \u001b[1;39m}\u001b[0m\u001b[1;39m\n",
      "              \u001b[1;39m}\u001b[0m\u001b[1;39m,\n",
      "              \u001b[0m\u001b[34;1m\"then\"\u001b[0m\u001b[1;39m: \u001b[0m\u001b[1;39m{\n",
      "                \u001b[0m\u001b[34;1m\"timeout\"\u001b[0m\u001b[1;39m: \u001b[0m\u001b[0;39m1693264528000\u001b[0m\u001b[1;39m,\n",
      "                \u001b[0m\u001b[34;1m\"timeout_continuation\"\u001b[0m\u001b[1;39m: \u001b[0m\u001b[0;32m\"close\"\u001b[0m\u001b[1;39m,\n",
      "                \u001b[0m\u001b[34;1m\"when\"\u001b[0m\u001b[1;39m: \u001b[0m\u001b[1;39m[\n",
      "                  \u001b[1;39m{\n",
      "                    \u001b[0m\u001b[34;1m\"case\"\u001b[0m\u001b[1;39m: \u001b[0m\u001b[1;39m{\n",
      "                      \u001b[0m\u001b[34;1m\"deposits\"\u001b[0m\u001b[1;39m: \u001b[0m\u001b[0;39m5000000\u001b[0m\u001b[1;39m,\n",
      "                      \u001b[0m\u001b[34;1m\"into_account\"\u001b[0m\u001b[1;39m: \u001b[0m\u001b[1;39m{\n",
      "                        \u001b[0m\u001b[34;1m\"role_token\"\u001b[0m\u001b[1;39m: \u001b[0m\u001b[0;32m\"Charlie\"\u001b[0m\u001b[1;39m\n",
      "                      \u001b[1;39m}\u001b[0m\u001b[1;39m,\n",
      "                      \u001b[0m\u001b[34;1m\"of_token\"\u001b[0m\u001b[1;39m: \u001b[0m\u001b[1;39m{\n",
      "                        \u001b[0m\u001b[34;1m\"currency_symbol\"\u001b[0m\u001b[1;39m: \u001b[0m\u001b[0;32m\"\"\u001b[0m\u001b[1;39m,\n",
      "                        \u001b[0m\u001b[34;1m\"token_name\"\u001b[0m\u001b[1;39m: \u001b[0m\u001b[0;32m\"\"\u001b[0m\u001b[1;39m\n",
      "                      \u001b[1;39m}\u001b[0m\u001b[1;39m,\n",
      "                      \u001b[0m\u001b[34;1m\"party\"\u001b[0m\u001b[1;39m: \u001b[0m\u001b[1;39m{\n",
      "                        \u001b[0m\u001b[34;1m\"address\"\u001b[0m\u001b[1;39m: \u001b[0m\u001b[0;32m\"addr_test1vq9prvx8ufwutkwxx9cmmuuajaqmjqwujqlp9d8pvg6gupczgtm9j\"\u001b[0m\u001b[1;39m\n",
      "                      \u001b[1;39m}\u001b[0m\u001b[1;39m\n",
      "                    \u001b[1;39m}\u001b[0m\u001b[1;39m,\n",
      "                    \u001b[0m\u001b[34;1m\"then\"\u001b[0m\u001b[1;39m: \u001b[0m\u001b[1;39m{\n",
      "                      \u001b[0m\u001b[34;1m\"timeout\"\u001b[0m\u001b[1;39m: \u001b[0m\u001b[0;39m1693268128000\u001b[0m\u001b[1;39m,\n",
      "                      \u001b[0m\u001b[34;1m\"timeout_continuation\"\u001b[0m\u001b[1;39m: \u001b[0m\u001b[0;32m\"close\"\u001b[0m\u001b[1;39m,\n",
      "                      \u001b[0m\u001b[34;1m\"when\"\u001b[0m\u001b[1;39m: \u001b[0m\u001b[1;39m[\n",
      "                        \u001b[1;39m{\n",
      "                          \u001b[0m\u001b[34;1m\"case\"\u001b[0m\u001b[1;39m: \u001b[0m\u001b[1;39m{\n",
      "                            \u001b[0m\u001b[34;1m\"deposits\"\u001b[0m\u001b[1;39m: \u001b[0m\u001b[0;39m5000000\u001b[0m\u001b[1;39m,\n",
      "                            \u001b[0m\u001b[34;1m\"into_account\"\u001b[0m\u001b[1;39m: \u001b[0m\u001b[1;39m{\n",
      "                              \u001b[0m\u001b[34;1m\"role_token\"\u001b[0m\u001b[1;39m: \u001b[0m\u001b[0;32m\"Dave\"\u001b[0m\u001b[1;39m\n",
      "                            \u001b[1;39m}\u001b[0m\u001b[1;39m,\n",
      "                            \u001b[0m\u001b[34;1m\"of_token\"\u001b[0m\u001b[1;39m: \u001b[0m\u001b[1;39m{\n",
      "                              \u001b[0m\u001b[34;1m\"currency_symbol\"\u001b[0m\u001b[1;39m: \u001b[0m\u001b[0;32m\"\"\u001b[0m\u001b[1;39m,\n",
      "                              \u001b[0m\u001b[34;1m\"token_name\"\u001b[0m\u001b[1;39m: \u001b[0m\u001b[0;32m\"\"\u001b[0m\u001b[1;39m\n",
      "                            \u001b[1;39m}\u001b[0m\u001b[1;39m,\n",
      "                            \u001b[0m\u001b[34;1m\"party\"\u001b[0m\u001b[1;39m: \u001b[0m\u001b[1;39m{\n",
      "                              \u001b[0m\u001b[34;1m\"address\"\u001b[0m\u001b[1;39m: \u001b[0m\u001b[0;32m\"addr_test1vq9prvx8ufwutkwxx9cmmuuajaqmjqwujqlp9d8pvg6gupczgtm9j\"\u001b[0m\u001b[1;39m\n",
      "                            \u001b[1;39m}\u001b[0m\u001b[1;39m\n",
      "                          \u001b[1;39m}\u001b[0m\u001b[1;39m,\n",
      "                          \u001b[0m\u001b[34;1m\"then\"\u001b[0m\u001b[1;39m: \u001b[0m\u001b[1;39m{\n",
      "                            \u001b[0m\u001b[34;1m\"timeout\"\u001b[0m\u001b[1;39m: \u001b[0m\u001b[0;39m1693271728000\u001b[0m\u001b[1;39m,\n",
      "                            \u001b[0m\u001b[34;1m\"timeout_continuation\"\u001b[0m\u001b[1;39m: \u001b[0m\u001b[0;32m\"close\"\u001b[0m\u001b[1;39m,\n",
      "                            \u001b[0m\u001b[34;1m\"when\"\u001b[0m\u001b[1;39m: \u001b[0m\u001b[1;39m[\n",
      "                              \u001b[1;39m{\n",
      "                                \u001b[0m\u001b[34;1m\"case\"\u001b[0m\u001b[1;39m: \u001b[0m\u001b[1;39m{\n",
      "                                  \u001b[0m\u001b[34;1m\"deposits\"\u001b[0m\u001b[1;39m: \u001b[0m\u001b[0;39m5000000\u001b[0m\u001b[1;39m,\n",
      "                                  \u001b[0m\u001b[34;1m\"into_account\"\u001b[0m\u001b[1;39m: \u001b[0m\u001b[1;39m{\n",
      "                                    \u001b[0m\u001b[34;1m\"role_token\"\u001b[0m\u001b[1;39m: \u001b[0m\u001b[0;32m\"Eve\"\u001b[0m\u001b[1;39m\n",
      "                                  \u001b[1;39m}\u001b[0m\u001b[1;39m,\n",
      "                                  \u001b[0m\u001b[34;1m\"of_token\"\u001b[0m\u001b[1;39m: \u001b[0m\u001b[1;39m{\n",
      "                                    \u001b[0m\u001b[34;1m\"currency_symbol\"\u001b[0m\u001b[1;39m: \u001b[0m\u001b[0;32m\"\"\u001b[0m\u001b[1;39m,\n",
      "                                    \u001b[0m\u001b[34;1m\"token_name\"\u001b[0m\u001b[1;39m: \u001b[0m\u001b[0;32m\"\"\u001b[0m\u001b[1;39m\n",
      "                                  \u001b[1;39m}\u001b[0m\u001b[1;39m,\n",
      "                                  \u001b[0m\u001b[34;1m\"party\"\u001b[0m\u001b[1;39m: \u001b[0m\u001b[1;39m{\n",
      "                                    \u001b[0m\u001b[34;1m\"address\"\u001b[0m\u001b[1;39m: \u001b[0m\u001b[0;32m\"addr_test1vq9prvx8ufwutkwxx9cmmuuajaqmjqwujqlp9d8pvg6gupczgtm9j\"\u001b[0m\u001b[1;39m\n",
      "                                  \u001b[1;39m}\u001b[0m\u001b[1;39m\n",
      "                                \u001b[1;39m}\u001b[0m\u001b[1;39m,\n",
      "                                \u001b[0m\u001b[34;1m\"then\"\u001b[0m\u001b[1;39m: \u001b[0m\u001b[1;39m{\n",
      "                                  \u001b[0m\u001b[34;1m\"timeout\"\u001b[0m\u001b[1;39m: \u001b[0m\u001b[0;39m1693275328000\u001b[0m\u001b[1;39m,\n",
      "                                  \u001b[0m\u001b[34;1m\"timeout_continuation\"\u001b[0m\u001b[1;39m: \u001b[0m\u001b[0;32m\"close\"\u001b[0m\u001b[1;39m,\n",
      "                                  \u001b[0m\u001b[34;1m\"when\"\u001b[0m\u001b[1;39m: \u001b[0m\u001b[1;39m[\n",
      "                                    \u001b[1;39m{\n",
      "                                      \u001b[0m\u001b[34;1m\"case\"\u001b[0m\u001b[1;39m: \u001b[0m\u001b[1;39m{\n",
      "                                        \u001b[0m\u001b[34;1m\"notify_if\"\u001b[0m\u001b[1;39m: \u001b[0m\u001b[0;39mtrue\u001b[0m\u001b[1;39m\n",
      "                                      \u001b[1;39m}\u001b[0m\u001b[1;39m,\n",
      "                                      \u001b[0m\u001b[34;1m\"then\"\u001b[0m\u001b[1;39m: \u001b[0m\u001b[0;32m\"close\"\u001b[0m\u001b[1;39m\n",
      "                                    \u001b[1;39m}\u001b[0m\u001b[1;39m\n",
      "                                  \u001b[1;39m]\u001b[0m\u001b[1;39m\n",
      "                                \u001b[1;39m}\u001b[0m\u001b[1;39m\n",
      "                              \u001b[1;39m}\u001b[0m\u001b[1;39m\n",
      "                            \u001b[1;39m]\u001b[0m\u001b[1;39m\n",
      "                          \u001b[1;39m}\u001b[0m\u001b[1;39m\n",
      "                        \u001b[1;39m}\u001b[0m\u001b[1;39m\n",
      "                      \u001b[1;39m]\u001b[0m\u001b[1;39m\n",
      "                    \u001b[1;39m}\u001b[0m\u001b[1;39m\n",
      "                  \u001b[1;39m}\u001b[0m\u001b[1;39m\n",
      "                \u001b[1;39m]\u001b[0m\u001b[1;39m\n",
      "              \u001b[1;39m}\u001b[0m\u001b[1;39m\n",
      "            \u001b[1;39m}\u001b[0m\u001b[1;39m\n",
      "          \u001b[1;39m]\u001b[0m\u001b[1;39m\n",
      "        \u001b[1;39m}\u001b[0m\u001b[1;39m\n",
      "      \u001b[1;39m}\u001b[0m\u001b[1;39m\n",
      "    \u001b[1;39m]\u001b[0m\u001b[1;39m\n",
      "  \u001b[1;39m}\u001b[0m\u001b[1;39m,\n",
      "  \u001b[0m\u001b[34;1m\"metadata\"\u001b[0m\u001b[1;39m: \u001b[0m\u001b[1;39m{}\u001b[0m\u001b[1;39m,\n",
      "  \u001b[0m\u001b[34;1m\"minUTxODeposit\"\u001b[0m\u001b[1;39m: \u001b[0m\u001b[0;39m1200000\u001b[0m\u001b[1;39m,\n",
      "  \u001b[0m\u001b[34;1m\"roles\"\u001b[0m\u001b[1;39m: \u001b[0m\u001b[0;32m\"99be97113914696a4676909f4e3cb1f2e60e2e08e5abed70caf5c026\"\u001b[0m\u001b[1;39m,\n",
      "  \u001b[0m\u001b[34;1m\"tags\"\u001b[0m\u001b[1;39m: \u001b[0m\u001b[1;39m{}\u001b[0m\u001b[1;39m,\n",
      "  \u001b[0m\u001b[34;1m\"version\"\u001b[0m\u001b[1;39m: \u001b[0m\u001b[0;32m\"v1\"\u001b[0m\u001b[1;39m\n",
      "\u001b[1;39m}\u001b[0m\n"
     ]
    }
   ],
   "source": [
    "yaml2json << EOI > request-6.json\n",
    "version: v1\n",
    "contract: $(cat contract-6.json)\n",
    "minUTxODeposit: 1200000\n",
    "roles: 99be97113914696a4676909f4e3cb1f2e60e2e08e5abed70caf5c026\n",
    "metadata: {}\n",
    "tags: {}\n",
    "EOI\n",
    "cat request-6.json | jq"
   ]
  },
  {
   "cell_type": "markdown",
   "id": "6e2f96b9-3a43-49c5-85ba-ad1735b30957",
   "metadata": {},
   "source": [
    "Yêu cầu Marlowe Runtime xây dựng giao dịch tạo dẫn đến các lỗi an toàn."
   ]
  },
  {
   "cell_type": "code",
   "execution_count": 31,
   "id": "89e3353f-3412-415d-b5b8-8a5c06fa68ff",
   "metadata": {
    "tags": [],
    "vscode": {
     "languageId": "shellscript"
    }
   },
   "outputs": [
    {
     "name": "stdout",
     "output_type": "stream",
     "text": [
      "TransactionValidationError\n",
      "TransactionValidationError\n"
     ]
    }
   ],
   "source": [
    "curl \"$MARLOWE_RT_WEBSERVER_URL/contracts\" \\\n",
    "  -X POST \\\n",
    "  -H 'Content-Type: application/json' \\\n",
    "  -H \"X-Change-Address: addr_test1vq9prvx8ufwutkwxx9cmmuuajaqmjqwujqlp9d8pvg6gupczgtm9j\" \\\n",
    "  -d @request-6.json \\\n",
    "  -o response-6.json \\\n",
    "  -sS\n",
    "jq -r '.resource.safetyErrors | .[] | .error' response-6.json"
   ]
  },
  {
   "cell_type": "markdown",
   "id": "c6573eab-e9de-47fe-b597-34bed91d2f58",
   "metadata": {},
   "source": [
    "### `TransactionValidationError`\n",
    "\n",
    "Chúng ta đã thấy lỗi này trước đó trong ví dụ đầu tiên khi nút Cardano đã từ chối giao dịch trong quá trình xác nhận giai đoạn một. Ở đây, chúng ta có một lỗi xác nhận giai đoạn hai (Plutus) vì một giao dịch quá tốn kém để thực thi. Lưu ý rằng giao dịch thất bại không phải là giao dịch tạo, mà là một giao dịch trong các giai đoạn sau của việc thực thi hợp đồng. Báo cáo an toàn liệt kê tất cả các chi tiết của giao dịch tiềm năng trong tương lai mà sẽ xuất hiện lỗi xác nhận."
   ]
  },
  {
   "cell_type": "code",
   "execution_count": 32,
   "id": "3673e6ef-298f-4d1a-bd85-52df692527e7",
   "metadata": {
    "tags": []
   },
   "outputs": [
    {
     "name": "stdout",
     "output_type": "stream",
     "text": [
      "\u001b[1;39m{\n",
      "  \u001b[0m\u001b[34;1m\"detail\"\u001b[0m\u001b[1;39m: \u001b[0m\u001b[0;32m\"This transaction fails to validate on the ledger.\"\u001b[0m\u001b[1;39m,\n",
      "  \u001b[0m\u001b[34;1m\"error\"\u001b[0m\u001b[1;39m: \u001b[0m\u001b[0;32m\"TransactionValidationError\"\u001b[0m\u001b[1;39m,\n",
      "  \u001b[0m\u001b[34;1m\"fatal\"\u001b[0m\u001b[1;39m: \u001b[0m\u001b[0;39mtrue\u001b[0m\u001b[1;39m,\n",
      "  \u001b[0m\u001b[34;1m\"message\"\u001b[0m\u001b[1;39m: \u001b[0m\u001b[0;32m\"BalancingError \\\"TxBodyScriptExecutionError [(ScriptWitnessIndexTxIn 1,ScriptErrorEvaluationFailed (CekError An error has occurred:  User error:\\\\nThe machine terminated part way through evaluation due to overspending the budget.\\\\nThe budget when the machine terminated was:\\\\n({ cpu: 6343692948\\\\n| mem: -1158\\\\n})\\\\nNegative numbers indicate the overspent budget; note that this only indicatessthe budget that was needed for the next step, not to run the program to completion.) [\\\\\\\"Data decoded successfully\\\\\\\",\\\\\\\"Redeemer decoded successfully\\\\\\\",\\\\\\\"Script context decoded successfully\\\\\\\"])]\\\"\"\u001b[0m\u001b[1;39m,\n",
      "  \u001b[0m\u001b[34;1m\"transaction\"\u001b[0m\u001b[1;39m: \u001b[0m\u001b[1;39m{\n",
      "    \u001b[0m\u001b[34;1m\"contract\"\u001b[0m\u001b[1;39m: \u001b[0m\u001b[1;39m{\n",
      "      \u001b[0m\u001b[34;1m\"timeout\"\u001b[0m\u001b[1;39m: \u001b[0m\u001b[0;39m1693275328000\u001b[0m\u001b[1;39m,\n",
      "      \u001b[0m\u001b[34;1m\"timeout_continuation\"\u001b[0m\u001b[1;39m: \u001b[0m\u001b[0;32m\"close\"\u001b[0m\u001b[1;39m,\n",
      "      \u001b[0m\u001b[34;1m\"when\"\u001b[0m\u001b[1;39m: \u001b[0m\u001b[1;39m[\n",
      "        \u001b[1;39m{\n",
      "          \u001b[0m\u001b[34;1m\"case\"\u001b[0m\u001b[1;39m: \u001b[0m\u001b[1;39m{\n",
      "            \u001b[0m\u001b[34;1m\"notify_if\"\u001b[0m\u001b[1;39m: \u001b[0m\u001b[0;39mtrue\u001b[0m\u001b[1;39m\n",
      "          \u001b[1;39m}\u001b[0m\u001b[1;39m,\n",
      "          \u001b[0m\u001b[34;1m\"then\"\u001b[0m\u001b[1;39m: \u001b[0m\u001b[0;32m\"close\"\u001b[0m\u001b[1;39m\n",
      "        \u001b[1;39m}\u001b[0m\u001b[1;39m\n",
      "      \u001b[1;39m]\u001b[0m\u001b[1;39m\n",
      "    \u001b[1;39m}\u001b[0m\u001b[1;39m,\n",
      "    \u001b[0m\u001b[34;1m\"input\"\u001b[0m\u001b[1;39m: \u001b[0m\u001b[1;39m{\n",
      "      \u001b[0m\u001b[34;1m\"tx_inputs\"\u001b[0m\u001b[1;39m: \u001b[0m\u001b[1;39m[]\u001b[0m\u001b[1;39m,\n",
      "      \u001b[0m\u001b[34;1m\"tx_interval\"\u001b[0m\u001b[1;39m: \u001b[0m\u001b[1;39m{\n",
      "        \u001b[0m\u001b[34;1m\"from\"\u001b[0m\u001b[1;39m: \u001b[0m\u001b[0;39m1693275328000\u001b[0m\u001b[1;39m,\n",
      "        \u001b[0m\u001b[34;1m\"to\"\u001b[0m\u001b[1;39m: \u001b[0m\u001b[0;39m1693275328000\u001b[0m\u001b[1;39m\n",
      "      \u001b[1;39m}\u001b[0m\u001b[1;39m\n",
      "    \u001b[1;39m}\u001b[0m\u001b[1;39m,\n",
      "    \u001b[0m\u001b[34;1m\"output\"\u001b[0m\u001b[1;39m: \u001b[0m\u001b[1;39m{\n",
      "      \u001b[0m\u001b[34;1m\"contract\"\u001b[0m\u001b[1;39m: \u001b[0m\u001b[0;32m\"close\"\u001b[0m\u001b[1;39m,\n",
      "      \u001b[0m\u001b[34;1m\"payments\"\u001b[0m\u001b[1;39m: \u001b[0m\u001b[1;39m[\n",
      "        \u001b[1;39m{\n",
      "          \u001b[0m\u001b[34;1m\"amount\"\u001b[0m\u001b[1;39m: \u001b[0m\u001b[0;39m1200000\u001b[0m\u001b[1;39m,\n",
      "          \u001b[0m\u001b[34;1m\"payment_from\"\u001b[0m\u001b[1;39m: \u001b[0m\u001b[1;39m{\n",
      "            \u001b[0m\u001b[34;1m\"address\"\u001b[0m\u001b[1;39m: \u001b[0m\u001b[0;32m\"addr_test1vq9prvx8ufwutkwxx9cmmuuajaqmjqwujqlp9d8pvg6gupczgtm9j\"\u001b[0m\u001b[1;39m\n",
      "          \u001b[1;39m}\u001b[0m\u001b[1;39m,\n",
      "          \u001b[0m\u001b[34;1m\"to\"\u001b[0m\u001b[1;39m: \u001b[0m\u001b[1;39m{\n",
      "            \u001b[0m\u001b[34;1m\"party\"\u001b[0m\u001b[1;39m: \u001b[0m\u001b[1;39m{\n",
      "              \u001b[0m\u001b[34;1m\"address\"\u001b[0m\u001b[1;39m: \u001b[0m\u001b[0;32m\"addr_test1vq9prvx8ufwutkwxx9cmmuuajaqmjqwujqlp9d8pvg6gupczgtm9j\"\u001b[0m\u001b[1;39m\n",
      "            \u001b[1;39m}\u001b[0m\u001b[1;39m\n",
      "          \u001b[1;39m}\u001b[0m\u001b[1;39m,\n",
      "          \u001b[0m\u001b[34;1m\"token\"\u001b[0m\u001b[1;39m: \u001b[0m\u001b[1;39m{\n",
      "            \u001b[0m\u001b[34;1m\"currency_symbol\"\u001b[0m\u001b[1;39m: \u001b[0m\u001b[0;32m\"\"\u001b[0m\u001b[1;39m,\n",
      "            \u001b[0m\u001b[34;1m\"token_name\"\u001b[0m\u001b[1;39m: \u001b[0m\u001b[0;32m\"\"\u001b[0m\u001b[1;39m\n",
      "          \u001b[1;39m}\u001b[0m\u001b[1;39m\n",
      "        \u001b[1;39m}\u001b[0m\u001b[1;39m,\n",
      "        \u001b[1;39m{\n",
      "          \u001b[0m\u001b[34;1m\"amount\"\u001b[0m\u001b[1;39m: \u001b[0m\u001b[0;39m5000000\u001b[0m\u001b[1;39m,\n",
      "          \u001b[0m\u001b[34;1m\"payment_from\"\u001b[0m\u001b[1;39m: \u001b[0m\u001b[1;39m{\n",
      "            \u001b[0m\u001b[34;1m\"role_token\"\u001b[0m\u001b[1;39m: \u001b[0m\u001b[0;32m\"Alice\"\u001b[0m\u001b[1;39m\n",
      "          \u001b[1;39m}\u001b[0m\u001b[1;39m,\n",
      "          \u001b[0m\u001b[34;1m\"to\"\u001b[0m\u001b[1;39m: \u001b[0m\u001b[1;39m{\n",
      "            \u001b[0m\u001b[34;1m\"party\"\u001b[0m\u001b[1;39m: \u001b[0m\u001b[1;39m{\n",
      "              \u001b[0m\u001b[34;1m\"role_token\"\u001b[0m\u001b[1;39m: \u001b[0m\u001b[0;32m\"Alice\"\u001b[0m\u001b[1;39m\n",
      "            \u001b[1;39m}\u001b[0m\u001b[1;39m\n",
      "          \u001b[1;39m}\u001b[0m\u001b[1;39m,\n",
      "          \u001b[0m\u001b[34;1m\"token\"\u001b[0m\u001b[1;39m: \u001b[0m\u001b[1;39m{\n",
      "            \u001b[0m\u001b[34;1m\"currency_symbol\"\u001b[0m\u001b[1;39m: \u001b[0m\u001b[0;32m\"\"\u001b[0m\u001b[1;39m,\n",
      "            \u001b[0m\u001b[34;1m\"token_name\"\u001b[0m\u001b[1;39m: \u001b[0m\u001b[0;32m\"\"\u001b[0m\u001b[1;39m\n",
      "          \u001b[1;39m}\u001b[0m\u001b[1;39m\n",
      "        \u001b[1;39m}\u001b[0m\u001b[1;39m,\n",
      "        \u001b[1;39m{\n",
      "          \u001b[0m\u001b[34;1m\"amount\"\u001b[0m\u001b[1;39m: \u001b[0m\u001b[0;39m5000000\u001b[0m\u001b[1;39m,\n",
      "          \u001b[0m\u001b[34;1m\"payment_from\"\u001b[0m\u001b[1;39m: \u001b[0m\u001b[1;39m{\n",
      "            \u001b[0m\u001b[34;1m\"role_token\"\u001b[0m\u001b[1;39m: \u001b[0m\u001b[0;32m\"Bob\"\u001b[0m\u001b[1;39m\n",
      "          \u001b[1;39m}\u001b[0m\u001b[1;39m,\n",
      "          \u001b[0m\u001b[34;1m\"to\"\u001b[0m\u001b[1;39m: \u001b[0m\u001b[1;39m{\n",
      "            \u001b[0m\u001b[34;1m\"party\"\u001b[0m\u001b[1;39m: \u001b[0m\u001b[1;39m{\n",
      "              \u001b[0m\u001b[34;1m\"role_token\"\u001b[0m\u001b[1;39m: \u001b[0m\u001b[0;32m\"Bob\"\u001b[0m\u001b[1;39m\n",
      "            \u001b[1;39m}\u001b[0m\u001b[1;39m\n",
      "          \u001b[1;39m}\u001b[0m\u001b[1;39m,\n",
      "          \u001b[0m\u001b[34;1m\"token\"\u001b[0m\u001b[1;39m: \u001b[0m\u001b[1;39m{\n",
      "            \u001b[0m\u001b[34;1m\"currency_symbol\"\u001b[0m\u001b[1;39m: \u001b[0m\u001b[0;32m\"\"\u001b[0m\u001b[1;39m,\n",
      "            \u001b[0m\u001b[34;1m\"token_name\"\u001b[0m\u001b[1;39m: \u001b[0m\u001b[0;32m\"\"\u001b[0m\u001b[1;39m\n",
      "          \u001b[1;39m}\u001b[0m\u001b[1;39m\n",
      "        \u001b[1;39m}\u001b[0m\u001b[1;39m,\n",
      "        \u001b[1;39m{\n",
      "          \u001b[0m\u001b[34;1m\"amount\"\u001b[0m\u001b[1;39m: \u001b[0m\u001b[0;39m5000000\u001b[0m\u001b[1;39m,\n",
      "          \u001b[0m\u001b[34;1m\"payment_from\"\u001b[0m\u001b[1;39m: \u001b[0m\u001b[1;39m{\n",
      "            \u001b[0m\u001b[34;1m\"role_token\"\u001b[0m\u001b[1;39m: \u001b[0m\u001b[0;32m\"Charlie\"\u001b[0m\u001b[1;39m\n",
      "          \u001b[1;39m}\u001b[0m\u001b[1;39m,\n",
      "          \u001b[0m\u001b[34;1m\"to\"\u001b[0m\u001b[1;39m: \u001b[0m\u001b[1;39m{\n",
      "            \u001b[0m\u001b[34;1m\"party\"\u001b[0m\u001b[1;39m: \u001b[0m\u001b[1;39m{\n",
      "              \u001b[0m\u001b[34;1m\"role_token\"\u001b[0m\u001b[1;39m: \u001b[0m\u001b[0;32m\"Charlie\"\u001b[0m\u001b[1;39m\n",
      "            \u001b[1;39m}\u001b[0m\u001b[1;39m\n",
      "          \u001b[1;39m}\u001b[0m\u001b[1;39m,\n",
      "          \u001b[0m\u001b[34;1m\"token\"\u001b[0m\u001b[1;39m: \u001b[0m\u001b[1;39m{\n",
      "            \u001b[0m\u001b[34;1m\"currency_symbol\"\u001b[0m\u001b[1;39m: \u001b[0m\u001b[0;32m\"\"\u001b[0m\u001b[1;39m,\n",
      "            \u001b[0m\u001b[34;1m\"token_name\"\u001b[0m\u001b[1;39m: \u001b[0m\u001b[0;32m\"\"\u001b[0m\u001b[1;39m\n",
      "          \u001b[1;39m}\u001b[0m\u001b[1;39m\n",
      "        \u001b[1;39m}\u001b[0m\u001b[1;39m,\n",
      "        \u001b[1;39m{\n",
      "          \u001b[0m\u001b[34;1m\"amount\"\u001b[0m\u001b[1;39m: \u001b[0m\u001b[0;39m5000000\u001b[0m\u001b[1;39m,\n",
      "          \u001b[0m\u001b[34;1m\"payment_from\"\u001b[0m\u001b[1;39m: \u001b[0m\u001b[1;39m{\n",
      "            \u001b[0m\u001b[34;1m\"role_token\"\u001b[0m\u001b[1;39m: \u001b[0m\u001b[0;32m\"Dave\"\u001b[0m\u001b[1;39m\n",
      "          \u001b[1;39m}\u001b[0m\u001b[1;39m,\n",
      "          \u001b[0m\u001b[34;1m\"to\"\u001b[0m\u001b[1;39m: \u001b[0m\u001b[1;39m{\n",
      "            \u001b[0m\u001b[34;1m\"party\"\u001b[0m\u001b[1;39m: \u001b[0m\u001b[1;39m{\n",
      "              \u001b[0m\u001b[34;1m\"role_token\"\u001b[0m\u001b[1;39m: \u001b[0m\u001b[0;32m\"Dave\"\u001b[0m\u001b[1;39m\n",
      "            \u001b[1;39m}\u001b[0m\u001b[1;39m\n",
      "          \u001b[1;39m}\u001b[0m\u001b[1;39m,\n",
      "          \u001b[0m\u001b[34;1m\"token\"\u001b[0m\u001b[1;39m: \u001b[0m\u001b[1;39m{\n",
      "            \u001b[0m\u001b[34;1m\"currency_symbol\"\u001b[0m\u001b[1;39m: \u001b[0m\u001b[0;32m\"\"\u001b[0m\u001b[1;39m,\n",
      "            \u001b[0m\u001b[34;1m\"token_name\"\u001b[0m\u001b[1;39m: \u001b[0m\u001b[0;32m\"\"\u001b[0m\u001b[1;39m\n",
      "          \u001b[1;39m}\u001b[0m\u001b[1;39m\n",
      "        \u001b[1;39m}\u001b[0m\u001b[1;39m,\n",
      "        \u001b[1;39m{\n",
      "          \u001b[0m\u001b[34;1m\"amount\"\u001b[0m\u001b[1;39m: \u001b[0m\u001b[0;39m5000000\u001b[0m\u001b[1;39m,\n",
      "          \u001b[0m\u001b[34;1m\"payment_from\"\u001b[0m\u001b[1;39m: \u001b[0m\u001b[1;39m{\n",
      "            \u001b[0m\u001b[34;1m\"role_token\"\u001b[0m\u001b[1;39m: \u001b[0m\u001b[0;32m\"Eve\"\u001b[0m\u001b[1;39m\n",
      "          \u001b[1;39m}\u001b[0m\u001b[1;39m,\n",
      "          \u001b[0m\u001b[34;1m\"to\"\u001b[0m\u001b[1;39m: \u001b[0m\u001b[1;39m{\n",
      "            \u001b[0m\u001b[34;1m\"party\"\u001b[0m\u001b[1;39m: \u001b[0m\u001b[1;39m{\n",
      "              \u001b[0m\u001b[34;1m\"role_token\"\u001b[0m\u001b[1;39m: \u001b[0m\u001b[0;32m\"Eve\"\u001b[0m\u001b[1;39m\n",
      "            \u001b[1;39m}\u001b[0m\u001b[1;39m\n",
      "          \u001b[1;39m}\u001b[0m\u001b[1;39m,\n",
      "          \u001b[0m\u001b[34;1m\"token\"\u001b[0m\u001b[1;39m: \u001b[0m\u001b[1;39m{\n",
      "            \u001b[0m\u001b[34;1m\"currency_symbol\"\u001b[0m\u001b[1;39m: \u001b[0m\u001b[0;32m\"\"\u001b[0m\u001b[1;39m,\n",
      "            \u001b[0m\u001b[34;1m\"token_name\"\u001b[0m\u001b[1;39m: \u001b[0m\u001b[0;32m\"\"\u001b[0m\u001b[1;39m\n",
      "          \u001b[1;39m}\u001b[0m\u001b[1;39m\n",
      "        \u001b[1;39m}\u001b[0m\u001b[1;39m\n",
      "      \u001b[1;39m]\u001b[0m\u001b[1;39m,\n",
      "      \u001b[0m\u001b[34;1m\"state\"\u001b[0m\u001b[1;39m: \u001b[0m\u001b[1;39m{\n",
      "        \u001b[0m\u001b[34;1m\"accounts\"\u001b[0m\u001b[1;39m: \u001b[0m\u001b[1;39m[]\u001b[0m\u001b[1;39m,\n",
      "        \u001b[0m\u001b[34;1m\"boundValues\"\u001b[0m\u001b[1;39m: \u001b[0m\u001b[1;39m[]\u001b[0m\u001b[1;39m,\n",
      "        \u001b[0m\u001b[34;1m\"choices\"\u001b[0m\u001b[1;39m: \u001b[0m\u001b[1;39m[]\u001b[0m\u001b[1;39m,\n",
      "        \u001b[0m\u001b[34;1m\"minTime\"\u001b[0m\u001b[1;39m: \u001b[0m\u001b[0;39m1693275328000\u001b[0m\u001b[1;39m\n",
      "      \u001b[1;39m}\u001b[0m\u001b[1;39m,\n",
      "      \u001b[0m\u001b[34;1m\"warnings\"\u001b[0m\u001b[1;39m: \u001b[0m\u001b[1;39m[]\u001b[0m\u001b[1;39m\n",
      "    \u001b[1;39m}\u001b[0m\u001b[1;39m,\n",
      "    \u001b[0m\u001b[34;1m\"state\"\u001b[0m\u001b[1;39m: \u001b[0m\u001b[1;39m{\n",
      "      \u001b[0m\u001b[34;1m\"accounts\"\u001b[0m\u001b[1;39m: \u001b[0m\u001b[1;39m[\n",
      "        \u001b[1;39m[\n",
      "          \u001b[1;39m[\n",
      "            \u001b[1;39m{\n",
      "              \u001b[0m\u001b[34;1m\"address\"\u001b[0m\u001b[1;39m: \u001b[0m\u001b[0;32m\"addr_test1vq9prvx8ufwutkwxx9cmmuuajaqmjqwujqlp9d8pvg6gupczgtm9j\"\u001b[0m\u001b[1;39m\n",
      "            \u001b[1;39m}\u001b[0m\u001b[1;39m,\n",
      "            \u001b[1;39m{\n",
      "              \u001b[0m\u001b[34;1m\"currency_symbol\"\u001b[0m\u001b[1;39m: \u001b[0m\u001b[0;32m\"\"\u001b[0m\u001b[1;39m,\n",
      "              \u001b[0m\u001b[34;1m\"token_name\"\u001b[0m\u001b[1;39m: \u001b[0m\u001b[0;32m\"\"\u001b[0m\u001b[1;39m\n",
      "            \u001b[1;39m}\u001b[0m\u001b[1;39m\n",
      "          \u001b[1;39m]\u001b[0m\u001b[1;39m,\n",
      "          \u001b[0;39m1200000\u001b[0m\u001b[1;39m\n",
      "        \u001b[1;39m]\u001b[0m\u001b[1;39m,\n",
      "        \u001b[1;39m[\n",
      "          \u001b[1;39m[\n",
      "            \u001b[1;39m{\n",
      "              \u001b[0m\u001b[34;1m\"role_token\"\u001b[0m\u001b[1;39m: \u001b[0m\u001b[0;32m\"Alice\"\u001b[0m\u001b[1;39m\n",
      "            \u001b[1;39m}\u001b[0m\u001b[1;39m,\n",
      "            \u001b[1;39m{\n",
      "              \u001b[0m\u001b[34;1m\"currency_symbol\"\u001b[0m\u001b[1;39m: \u001b[0m\u001b[0;32m\"\"\u001b[0m\u001b[1;39m,\n",
      "              \u001b[0m\u001b[34;1m\"token_name\"\u001b[0m\u001b[1;39m: \u001b[0m\u001b[0;32m\"\"\u001b[0m\u001b[1;39m\n",
      "            \u001b[1;39m}\u001b[0m\u001b[1;39m\n",
      "          \u001b[1;39m]\u001b[0m\u001b[1;39m,\n",
      "          \u001b[0;39m5000000\u001b[0m\u001b[1;39m\n",
      "        \u001b[1;39m]\u001b[0m\u001b[1;39m,\n",
      "        \u001b[1;39m[\n",
      "          \u001b[1;39m[\n",
      "            \u001b[1;39m{\n",
      "              \u001b[0m\u001b[34;1m\"role_token\"\u001b[0m\u001b[1;39m: \u001b[0m\u001b[0;32m\"Bob\"\u001b[0m\u001b[1;39m\n",
      "            \u001b[1;39m}\u001b[0m\u001b[1;39m,\n",
      "            \u001b[1;39m{\n",
      "              \u001b[0m\u001b[34;1m\"currency_symbol\"\u001b[0m\u001b[1;39m: \u001b[0m\u001b[0;32m\"\"\u001b[0m\u001b[1;39m,\n",
      "              \u001b[0m\u001b[34;1m\"token_name\"\u001b[0m\u001b[1;39m: \u001b[0m\u001b[0;32m\"\"\u001b[0m\u001b[1;39m\n",
      "            \u001b[1;39m}\u001b[0m\u001b[1;39m\n",
      "          \u001b[1;39m]\u001b[0m\u001b[1;39m,\n",
      "          \u001b[0;39m5000000\u001b[0m\u001b[1;39m\n",
      "        \u001b[1;39m]\u001b[0m\u001b[1;39m,\n",
      "        \u001b[1;39m[\n",
      "          \u001b[1;39m[\n",
      "            \u001b[1;39m{\n",
      "              \u001b[0m\u001b[34;1m\"role_token\"\u001b[0m\u001b[1;39m: \u001b[0m\u001b[0;32m\"Charlie\"\u001b[0m\u001b[1;39m\n",
      "            \u001b[1;39m}\u001b[0m\u001b[1;39m,\n",
      "            \u001b[1;39m{\n",
      "              \u001b[0m\u001b[34;1m\"currency_symbol\"\u001b[0m\u001b[1;39m: \u001b[0m\u001b[0;32m\"\"\u001b[0m\u001b[1;39m,\n",
      "              \u001b[0m\u001b[34;1m\"token_name\"\u001b[0m\u001b[1;39m: \u001b[0m\u001b[0;32m\"\"\u001b[0m\u001b[1;39m\n",
      "            \u001b[1;39m}\u001b[0m\u001b[1;39m\n",
      "          \u001b[1;39m]\u001b[0m\u001b[1;39m,\n",
      "          \u001b[0;39m5000000\u001b[0m\u001b[1;39m\n",
      "        \u001b[1;39m]\u001b[0m\u001b[1;39m,\n",
      "        \u001b[1;39m[\n",
      "          \u001b[1;39m[\n",
      "            \u001b[1;39m{\n",
      "              \u001b[0m\u001b[34;1m\"role_token\"\u001b[0m\u001b[1;39m: \u001b[0m\u001b[0;32m\"Dave\"\u001b[0m\u001b[1;39m\n",
      "            \u001b[1;39m}\u001b[0m\u001b[1;39m,\n",
      "            \u001b[1;39m{\n",
      "              \u001b[0m\u001b[34;1m\"currency_symbol\"\u001b[0m\u001b[1;39m: \u001b[0m\u001b[0;32m\"\"\u001b[0m\u001b[1;39m,\n",
      "              \u001b[0m\u001b[34;1m\"token_name\"\u001b[0m\u001b[1;39m: \u001b[0m\u001b[0;32m\"\"\u001b[0m\u001b[1;39m\n",
      "            \u001b[1;39m}\u001b[0m\u001b[1;39m\n",
      "          \u001b[1;39m]\u001b[0m\u001b[1;39m,\n",
      "          \u001b[0;39m5000000\u001b[0m\u001b[1;39m\n",
      "        \u001b[1;39m]\u001b[0m\u001b[1;39m,\n",
      "        \u001b[1;39m[\n",
      "          \u001b[1;39m[\n",
      "            \u001b[1;39m{\n",
      "              \u001b[0m\u001b[34;1m\"role_token\"\u001b[0m\u001b[1;39m: \u001b[0m\u001b[0;32m\"Eve\"\u001b[0m\u001b[1;39m\n",
      "            \u001b[1;39m}\u001b[0m\u001b[1;39m,\n",
      "            \u001b[1;39m{\n",
      "              \u001b[0m\u001b[34;1m\"currency_symbol\"\u001b[0m\u001b[1;39m: \u001b[0m\u001b[0;32m\"\"\u001b[0m\u001b[1;39m,\n",
      "              \u001b[0m\u001b[34;1m\"token_name\"\u001b[0m\u001b[1;39m: \u001b[0m\u001b[0;32m\"\"\u001b[0m\u001b[1;39m\n",
      "            \u001b[1;39m}\u001b[0m\u001b[1;39m\n",
      "          \u001b[1;39m]\u001b[0m\u001b[1;39m,\n",
      "          \u001b[0;39m5000000\u001b[0m\u001b[1;39m\n",
      "        \u001b[1;39m]\u001b[0m\u001b[1;39m\n",
      "      \u001b[1;39m]\u001b[0m\u001b[1;39m,\n",
      "      \u001b[0m\u001b[34;1m\"boundValues\"\u001b[0m\u001b[1;39m: \u001b[0m\u001b[1;39m[]\u001b[0m\u001b[1;39m,\n",
      "      \u001b[0m\u001b[34;1m\"choices\"\u001b[0m\u001b[1;39m: \u001b[0m\u001b[1;39m[]\u001b[0m\u001b[1;39m,\n",
      "      \u001b[0m\u001b[34;1m\"minTime\"\u001b[0m\u001b[1;39m: \u001b[0m\u001b[0;39m0\u001b[0m\u001b[1;39m\n",
      "    \u001b[1;39m}\u001b[0m\u001b[1;39m\n",
      "  \u001b[1;39m}\u001b[0m\u001b[1;39m\n",
      "\u001b[1;39m}\u001b[0m\n"
     ]
    }
   ],
   "source": [
    "jq '.resource.safetyErrors | .[0]' response-6.json"
   ]
  },
  {
   "cell_type": "markdown",
   "id": "95bbc255-08d9-43c7-a21b-a4463873a23b",
   "metadata": {},
   "source": [
    "Trường `.message` của lỗi an toàn cung cấp thông tin từ trình diễn Plutus."
   ]
  },
  {
   "cell_type": "code",
   "execution_count": 33,
   "id": "b84c7740-eb62-418e-8471-8bf9093f16cb",
   "metadata": {
    "tags": []
   },
   "outputs": [
    {
     "name": "stdout",
     "output_type": "stream",
     "text": [
      "\u001b[0;32m\"BalancingError \\\"TxBodyScriptExecutionError [(ScriptWitnessIndexTxIn 1,ScriptErrorEvaluationFailed (CekError An error has occurred:  User error:\\\\nThe machine terminated part way through evaluation due to overspending the budget.\\\\nThe budget when the machine terminated was:\\\\n({ cpu: 6343692948\\\\n| mem: -1158\\\\n})\\\\nNegative numbers indicate the overspent budget; note that this only indicatessthe budget that was needed for the next step, not to run the program to completion.) [\\\\\\\"Data decoded successfully\\\\\\\",\\\\\\\"Redeemer decoded successfully\\\\\\\",\\\\\\\"Script context decoded successfully\\\\\\\"])]\\\"\"\u001b[0m\n"
     ]
    }
   ],
   "source": [
    "jq '.resource.safetyErrors | .[0].message' response-6.json"
   ]
  },
  {
   "cell_type": "markdown",
   "id": "7cc80f79-ab98-4dd7-b4fc-0ed2cec122d4",
   "metadata": {},
   "source": [
    "### `SafetyAnalysisTimeout`\n",
    "\n",
    "Lưu ý rằng một lỗi `SafetyAnalysisTimeout` có thể được báo cáo nếu hợp đồng Marlowe quá lớn đến mức máy chủ Marlowe Runtime hết thời gian phân tích hợp đồng. (Marlowe Runtime áp đặt một giới hạn thời gian cho phân tích an toàn để ngăn chặn các cuộc tấn công từ chối dịch vụ.) Trong tình huống này, bạn có thể sử dụng `marlowe-cli run analyze` để phân tích hợp đồng vì `marlowe-cli` không áp đặt giới hạn thời gian cho phân tích."
   ]
  },
  {
   "cell_type": "markdown",
   "id": "b30d9b16-4e88-43dd-88db-a9cfc0e3bebb",
   "metadata": {},
   "source": [
    "## Các lỗi an toàn khác\n",
    "\n",
    "Các ví dụ trên đã minh họa tất cả các lỗi an toàn Marlowe phổ biến mà Marlowe Runtime có thể phát hiện.\n",
    "\n",
    "Nếu hợp đồng được xây dựng bằng cách sử dụng `marlowe-cli` thay vì Marlowe Runtime, thì có thể xảy ra một số lỗi an toàn bổ sung. Một số trong số này liên quan đến trạng thái Marlowe ban đầu, mà Marlowe Runtime xây dựng một cách an toàn nhưng không bị ràng buộc bởi Marlowe CLI.\n",
    "- `NonPositiveBalance`: Số dư tài khoản ban đầu không dương.\n",
    "- `DuplicateAccount`: Một mục tài khoản trùng lặp tồn tại trong trạng thái Marlowe ban đầu.\n",
    "- `DuplicateChoice`: Một mục lựa chọn trùng lặp tồn tại trong trạng thái Marlowe ban đầu.\n",
    "- `DuplicateBoundValue`: Một mục giá trị ràng buộc trùng lặp tồn tại trong trạng thái Marlowe ban đầu.\n",
    "\n",
    "Các lỗi an toàn khác liên quan đến phân tích tiên lượng được thực hiện bởi Marlowe CLI nhưng không bởi Marlowe Runtime. (Chúng không cần thiết cho Marlowe Runtime vì Marlowe Runtime luôn cố gắng thực thi mọi giao dịch có thể cho hợp đồng và vì vậy sẽ phát hiện ra những lỗi này. Trong Marlowe CLI, việc thực thi mọi giao dịch là tùy chọn.)\n",
    "- `MaximumValueMayExceedProtocol`: Có thể có quá nhiều token được lưu trữ tại một số điểm trong hợp đồng.\n",
    "- `TransactionSizeMayExceedProtocol`: Kích thước giao dịch (theo byte) có thể quá lớn.\n",
    "- `TransactionCostMayExceedProtocol` : Chi phí thực thi của giao dịch có thể quá cao.\n",
    "- `MissingContinuation`: Hợp đồng thiếu một phần tiếp theo không có trong bản đồ tiếp theo của nó."
   ]
  }
 ],
 "metadata": {
  "kernelspec": {
   "display_name": "Bash with Marlowe Tools",
   "language": "bash",
   "name": "bash-minimal"
  },
  "language_info": {
   "codemirror_mode": "shell",
   "file_extension": ".sh",
   "mimetype": "text/x-sh",
   "name": "bash"
  }
 },
 "nbformat": 4,
 "nbformat_minor": 5
}
