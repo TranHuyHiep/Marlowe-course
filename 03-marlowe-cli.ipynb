{
 "cells": [
  {
   "cell_type": "markdown",
   "id": "caa144a8-d3d7-42de-bfdd-8b27cf4c5cbe",
   "metadata": {
    "tags": [],
    "vscode": {
     "languageId": "shellscript"
    }
   },
   "source": [
    "# Zero-Coupon Bond Using Marlowe\\'s Command-Line Interface (Liên kết bằng phiếu giảm giá bằng cách sử dụng API REST của Marlowe Runtime)\n",
    "\n",
    "***Trước khi chạy sổ ghi chép này, bạn có thể muốn sử dụng chức năng \"xóa đầu ra\" của Jupyter để xóa kết quả thực hiện trước đó của sổ ghi chép này. Điều đó sẽ làm rõ hơn những gì đã được thực thi trong phiên hiện tại.***\n",
    "\n",
    "Ví dụ về trái phiếu không INTEREST là một hợp đồng Marlowe đơn giản trong đó người cho vay cung cấp tiền gốc cho người đi vay, người này sẽ hoàn trả lại số tiền đó cùng với tiền lãi.\n",
    "\n",
    "[Một video hoạt động thông qua máy tính xách tay Jupyter này.](https://youtu.be/ELc72BKf7ec)\n",
    "\n",
    "Bạn có thể đặt câu hỏi về Marlowe trong [the #ask-marlowe channel on the IOG Discord](https://discord.com/channels/826816523368005654/936295815926927390) hoặc đăng các vấn đề với bài học này lên [danh sách các vấn đề của Bộ công cụ dành cho người mới bắt đầu Marlowe kho lưu trữ github](https://github.com/input-output-hk/marlowe-starter-kit/issues).\n",
    "\n",
    "Trong phần trình diễn này, chúng ta sử dụng API REST của Marlowe Runtime\\, được cung cấp qua, `marlowe-cli`, để chạy hợp đồng này trên mạng thử nghiệm công khai `preprod` của Cardano\\. Hợp đồng Marlowe có thể sử dụng địa chỉ hoặc vai trò token để ủy quyền: ở đây chúng ta sử dụng vai trò token và chúng ta có Marlowe Runtime đúc chúng.\n",
    "\n",
    "Trong [Marlowe Playground](https://play.marlowe-finance.io/), hợp đồng có dạng như sau ở định dạng Blockly.\n",
    "\n",
    "![Zero-coupon bond Marlowe contract](images/01-zcb-contract.png)\n",
    "\n",
    "Ở định dạng Marlowe, nó xuất hiện dưới dạng\n",
    "```\n",
    "When\n",
    "    [Case\n",
    "        (Deposit\n",
    "            (Address \"$LENDER_ADDR\")\n",
    "            (Address \"$LENDER_ADDR\")\n",
    "            (Token \"\" \"\")\n",
    "            (ConstantParam \"$PRINCIPAL\")\n",
    "        )\n",
    "        (Pay\n",
    "            (Address \"$LENDER_ADDR\")\n",
    "            (Party (Address \"$BORROWER_ADDR\"))\n",
    "            (Token \"\" \"\")\n",
    "            (ConstantParam \"$PRINCIPAL\")\n",
    "            (When\n",
    "                [Case\n",
    "                    (Deposit\n",
    "                        (Address \"$BORROWER_ADDR\")\n",
    "                        (Address \"$BORROWER_ADDR\")\n",
    "                        (Token \"\" \"\")\n",
    "                        (AddValue\n",
    "                            (ConstantParam \"$INTEREST\")\n",
    "                            (ConstantParam \"$PRINCIPAL\")\n",
    "                        )\n",
    "                    )\n",
    "                    (Pay\n",
    "                        (Address \"$BORROWER_ADDR\")\n",
    "                        (Party (Address \"$LENDER_ADDR\"))\n",
    "                        (Token \"\" \"\")\n",
    "                        (AddValue\n",
    "                            (ConstantParam \"$INTEREST\")\n",
    "                            (ConstantParam \"$PRINCIPAL\")\n",
    "                        )\n",
    "                        Close \n",
    "                    )]\n",
    "                (TimeParam \"$BORROWER_DEADLINE\")\n",
    "                Close \n",
    "            )\n",
    "        )]\n",
    "    (TimeParam \"$LENDER_DEADLINE\")\n",
    "    Close \n",
    "```"
   ]
  },
  {
   "cell_type": "markdown",
   "id": "b94d119b-6a78-4972-83be-bede23021187",
   "metadata": {},
   "source": [
    "## Chuẩn bị\n",
    "\n",
    "Xem [Bài 0. Chuẩn bị](00-preliminaries.md) để biết thông tin về cách thiết lập môi trường của một người để sử dụng hướng dẫn này.\n",
    "\n",
    "Bài học giả định rằng các biến môi trường sau đây đã được thiết lập.\n",
    "- `CARDANO_NODE_SOCKET_PATH`: vị trí socket của node Cardano.\n",
    "- `CARDANO_TESTNET_MAGIC`: số magic testnet.\n",
    "\n",
    "Nó cũng giả định rằng các bên Bên cho vay và Bên vay có địa chỉ, khóa ký và tiền.\n",
    "- Người cho vay\n",
    "    - [keys/lender.address](keys/lender.address): Địa chỉ Cardano của người cho vay\n",
    "    - [keys/lender.skey](keys/lender.skey): vị trí ký tệp khóa cho bên cho vay\n",
    "- Người cho vay\n",
    "    - [keys/borrower.address](keys/borrower.address): Địa chỉ Cardano cho người vay\n",
    "    - [keys/borrower.skey](keys/borrower.skey): vị trí ký file key cho bên vay"
   ]
  },
  {
   "cell_type": "markdown",
   "id": "9fb26443-798a-4865-bd8e-21bbeee6522a",
   "metadata": {
    "tags": []
   },
   "source": [
    "### Truy cập vào node Cardano và Runtimes Marlowe​\n",
    "\n",
    "Nếu chúng ta đang sử dụng tiện ích mở rộng Cardano Marlowe Runtime của [demeter.run](https://demeter.run/), thì chúng ta đã có quyền truy cập vào Cardano Node và Marlowe Runtime. Các lệnh sau sẽ đặt các biến môi trường cần thiết để sử dụng triển khai docker cục bộ trên các cổng mặc định. Nó cũng sẽ thiết lập một số biến môi trường bổ sung."
   ]
  },
  {
   "cell_type": "code",
   "execution_count": 1,
   "id": "cd27279f-12aa-4d66-92a7-5eb1224b1d90",
   "metadata": {
    "tags": [],
    "vscode": {
     "languageId": "shellscript"
    }
   },
   "outputs": [
    {
     "name": "stdout",
     "output_type": "stream",
     "text": [
      "CARDANO_NODE_SOCKET_PATH = ~/.local/share/containers/storage/volumes/marlowe-starter-kit_shared/_data/node.socket\n",
      "CARDANO_TESTNET_MAGIC = 1\n"
     ]
    }
   ],
   "source": [
    "if [[ -z \"$CARDANO_NODE_SOCKET_PATH\" ]]\n",
    "then\n",
    "\n",
    "  # Only required for `marlowe-cli` and `cardano-cli`.\n",
    "  export CARDANO_NODE_SOCKET_PATH=\"$(docker volume inspect marlowe-starter-kit_shared | jq -r '.[0].Mountpoint')/node.socket\"\n",
    "  export CARDANO_TESTNET_MAGIC=1 # Note that preprod=1 and preview=2. Do not set this variable if using mainnet.\n",
    "\n",
    "fi\n",
    "\n",
    "# FIXME: This should have been inherited from the parent environment.\n",
    "if [[ -z \"$CARDANO_NODE_SOCKET_PATH\" ]]\n",
    "then\n",
    "  export CARDANO_NODE_SOCKET_PATH=/ipc/node.socket\n",
    "fi\n",
    "\n",
    "# FIXME: This should have been set in the parent environment.\n",
    "if [[ -z \"$CARDANO_TESTNET_MAGIC\" ]]\n",
    "then\n",
    "  export CARDANO_TESTNET_MAGIC=$CARDANO_NODE_MAGIC\n",
    "fi\n",
    "\n",
    "case \"$CARDANO_TESTNET_MAGIC\" in\n",
    "  1)\n",
    "    export \"EXPLORER_URL=https://preprod.cardanoscan.io\"\n",
    "    ;;\n",
    "  2)\n",
    "    export \"EXPLORER_URL=https://preview.cardanoscan.io\"\n",
    "    ;;\n",
    "  *)\n",
    "    # Use `mainnet` as the default.\n",
    "    export \"EXPLORER_URL=https://cardanoscan.io\"\n",
    "    ;;\n",
    "esac\n",
    "\n",
    "echo \"CARDANO_NODE_SOCKET_PATH = $CARDANO_NODE_SOCKET_PATH\"\n",
    "echo \"CARDANO_TESTNET_MAGIC = $CARDANO_TESTNET_MAGIC\""
   ]
  },
  {
   "cell_type": "markdown",
   "id": "ef8349f1-d164-4434-8c29-f19fd86201bc",
   "metadata": {
    "tags": []
   },
   "source": [
    "Lưu ý số magic mạng thử nghiệm:\n",
    "- `preprod` = 1\n",
    "- `preview` = 2"
   ]
  },
  {
   "cell_type": "markdown",
   "id": "6699e48f-cdb4-4532-9760-b080724142ef",
   "metadata": {
    "tags": [],
    "vscode": {
     "languageId": "shellscript"
    }
   },
   "source": [
    "### Địa chỉ và tiền của người cho vay​\n",
    "\n",
    "Kiểm tra xem địa chỉ và khóa đã được tạo cho người cho vay chưa. Nếu không, hãy xem phần \"Tạo địa chỉ và khóa ký\" trong [Lesson 0. Preliminaries](00-preliminaries.md)."
   ]
  },
  {
   "cell_type": "code",
   "execution_count": 2,
   "id": "c7def6b8-c617-4049-872f-4974755d0cb0",
   "metadata": {
    "tags": [],
    "vscode": {
     "languageId": "shellscript"
    }
   },
   "outputs": [
    {
     "name": "stdout",
     "output_type": "stream",
     "text": [
      "LENDER_ADDR = addr_test1vqd3yrtjyx49uld43lvwqaf7z4k03su8gf2x4yr7syzvckgfzm4ck\n"
     ]
    }
   ],
   "source": [
    "LENDER_SKEY=keys/lender.skey\n",
    "LENDER_ADDR=$(cat keys/lender.address)\n",
    "echo \"LENDER_ADDR = $LENDER_ADDR\""
   ]
  },
  {
   "cell_type": "markdown",
   "id": "31614d3b-10c1-4704-b49a-82aa924cba23",
   "metadata": {},
   "source": [
    "Kiểm tra xem người cho vay có ít nhất một trăm ADA không."
   ]
  },
  {
   "cell_type": "code",
   "execution_count": 3,
   "id": "111e60bf-a7c8-41f1-b729-15d1defd27df",
   "metadata": {
    "tags": [],
    "vscode": {
     "languageId": "shellscript"
    }
   },
   "outputs": [
    {
     "name": "stdout",
     "output_type": "stream",
     "text": [
      "                           TxHash                                 TxIx        Amount\n",
      "--------------------------------------------------------------------------------------\n",
      "ffb18377900e003285f9cf357f96b1691eac3e32a89916e6c49a35bd9a11cdf2     1        1000000000 lovelace + TxOutDatumNone\n"
     ]
    }
   ],
   "source": [
    "cardano-cli query utxo --testnet-magic \"$CARDANO_TESTNET_MAGIC\" --address \"$LENDER_ADDR\""
   ]
  },
  {
   "cell_type": "markdown",
   "id": "d1d47a97-8c70-47c8-9c80-90e6619ea37c",
   "metadata": {},
   "source": [
    "Người ta có thể xem địa chỉ trên Cardano explorer. Đôi khi phải mất ba mươi giây hoặc lâu hơn để giao dịch hiển thị trong explorer."
   ]
  },
  {
   "cell_type": "code",
   "execution_count": 4,
   "id": "d4eb8b9f-84a2-4fce-abec-8725dc67c46a",
   "metadata": {
    "tags": [],
    "vscode": {
     "languageId": "shellscript"
    }
   },
   "outputs": [
    {
     "name": "stdout",
     "output_type": "stream",
     "text": [
      "https://preprod.cardanoscan.io/address/addr_test1vqd3yrtjyx49uld43lvwqaf7z4k03su8gf2x4yr7syzvckgfzm4ck\n"
     ]
    }
   ],
   "source": [
    "echo \"$EXPLORER_URL\"/address/\"$LENDER_ADDR\""
   ]
  },
  {
   "cell_type": "markdown",
   "id": "7cb22b51-b719-429d-ab8c-ef43973905a7",
   "metadata": {
    "tags": [],
    "vscode": {
     "languageId": "shellscript"
    }
   },
   "source": [
    "### Địa chỉ và tiền của người vay\n",
    "\n",
    "Kiểm tra xem địa chỉ và khóa đã được tạo cho người mượn chưa. Nếu không, hãy xem phần \"Tạo địa chỉ và khóa ký\" trong [Lesson 0. Preliminaries](00-preliminaries.md)."
   ]
  },
  {
   "cell_type": "code",
   "execution_count": 5,
   "id": "b60f9abe-4956-4783-86cf-1827bd076dfe",
   "metadata": {
    "tags": [],
    "vscode": {
     "languageId": "shellscript"
    }
   },
   "outputs": [
    {
     "name": "stdout",
     "output_type": "stream",
     "text": [
      "BORROWER_ADDR = addr_test1vpy4n4peh4suv0y55yptur0066j5kds8r4ncnuzm0vpzfgg0dhz6d\n"
     ]
    }
   ],
   "source": [
    "BORROWER_SKEY=keys/borrower.skey\n",
    "BORROWER_ADDR=$(cat keys/borrower.address)\n",
    "echo \"BORROWER_ADDR = $BORROWER_ADDR\""
   ]
  },
  {
   "cell_type": "markdown",
   "id": "9d9e5126-619f-4f5b-b51b-d4b5c80b952f",
   "metadata": {},
   "source": [
    "Kiểm tra xem người vay có ít nhất một trăm ADA không."
   ]
  },
  {
   "cell_type": "code",
   "execution_count": 6,
   "id": "a4a8216e-c5d3-4706-8ab9-918252369263",
   "metadata": {
    "tags": [],
    "vscode": {
     "languageId": "shellscript"
    }
   },
   "outputs": [
    {
     "name": "stdout",
     "output_type": "stream",
     "text": [
      "                           TxHash                                 TxIx        Amount\n",
      "--------------------------------------------------------------------------------------\n",
      "ffb18377900e003285f9cf357f96b1691eac3e32a89916e6c49a35bd9a11cdf2     2        1000000000 lovelace + TxOutDatumNone\n"
     ]
    }
   ],
   "source": [
    "cardano-cli query utxo --testnet-magic \"$CARDANO_TESTNET_MAGIC\" --address \"$BORROWER_ADDR\""
   ]
  },
  {
   "cell_type": "markdown",
   "id": "038e042c-2638-415c-ad7b-de390a82416b",
   "metadata": {},
   "source": [
    "Người ta có thể xem địa chỉ trên Cardano explorer. Đôi khi phải mất ba mươi giây hoặc lâu hơn để giao dịch hiển thị trong explorer."
   ]
  },
  {
   "cell_type": "code",
   "execution_count": 7,
   "id": "3455b47d-45f9-4d31-aebe-ab0ea7b36aa9",
   "metadata": {
    "tags": [],
    "vscode": {
     "languageId": "shellscript"
    }
   },
   "outputs": [
    {
     "name": "stdout",
     "output_type": "stream",
     "text": [
      "https://preprod.cardanoscan.io/address/addr_test1vpy4n4peh4suv0y55yptur0066j5kds8r4ncnuzm0vpzfgg0dhz6d\n"
     ]
    }
   ],
   "source": [
    "echo \"$EXPLORER_URL\"/address/\"$BORROWER_ADDR\""
   ]
  },
  {
   "cell_type": "markdown",
   "id": "b0f231be-b01f-4b30-a086-a3371eda42a3",
   "metadata": {},
   "source": [
    "## Thiết kế hợp đồng\n",
    "\n",
    "Bạn có thể tải xuống hợp đồng trái phiếu không nhận phiếu thưởng từ [Marlowe Playground](https://play.marlowe-finance.io/) dưới dạng tệp JSON hoặc có thể tạo bằng cách sử dụng Marlowe CLI [Marlowe CLI](https://github.com/input-output-hk/marlowe-cardano/tree/main/marlowe-cli#readme) bằng cách sử dụng lệnh `marlowe-cli template`.\n",
    "\n",
    "Đặt tiền gốc của khoản vay là 80 ADA và INTEREST là 5 ADA."
   ]
  },
  {
   "cell_type": "code",
   "execution_count": 8,
   "id": "4c959ebc-7c73-49ef-a1f9-a32771cc9ec9",
   "metadata": {
    "vscode": {
     "languageId": "shellscript"
    }
   },
   "outputs": [
    {
     "name": "stdout",
     "output_type": "stream",
     "text": [
      "PRINCIPAL = 80000000 lovelace\n",
      "INTEREST = 5000000 lovelace\n"
     ]
    }
   ],
   "source": [
    "ADA=1000000  # 1 ada = 1,000,000 lovelace\n",
    "\n",
    "PRINCIPAL=$((80 * ADA))\n",
    "INTEREST=$((5 * ADA))\n",
    "\n",
    "echo \"PRINCIPAL = $PRINCIPAL lovelace\"\n",
    "echo \"INTEREST = $INTEREST lovelace\""
   ]
  },
  {
   "cell_type": "markdown",
   "id": "ca6f1da3-5a16-4dc4-a310-90812c4936b6",
   "metadata": {},
   "source": [
    "Trên blockchain Cardano, các tham số giao thức yêu cầu mỗi UTxO chứa ít nhất một số ADA. Ở đây chúng ta sẽ bắt đầu hợp đồng với 2 ADA."
   ]
  },
  {
   "cell_type": "code",
   "execution_count": 9,
   "id": "aa229f08-6907-4f7b-b458-5fd18e0b9596",
   "metadata": {
    "vscode": {
     "languageId": "shellscript"
    }
   },
   "outputs": [
    {
     "name": "stdout",
     "output_type": "stream",
     "text": [
      "MIN_LOVELACE = 2000000 lovelace\n"
     ]
    }
   ],
   "source": [
    "MIN_LOVELACE=\"$((2 * ADA))\"\n",
    "echo \"MIN_LOVELACE = $MIN_LOVELACE lovelace\""
   ]
  },
  {
   "cell_type": "markdown",
   "id": "5a65904b-e1eb-4185-a973-dd1ba3a3e93a",
   "metadata": {},
   "source": [
    "Ở phần sau của ví dụ, chúng ta sẽ cần một số hằng số để chuyển đổi thời gian."
   ]
  },
  {
   "cell_type": "code",
   "execution_count": 10,
   "id": "30ec2929-27e1-4ae7-8ee0-82e710f15b6c",
   "metadata": {
    "vscode": {
     "languageId": "shellscript"
    }
   },
   "outputs": [
    {
     "name": "stdout",
     "output_type": "stream",
     "text": [
      "NOW = 1679661079000 POSIX milliseconds = Fri Mar 24 06:31:19 AM MDT 2023\n"
     ]
    }
   ],
   "source": [
    "SECOND=1000 # 1 second = 1000 milliseconds\n",
    "MINUTE=$((60 * SECOND)) # 1 minute = 60 seconds\n",
    "HOUR=$((60 * MINUTE)) # 1 hour = 60 minutes\n",
    "\n",
    "NOW=\"$((`date -u +%s` * SECOND))\"\n",
    "echo NOW = \"$NOW\" POSIX milliseconds = \"`date -d @$((NOW / SECOND))`\""
   ]
  },
  {
   "cell_type": "markdown",
   "id": "4806318e-46e9-4c17-88b7-966098d25771",
   "metadata": {},
   "source": [
    "Hợp đồng có thời hạn cho vay và thời hạn trả nợ. Để thuận tiện trong ví dụ này, hãy đặt thời hạn cho tương lai gần."
   ]
  },
  {
   "cell_type": "code",
   "execution_count": 11,
   "id": "2ac3ad1d-060f-4ff5-b055-c96011f724a0",
   "metadata": {
    "vscode": {
     "languageId": "shellscript"
    }
   },
   "outputs": [
    {
     "name": "stdout",
     "output_type": "stream",
     "text": [
      "LENDER_DEADLINE = 1679664679000 POSIX milliseconds = Fri Mar 24 07:31:19 AM MDT 2023\n",
      "BORROWER_DEADLINE = 1679671879000 POSIX milliseconds = Fri Mar 24 09:31:19 AM MDT 2023\n"
     ]
    }
   ],
   "source": [
    "LENDER_DEADLINE=\"$((NOW + 1 * HOUR))\"\n",
    "BORROWER_DEADLINE=\"$((NOW + 3 * HOUR))\"\n",
    "echo LENDER_DEADLINE = \"$LENDER_DEADLINE\" POSIX milliseconds = \"`date -d @$((LENDER_DEADLINE / SECOND))`\"\n",
    "echo BORROWER_DEADLINE = \"$BORROWER_DEADLINE\" POSIX milliseconds = \"`date -d @$((BORROWER_DEADLINE / SECOND))`\""
   ]
  },
  {
   "cell_type": "markdown",
   "id": "56db086f-bba1-40ba-94a3-aa9a7f9a3e45",
   "metadata": {},
   "source": [
    "Bây giờ hãy tạo tệp JSON cho hợp đồng, `zcb-contract.json`."
   ]
  },
  {
   "cell_type": "code",
   "execution_count": 12,
   "id": "5b4b87af-265c-4d2c-bfe3-281614311fa8",
   "metadata": {
    "vscode": {
     "languageId": "shellscript"
    }
   },
   "outputs": [],
   "source": [
    "marlowe-cli template zcb \\\n",
    "  --minimum-ada \"$MIN_LOVELACE\" \\\n",
    "  --lender \"$LENDER_ADDR\" \\\n",
    "  --borrower \"$BORROWER_ADDR\" \\\n",
    "  --principal \"$PRINCIPAL\" \\\n",
    "  --interest \"$INTEREST\" \\\n",
    "  --lending-deadline \"$LENDER_DEADLINE\" \\\n",
    "  --repayment-deadline \"$BORROWER_DEADLINE\" \\\n",
    "  --out-contract-file zcb-contract.json \\\n",
    "  --out-state-file zcb-state.json"
   ]
  },
  {
   "cell_type": "markdown",
   "id": "29c63a36-8cd9-4ee4-893c-f77a2ea15a4a",
   "metadata": {},
   "source": [
    "Các tùy chọn dòng lệnh khác nhau được mô tả bởi hệ thống trợ giúp."
   ]
  },
  {
   "cell_type": "code",
   "execution_count": 13,
   "id": "36d8e09d-b426-4889-91f8-3a6842f9727b",
   "metadata": {
    "tags": [],
    "vscode": {
     "languageId": "shellscript"
    }
   },
   "outputs": [
    {
     "name": "stdout",
     "output_type": "stream",
     "text": [
      "Usage: marlowe-cli template zcb --minimum-ada INTEGER --lender PARTY\n",
      "                                --borrower PARTY --principal INTEGER\n",
      "                                --interest INTEGER --lending-deadline TIMEOUT\n",
      "                                --repayment-deadline TIMEOUT\n",
      "\n",
      "  Create a zero-coupon bond.\n",
      "\n",
      "Available options:\n",
      "  --minimum-ada INTEGER    Lovelace that the lender contributes to the initial\n",
      "                           state.\n",
      "  --lender PARTY           The lender.\n",
      "  --borrower PARTY         The borrower.\n",
      "  --principal INTEGER      The principal, in lovelace.\n",
      "  --interest INTEGER       The interest, in lovelace.\n",
      "  --lending-deadline TIMEOUT\n",
      "                           The lending deadline. POSIX milliseconds or duration:\n",
      "                           `INTEGER[s|m|d|w|h]`.\n",
      "  --repayment-deadline TIMEOUT\n",
      "                           The repayment deadline. POSIX milliseconds or\n",
      "                           duration: `INTEGER[s|m|d|w|h]`.\n",
      "  -h,--help                Show this help text\n"
     ]
    }
   ],
   "source": [
    "marlowe-cli template zcb --help"
   ]
  },
  {
   "cell_type": "markdown",
   "id": "a1f0813f-86ae-4209-9a78-cd533fca9857",
   "metadata": {},
   "source": [
    "## Kiểm tra hợp đồng\n",
    "\n",
    "Xem tệp hợp đồng dưới dạng YAML."
   ]
  },
  {
   "cell_type": "code",
   "execution_count": 14,
   "id": "112824a7-635f-4134-b133-a20e63660b35",
   "metadata": {
    "vscode": {
     "languageId": "shellscript"
    }
   },
   "outputs": [
    {
     "name": "stdout",
     "output_type": "stream",
     "text": [
      "timeout: 1679664679000\n",
      "timeout_continuation: close\n",
      "when:\n",
      "- case:\n",
      "    deposits: 80000000\n",
      "    into_account:\n",
      "      address: addr_test1vqd3yrtjyx49uld43lvwqaf7z4k03su8gf2x4yr7syzvckgfzm4ck\n",
      "    of_token:\n",
      "      currency_symbol: ''\n",
      "      token_name: ''\n",
      "    party:\n",
      "      address: addr_test1vqd3yrtjyx49uld43lvwqaf7z4k03su8gf2x4yr7syzvckgfzm4ck\n",
      "  then:\n",
      "    from_account:\n",
      "      address: addr_test1vqd3yrtjyx49uld43lvwqaf7z4k03su8gf2x4yr7syzvckgfzm4ck\n",
      "    pay: 80000000\n",
      "    then:\n",
      "      timeout: 1679671879000\n",
      "      timeout_continuation: close\n",
      "      when:\n",
      "      - case:\n",
      "          deposits:\n",
      "            add: 80000000\n",
      "            and: 5000000\n",
      "          into_account:\n",
      "            address: addr_test1vpy4n4peh4suv0y55yptur0066j5kds8r4ncnuzm0vpzfgg0dhz6d\n",
      "          of_token:\n",
      "            currency_symbol: ''\n",
      "            token_name: ''\n",
      "          party:\n",
      "            address: addr_test1vpy4n4peh4suv0y55yptur0066j5kds8r4ncnuzm0vpzfgg0dhz6d\n",
      "        then:\n",
      "          from_account:\n",
      "            address: addr_test1vpy4n4peh4suv0y55yptur0066j5kds8r4ncnuzm0vpzfgg0dhz6d\n",
      "          pay:\n",
      "            add: 80000000\n",
      "            and: 5000000\n",
      "          then: close\n",
      "          to:\n",
      "            party:\n",
      "              address: addr_test1vqd3yrtjyx49uld43lvwqaf7z4k03su8gf2x4yr7syzvckgfzm4ck\n",
      "          token:\n",
      "            currency_symbol: ''\n",
      "            token_name: ''\n",
      "    to:\n",
      "      party:\n",
      "        address: addr_test1vpy4n4peh4suv0y55yptur0066j5kds8r4ncnuzm0vpzfgg0dhz6d\n",
      "    token:\n",
      "      currency_symbol: ''\n",
      "      token_name: ''\n"
     ]
    }
   ],
   "source": [
    "json2yaml zcb-contract.json"
   ]
  },
  {
   "cell_type": "markdown",
   "id": "00f357bf-ebf0-4459-adb9-32c5a1140759",
   "metadata": {},
   "source": [
    "### \\[Không bắt buộc, nhưng nên dùng\\] Kiểm tra độ an toàn của hợp đồng\n",
    "\n",
    "Nếu chúng ta đang chạy hợp đồng trên Cardano `mainnet`, thì chúng ta muốn kiểm tra tính an toàn của nó trước khi tạo nó, để không có khả năng chúng ta có thể mất tiền.\n",
    "\n",
    "Dưới đây là các bước để kiểm tra mức độ an toàn của hợp đồng:\n",
    "\n",
    "1. Hiểu [Ngôn ngữ Marlowe](https://marlowe-finance.io/).\n",
    "2. Hiểu [Mô hình UTxO mở rộng](https://docs.cardano.org/learn/eutxo-explainer) của Cardano.\n",
    "3. Đọc và hiểu [Hướng dẫn về các phương pháp hay nhất của Marlowe](https://github.com/input-output-hk/marlowe-cardano/blob/main/marlowe/best-practices.md).\n",
    "4. Đọc và hiểu [Hướng dẫn bảo mật của Marlowe](https://github.com/input-output-hk/marlowe-cardano/blob/main/marlowe/security.md).\n",
    "5. Sử dụng [Marlowe Playground](https://play.marlowe-finance.io/) để gắn cờ cảnh báo, thực hiện phân tích tĩnh và mô phỏng hợp đồng.\n",
    "6. Sử dụng [Marlowe CLI\\'s](https://github.com/input-output-hk/marlowe-cardano/blob/main/marlowe-cli/ReadMe.md) `marlowe-cli run analyze` công cụ để nghiên cứu xem hợp đồng có thể chạy trên mạng Cardano hay không.\n",
    "7. Chạy *tất cả đường dẫn thực thi* của hợp đồng trên [Cardano testnet](https://docs.cardano.org/cardano-testnet/overview).\n",
    "\n",
    "Xem [Bài 1](01-runtime-cli.ipynb) để biết ví dụ về cách thực hiện bước 6."
   ]
  },
  {
   "cell_type": "markdown",
   "id": "fcbdcc02-7ffe-46a4-8732-10a3e7b93865",
   "metadata": {},
   "source": [
    "## Giao dịch 1. Tạo Hợp đồng"
   ]
  },
  {
   "cell_type": "markdown",
   "id": "6fad0f1b-a918-4c56-867e-29600be217f4",
   "metadata": {},
   "source": [
    "Lệnh của Marlowe CLI\\ `marlowe-cli run initialize` sẽ tạo thông tin tạo cho hợp đồng Marlowe. Chúng ta cung cấp cho nó các tệp JSON chứa hợp đồng và trạng thái ban đầu. Bất kỳ ai cũng có thể tạo hợp đồng, nhưng trong ví dụ này, người cho vay sẽ làm như vậy, vì vậy chúng ta cung cấp địa chỉ của họ để tài trợ cho giao dịch và nhận tiền thay đổi từ đó."
   ]
  },
  {
   "cell_type": "code",
   "execution_count": 15,
   "id": "87672246-de07-4356-8cee-3692eeb36572",
   "metadata": {
    "tags": [],
    "vscode": {
     "languageId": "shellscript"
    }
   },
   "outputs": [
    {
     "name": "stdout",
     "output_type": "stream",
     "text": [
      "Usage: marlowe-cli run initialize [--testnet-magic INTEGER] \n",
      "                                  [--socket-path SOCKET_FILE] \n",
      "                                  [--stake-address ADDRESS] \n",
      "                                  [--roles-currency CURRENCY_SYMBOL]\n",
      "                                  --contract-file CONTRACT_FILE\n",
      "                                  --state-file STATE_FILE \n",
      "                                  [--at-address ADDRESS | \n",
      "                                    --permanently STAKING_ADDRESS | \n",
      "                                    --permanently-without-staking] \n",
      "                                  [--out-file OUTPUT_FILE] [--merkleize] \n",
      "                                  [--print-stats]\n",
      "\n",
      "  Initialize the first transaction of a Marlowe contract and write output to a\n",
      "  JSON file.\n",
      "\n",
      "Available options:\n",
      "  --testnet-magic INTEGER  Network magic. Defaults to the CARDANO_TESTNET_MAGIC\n",
      "                           environment variable's value.\n",
      "  --socket-path SOCKET_FILE\n",
      "                           Location of the cardano-node socket file. Defaults to\n",
      "                           the CARDANO_NODE_SOCKET_PATH environment variable's\n",
      "                           value.\n",
      "  --stake-address ADDRESS  Stake address, if any.\n",
      "  --roles-currency CURRENCY_SYMBOL\n",
      "                           The currency symbol for roles, if any.\n",
      "  --contract-file CONTRACT_FILE\n",
      "                           JSON input file for the contract.\n",
      "  --state-file STATE_FILE  JSON input file for the contract state.\n",
      "  --at-address ADDRESS     Publish script at a given address. This is a default\n",
      "                           strategy which uses change address as a destination.\n",
      "  --permanently STAKING_ADDRESS\n",
      "                           Publish permanently at unspendable script address\n",
      "                           staking the min. ADA value.\n",
      "  --permanently-without-staking\n",
      "                           Publish permanently at unspendable script address\n",
      "                           without min. ADA staking.\n",
      "  --out-file OUTPUT_FILE   JSON output file for initialize.\n",
      "  --merkleize              Whether to deeply merkleize the contract.\n",
      "  --print-stats            Print statistics.\n",
      "  -h,--help                Show this help text\n"
     ]
    }
   ],
   "source": [
    "marlowe-cli run initialize --help"
   ]
  },
  {
   "cell_type": "code",
   "execution_count": 16,
   "id": "2053db7a-3244-4d30-a9e9-f5f1eb28ab45",
   "metadata": {
    "tags": [],
    "vscode": {
     "languageId": "shellscript"
    }
   },
   "outputs": [],
   "source": [
    "marlowe-cli run initialize \\\n",
    "  --permanently-without-staking \\\n",
    "  --contract-file zcb-contract.json \\\n",
    "  --state-file zcb-state.json \\\n",
    "  --out-file marlowe-1.json"
   ]
  },
  {
   "cell_type": "markdown",
   "id": "e8388b9b-b207-4925-9b98-f0803d84f882",
   "metadata": {},
   "source": [
    "Bây giờ, chúng ta sử dụng lệnh `marlowe-cli run auto-execute` của Marlowe CLI\\ để xây dựng và gửi giao dịch tạo.\n",
    "\n"
   ]
  },
  {
   "cell_type": "code",
   "execution_count": 17,
   "id": "06807391-74dc-49e1-b110-df167f88bb3b",
   "metadata": {
    "tags": [],
    "vscode": {
     "languageId": "shellscript"
    }
   },
   "outputs": [
    {
     "name": "stdout",
     "output_type": "stream",
     "text": [
      "Usage: marlowe-cli run auto-execute \n",
      "         [--testnet-magic INTEGER] [--socket-path SOCKET_FILE] \n",
      "         [--marlowe-in-file MARLOWE_FILE --tx-in-marlowe TXID#TXIX]\n",
      "         --marlowe-out-file MARLOWE_FILE --change-address ADDRESS\n",
      "         (--required-signer SIGNING_FILE) [--metadata-file METADATA_FILE]\n",
      "         --out-file FILE [--submit SECONDS] [--print-stats] [--script-invalid]\n",
      "\n",
      "  [EXPERIMENTAL] Run a Marlowe transaction, selecting transaction inputs and\n",
      "  outputs automatically.\n",
      "\n",
      "Available options:\n",
      "  --testnet-magic INTEGER  Network magic. Defaults to the CARDANO_TESTNET_MAGIC\n",
      "                           environment variable's value.\n",
      "  --socket-path SOCKET_FILE\n",
      "                           Location of the cardano-node socket file. Defaults to\n",
      "                           the CARDANO_NODE_SOCKET_PATH environment variable's\n",
      "                           value.\n",
      "  --marlowe-in-file MARLOWE_FILE\n",
      "                           JSON file with the Marlowe initial state and initial\n",
      "                           contract, if any.\n",
      "  --tx-in-marlowe TXID#TXIX\n",
      "                           UTxO spent from Marlowe contract, if any.\n",
      "  --marlowe-out-file MARLOWE_FILE\n",
      "                           JSON file with the Marlowe inputs, final state, and\n",
      "                           final contract.\n",
      "  --change-address ADDRESS Address to receive ADA in excess of fee.\n",
      "  --required-signer SIGNING_FILE\n",
      "                           File containing a required signing key.\n",
      "  --metadata-file METADATA_FILE\n",
      "                           JSON file containing metadata.\n",
      "  --out-file FILE          Output file for transaction body.\n",
      "  --submit SECONDS         Also submit the transaction, and wait for\n",
      "                           confirmation.\n",
      "  --print-stats            Print statistics.\n",
      "  --script-invalid         Assert that the transaction is invalid.\n",
      "  -h,--help                Show this help text\n"
     ]
    }
   ],
   "source": [
    "marlowe-cli run auto-execute --help"
   ]
  },
  {
   "cell_type": "code",
   "execution_count": 18,
   "id": "c856072c-e31a-4363-8291-ef96292caedc",
   "metadata": {
    "tags": [],
    "vscode": {
     "languageId": "shellscript"
    }
   },
   "outputs": [
    {
     "name": "stdout",
     "output_type": "stream",
     "text": [
      "\n",
      "Fee: Lovelace 212185\n",
      "Size: 941 / 16384 = 5%\n",
      "Execution units:\n",
      "  Memory: 0 / 14000000 = 0%\n",
      "  Steps: 0 / 10000000000 = 0%\n",
      "TX_1 = f36feb37473ec171d9a79553b9a7f729b78076e97be20f54aaca88094a1752d5\n"
     ]
    }
   ],
   "source": [
    "TX_1=$(\n",
    "marlowe-cli run auto-execute \\\n",
    "  --marlowe-out-file marlowe-1.json \\\n",
    "  --change-address \"$LENDER_ADDR\" \\\n",
    "  --required-signer \"$LENDER_SKEY\" \\\n",
    "  --out-file tx-1.signed \\\n",
    "  --submit 600 \\\n",
    "  --print-stats \\\n",
    "| sed -e 's/^TxId \"\\(.*\\)\"$/\\1/' \\\n",
    ")\n",
    "echo \"TX_1 = $TX_1\""
   ]
  },
  {
   "cell_type": "markdown",
   "id": "aa349a31-4e44-42c9-8c3d-e910f195325d",
   "metadata": {},
   "source": [
    "Người ta có thể xem giao dịch trên Cardano explorer. Đôi khi phải mất ba mươi giây hoặc lâu hơn để giao dịch hiển thị trong explorer."
   ]
  },
  {
   "cell_type": "code",
   "execution_count": 19,
   "id": "72115506-5bfd-480f-b3f0-47520dca84c1",
   "metadata": {
    "vscode": {
     "languageId": "shellscript"
    }
   },
   "outputs": [
    {
     "name": "stdout",
     "output_type": "stream",
     "text": [
      "https://preprod.cardanoscan.io/transaction/f36feb37473ec171d9a79553b9a7f729b78076e97be20f54aaca88094a1752d5?tab=utxo\n"
     ]
    }
   ],
   "source": [
    "echo \"$EXPLORER_URL\"/transaction/\"$TX_1?tab=utxo\""
   ]
  },
  {
   "cell_type": "markdown",
   "id": "3b3dae70-a556-4621-bab9-fd92b9f165eb",
   "metadata": {},
   "source": [
    "Người ta cũng có thể kiểm tra UTxO của hợp đồng bằng cách sử dụng `cardano-cli`."
   ]
  },
  {
   "cell_type": "code",
   "execution_count": 20,
   "id": "c4af1000-9220-4f31-92e8-ee5eb405df0b",
   "metadata": {
    "vscode": {
     "languageId": "shellscript"
    }
   },
   "outputs": [
    {
     "name": "stdout",
     "output_type": "stream",
     "text": [
      "                           TxHash                                 TxIx        Amount\n",
      "--------------------------------------------------------------------------------------\n",
      "f36feb37473ec171d9a79553b9a7f729b78076e97be20f54aaca88094a1752d5     1        2000000 lovelace + TxOutDatumHash ScriptDataInBabbageEra \"c4bf1737c9a1f88ae66c9d00d66d54d201c2c932ab13767889758ba28c8f5f19\"\n"
     ]
    }
   ],
   "source": [
    "cardano-cli query utxo --testnet-magic \"$CARDANO_TESTNET_MAGIC\" --tx-in \"$TX_1#1\""
   ]
  },
  {
   "cell_type": "markdown",
   "id": "cd4fa3da-0f75-4b96-a911-0ba5bea722f8",
   "metadata": {},
   "source": [
    "## Giao dịch 2. Người cho vay gửi tiền gốc\n",
    "\n",
    "Người cho vay gửi 80 ADA tiền gốc của họ vào hợp đồng bằng cách sử dụng lệnh `marlowe-cli run` chuẩn bị của Marlowe CLI\\. Người cho vay đang cung cấp vốn cho và nhận tiền thay đổi từ giao dịch này, vì vậy chúng ta cung cấp địa chỉ của họ."
   ]
  },
  {
   "cell_type": "code",
   "execution_count": 21,
   "id": "bf42d7d0-be81-42a1-8da7-5ff07b9611ee",
   "metadata": {
    "tags": [],
    "vscode": {
     "languageId": "shellscript"
    }
   },
   "outputs": [
    {
     "name": "stdout",
     "output_type": "stream",
     "text": [
      "Usage: marlowe-cli run prepare --marlowe-file MARLOWE_FILE \n",
      "                               [--deposit-account PARTY --deposit-party PARTY \n",
      "                                 [--deposit-token TOKEN]\n",
      "                                 --deposit-amount INTEGER |\n",
      "                                 --choice-name NAME --choice-party PARTY\n",
      "                                 --choice-number INTEGER |\n",
      "                                 --notify] --invalid-before POSIX_TIME\n",
      "                               --invalid-hereafter POSIX_TIME \n",
      "                               [--out-file OUTPUT_FILE] [--print-stats]\n",
      "\n",
      "  Prepare the next step of a Marlowe contract and write the output to a JSON\n",
      "  file.\n",
      "\n",
      "Available options:\n",
      "  --marlowe-file MARLOWE_FILE\n",
      "                           JSON input file for the Marlowe state and contract.\n",
      "  --deposit-account PARTY  The account for the deposit.\n",
      "  --deposit-party PARTY    The party making the deposit.\n",
      "  --deposit-token TOKEN    The token being deposited, if not Ada.\n",
      "  --deposit-amount INTEGER The amount of token being deposited.\n",
      "  --choice-name NAME       The name of the choice made.\n",
      "  --choice-party PARTY     The party making the choice.\n",
      "  --choice-number INTEGER  The number chosen.\n",
      "  --notify                 Notify the contract.\n",
      "  --invalid-before POSIX_TIME\n",
      "                           Minimum time for the input, in POSIX milliseconds.\n",
      "  --invalid-hereafter POSIX_TIME\n",
      "                           Maximum time for the input, in POSIX milliseconds.\n",
      "  --out-file OUTPUT_FILE   JSON output file for contract.\n",
      "  --print-stats            Print statistics.\n",
      "  -h,--help                Show this help text\n"
     ]
    }
   ],
   "source": [
    "marlowe-cli run prepare --help"
   ]
  },
  {
   "cell_type": "code",
   "execution_count": 22,
   "id": "d2fac183-6fbd-4d0a-80a4-6045a20a8f2d",
   "metadata": {
    "tags": [],
    "vscode": {
     "languageId": "shellscript"
    }
   },
   "outputs": [
    {
     "name": "stdout",
     "output_type": "stream",
     "text": [
      "Rounding  `TransactionInput` txInterval boundries to:(POSIXTime {getPOSIXTime = 1679661371000},POSIXTime {getPOSIXTime = 1679661731999})\n",
      "TransactionInput {txInterval = (POSIXTime {getPOSIXTime = 1679661371000},POSIXTime {getPOSIXTime = 1679661731999}), txInputs = [NormalInput (IDeposit \"\\\"addr_test1vqd3yrtjyx49uld43lvwqaf7z4k03su8gf2x4yr7syzvckgfzm4ck\\\"\" \"\\\"addr_test1vqd3yrtjyx49uld43lvwqaf7z4k03su8gf2x4yr7syzvckgfzm4ck\\\"\" (Token \"\" \"\") 80000000)]}\n",
      "Payment 1\n",
      "  Acccount: \"\\\"addr_test1vqd3yrtjyx49uld43lvwqaf7z4k03su8gf2x4yr7syzvckgfzm4ck\\\"\"\n",
      "  Payee: Party \"\\\"addr_test1vpy4n4peh4suv0y55yptur0066j5kds8r4ncnuzm0vpzfgg0dhz6d\\\"\"\n",
      "  Ada: Lovelace {getLovelace = 80000000}\n"
     ]
    }
   ],
   "source": [
    "marlowe-cli run prepare \\\n",
    "  --deposit-account \"$LENDER_ADDR\" \\\n",
    "  --deposit-party \"$LENDER_ADDR\" \\\n",
    "  --deposit-amount \"$PRINCIPAL\" \\\n",
    "  --invalid-before \"$((`date -u +%s` * SECOND - 1 * MINUTE))\" \\\n",
    "  --invalid-hereafter \"$((`date -u +%s` * SECOND + 5 * MINUTE))\" \\\n",
    "  --marlowe-file marlowe-1.json \\\n",
    "  --out-file marlowe-2.json"
   ]
  },
  {
   "cell_type": "markdown",
   "id": "877807a1-7e62-4258-8d3c-b82664821dc9",
   "metadata": {},
   "source": [
    "Một lần nữa, hãy sử dụng `marlowe-cli run auto-execute` để tạo và gửi giao dịch rồi đợi xác nhận."
   ]
  },
  {
   "cell_type": "code",
   "execution_count": 23,
   "id": "2e821767-d465-4051-96b6-f1128ec9cffc",
   "metadata": {
    "tags": [],
    "vscode": {
     "languageId": "shellscript"
    }
   },
   "outputs": [
    {
     "name": "stdout",
     "output_type": "stream",
     "text": [
      "\n",
      "Fee: Lovelace 758511\n",
      "Size: 1570 / 16384 = 9%\n",
      "Execution units:\n",
      "  Memory: 6730260 / 14000000 = 48%\n",
      "  Steps: 1806177146 / 10000000000 = 18%\n",
      "TX_2 = 017c068bf76aba6ef57b6b5aab592cd9d861c4903e100794ca7451d16c701a02\n"
     ]
    }
   ],
   "source": [
    "TX_2=$(\n",
    "marlowe-cli run auto-execute \\\n",
    "  --tx-in-marlowe \"$TX_1#1\" \\\n",
    "  --marlowe-in-file marlowe-1.json \\\n",
    "  --marlowe-out-file marlowe-2.json \\\n",
    "  --change-address \"$LENDER_ADDR\" \\\n",
    "  --required-signer \"$LENDER_SKEY\" \\\n",
    "  --out-file tx-2.signed \\\n",
    "  --submit 600 \\\n",
    "  --print-stats \\\n",
    "| sed -e 's/^TxId \"\\(.*\\)\"$/\\1/' \\\n",
    ")\n",
    "echo \"TX_2 = $TX_2\""
   ]
  },
  {
   "cell_type": "markdown",
   "id": "eed6b35f-7aa9-4266-98d2-ac7320ccaf69",
   "metadata": {},
   "source": [
    "Người ta có thể xem giao dịch trên Cardano explorer. Đôi khi phải mất ba mươi giây hoặc lâu hơn để giao dịch hiển thị trong explorer."
   ]
  },
  {
   "cell_type": "code",
   "execution_count": 24,
   "id": "bb813544-092a-4831-bff5-5ea7ce8a9259",
   "metadata": {
    "vscode": {
     "languageId": "shellscript"
    }
   },
   "outputs": [
    {
     "name": "stdout",
     "output_type": "stream",
     "text": [
      "https://preprod.cardanoscan.io/transaction/017c068bf76aba6ef57b6b5aab592cd9d861c4903e100794ca7451d16c701a02?tab=utxo\n"
     ]
    }
   ],
   "source": [
    "echo \"$EXPLORER_URL\"/transaction/\"$TX_2?tab=utxo\""
   ]
  },
  {
   "cell_type": "markdown",
   "id": "44cd316b-d4db-4d2b-87a7-eb38b95f5fb3",
   "metadata": {},
   "source": [
    "Người ta có thể thấy rằng người cho vay có ít hơn 82 ADA so với ban đầu. Hai ADA đã được gửi vào hợp đồng khi nó được tạo ra và 80 ADA đã được trả cho người vay trong giao dịch thứ hai."
   ]
  },
  {
   "cell_type": "code",
   "execution_count": 25,
   "id": "b45dc15d-f54f-49cb-a36d-0524f47fd70e",
   "metadata": {
    "vscode": {
     "languageId": "shellscript"
    }
   },
   "outputs": [
    {
     "name": "stdout",
     "output_type": "stream",
     "text": [
      "                           TxHash                                 TxIx        Amount\n",
      "--------------------------------------------------------------------------------------\n",
      "017c068bf76aba6ef57b6b5aab592cd9d861c4903e100794ca7451d16c701a02     0        917029304 lovelace + TxOutDatumNone\n"
     ]
    }
   ],
   "source": [
    "cardano-cli query utxo --testnet-magic \"$CARDANO_TESTNET_MAGIC\" --address \"$LENDER_ADDR\""
   ]
  },
  {
   "cell_type": "markdown",
   "id": "8538b320-c3d6-45cb-88f7-aab77f77b78b",
   "metadata": {},
   "source": [
    "Người vay hiện có thêm 80 ADA (tiền gốc của khoản vay)."
   ]
  },
  {
   "cell_type": "code",
   "execution_count": 26,
   "id": "304baf28-2a07-4ca7-8576-c10c8a960fcd",
   "metadata": {
    "vscode": {
     "languageId": "shellscript"
    }
   },
   "outputs": [
    {
     "name": "stdout",
     "output_type": "stream",
     "text": [
      "                           TxHash                                 TxIx        Amount\n",
      "--------------------------------------------------------------------------------------\n",
      "017c068bf76aba6ef57b6b5aab592cd9d861c4903e100794ca7451d16c701a02     2        80000000 lovelace + TxOutDatumNone\n",
      "ffb18377900e003285f9cf357f96b1691eac3e32a89916e6c49a35bd9a11cdf2     2        1000000000 lovelace + TxOutDatumNone\n"
     ]
    }
   ],
   "source": [
    "cardano-cli query utxo --testnet-magic \"$CARDANO_TESTNET_MAGIC\" --address \"$BORROWER_ADDR\""
   ]
  },
  {
   "cell_type": "markdown",
   "id": "369f3945-299b-41dd-9cbf-f3864002b6aa",
   "metadata": {},
   "source": [
    "Hợp đồng Marlowe vẫn có 2 ADA từ khi tạo ra nó."
   ]
  },
  {
   "cell_type": "code",
   "execution_count": 27,
   "id": "6485d605-dec4-4bab-86f6-81bf002041ed",
   "metadata": {
    "vscode": {
     "languageId": "shellscript"
    }
   },
   "outputs": [
    {
     "name": "stdout",
     "output_type": "stream",
     "text": [
      "                           TxHash                                 TxIx        Amount\n",
      "--------------------------------------------------------------------------------------\n",
      "017c068bf76aba6ef57b6b5aab592cd9d861c4903e100794ca7451d16c701a02     1        2000000 lovelace + TxOutDatumHash ScriptDataInBabbageEra \"49f4b85150d30d1b9a1cd06dacf45dbabcf0719a34f5286a03c7c52760880c2e\"\n"
     ]
    }
   ],
   "source": [
    "cardano-cli query utxo --testnet-magic \"$CARDANO_TESTNET_MAGIC\" --tx-in \"$TX_2#1\""
   ]
  },
  {
   "cell_type": "markdown",
   "id": "e7c652f6-02da-4786-a54d-755d59e4aba9",
   "metadata": {},
   "source": [
    "## Giao dịch 3. Người vay hoàn trả khoản vay\n",
    "\n",
    "Sau một thời gian, người vay trả lại tiền gốc cộng với tiền lãi. Vì vậy, họ tài trợ cho giao dịch và nhận tiền thay đổi tại địa chỉ của họ."
   ]
  },
  {
   "cell_type": "code",
   "execution_count": 28,
   "id": "10a49a12-18b5-4240-9d95-6bad4e82375d",
   "metadata": {
    "tags": [],
    "vscode": {
     "languageId": "shellscript"
    }
   },
   "outputs": [
    {
     "name": "stdout",
     "output_type": "stream",
     "text": [
      "Rounding  `TransactionInput` txInterval boundries to:(POSIXTime {getPOSIXTime = 1679661602000},POSIXTime {getPOSIXTime = 1679661962999})\n",
      "TransactionInput {txInterval = (POSIXTime {getPOSIXTime = 1679661602000},POSIXTime {getPOSIXTime = 1679661962999}), txInputs = [NormalInput (IDeposit \"\\\"addr_test1vpy4n4peh4suv0y55yptur0066j5kds8r4ncnuzm0vpzfgg0dhz6d\\\"\" \"\\\"addr_test1vpy4n4peh4suv0y55yptur0066j5kds8r4ncnuzm0vpzfgg0dhz6d\\\"\" (Token \"\" \"\") 85000000)]}\n",
      "Payment 1\n",
      "  Acccount: \"\\\"addr_test1vpy4n4peh4suv0y55yptur0066j5kds8r4ncnuzm0vpzfgg0dhz6d\\\"\"\n",
      "  Payee: Party \"\\\"addr_test1vqd3yrtjyx49uld43lvwqaf7z4k03su8gf2x4yr7syzvckgfzm4ck\\\"\"\n",
      "  Ada: Lovelace {getLovelace = 85000000}\n",
      "Payment 2\n",
      "  Acccount: \"\\\"addr_test1vqd3yrtjyx49uld43lvwqaf7z4k03su8gf2x4yr7syzvckgfzm4ck\\\"\"\n",
      "  Payee: Party \"\\\"addr_test1vqd3yrtjyx49uld43lvwqaf7z4k03su8gf2x4yr7syzvckgfzm4ck\\\"\"\n",
      "  Ada: Lovelace {getLovelace = 2000000}\n"
     ]
    }
   ],
   "source": [
    "marlowe-cli run prepare \\\n",
    "  --deposit-account \"$BORROWER_ADDR\" \\\n",
    "  --deposit-party \"$BORROWER_ADDR\" \\\n",
    "  --deposit-amount \"$((PRINCIPAL+INTEREST))\" \\\n",
    "  --invalid-before \"$((`date -u +%s` * SECOND - 1 * MINUTE))\" \\\n",
    "  --invalid-hereafter \"$((`date -u +%s` * SECOND + 5 * MINUTE))\" \\\n",
    "  --marlowe-file marlowe-2.json \\\n",
    "  --out-file marlowe-3.json"
   ]
  },
  {
   "cell_type": "markdown",
   "id": "ccdcc822-ba62-41cb-bde1-55bfc661ce16",
   "metadata": {},
   "source": [
    "Một lần nữa, hãy sử dụng `marlowe-cli run auto-execute` để tạo và gửi giao dịch rồi đợi xác nhận."
   ]
  },
  {
   "cell_type": "code",
   "execution_count": 29,
   "id": "7c405029-bf87-4eac-8b9e-630f64ddd53e",
   "metadata": {
    "tags": [],
    "vscode": {
     "languageId": "shellscript"
    }
   },
   "outputs": [
    {
     "name": "stdout",
     "output_type": "stream",
     "text": [
      "\n",
      "Fee: Lovelace 569736\n",
      "Size: 827 / 16384 = 5%\n",
      "Execution units:\n",
      "  Memory: 4674622 / 14000000 = 33%\n",
      "  Steps: 1258378941 / 10000000000 = 12%\n",
      "TX_3 = b2486f82eaccef641a3b44de4c07146304238b25b0678ab1bfb70e3bc244c338\n"
     ]
    }
   ],
   "source": [
    "TX_3=$(\n",
    "marlowe-cli run auto-execute \\\n",
    "  --tx-in-marlowe \"$TX_2#1\" \\\n",
    "  --marlowe-in-file marlowe-2.json \\\n",
    "  --marlowe-out-file marlowe-3.json \\\n",
    "  --change-address \"$BORROWER_ADDR\" \\\n",
    "  --required-signer \"$BORROWER_SKEY\" \\\n",
    "  --out-file tx-3.signed \\\n",
    "  --submit 600 \\\n",
    "  --print-stats \\\n",
    "| sed -e 's/^TxId \"\\(.*\\)\"$/\\1/' \\\n",
    ")\n",
    "echo \"TX_3 = $TX_3\""
   ]
  },
  {
   "cell_type": "markdown",
   "id": "3ef67b53-b30a-4408-a43e-97f1f0715ed0",
   "metadata": {},
   "source": [
    "Người ta có thể xem giao dịch trên Cardano explorer. Đôi khi phải mất ba mươi giây hoặc lâu hơn để giao dịch hiển thị trong explorer."
   ]
  },
  {
   "cell_type": "code",
   "execution_count": 30,
   "id": "94e9f529-529b-4777-b829-dcab0a5fc3b8",
   "metadata": {
    "vscode": {
     "languageId": "shellscript"
    }
   },
   "outputs": [
    {
     "name": "stdout",
     "output_type": "stream",
     "text": [
      "https://preprod.cardanoscan.io/transaction/b2486f82eaccef641a3b44de4c07146304238b25b0678ab1bfb70e3bc244c338?tab=utxo\n"
     ]
    }
   ],
   "source": [
    "echo \"$EXPLORER_URL\"/transaction/\"$TX_3?tab=utxo\""
   ]
  },
  {
   "cell_type": "markdown",
   "id": "af13b1f3-d5e2-4ebc-8023-f0fd5875c0a5",
   "metadata": {},
   "source": [
    "Người ta có thể thấy rằng người cho vay đã nhận lại 80 ADA tiền gốc và 2 ADA tiền gửi khi hợp đồng được tạo, cùng với 5 ADA tiền lãi bổ sung, tổng cộng là 87 ADA."
   ]
  },
  {
   "cell_type": "code",
   "execution_count": 31,
   "id": "492de5e8-7f07-437c-9f88-80ccdf00636f",
   "metadata": {
    "vscode": {
     "languageId": "shellscript"
    }
   },
   "outputs": [
    {
     "name": "stdout",
     "output_type": "stream",
     "text": [
      "                           TxHash                                 TxIx        Amount\n",
      "--------------------------------------------------------------------------------------\n",
      "017c068bf76aba6ef57b6b5aab592cd9d861c4903e100794ca7451d16c701a02     0        917029304 lovelace + TxOutDatumNone\n",
      "b2486f82eaccef641a3b44de4c07146304238b25b0678ab1bfb70e3bc244c338     1        87000000 lovelace + TxOutDatumNone\n"
     ]
    }
   ],
   "source": [
    "cardano-cli query utxo --testnet-magic \"$CARDANO_TESTNET_MAGIC\" --address \"$LENDER_ADDR\""
   ]
  },
  {
   "cell_type": "markdown",
   "id": "1196c641-e92e-4848-a20b-b673d7fcbc71",
   "metadata": {},
   "source": [
    "Người vay bây giờ có ít hơn khoảng 5 ADA (tiền lãi của khoản vay) so với ban đầu."
   ]
  },
  {
   "cell_type": "code",
   "execution_count": 32,
   "id": "3e8f27e3-e94a-4332-94a2-2f8af8800d56",
   "metadata": {
    "vscode": {
     "languageId": "shellscript"
    }
   },
   "outputs": [
    {
     "name": "stdout",
     "output_type": "stream",
     "text": [
      "                           TxHash                                 TxIx        Amount\n",
      "--------------------------------------------------------------------------------------\n",
      "017c068bf76aba6ef57b6b5aab592cd9d861c4903e100794ca7451d16c701a02     2        80000000 lovelace + TxOutDatumNone\n",
      "b2486f82eaccef641a3b44de4c07146304238b25b0678ab1bfb70e3bc244c338     0        914430264 lovelace + TxOutDatumNone\n"
     ]
    }
   ],
   "source": [
    "cardano-cli query utxo --testnet-magic \"$CARDANO_TESTNET_MAGIC\" --address \"$BORROWER_ADDR\""
   ]
  },
  {
   "cell_type": "markdown",
   "id": "8b4951f7-58bb-4399-a09a-2029f4e2dfe4",
   "metadata": {},
   "source": [
    "Hợp đồng Marlowe đã đóng, vì vậy không có đầu ra nào cho địa chỉ tập lệnh của nó."
   ]
  }
 ],
 "metadata": {
  "kernelspec": {
   "display_name": "Bash with Marlowe Tools",
   "language": "bash",
   "name": "bash-minimal"
  },
  "language_info": {
   "codemirror_mode": "shell",
   "file_extension": ".sh",
   "mimetype": "text/x-sh",
   "name": "bash"
  }
 },
 "nbformat": 4,
 "nbformat_minor": 5
}
