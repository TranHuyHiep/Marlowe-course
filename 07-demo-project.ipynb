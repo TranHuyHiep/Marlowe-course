{
 "cells": [
  {
   "cell_type": "markdown",
   "id": "a8b9d3ec-9b61-4c11-8465-504673116f9d",
   "metadata": {},
   "source": [
    "# Tạo token cho Hợp đồng Marlowe\n",
    "\n",
    "***Trước khi chạy sổ tay này, bạn có thể muốn sử dụng chức năng \"clear output\" của Jupyter để xóa kết quả của lần thực thi trước của sổ tay. Điều này sẽ làm rõ hơn những gì đã được thực thi trong phiên làm việc hiện tại.***\n",
    "\n",
    "Sổ tay này trình bày cách khắc token bản địa của Cardano sử dụng công cụ CLI của Marlowe và cách sử dụng các token như vậy trong một hợp đồng Marlowe. (Lưu ý rằng chính hợp đồng Marlowe sẽ không khắc token, nhưng chúng có thể sử dụng các token đã được khắc ở nơi khác.)\n",
    "\n",
    "[Một video hướng dẫn qua sổ tay Jupyter này.](https://youtu.be/S0MOipqXpmQ)\n",
    "\n",
    "Bạn có thể đặt câu hỏi về Marlowe trong [kênh #ask-marlowe trên Discord của IOG](https://discord.com/channels/826816523368005654/936295815926927390) hoặc đăng các vấn đề với bài học này vào [danh sách vấn đề của kho lưu trữ github Marlowe Starter Kit](https://github.com/input-output-hk/marlowe-starter-kit/issues)."
   ]
  },
  {
   "cell_type": "markdown",
   "id": "f128e27a-afe6-4d03-8c46-ef6e5753e4a8",
   "metadata": {},
   "source": [
    "## Điều kiện tiên quyết\n",
    "\n",
    "Xem [Điều kiện tiên quyết](../../docs/preliminaries.md) để biết thông tin về cách thiết lập môi trường của bạn để sử dụng hướng dẫn này.\n",
    "\n",
    "Bước đầu tiên là kiểm tra chúng ta có tất cả các công cụ cần thiết và biến môi trường có sẵn cho sổ tay không."
   ]
  },
  {
   "cell_type": "code",
   "execution_count": null,
   "id": "8b94d1f5",
   "metadata": {
    "tags": [],
    "vscode": {
     "languageId": "shellscript"
    }
   },
   "outputs": [],
   "source": [
    "export SCRIPTS=../../scripts\n",
    "export KEYS=../../keys\n",
    "source $SCRIPTS/check-tools-and-env.sh"
   ]
  },
  {
   "cell_type": "markdown",
   "id": "833a75c2",
   "metadata": {},
   "source": [
    "Hãy chắc chắn rằng bạn cũng đã [thiết lập và cung cấp tài chính](../../setup/01-setup-keys.ipynb) cho các bên khác nhau\n",
    "- Người phân phối token\n",
    "    - `$KEYS/lender.address`: Địa chỉ Cardano cho người phân phối token\n",
    "    - `$KEYS/lender.skey`: vị trí của tệp khóa ký cho người phân phối token"
   ]
  },
  {
   "cell_type": "markdown",
   "id": "1f209e22-2e7c-444c-a72b-aa88d676e0f8",
   "metadata": {
    "tags": [],
    "vscode": {
     "languageId": "shellscript"
    }
   },
   "source": [
    "### Địa chỉ và quỹ của người phân phối token\n",
    "\n",
    "Kiểm tra xem đã có địa chỉ và khóa được tạo cho người phân phối token hay chưa. Nếu chưa, xem \"Tạo Địa chỉ và Khóa Ký\" trong [Thiết lập Khóa](../../setup/01-setup-keys.ipynb#Creating-Addresses-and-Signing-Keys)."
   ]
  },
  {
   "cell_type": "code",
   "execution_count": null,
   "id": "38d0bad1-3b9e-4d80-9aec-a4357c8dc79a",
   "metadata": {
    "tags": [],
    "vscode": {
     "languageId": "shellscript"
    }
   },
   "outputs": [],
   "source": [
    "TOKEN_DISTRIBUTOR_SKEY=$KEYS/lender.skey\n",
    "TOKEN_DISTRIBUTOR_ADDR=$(cat $KEYS/lender.address)\n",
    "echo \"TOKEN_DISTRIBUTOR_ADDR = $TOKEN_DISTRIBUTOR_ADDR\""
   ]
  },
  {
   "cell_type": "markdown",
   "id": "d23a2695-2d68-4fa3-80cb-3afe5afe2196",
   "metadata": {},
   "source": [
    "Bạn có thể xem địa chỉ trên một trình duyệt Cardano. Đôi khi mất khoảng ba mươi giây hoặc lâu hơn để một giao dịch được hiển thị trên trình duyệt."
   ]
  },
  {
   "cell_type": "code",
   "execution_count": null,
   "id": "b1d78493-a1a1-4739-b911-02b901c73bda",
   "metadata": {
    "tags": [],
    "vscode": {
     "languageId": "shellscript"
    }
   },
   "outputs": [],
   "source": [
    "$SCRIPTS/cardano-scan-address.sh $TOKEN_DISTRIBUTOR_ADDR"
   ]
  },
  {
   "cell_type": "markdown",
   "id": "78033ed1-1127-4935-ad6b-9656a1f8a50e",
   "metadata": {
    "tags": []
   },
   "source": [
    "## Thiết kế token\n",
    "\n",
    "Bây giờ chúng ta tạo metadata [CIP-25](https://cips.cardano.org/cips/cip25/) cho các token mà chúng ta sẽ khắc. Metadata này có khóa `721` và bao gồm những thứ sau:\n",
    "\n",
    "- JSON mô tả token.\n",
    "- Tùy chọn, liên kết đến các nguồn tài nguyên bên ngoài như hình ảnh cho token.\n",
    "\n",
    "Metadata được lưu trữ trên blockchain trong giao dịch khắc token, nhưng hình ảnh được lưu trữ ngoài blockchain và chỉ được tham chiếu bởi metadata trên chuỗi.\n",
    "\n",
    "Chúng ta sẽ tạo một token với tên tài sản `M4B` và kết hợp với nó metadata với một mô tả và hình ảnh."
   ]
  },
  {
   "cell_type": "code",
   "execution_count": null,
   "id": "20c1db7b-854a-4ff7-aac3-833510bd1f50",
   "metadata": {
    "tags": []
   },
   "outputs": [],
   "source": [
    "TOKEN_NAME=M4B\n",
    "METADATA_FILE=marlowe-babbage.json\n",
    "IMAGE_IPFS=QmZqCCHLqQcHXftNarCwKpRHbzF4mvNeQRVpzk2bdue5bw"
   ]
  },
  {
   "cell_type": "markdown",
   "id": "3a94f714-00fa-484b-b6fc-faea80b361d1",
   "metadata": {},
   "source": [
    "Chúng ta sử dụng IPFS để lưu trữ hình ảnh, nhưng hình ảnh có thể được lưu trữ ở bất kỳ URI nào. Nhiều [dịch vụ ghim IPFS](https://sourceforge.net/software/ipfs-pinning/) có sẵn. Hãy tải hình ảnh, mặc dù tệp hình ảnh không yêu cầu cho quá trình khắc."
   ]
  },
  {
   "cell_type": "code",
   "execution_count": null,
   "id": "9e0a0dde-466e-4a61-ba18-5956304f44e5",
   "metadata": {
    "tags": []
   },
   "outputs": [],
   "source": [
    "IMAGE_URL=https://ipfs.io/ipfs/\"$IMAGE_IPFS\"\n",
    "IMAGE_FILE=marlowe-babbage.png\n",
    "curl -sS \"$IMAGE_URL\" -o \"$IMAGE_FILE\""
   ]
  },
  {
   "cell_type": "markdown",
   "id": "f22ec76f-ad1d-4881-b53f-52bf96350786",
   "metadata": {},
   "source": [
    "Đây là hình ảnh nó:\n",
    "\n",
    "![Marlowe in the Babbage Era](marlowe-babbage.png)"
   ]
  },
  {
   "cell_type": "markdown",
   "id": "37e1c9bd-daee-4c72-b187-46a7b294e4be",
   "metadata": {},
   "source": [
    "Dưới đây là metadata cho token mà chúng ta sẽ tạo."
   ]
  },
  {
   "cell_type": "code",
   "execution_count": null,
   "id": "24690bf4-3a5f-44be-83cf-875ad580e394",
   "metadata": {
    "tags": []
   },
   "outputs": [],
   "source": [
    "yaml2json << EOI > \"$METADATA_FILE\"\n",
    "$TOKEN_NAME:\n",
    "  description: Marlowe smart contracts in the Babbage Era\n",
    "  image: ipfs://$IMAGE_IPFS\n",
    "  mediaType: image/gif\n",
    "  name: Marlowe in the Babbage Era\n",
    "  url: https://marlowe.iohk.io/\n",
    "EOI\n",
    "jq . marlowe-babbage.json"
   ]
  },
  {
   "cell_type": "markdown",
   "id": "7767b836-f4c5-45d6-ad5e-201583dc6486",
   "metadata": {},
   "source": [
    "Phần trên chỉ chứa metadata cho một token duy nhất, nhưng JSON có thể có các mục cho nhiều token.\n",
    "\n",
    "Khóa `M4B` là tên tài sản cho token trên blockchain. Các trường lồng nhau mô tả token đó.\n",
    "\n",
    "- `name` là tên thân thiện với người dùng cho token.\n",
    "- `image` là một URI tham chiếu đến vị trí của hình ảnh cho token.\n",
    "- `mediaType` là kiểu MIME cho hình ảnh.\n",
    "- `description` là văn bản mô tả token.\n",
    "- `url` là URL để tìm thêm thông tin liên quan đến token.\n",
    "\n",
    "Tiêu chuẩn [CIP25](https://cips.cardano.org/cips/cip25/#generalstructure) cung cấp thông tin về cấu trúc tổng quát của metadata."
   ]
  },
  {
   "cell_type": "markdown",
   "id": "58a513a2-7c34-4f4d-b32b-e48356090a2a",
   "metadata": {},
   "source": [
    "## Mint token\n",
    "\n",
    "Công cụ `marlowe-cli` hỗ trợ tạo token theo tiêu chuẩn CIP25."
   ]
  },
  {
   "cell_type": "code",
   "execution_count": null,
   "id": "0e4e6324-ae63-4e18-84b7-0978a27668d7",
   "metadata": {
    "tags": []
   },
   "outputs": [],
   "source": [
    "marlowe-cli util mint --help"
   ]
  },
  {
   "cell_type": "markdown",
   "id": "f13f4932-9422-43d0-81d5-d9e34353d44b",
   "metadata": {},
   "source": [
    "Lệnh `marlowe-cli util mint` sử dụng chính sách khắc Cardano Simple Script V2. Nếu tùy chọn `--expires` được chỉ định, thì chính sách khắc sẽ bị \"khóa\" sau một khe thời gian được chỉ định, sao cho không còn token nào với chính sách đó có thể được khắc nữa tại hoặc sau số khe thời gian đó; nếu không, thì không có giới hạn thời gian đối với việc khắc token mới hoặc tiêu hủy token cũ."
   ]
  },
  {
   "cell_type": "markdown",
   "id": "6659ce7b-8d06-4522-b50d-cf4196deadae",
   "metadata": {},
   "source": [
    "Trước tiên, tìm số khe thời gian cho đỉnh của blockchain."
   ]
  },
  {
   "cell_type": "code",
   "execution_count": null,
   "id": "b9c903d1-94a1-4e80-a758-db88c3397443",
   "metadata": {
    "tags": []
   },
   "outputs": [],
   "source": [
    "TIP=$(cardano-cli query tip --testnet-magic \"$CARDANO_TESTNET_MAGIC\" | jq -r .slot)\n",
    "echo \"The tip is at slot number $TIP.\""
   ]
  },
  {
   "cell_type": "markdown",
   "id": "9c4298e4-d754-4330-8407-49173899ce20",
   "metadata": {},
   "source": [
    "Hãy đặt khe thời gian hết hạn là năm giờ vào tương lai. Điều này cho chúng ta một ít thời gian để tiêu hủy và tái tạo các token nếu chúng ta đã mắc lỗi chính tả hoặc các lỗi khác trong metadata."
   ]
  },
  {
   "cell_type": "code",
   "execution_count": null,
   "id": "ab4b3d83-0f4a-4f9f-a6a7-bfddf00399ea",
   "metadata": {
    "tags": []
   },
   "outputs": [],
   "source": [
    "SECONDS=1\n",
    "MINUTES=$((60 * SECONDS))\n",
    "HOURS=$((60 * MINUTES))\n",
    "EXPIRES=$((TIP + 5 * HOURS))\n",
    "echo \"EXPIRES = $EXPIRES\""
   ]
  },
  {
   "cell_type": "markdown",
   "id": "a05f52d5-d779-435d-9477-f86144f85f30",
   "metadata": {},
   "source": [
    "Chúng ta sẽ tạo ra sáu token."
   ]
  },
  {
   "cell_type": "code",
   "execution_count": null,
   "id": "16bc1649-f66e-454b-86d3-d35b1f95b4bf",
   "metadata": {
    "tags": []
   },
   "outputs": [],
   "source": [
    "TOKEN_COUNT=6"
   ]
  },
  {
   "cell_type": "markdown",
   "id": "21f58136-cc3a-4bd2-bd4b-d6ca35df4baa",
   "metadata": {},
   "source": [
    "Chúng ta cung cấp thông tin khóa của người phân phối token, tệp metadata, số lượng token, khe thời gian hết hạn, và điểm đến. Đổi lại, công cụ sẽ in ra ID chính sách cho kịch bản khắc."
   ]
  },
  {
   "cell_type": "code",
   "execution_count": null,
   "id": "b685429c-b294-47a6-9f87-6891e1022cf1",
   "metadata": {
    "tags": []
   },
   "outputs": [],
   "source": [
    "TOKEN_POLICY=$(\n",
    "marlowe-cli util mint \\\n",
    "  --issuer \"$TOKEN_DISTRIBUTOR_ADDR:$TOKEN_DISTRIBUTOR_SKEY\" \\\n",
    "  --metadata-file \"$METADATA_FILE\" \\\n",
    "  --count \"$TOKEN_COUNT\" \\\n",
    "  --expires \"$EXPIRES\" \\\n",
    "  --out-file /dev/null \\\n",
    "  --submit 600s \\\n",
    "  \"$TOKEN_NAME:$TOKEN_DISTRIBUTOR_ADDR\" \\\n",
    "  2> /dev/null \\\n",
    ")\n",
    "echo \"TOKEN_POLICY = $TOKEN_POLICY\""
   ]
  },
  {
   "cell_type": "markdown",
   "id": "99a58746-2009-45b4-b1c4-d1f38a31bbe7",
   "metadata": {},
   "source": [
    "Chúng ta có thể xem các token đã được khắc trên một trình duyệt:"
   ]
  },
  {
   "cell_type": "code",
   "execution_count": null,
   "id": "6d9912f1-43c4-431a-8ad5-abeb0abb7b03",
   "metadata": {
    "tags": []
   },
   "outputs": [],
   "source": [
    "echo \"$CARDANO_SCAN_URL/tokenPolicy/$TOKEN_POLICY\""
   ]
  },
  {
   "cell_type": "markdown",
   "id": "e15ac188-f1d5-44c5-80c6-8bcb90cbe3a6",
   "metadata": {},
   "source": [
    "## Tùy chọn: Tiêu hủy token\n",
    "\n",
    "Marlowe CLI cũng cung cấp một lệnh để hủy bỏ (tức là \"tiêu hủy\") các token đã được khắc trước đó."
   ]
  },
  {
   "cell_type": "code",
   "execution_count": null,
   "id": "5458ac5d-7b0f-4260-a40e-59c0e4ca1bdb",
   "metadata": {
    "tags": []
   },
   "outputs": [],
   "source": [
    "marlowe-cli util burn --help"
   ]
  },
  {
   "cell_type": "markdown",
   "id": "3375d5fa-353d-47f1-a559-bf0a30439251",
   "metadata": {
    "tags": []
   },
   "source": [
    "## Tùy chọn: Chi tiết của kịch bản tạo ra\n",
    "\n",
    "Marlowe CLI sử dụng Simple Script V2 làm chính sách tạo ra của mình. Hãy tự mình xác định chính sách đó và xem rằng nó có cùng ID chính sách như công cụ đã báo cáo.\n",
    "\n",
    "JSON cho kịch bản chính sách có thể được sử dụng với `cardano-cli`, tải lên các trình duyệt như CardanoScan, v.v.\n",
    "\n",
    "Đầu tiên, chúng ta cần băm khóa công khai (PKH) của khóa ký được sử dụng để tạo ra token. Trong trường hợp của chúng ta, đó là token"
   ]
  },
  {
   "cell_type": "code",
   "execution_count": null,
   "id": "f0ba87db-a6bb-44fc-bdaf-5debd09ec307",
   "metadata": {
    "tags": []
   },
   "outputs": [],
   "source": [
    "TOKEN_DISTRIBUTOR_PKH=$(\n",
    "cardano-cli key verification-key --signing-key-file \"$TOKEN_DISTRIBUTOR_SKEY\" --verification-key-file /dev/stdout \\\n",
    "| cardano-cli address key-hash --verification-key-file /dev/stdin \\\n",
    ")\n",
    "echo \"TOKEN_DISTRIBUTOR_PKH = $TOKEN_DISTRIBUTOR_PKH\""
   ]
  },
  {
   "cell_type": "markdown",
   "id": "985d4921-3f64-44aa-a69c-505cbd30b996",
   "metadata": {},
   "source": [
    "### Chính sách tạo ra với khe thời gian hết hạn\n",
    "\n",
    "Đối với một chính sách tạo ra có khe thời gian hết hạn, Marlowe CLI tạo ra một chính sách tiền tệ theo dạng sau:"
   ]
  },
  {
   "cell_type": "code",
   "execution_count": null,
   "id": "77a9a473-9d74-464f-8587-0c2b84d0425c",
   "metadata": {
    "tags": []
   },
   "outputs": [],
   "source": [
    "yaml2json << EOI > policy-$EXPIRES.json\n",
    "type: all\n",
    "scripts:\n",
    "- type: sig\n",
    "  keyHash: $TOKEN_DISTRIBUTOR_PKH\n",
    "- type: before\n",
    "  slot: $EXPIRES\n",
    "EOI\n",
    "jq . policy-$EXPIRES.json"
   ]
  },
  {
   "cell_type": "markdown",
   "id": "2fe1cb9a-bbcc-4b6e-a1ca-a010494f19ee",
   "metadata": {},
   "source": [
    "Chúng ta có thể xác minh rằng chính sách này tương ứng với ID chính sách mà chúng ta đã sử dụng để tạo ra các token."
   ]
  },
  {
   "cell_type": "code",
   "execution_count": null,
   "id": "3a3b371d-dda1-4912-99e9-6f8dbfcde951",
   "metadata": {
    "tags": []
   },
   "outputs": [],
   "source": [
    "cardano-cli transaction policyid --script-file \"policy-$EXPIRES.json\""
   ]
  },
  {
   "cell_type": "markdown",
   "id": "9fb81560-84d7-41e2-b6e4-14d04b6926de",
   "metadata": {},
   "source": [
    "### Chính sách tạo ra không có thời gian hết hạn\n",
    "\n",
    "Chính sách tạo ra được Marlowe CLI tạo ra sẽ đơn giản hơn nếu không có thời gian hết hạn."
   ]
  },
  {
   "cell_type": "code",
   "execution_count": null,
   "id": "f52d5f60-3973-4301-926d-3cd65c85ef8f",
   "metadata": {
    "tags": []
   },
   "outputs": [],
   "source": [
    "yaml2json << EOI > policy-noexpires.json\n",
    "type: sig\n",
    "keyHash: $TOKEN_DISTRIBUTOR_PKH\n",
    "EOI\n",
    "jq . policy-noexpires.json"
   ]
  },
  {
   "cell_type": "markdown",
   "id": "5e1a32fb-fa0b-43b7-bcae-a710c3f35b86",
   "metadata": {},
   "source": [
    "Một lần nữa, chúng ta có thể xác minh ID chính sách của chính sách đó."
   ]
  },
  {
   "cell_type": "code",
   "execution_count": null,
   "id": "1fd3b992-1c6f-4d6e-8b1c-f1fccbf884b9",
   "metadata": {
    "tags": []
   },
   "outputs": [],
   "source": [
    "cardano-cli transaction policyid --script-file policy-noexpires.json"
   ]
  },
  {
   "cell_type": "markdown",
   "id": "484a9c4a-7ce1-49a2-9550-6d882b9b9e41",
   "metadata": {},
   "source": [
    "## Ví dụ hợp đồng Marlowe: một airdrop nhỏ cho những người giữ Ada Handle\n",
    "\n",
    "Các token mà chúng ta đã tạo ra có thể được sử dụng trong các giao dịch thông thường hoặc trong các hợp đồng Marlowe. Ở đây chúng ta sẽ sử dụng chúng trong một airdrop nhỏ cho sáu người giữ [Ada Handle](https://mint.handle.me/) tokens.\n",
    "\n",
    "Ví dụ này minh họa cách một chính sách tiền tệ nổi tiếng như đối với [Ada Handles](https://mint.handle.me/) hoặc [Ada Domains](https://www.adadomains.io/) có thể được sử dụng như là biểu tượng tiền tệ của vai trò cho một hợp đồng Marlowe. Điều này có thể tiện lợi bởi vì bộ xác nhận thanh toán của Marlowe cung cấp *một bảo đảm trên chuỗi* rằng quỹ sẽ được giao cho người giữ token vai trò: tức là, không cần đến các dịch vụ ngoài chuỗi để xác định địa chỉ của người giữ handle hoặc domain.\n",
    "\n",
    "Hợp đồng dưới đây chấp nhận một khoản gửi của sáu token mà chúng ta vừa tạo và sau đó phân phối mỗi người một token cho người giữ sáu Ada Handles:\n",
    "- `$e.cary`\n",
    "- `$f.beaumont`\n",
    "- `$j.lumley`\n",
    "- `$j.webster`\n",
    "- `$m.herbert`\n",
    "- `$w.shakespeare`\n",
    "\n",
    "![Small airdrop contract in Marlowe](contract.png)\n",
    "\n",
    "Lưu ý sự hiện diện của hai trường hợp `Notify` trong hợp đồng. Chúng cần thiết để chia các thanh toán thành ba giao dịch. Cố gắng thực hiện tất cả trong cùng một giao dịch như khoản gửi sẽ dẫn đến việc vượt quá chi phí thực hiện Plutus."
   ]
  },
  {
   "cell_type": "markdown",
   "id": "451dee28-dada-4919-99e2-0c8e7d94f423",
   "metadata": {},
   "source": [
    "### Thiết kế hợp đồng\n",
    "\n",
    "Đầu tiên, đặt thời hạn gửi token là hai mươi phút tính từ thời điểm hiện tại, được biểu diễn bằng milliseconds POSIX."
   ]
  },
  {
   "cell_type": "code",
   "execution_count": null,
   "id": "4ddf7055-c26c-40ef-827b-c1369e43b182",
   "metadata": {
    "tags": []
   },
   "outputs": [],
   "source": [
    "DEPOSIT_DEADLINE=$((1000 * $(date -u -d \"$(date) + 20 minutes\" +%s)))\n",
    "echo \"DEPOSIT_DEADLINE = $DEPOSIT_DEADLINE POSIX milliseconds\""
   ]
  },
  {
   "cell_type": "markdown",
   "id": "5c3d9b73-3735-43eb-ac04-3e70efce856e",
   "metadata": {},
   "source": [
    "Ghi hợp đồng vào một tệp. (Chúng ta có thể đã chỉ tạo hợp đồng trong [Marlowe Playground](https://play.marlowe.iohk.io/) và sau đó tải xuống JSON.) *Lưu ý rằng tên vai trò không bao gồm ký tự `$` đứng trước một Ada Handle; tương tự, chúng cũng sẽ không bao gồm hậu tố `.ada` của một Ada Domain.*"
   ]
  },
  {
   "cell_type": "code",
   "execution_count": null,
   "id": "dfea90ee-62a5-4c97-99dd-b9256a464f9c",
   "metadata": {
    "tags": []
   },
   "outputs": [],
   "source": [
    "yaml2json << EOI > contract.json\n",
    "when:\n",
    "- case:\n",
    "    deposits: 6\n",
    "    into_account:\n",
    "      address: $TOKEN_DISTRIBUTOR_ADDR\n",
    "    of_token:\n",
    "      currency_symbol: $TOKEN_POLICY\n",
    "      token_name: $TOKEN_NAME\n",
    "    party:\n",
    "      address: $TOKEN_DISTRIBUTOR_ADDR\n",
    "  then:\n",
    "    from_account:\n",
    "      address: $TOKEN_DISTRIBUTOR_ADDR\n",
    "    pay: 1\n",
    "    token:\n",
    "      currency_symbol: $TOKEN_POLICY\n",
    "      token_name: $TOKEN_NAME\n",
    "    to:\n",
    "      party:\n",
    "        role_token: e.cary\n",
    "    then:\n",
    "      from_account:\n",
    "        address: $TOKEN_DISTRIBUTOR_ADDR\n",
    "      pay: 1\n",
    "      token:\n",
    "        currency_symbol: $TOKEN_POLICY\n",
    "        token_name: $TOKEN_NAME\n",
    "      to:\n",
    "        party:\n",
    "          role_token: f.beaumont\n",
    "      then:\n",
    "        when:\n",
    "        - case:\n",
    "            notify_if: true\n",
    "          then:\n",
    "            from_account:\n",
    "              address: $TOKEN_DISTRIBUTOR_ADDR\n",
    "            pay: 1\n",
    "            token:\n",
    "              currency_symbol: $TOKEN_POLICY\n",
    "              token_name: $TOKEN_NAME\n",
    "            to:\n",
    "              party:\n",
    "                role_token: j.lumley\n",
    "            then:\n",
    "              from_account:\n",
    "                address: $TOKEN_DISTRIBUTOR_ADDR\n",
    "              pay: 1\n",
    "              token:\n",
    "                currency_symbol: $TOKEN_POLICY\n",
    "                token_name: $TOKEN_NAME\n",
    "              to:\n",
    "                party:\n",
    "                  role_token: j.webster\n",
    "              then:\n",
    "                when:\n",
    "                - case:\n",
    "                    notify_if: true\n",
    "                  then:\n",
    "                    from_account:\n",
    "                      address: $TOKEN_DISTRIBUTOR_ADDR\n",
    "                    token:\n",
    "                      currency_symbol: $TOKEN_POLICY\n",
    "                      token_name: $TOKEN_NAME\n",
    "                    to:\n",
    "                      party:\n",
    "                        role_token: m.herbert\n",
    "                    pay: 1\n",
    "                    then:\n",
    "                      from_account:\n",
    "                        address: $TOKEN_DISTRIBUTOR_ADDR\n",
    "                      token:\n",
    "                        currency_symbol: $TOKEN_POLICY\n",
    "                        token_name: $TOKEN_NAME\n",
    "                      pay: 1\n",
    "                      to:\n",
    "                        party:\n",
    "                          role_token: w.shakespeare\n",
    "                      then: close\n",
    "                timeout: $DEPOSIT_DEADLINE\n",
    "                timeout_continuation: close\n",
    "        timeout: $DEPOSIT_DEADLINE\n",
    "        timeout_continuation: close\n",
    "timeout: $DEPOSIT_DEADLINE\n",
    "timeout_continuation: close\n",
    "EOI\n",
    "cat contract.json"
   ]
  },
  {
   "cell_type": "markdown",
   "id": "404aa363-89cd-4dd1-9021-141909da6e8a",
   "metadata": {},
   "source": [
    "### Giao dịch 1. Tạo hợp đồng trên blockchain\n",
    "\n",
    "Chúng ta sẽ gửi token cho người giữ [ADA Handles](https://mint.handle.me/), vì vậy chúng ta cần sử dụng ID chính sách của Ada Handles làm biểu tượng tiền tệ vai trò của Marlowe. *Nếu bạn không chạy trên `mainnet`, bạn sẽ cần sử dụng một ID chính sách khác cho token vai trò và bạn phải tự mình khắc token đó (hoặc sử dụng token vai trò đã tồn tại)."
   ]
  },
  {
   "cell_type": "code",
   "execution_count": null,
   "id": "21338a1d-01d1-40f7-844d-67df449fd095",
   "metadata": {
    "tags": []
   },
   "outputs": [],
   "source": [
    "ADA_HANDLES_POLICY=f0ff48bbb7bbe9d59a40f1ce90e9e9d0ff5002ec48f232b49ca0fb9a"
   ]
  },
  {
   "cell_type": "markdown",
   "id": "5c87123a-1b7d-45d8-a1a9-125fb898145f",
   "metadata": {},
   "source": [
    "Bây giờ hãy để Marlowe Runtime xây dựng giao dịch để tạo hợp đồng Marlowe. Xem [Bài học 1](../01-runtime-cli) để biết một giới thiệu chi tiết hơn."
   ]
  },
  {
   "cell_type": "code",
   "execution_count": null,
   "id": "e6ffeca5-4676-49d8-aba2-1a2bb15d9dda",
   "metadata": {
    "tags": []
   },
   "outputs": [],
   "source": [
    "CONTRACT_ID=$(\n",
    "marlowe-runtime-cli create \\\n",
    "  --core-file contract.json \\\n",
    "  --role-token-policy-id \"$ADA_HANDLES_POLICY\" \\\n",
    "  --min-utxo \"$((2 * 1000000))\" \\\n",
    "  --change-address \"$TOKEN_DISTRIBUTOR_ADDR\" \\\n",
    "  --manual-sign tx-1.unsigned \\\n",
    "| jq -r 'fromjson | .contractId' \\\n",
    ")\n",
    "echo \"CONTRACT_ID = $CONTRACT_ID\""
   ]
  },
  {
   "cell_type": "markdown",
   "id": "230537e2-fea7-43a5-9bb3-87b89eea8926",
   "metadata": {},
   "source": [
    "*Luôn kiểm tra rằng hợp đồng không có lỗi an toàn trước khi gửi giao dịch tạo nó.* Xem [Bài học 7](../07-safety) để biết thảo luận chi tiết về các kiểm tra an toàn mà Marlowe Runtime thực hiện và tại sao chúng quan trọng.\n",
    "\n",
    "Vì hợp đồng an toàn, chúng ta ký và gửi giao dịch."
   ]
  },
  {
   "cell_type": "code",
   "execution_count": null,
   "id": "ec1d9ce8-61ef-4d49-903e-91be1af4ad01",
   "metadata": {
    "tags": []
   },
   "outputs": [],
   "source": [
    "marlowe-cli transaction submit \\\n",
    "  --required-signer \"$TOKEN_DISTRIBUTOR_SKEY\" \\\n",
    "  --tx-body-file tx-1.unsigned \\\n",
    "  --timeout 600s"
   ]
  },
  {
   "cell_type": "markdown",
   "id": "4d0129b6-e097-4142-830f-d57b2e6458d2",
   "metadata": {},
   "source": [
    "Sau khi giao dịch được xác nhận, chúng ta có thể xem hợp đồng trên MarloweScan:"
   ]
  },
  {
   "cell_type": "code",
   "execution_count": null,
   "id": "f9ef36fa-d40b-4741-94a7-9405c41c557b",
   "metadata": {
    "tags": []
   },
   "outputs": [],
   "source": [
    "echo \"$MARLOWE_SCAN_URL/contractView?tab=info&contractId=${CONTRACT_ID/\\#/%23}\""
   ]
  },
  {
   "cell_type": "markdown",
   "id": "76d514be-0897-40e0-81b5-f52296af46c7",
   "metadata": {},
   "source": [
    "### Giao dịch 2. Gửi token và thực hiện hai airdrop đầu tiên\n",
    "\n",
    "Đầu tiên, xây dựng giao dịch sẽ gửi token vào hợp đồng và thực hiện thanh toán cho `$e.cary` và `$f.beaumont`."
   ]
  },
  {
   "cell_type": "code",
   "execution_count": null,
   "id": "0617e819-2a7f-4c6c-9b81-cb3809a545c8",
   "metadata": {
    "tags": []
   },
   "outputs": [],
   "source": [
    "TX_2=$(\n",
    "marlowe-runtime-cli deposit \\\n",
    "  --contract \"$CONTRACT_ID\" \\\n",
    "  --from-party \"$TOKEN_DISTRIBUTOR_ADDR\" \\\n",
    "  --to-party \"$TOKEN_DISTRIBUTOR_ADDR\" \\\n",
    "  --currency \"$TOKEN_POLICY\" \\\n",
    "  --token-name \"$TOKEN_NAME\" \\\n",
    "  --quantity \"$TOKEN_COUNT\" \\\n",
    "  --change-address \"$TOKEN_DISTRIBUTOR_ADDR\" \\\n",
    "  --manual-sign tx-2.unsigned \\\n",
    "| jq -r 'fromjson | .txId' \\\n",
    ")\n",
    "echo \"TX_2 = $TX_2\""
   ]
  },
  {
   "cell_type": "markdown",
   "id": "d135bbac-bbb1-441c-b7ce-b5d242f18e78",
   "metadata": {},
   "source": [
    "Bây giờ hãy ký và gửi nó."
   ]
  },
  {
   "cell_type": "code",
   "execution_count": null,
   "id": "bddfde1c-1d2f-4de8-8ad7-a39819c4957b",
   "metadata": {
    "tags": []
   },
   "outputs": [],
   "source": [
    "marlowe-cli transaction submit \\\n",
    "  --required-signer \"$TOKEN_DISTRIBUTOR_SKEY\" \\\n",
    "  --tx-body-file tx-2.unsigned \\\n",
    "  --timeout 600s"
   ]
  },
  {
   "cell_type": "markdown",
   "id": "d10120d2-ea02-4c2a-816d-07c39a96f99b",
   "metadata": {
    "tags": []
   },
   "source": [
    "Sau khi giao dịch được xác nhận, chúng ta có thể xem nó trên MarloweScan."
   ]
  },
  {
   "cell_type": "code",
   "execution_count": null,
   "id": "c35692a1-bebc-4d79-b1ea-24eb42dd8bcf",
   "metadata": {
    "tags": []
   },
   "outputs": [],
   "source": [
    "echo \"$MARLOWE_SCAN_URL/contractView?tab=tx&contractId=${CONTRACT_ID/\\#/%23}&transactionId=$TX_2\""
   ]
  },
  {
   "cell_type": "markdown",
   "id": "4fb27dd1-3b9c-4c03-a8c2-b2cf68e3b82d",
   "metadata": {},
   "source": [
    "### Giao dịch 3. Thông báo cho hợp đồng thực hiện hai airdrop tiếp theo\n",
    "\n",
    "Bây giờ, hãy xây dựng giao dịch sẽ thực hiện các thanh toán cho `$j.lumley` và `$j.webster`."
   ]
  },
  {
   "cell_type": "code",
   "execution_count": null,
   "id": "a40ad6e1-fca4-454a-955e-d8be569553d2",
   "metadata": {
    "tags": []
   },
   "outputs": [],
   "source": [
    "TX_3=$(\n",
    "marlowe-runtime-cli notify \\\n",
    "  --contract \"$CONTRACT_ID\" \\\n",
    "  --change-address \"$TOKEN_DISTRIBUTOR_ADDR\" \\\n",
    "  --manual-sign tx-3.unsigned \\\n",
    "| jq -r 'fromjson | .txId' \\\n",
    ")\n",
    "echo \"TX_3 = $TX_3\""
   ]
  },
  {
   "cell_type": "markdown",
   "id": "0f670b9c-905d-49d8-bcc8-2e3b6c6c218c",
   "metadata": {},
   "source": [
    "Bây giờ, hãy ký và gửi nó."
   ]
  },
  {
   "cell_type": "code",
   "execution_count": null,
   "id": "1433ddc5-b354-4cb0-89af-1393b64ed65f",
   "metadata": {
    "tags": []
   },
   "outputs": [],
   "source": [
    "marlowe-cli transaction submit \\\n",
    "  --required-signer \"$TOKEN_DISTRIBUTOR_SKEY\" \\\n",
    "  --tx-body-file tx-3.unsigned \\\n",
    "  --timeout 600s"
   ]
  },
  {
   "cell_type": "markdown",
   "id": "e1d907e6-aaae-4aaa-8042-0802c5a77ceb",
   "metadata": {
    "tags": []
   },
   "source": [
    "Sau khi giao dịch được xác nhận, chúng ta có thể xem nó trên MarloweScan."
   ]
  },
  {
   "cell_type": "code",
   "execution_count": null,
   "id": "49ba2b42-de18-4e35-a379-a3e8f9864f75",
   "metadata": {
    "tags": []
   },
   "outputs": [],
   "source": [
    "echo \"$MARLOWE_SCAN_URL/contractView?tab=tx&contractId=${CONTRACT_ID/\\#/%23}&transactionId=$TX_3\""
   ]
  },
  {
   "cell_type": "markdown",
   "id": "b11068d6-36db-436a-97b9-c46f04c51244",
   "metadata": {},
   "source": [
    "### Giao dịch 4. Thông báo cho hợp đồng thực hiện hai airdrop cuối cùng\n",
    "\n",
    "Bây giờ, hãy xây dựng giao dịch sẽ thực hiện các thanh toán cho `$m.herbert` và `$w.shakespeare`."
   ]
  },
  {
   "cell_type": "code",
   "execution_count": null,
   "id": "93dd9d6f-9586-4e56-b732-4d2dea1e2c20",
   "metadata": {
    "tags": []
   },
   "outputs": [],
   "source": [
    "TX_4=$(\n",
    "marlowe-runtime-cli notify \\\n",
    "  --contract \"$CONTRACT_ID\" \\\n",
    "  --change-address \"$TOKEN_DISTRIBUTOR_ADDR\" \\\n",
    "  --manual-sign tx-4.unsigned \\\n",
    "| jq -r 'fromjson | .txId' \\\n",
    ")\n",
    "echo \"TX_4 = $TX_4\""
   ]
  },
  {
   "cell_type": "markdown",
   "id": "c7744f3a-3d6d-4082-9665-90e70ce76e4c",
   "metadata": {},
   "source": [
    "Bây giờ, hãy ký và gửi nó."
   ]
  },
  {
   "cell_type": "code",
   "execution_count": null,
   "id": "99a9dd28-5f40-4cbc-a089-db70f44f354b",
   "metadata": {
    "tags": []
   },
   "outputs": [],
   "source": [
    "marlowe-cli transaction submit \\\n",
    "  --required-signer \"$TOKEN_DISTRIBUTOR_SKEY\" \\\n",
    "  --tx-body-file tx-4.unsigned \\\n",
    "  --timeout 600s"
   ]
  },
  {
   "cell_type": "markdown",
   "id": "02e8ead2-d01c-4f69-afa7-d81190746152",
   "metadata": {
    "tags": []
   },
   "source": [
    "Sau khi giao dịch được xác nhận, chúng ta có thể xem nó trên MarloweScan."
   ]
  },
  {
   "cell_type": "code",
   "execution_count": null,
   "id": "281b5401-a41d-42f9-b133-76f1035892eb",
   "metadata": {
    "tags": []
   },
   "outputs": [],
   "source": [
    "echo \"$MARLOWE_SCAN_URL/contractView?tab=tx&contractId=${CONTRACT_ID/\\#/%23}&transactionId=$TX_4\""
   ]
  },
  {
   "cell_type": "markdown",
   "id": "be18f7f8-50f6-4534-b78c-54e651e02645",
   "metadata": {},
   "source": [
    "### Người nhận rút token từ địa chỉ Marlowe role-payout\n",
    "\n",
    "Sáu khoản thanh toán đang chờ tại địa chỉ Marlowe's role-payout để những người nắm giữ mỗi Ada Handle rút chúng. Hiện tại có một số phương pháp để rút khoản thanh toán như sau:\n",
    "\n",
    "1. Kết nối ví CIP30 của mình với ứng dụng Marlowe Payouts, sẽ liệt kê tất cả các khoản thanh toán được giữ cho lợi ích của chủ sở hữu ví.\n",
    "2. Sử dụng điểm cuối rút của Marlowe Runtime REST API.\n",
    "3. Sử dụng lệnh rút của Marlowe Runtime CLI.\n",
    "4. Sử dụng lệnh rút của Marlowe CLI.\n",
    "5. Tạo giao dịch rút bằng cách sử dụng Cardano CLI."
   ]
  },
  {
   "cell_type": "markdown",
   "id": "4f15d5d6-bd03-482d-b4c1-47d6969338f3",
   "metadata": {
    "tags": []
   },
   "source": [
    "## Tùy chọn: Các trường hợp sử dụng liên quan đến token native và hợp đồng Marlowe\n",
    "\n",
    "Mặc dù Marlowe Runtime hiện chưa cung cấp hỗ trợ cho việc phát hành token native kết hợp với một hợp đồng Marlowe, điều này có thể được thực hiện bằng cách sử dụng `cardano-cli transaction build`.\n",
    "\n",
    "1. Token có thể được phát hành trong cùng một giao dịch tạo ra hợp đồng Marlowe bằng cách chạy một script minting đơn giản hoặc Plutus trong giao dịch đó.\n",
    "2. Token có thể được phát hành trong cùng một giao dịch như một `Deposit` của Marlowe bằng cách chạy một script minting đơn giản hoặc Plutus trong giao dịch đó.\n",
    "\n",
    "Lưu ý rằng việc chạy một script Simple trong cùng một giao dịch như Marlowe là giá rẻ, nhưng ít mạnh mẽ hơn so với việc chạy một script Plutus. Script Plutus có thể đảm bảo thông tin mạnh mẽ hơn về giao dịch, chẳng hạn như đảm bảo rằng việc phát hành chỉ có thể diễn ra ở một giai đoạn cụ thể của hợp đồng Marlowe."
   ]
  }
 ],
 "metadata": {
  "kernelspec": {
   "display_name": "Bash with Marlowe Tools",
   "language": "bash",
   "name": "bash-minimal"
  },
  "language_info": {
   "codemirror_mode": "shell",
   "file_extension": ".sh",
   "mimetype": "text/x-sh",
   "name": "bash"
  }
 },
 "nbformat": 4,
 "nbformat_minor": 5
}
