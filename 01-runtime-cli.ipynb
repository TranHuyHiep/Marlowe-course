{
 "cells": [
  {
   "cell_type": "markdown",
   "id": "caa144a8-d3d7-42de-bfdd-8b27cf4c5cbe",
   "metadata": {
    "tags": [],
    "vscode": {
     "languageId": "shellscript"
    }
   },
   "source": [
    "# Zero-Coupon Bond Using Marlowe Runtime\\'s Command-Line Interface (Trái phiếu Zero-Coupon Sử dụng Giao diện Dòng lệnh của Marlowe Runtime)\n",
    "\n",
    "***Trước khi chạy sổ ghi chép này, bạn có thể muốn sử dụng chức năng \"xóa đầu ra\" của Jupyter để xóa kết quả thực hiện trước đó của sổ ghi chép này. Điều đó sẽ làm rõ hơn những gì đã được thực thi trong phiên hiện tại.***\n",
    "\n",
    "Ví dụ về trái phiếu không INTEREST là một hợp đồng Marlowe đơn giản trong đó người cho vay cung cấp tiền gốc cho người đi vay, người này sẽ hoàn trả lại số tiền đó cùng với tiền lãi.\n",
    "\n",
    "Trong phần trình diễn này, chúng ta sử dụng giao diện dòng lệnh của Marlowe Runtime, `marlowe-runtime-cli`, để chạy hợp đồng này trên mạng thử nghiệm công khai `preprod`.Hợp đồng Marlowe có thể sử dụng địa chỉ hoặc vai trò token để ủy quyền: ở đây chúng ta sử dụng địa chỉ.\n",
    "\n",
    "[A video works through this Jupyter notebook.](https://youtu.be/pjDtuD5rimI)\n",
    "\n",
    "Bạn có thể đặt câu hỏi về Marlowe trong [the #ask-marlowe channel on the IOG Discord](https://discord.com/channels/826816523368005654/936295815926927390) hoặc đăng các vấn đề với bài học này lên [the issues list for the Marlowe Starter Kit github repository](https://github.com/input-output-hk/marlowe-starter-kit/issues).\n",
    "\n",
    "Trong [Marlowe Playground](https://play.marlowe-finance.io/), hợp đồng có dạng như sau ở định dạng Blockly.\n",
    "\n",
    "![Zero-coupon bond Marlowe contract](images/01-zcb-contract.png)\n",
    "\n",
    "Ở định dạng Marlowe, nó xuất hiện dưới dạng\n",
    "```\n",
    "When\n",
    "    [Case\n",
    "        (Deposit\n",
    "            (Address \"$LENDER_ADDR\")\n",
    "            (Address \"$LENDER_ADDR\")\n",
    "            (Token \"\" \"\")\n",
    "            (ConstantParam \"$PRINCIPAL\")\n",
    "        )\n",
    "        (Pay\n",
    "            (Address \"$LENDER_ADDR\")\n",
    "            (Party (Address \"$BORROWER_ADDR\"))\n",
    "            (Token \"\" \"\")\n",
    "            (ConstantParam \"$PRINCIPAL\")\n",
    "            (When\n",
    "                [Case\n",
    "                    (Deposit\n",
    "                        (Address \"$BORROWER_ADDR\")\n",
    "                        (Address \"$BORROWER_ADDR\")\n",
    "                        (Token \"\" \"\")\n",
    "                        (AddValue\n",
    "                            (ConstantParam \"$INTEREST\")\n",
    "                            (ConstantParam \"$PRINCIPAL\")\n",
    "                        )\n",
    "                    )\n",
    "                    (Pay\n",
    "                        (Address \"$BORROWER_ADDR\")\n",
    "                        (Party (Address \"$LENDER_ADDR\"))\n",
    "                        (Token \"\" \"\")\n",
    "                        (AddValue\n",
    "                            (ConstantParam \"$INTEREST\")\n",
    "                            (ConstantParam \"$PRINCIPAL\")\n",
    "                        )\n",
    "                        Close \n",
    "                    )]\n",
    "                (TimeParam \"$BORROWER_DEADLINE\")\n",
    "                Close \n",
    "            )\n",
    "        )]\n",
    "    (TimeParam \"$LENDER_DEADLINE\")\n",
    "    Close \n",
    "```"
   ]
  },
  {
   "cell_type": "markdown",
   "id": "b94d119b-6a78-4972-83be-bede23021187",
   "metadata": {},
   "source": [
    "## Chuẩn bị\n",
    "\n",
    "Xem [Lesson 0. Preliminaries](00-preliminaries.md) để biết thông tin về cách thiết lập môi trường của một người để sử dụng hướng dẫn này.\n",
    "\n",
    "Bài học giả định rằng các biến môi trường sau đây đã được thiết lập.\n",
    "- `CARDANO_NODE_SOCKET_PATH`: vị trí socket của node Cardano.\n",
    "- `CARDANO_TESTNET_MAGIC`: số magic testnet.\n",
    "- `MARLOWE_RT_HOST`: Địa chỉ IP của máy chủ proxy Marlowe Runtime.\n",
    "- `MARLOWE_RT_PORT`: Số cổng cho máy chủ proxy Marlowe Runtime.\n",
    "\n",
    "Nó cũng giả định rằng các bên Bên cho vay và Bên vay có địa chỉ, khóa ký và tiền.\n",
    "- Người cho vay\n",
    "    - [keys/lender.address](keys/lender.address): Địa chỉ Cardano của người cho vay\n",
    "    - [keys/lender.skey](keys/lender.skey): vị trí ký tệp khóa cho bên cho vay\n",
    "- Người vay\n",
    "    - [keys/borrower.address](keys/borrower.address): Địa chỉ Cardano cho người vay\n",
    "    - [keys/borrower.skey](keys/borrower.skey): vị trí ký file key cho bên vay"
   ]
  },
  {
   "cell_type": "markdown",
   "id": "9fb26443-798a-4865-bd8e-21bbeee6522a",
   "metadata": {},
   "source": [
    "### Truy cập vào node Cardano và Runtimes Marlowe\n",
    "\n",
    "Nếu chúng ta đang sử dụng tiện ích mở rộng Cardano Marlowe Runtime của [demeter.run](https://demeter.run/),  thì chúng ta đã có quyền truy cập vào Cardano Node và Marlowe Runtime. Các lệnh sau sẽ đặt các biến môi trường cần thiết để sử dụng triển khai docker cục bộ trên các cổng mặc định. Nó cũng sẽ thiết lập một số biến môi trường bổ sung."
   ]
  },
  {
   "cell_type": "code",
   "execution_count": 1,
   "id": "cd27279f-12aa-4d66-92a7-5eb1224b1d90",
   "metadata": {
    "tags": [],
    "vscode": {
     "languageId": "shellscript"
    }
   },
   "outputs": [
    {
     "name": "stdout",
     "output_type": "stream",
     "text": [
      "CARDANO_NODE_SOCKET_PATH = ~/.local/share/containers/storage/volumes/marlowe-starter-kit_shared/_data/node.socket\n",
      "CARDANO_TESTNET_MAGIC = 1\n",
      "MARLOWE_RT_HOST = 127.0.0.1\n",
      "MARLOWE_RT_PORT = 3700\n"
     ]
    }
   ],
   "source": [
    "if [[ -z \"$MARLOWE_RT_PORT\" ]]\n",
    "then\n",
    "\n",
    "  # Only required for `marlowe-cli` and `cardano-cli`.\n",
    "  export CARDANO_NODE_SOCKET_PATH=\"$(docker volume inspect marlowe-starter-kit_shared | jq -r '.[0].Mountpoint')/node.socket\"\n",
    "  export CARDANO_TESTNET_MAGIC=1 # Note that preprod=1 and preview=2. Do not set this variable if using mainnet.\n",
    "\n",
    "  # Only required for `marlowe-runtime-cli`.\n",
    "  export MARLOWE_RT_HOST=\"127.0.0.1\"\n",
    "  export MARLOWE_RT_PORT=3700\n",
    "\n",
    "fi\n",
    "\n",
    "# FIXME: This should have been inherited from the parent environment.\n",
    "if [[ -z \"$CARDANO_NODE_SOCKET_PATH\" ]]\n",
    "then\n",
    "  export CARDANO_NODE_SOCKET_PATH=/ipc/node.socket\n",
    "fi\n",
    "\n",
    "# FIXME: This should have been set in the parent environment.\n",
    "if [[ -z \"$CARDANO_TESTNET_MAGIC\" ]]\n",
    "then\n",
    "  export CARDANO_TESTNET_MAGIC=$CARDANO_NODE_MAGIC\n",
    "fi\n",
    "\n",
    "case \"$CARDANO_TESTNET_MAGIC\" in\n",
    "  1)\n",
    "    export \"EXPLORER_URL=https://preprod.cardanoscan.io\"\n",
    "    ;;\n",
    "  2)\n",
    "    export \"EXPLORER_URL=https://preview.cardanoscan.io\"\n",
    "    ;;\n",
    "  *)\n",
    "    # Use `mainnet` as the default.\n",
    "    export \"EXPLORER_URL=https://cardanoscan.io\"\n",
    "    ;;\n",
    "esac\n",
    "\n",
    "echo \"CARDANO_NODE_SOCKET_PATH = $CARDANO_NODE_SOCKET_PATH\"\n",
    "echo \"CARDANO_TESTNET_MAGIC = $CARDANO_TESTNET_MAGIC\"\n",
    "echo \"MARLOWE_RT_HOST = $MARLOWE_RT_HOST\"\n",
    "echo \"MARLOWE_RT_PORT = $MARLOWE_RT_PORT\""
   ]
  },
  {
   "cell_type": "markdown",
   "id": "3feb4222-9f51-4b6e-92c3-d476beb5ea90",
   "metadata": {
    "tags": []
   },
   "source": [
    "Lưu ý số magic mạng thử nghiệm:\n",
    "- `preprod` = 1\n",
    "- `preview` = 2"
   ]
  },
  {
   "cell_type": "markdown",
   "id": "6699e48f-cdb4-4532-9760-b080724142ef",
   "metadata": {
    "tags": [],
    "vscode": {
     "languageId": "shellscript"
    }
   },
   "source": [
    "### Địa chỉ và quỹ của bên cho vay\n",
    "\n",
    "Kiểm tra xem địa chỉ và khóa đã được tạo cho người cho vay chưa. Nếu không, hãy xem phần \"Tạo địa chỉ và khóa ký\" trong [Lesson 0. Preliminaries](00-preliminaries.md)."
   ]
  },
  {
   "cell_type": "code",
   "execution_count": 2,
   "id": "c7def6b8-c617-4049-872f-4974755d0cb0",
   "metadata": {
    "tags": [],
    "vscode": {
     "languageId": "shellscript"
    }
   },
   "outputs": [
    {
     "name": "stdout",
     "output_type": "stream",
     "text": [
      "LENDER_ADDR = addr_test1vqd3yrtjyx49uld43lvwqaf7z4k03su8gf2x4yr7syzvckgfzm4ck\n"
     ]
    }
   ],
   "source": [
    "LENDER_SKEY=keys/lender.skey\n",
    "LENDER_ADDR=$(cat keys/lender.address)\n",
    "echo \"LENDER_ADDR = $LENDER_ADDR\""
   ]
  },
  {
   "cell_type": "markdown",
   "id": "31614d3b-10c1-4704-b49a-82aa924cba23",
   "metadata": {},
   "source": [
    "Kiểm tra xem người cho vay có ít nhất một trăm ADA không."
   ]
  },
  {
   "cell_type": "code",
   "execution_count": 3,
   "id": "111e60bf-a7c8-41f1-b729-15d1defd27df",
   "metadata": {
    "tags": [],
    "vscode": {
     "languageId": "shellscript"
    }
   },
   "outputs": [
    {
     "name": "stdout",
     "output_type": "stream",
     "text": [
      "                           TxHash                                 TxIx        Amount\n",
      "--------------------------------------------------------------------------------------\n",
      "8461a35e612b38d4cb592e4ba1b7f13c2ff2825942d66e7200acc575cd4c8f1c     1        1000000000 lovelace + TxOutDatumNone\n"
     ]
    }
   ],
   "source": [
    "cardano-cli query utxo --testnet-magic \"$CARDANO_TESTNET_MAGIC\" --address \"$LENDER_ADDR\""
   ]
  },
  {
   "cell_type": "markdown",
   "id": "d1d47a97-8c70-47c8-9c80-90e6619ea37c",
   "metadata": {},
   "source": [
    "Người ta có thể xem địa chỉ trên Cardano explorer. Đôi khi phải mất ba mươi giây hoặc lâu hơn để giao dịch hiển thị trong explorer."
   ]
  },
  {
   "cell_type": "code",
   "execution_count": 4,
   "id": "d4eb8b9f-84a2-4fce-abec-8725dc67c46a",
   "metadata": {
    "tags": [],
    "vscode": {
     "languageId": "shellscript"
    }
   },
   "outputs": [
    {
     "name": "stdout",
     "output_type": "stream",
     "text": [
      "https://preprod.cardanoscan.io/address/addr_test1vqd3yrtjyx49uld43lvwqaf7z4k03su8gf2x4yr7syzvckgfzm4ck\n"
     ]
    }
   ],
   "source": [
    "echo \"$EXPLORER_URL\"/address/\"$LENDER_ADDR\""
   ]
  },
  {
   "cell_type": "markdown",
   "id": "7cb22b51-b719-429d-ab8c-ef43973905a7",
   "metadata": {
    "tags": [],
    "vscode": {
     "languageId": "shellscript"
    }
   },
   "source": [
    "### Địa chỉ và tiền của người vay\n",
    "\n",
    "Kiểm tra xem địa chỉ và khóa đã được tạo cho người mượn chưa. Nếu không, hãy xem phần \"Tạo địa chỉ và khóa ký\" trong [Lesson 0. Preliminaries](00-preliminaries.md)."
   ]
  },
  {
   "cell_type": "code",
   "execution_count": 5,
   "id": "b60f9abe-4956-4783-86cf-1827bd076dfe",
   "metadata": {
    "tags": [],
    "vscode": {
     "languageId": "shellscript"
    }
   },
   "outputs": [
    {
     "name": "stdout",
     "output_type": "stream",
     "text": [
      "BORROWER_ADDR = addr_test1vpy4n4peh4suv0y55yptur0066j5kds8r4ncnuzm0vpzfgg0dhz6d\n"
     ]
    }
   ],
   "source": [
    "BORROWER_SKEY=keys/borrower.skey\n",
    "BORROWER_ADDR=$(cat keys/borrower.address)\n",
    "echo \"BORROWER_ADDR = $BORROWER_ADDR\""
   ]
  },
  {
   "cell_type": "markdown",
   "id": "9d9e5126-619f-4f5b-b51b-d4b5c80b952f",
   "metadata": {},
   "source": [
    "Kiểm tra xem người vay có ít nhất một trăm ADA không."
   ]
  },
  {
   "cell_type": "code",
   "execution_count": 6,
   "id": "a4a8216e-c5d3-4706-8ab9-918252369263",
   "metadata": {
    "tags": [],
    "vscode": {
     "languageId": "shellscript"
    }
   },
   "outputs": [
    {
     "name": "stdout",
     "output_type": "stream",
     "text": [
      "                           TxHash                                 TxIx        Amount\n",
      "--------------------------------------------------------------------------------------\n",
      "8461a35e612b38d4cb592e4ba1b7f13c2ff2825942d66e7200acc575cd4c8f1c     2        1000000000 lovelace + TxOutDatumNone\n"
     ]
    }
   ],
   "source": [
    "cardano-cli query utxo --testnet-magic \"$CARDANO_TESTNET_MAGIC\" --address \"$BORROWER_ADDR\""
   ]
  },
  {
   "cell_type": "markdown",
   "id": "038e042c-2638-415c-ad7b-de390a82416b",
   "metadata": {},
   "source": [
    "Người ta có thể xem địa chỉ trên Cardano explorer. Đôi khi phải mất ba mươi giây hoặc lâu hơn để giao dịch hiển thị trong explorer."
   ]
  },
  {
   "cell_type": "code",
   "execution_count": 7,
   "id": "3455b47d-45f9-4d31-aebe-ab0ea7b36aa9",
   "metadata": {
    "tags": [],
    "vscode": {
     "languageId": "shellscript"
    }
   },
   "outputs": [
    {
     "name": "stdout",
     "output_type": "stream",
     "text": [
      "https://preprod.cardanoscan.io/address/addr_test1vpy4n4peh4suv0y55yptur0066j5kds8r4ncnuzm0vpzfgg0dhz6d\n"
     ]
    }
   ],
   "source": [
    "echo \"$EXPLORER_URL\"/address/\"$BORROWER_ADDR\""
   ]
  },
  {
   "cell_type": "markdown",
   "id": "b0f231be-b01f-4b30-a086-a3371eda42a3",
   "metadata": {},
   "source": [
    "## Thiết kế hợp đồng\n",
    "\n",
    "Bạn có thể tải xuống hợp đồng trái phiếu không nhận phiếu thưởng từ [Marlowe Playground](https://play.marlowe-finance.io/) dưới dạng tệp JSON hoặc có thể tạo bằng cách sử dụng [Marlowe CLI](https://github.com/input-output-hk/marlowe-cardano/tree/main/marlowe-cli#readme) bằng cách sử dụng lệnh `marlowe-cli template`.\n",
    "\n",
    "Ở đây chúng ta tạo hợp đồng bằng Marlowe CLI.\n",
    "\n",
    "Đầu tiên, đặt tiền gốc của khoản vay là 80 ADA và tiền lãi của nó là 5 ADA."
   ]
  },
  {
   "cell_type": "code",
   "execution_count": 8,
   "id": "4c959ebc-7c73-49ef-a1f9-a32771cc9ec9",
   "metadata": {
    "vscode": {
     "languageId": "shellscript"
    }
   },
   "outputs": [
    {
     "name": "stdout",
     "output_type": "stream",
     "text": [
      "PRINCIPAL = 80000000 lovelace\n",
      "INTEREST = 5000000 lovelace\n"
     ]
    }
   ],
   "source": [
    "ADA=1000000  # 1 ada = 1,000,000 lovelace\n",
    "\n",
    "PRINCIPAL=$((80 * ADA))\n",
    "INTEREST=$((5 * ADA))\n",
    "\n",
    "echo \"PRINCIPAL = $PRINCIPAL lovelace\"\n",
    "echo \"INTEREST = $INTEREST lovelace\""
   ]
  },
  {
   "cell_type": "markdown",
   "id": "ca6f1da3-5a16-4dc4-a310-90812c4936b6",
   "metadata": {},
   "source": [
    "Trên blockchain Cardano, các tham số giao thức yêu cầu mỗi UTxO chứa ít nhất một số ADA. Ở đây chúng ta sẽ bắt đầu hợp đồng với 2 ADA."
   ]
  },
  {
   "cell_type": "code",
   "execution_count": 9,
   "id": "aa229f08-6907-4f7b-b458-5fd18e0b9596",
   "metadata": {
    "vscode": {
     "languageId": "shellscript"
    }
   },
   "outputs": [
    {
     "name": "stdout",
     "output_type": "stream",
     "text": [
      "MIN_LOVELACE = 2000000 lovelace\n"
     ]
    }
   ],
   "source": [
    "MIN_LOVELACE=\"$((2 * ADA))\"\n",
    "echo \"MIN_LOVELACE = $MIN_LOVELACE lovelace\""
   ]
  },
  {
   "cell_type": "markdown",
   "id": "5a65904b-e1eb-4185-a973-dd1ba3a3e93a",
   "metadata": {},
   "source": [
    "Tiếp theo, tìm thời gian hiện tại, được đo bằng [POSIX milliseconds](https://en.wikipedia.org/wiki/Unix_time)."
   ]
  },
  {
   "cell_type": "code",
   "execution_count": 10,
   "id": "30ec2929-27e1-4ae7-8ee0-82e710f15b6c",
   "metadata": {
    "vscode": {
     "languageId": "shellscript"
    }
   },
   "outputs": [
    {
     "name": "stdout",
     "output_type": "stream",
     "text": [
      "NOW = 1679602725000 POSIX milliseconds = Thu Mar 23 02:18:45 PM MDT 2023\n"
     ]
    }
   ],
   "source": [
    "SECOND=1000 # 1 second = 1000 milliseconds\n",
    "MINUTE=$((60 * SECOND)) # 1 minute = 60 seconds\n",
    "HOUR=$((60 * MINUTE)) # 1 hour = 60 minutes\n",
    "\n",
    "NOW=\"$((`date -u +%s` * SECOND))\"\n",
    "echo NOW = \"$NOW\" POSIX milliseconds = \"`date -d @$((NOW / SECOND))`\""
   ]
  },
  {
   "cell_type": "markdown",
   "id": "4806318e-46e9-4c17-88b7-966098d25771",
   "metadata": {},
   "source": [
    "Hợp đồng có thời hạn cho vay và thời hạn trả nợ. Để thuận tiện trong ví dụ này, hãy đặt thời hạn cho tương lai gần."
   ]
  },
  {
   "cell_type": "code",
   "execution_count": 11,
   "id": "2ac3ad1d-060f-4ff5-b055-c96011f724a0",
   "metadata": {
    "vscode": {
     "languageId": "shellscript"
    }
   },
   "outputs": [
    {
     "name": "stdout",
     "output_type": "stream",
     "text": [
      "LENDER_DEADLINE = 1679606325000 POSIX milliseconds = Thu Mar 23 03:18:45 PM MDT 2023\n",
      "BORROWER_DEADLINE = 1679613525000 POSIX milliseconds = Thu Mar 23 05:18:45 PM MDT 2023\n"
     ]
    }
   ],
   "source": [
    "LENDER_DEADLINE=\"$((NOW + 1 * HOUR))\"\n",
    "BORROWER_DEADLINE=\"$((NOW + 3 * HOUR))\"\n",
    "echo LENDER_DEADLINE = \"$LENDER_DEADLINE\" POSIX milliseconds = \"`date -d @$((LENDER_DEADLINE / SECOND))`\"\n",
    "echo BORROWER_DEADLINE = \"$BORROWER_DEADLINE\" POSIX milliseconds = \"`date -d @$((BORROWER_DEADLINE / SECOND))`\""
   ]
  },
  {
   "cell_type": "markdown",
   "id": "56db086f-bba1-40ba-94a3-aa9a7f9a3e45",
   "metadata": {},
   "source": [
    "Bây giờ hãy tạo tệp JSON cho hợp đồng, `zcb-contract.json`."
   ]
  },
  {
   "cell_type": "code",
   "execution_count": 12,
   "id": "5b4b87af-265c-4d2c-bfe3-281614311fa8",
   "metadata": {
    "vscode": {
     "languageId": "shellscript"
    }
   },
   "outputs": [],
   "source": [
    "marlowe-cli template zcb \\\n",
    "  --minimum-ada \"$MIN_LOVELACE\" \\\n",
    "  --lender \"$LENDER_ADDR\" \\\n",
    "  --borrower \"$BORROWER_ADDR\" \\\n",
    "  --principal \"$PRINCIPAL\" \\\n",
    "  --interest \"$INTEREST\" \\\n",
    "  --lending-deadline \"$LENDER_DEADLINE\" \\\n",
    "  --repayment-deadline \"$BORROWER_DEADLINE\" \\\n",
    "  --out-contract-file zcb-contract.json \\\n",
    "  --out-state-file zcb-state.json"
   ]
  },
  {
   "cell_type": "markdown",
   "id": "29c63a36-8cd9-4ee4-893c-f77a2ea15a4a",
   "metadata": {},
   "source": [
    "Các tùy chọn dòng lệnh khác nhau được mô tả bởi hệ thống trợ giúp."
   ]
  },
  {
   "cell_type": "code",
   "execution_count": 13,
   "id": "36d8e09d-b426-4889-91f8-3a6842f9727b",
   "metadata": {
    "tags": [],
    "vscode": {
     "languageId": "shellscript"
    }
   },
   "outputs": [
    {
     "name": "stdout",
     "output_type": "stream",
     "text": [
      "Usage: marlowe-cli template zcb --minimum-ada INTEGER --lender PARTY\n",
      "                                --borrower PARTY --principal INTEGER\n",
      "                                --interest INTEGER --lending-deadline TIMEOUT\n",
      "                                --repayment-deadline TIMEOUT\n",
      "\n",
      "  Create a zero-coupon bond.\n",
      "\n",
      "Available options:\n",
      "  --minimum-ada INTEGER    Lovelace that the lender contributes to the initial\n",
      "                           state.\n",
      "  --lender PARTY           The lender.\n",
      "  --borrower PARTY         The borrower.\n",
      "  --principal INTEGER      The principal, in lovelace.\n",
      "  --interest INTEGER       The interest, in lovelace.\n",
      "  --lending-deadline TIMEOUT\n",
      "                           The lending deadline. POSIX milliseconds or duration:\n",
      "                           `INTEGER[s|m|d|w|h]`.\n",
      "  --repayment-deadline TIMEOUT\n",
      "                           The repayment deadline. POSIX milliseconds or\n",
      "                           duration: `INTEGER[s|m|d|w|h]`.\n",
      "  -h,--help                Show this help text\n"
     ]
    }
   ],
   "source": [
    "marlowe-cli template zcb --help"
   ]
  },
  {
   "cell_type": "markdown",
   "id": "a1f0813f-86ae-4209-9a78-cd533fca9857",
   "metadata": {},
   "source": [
    "## Kiểm tra hợp đồng\n",
    "\n",
    "Xem tệp hợp đồng dưới dạng YAML."
   ]
  },
  {
   "cell_type": "code",
   "execution_count": 14,
   "id": "112824a7-635f-4134-b133-a20e63660b35",
   "metadata": {
    "vscode": {
     "languageId": "shellscript"
    }
   },
   "outputs": [
    {
     "name": "stdout",
     "output_type": "stream",
     "text": [
      "timeout: 1679606325000\n",
      "timeout_continuation: close\n",
      "when:\n",
      "- case:\n",
      "    deposits: 80000000\n",
      "    into_account:\n",
      "      address: addr_test1vqd3yrtjyx49uld43lvwqaf7z4k03su8gf2x4yr7syzvckgfzm4ck\n",
      "    of_token:\n",
      "      currency_symbol: ''\n",
      "      token_name: ''\n",
      "    party:\n",
      "      address: addr_test1vqd3yrtjyx49uld43lvwqaf7z4k03su8gf2x4yr7syzvckgfzm4ck\n",
      "  then:\n",
      "    from_account:\n",
      "      address: addr_test1vqd3yrtjyx49uld43lvwqaf7z4k03su8gf2x4yr7syzvckgfzm4ck\n",
      "    pay: 80000000\n",
      "    then:\n",
      "      timeout: 1679613525000\n",
      "      timeout_continuation: close\n",
      "      when:\n",
      "      - case:\n",
      "          deposits:\n",
      "            add: 80000000\n",
      "            and: 5000000\n",
      "          into_account:\n",
      "            address: addr_test1vpy4n4peh4suv0y55yptur0066j5kds8r4ncnuzm0vpzfgg0dhz6d\n",
      "          of_token:\n",
      "            currency_symbol: ''\n",
      "            token_name: ''\n",
      "          party:\n",
      "            address: addr_test1vpy4n4peh4suv0y55yptur0066j5kds8r4ncnuzm0vpzfgg0dhz6d\n",
      "        then:\n",
      "          from_account:\n",
      "            address: addr_test1vpy4n4peh4suv0y55yptur0066j5kds8r4ncnuzm0vpzfgg0dhz6d\n",
      "          pay:\n",
      "            add: 80000000\n",
      "            and: 5000000\n",
      "          then: close\n",
      "          to:\n",
      "            party:\n",
      "              address: addr_test1vqd3yrtjyx49uld43lvwqaf7z4k03su8gf2x4yr7syzvckgfzm4ck\n",
      "          token:\n",
      "            currency_symbol: ''\n",
      "            token_name: ''\n",
      "    to:\n",
      "      party:\n",
      "        address: addr_test1vpy4n4peh4suv0y55yptur0066j5kds8r4ncnuzm0vpzfgg0dhz6d\n",
      "    token:\n",
      "      currency_symbol: ''\n",
      "      token_name: ''\n"
     ]
    }
   ],
   "source": [
    "json2yaml zcb-contract.json"
   ]
  },
  {
   "cell_type": "markdown",
   "id": "d3f9edcd-5f91-4739-bdb4-02a14c9acdc0",
   "metadata": {},
   "source": [
    "Cũng xem trạng thái ban đầu của hợp đồng. Lưu ý rằng Runtimes Marlowe ghi đè trạng thái này bằng trạng thái mà nó tạo."
   ]
  },
  {
   "cell_type": "code",
   "execution_count": 15,
   "id": "34308675-6e14-4dfc-acb8-247c4add03c9",
   "metadata": {
    "vscode": {
     "languageId": "shellscript"
    }
   },
   "outputs": [
    {
     "name": "stdout",
     "output_type": "stream",
     "text": [
      "accounts:\n",
      "- - - address: addr_test1vz3w7jtrmx550r4eqfqxnka8c9r763z9hxc6s3hc5wl68qq0kxt5e\n",
      "    - currency_symbol: ''\n",
      "      token_name: ''\n",
      "  - 2000000\n",
      "boundValues: []\n",
      "choices: []\n",
      "minTime: 1\n"
     ]
    }
   ],
   "source": [
    "json2yaml zcb-state.json"
   ]
  },
  {
   "cell_type": "markdown",
   "id": "00f357bf-ebf0-4459-adb9-32c5a1140759",
   "metadata": {},
   "source": [
    "### \\[Không bắt buộc, nhưng nên dùng\\] Kiểm tra mức độ an toàn của hợp đồng\n",
    "\n",
    "Nếu chúng ta đang chạy hợp đồng trên Cardano `mainnet`, thì chúng ta muốn kiểm tra tính an toàn của nó trước khi tạo nó, để không có khả năng chúng ta có thể mất tiền.\n",
    "\n",
    "Dưới đây là các bước để kiểm tra mức độ an toàn của hợp đồng:\n",
    "\n",
    "1. Hiểu [Ngôn ngữ Marlowe](https://marlowe-finance.io/).\n",
    "2. Hiểu [Mô hình UTxO mở rộng] của Cardano (https://docs.cardano.org/learn/eutxo-explainer).\n",
    "3. Đọc và hiểu [Hướng dẫn về các phương pháp hay nhất của Marlowe](https://github.com/input-output-hk/marlowe-cardano/blob/main/marlowe/best-practices.md).\n",
    "4. Đọc và hiểu [Hướng dẫn bảo mật của Marlowe](https://github.com/input-output-hk/marlowe-cardano/blob/main/marlowe/security.md).\n",
    "5. Sử dụng [Marlowe Playground](https://play.marlowe-finance.io/) để gắn cờ cảnh báo, thực hiện phân tích tĩnh và mô phỏng hợp đồng.\n",
    "6. Sử dụng [Marlowe CLI\\'s](https://github.com/input-output-hk/marlowe-cardano/blob/main/marlowe-cli/ReadMe.md) công cụ `marlowe-cli run analyze` để nghiên cứu xem hợp đồng có thể chạy trên mạng Cardano hay không.\n",
    "7. Chạy *tất cả đường dẫn thực thi* của hợp đồng trên [Cardano testnet](https://docs.cardano.org/cardano-testnet/overview).\n",
    "\n",
    "Ở đây, chúng ta sẽ thực hiện bước 6. Đầu tiên, chúng ta gộp hợp đồng và trạng thái ban đầu của nó vào một tệp duy nhất."
   ]
  },
  {
   "cell_type": "code",
   "execution_count": 16,
   "id": "f2c5f0ad-8c56-486a-9107-8abfa61ab68f",
   "metadata": {
    "vscode": {
     "languageId": "shellscript"
    }
   },
   "outputs": [],
   "source": [
    "marlowe-cli run initialize \\\n",
    "  --contract-file zcb-contract.json \\\n",
    "  --state-file zcb-state.json \\\n",
    "  --out-file zcb-marlowe.json"
   ]
  },
  {
   "cell_type": "markdown",
   "id": "f86ee195-d7a0-4e2e-8cc6-0155112f9c56",
   "metadata": {},
   "source": [
    "Bây giờ chúng ta phân tích hợp đồng và đường dẫn thực hiện của nó."
   ]
  },
  {
   "cell_type": "code",
   "execution_count": 17,
   "id": "bb0789a1-3e56-4e5a-91aa-33417e957c9f",
   "metadata": {
    "vscode": {
     "languageId": "shellscript"
    }
   },
   "outputs": [
    {
     "name": "stdout",
     "output_type": "stream",
     "text": [
      "Note that path-based analysis ignore the initial state of the contract and instead start with an empty state.\n",
      "Starting search for execution paths . . .\n",
      " . . . found 3 execution paths.\n",
      "- Preconditions:\n",
      "    Duplicate accounts: []\n",
      "    Duplicate bound values: []\n",
      "    Duplicate choices: []\n",
      "    Invalid account parties: []\n",
      "    Invalid account tokens: []\n",
      "    Invalid choice parties: []\n",
      "    Invalid roles currency: false\n",
      "    Non-positive account balances: []\n",
      "- Role names:\n",
      "    Blank role names: false\n",
      "    Invalid role names: []\n",
      "- Tokens:\n",
      "    Invalid tokens: []\n",
      "- Maximum value:\n",
      "    Actual: 88\n",
      "    Invalid: false\n",
      "    Maximum: 5000\n",
      "    Percentage: 1.76\n",
      "    Unit: byte\n",
      "- Minimum UTxO:\n",
      "    Requirement:\n",
      "      lovelace: 1120600\n",
      "- Execution cost:\n",
      "    Memory:\n",
      "      Actual: 6588250\n",
      "      Invalid: false\n",
      "      Maximum: 14000000\n",
      "      Percentage: 47.058928571428574\n",
      "    Steps:\n",
      "      Actual: 1767311958\n",
      "      Invalid: false\n",
      "      Maximum: 10000000000\n",
      "      Percentage: 17.67311958\n",
      "- Transaction size:\n",
      "    Actual: 1630\n",
      "    Invalid: false\n",
      "    Maximum: 16384\n",
      "    Percentage: 9.94873046875\n"
     ]
    }
   ],
   "source": [
    "marlowe-cli run analyze \\\n",
    "  --marlowe-file zcb-marlowe.json"
   ]
  },
  {
   "cell_type": "markdown",
   "id": "2eae4910-05cf-4eca-ad15-be285ee3c782",
   "metadata": {},
   "source": [
    "Trong báo cáo trên, chúng ta thấy rằng hợp đồng không có bất kỳ giá trị trùng lặp hoặc không hợp lệ nào và nó không vượt quá bất kỳ tham số giao thức nào của blockchain. Cụ thể, hãy lưu ý rằng giá trị `MIN_LOVELACE` của 2 ADA đã chọn trước đó của chúng ta lớn hơn 1,120600 ADA mà công cụ phân tích cho là cần thiết. Do đó, việc thực hiện bất kỳ đường dẫn nào trong hợp đồng là an toàn."
   ]
  },
  {
   "cell_type": "markdown",
   "id": "fcbdcc02-7ffe-46a4-8732-10a3e7b93865",
   "metadata": {},
   "source": [
    "## Giao dịch 1. Tạo Hợp đồng"
   ]
  },
  {
   "cell_type": "markdown",
   "id": "6fad0f1b-a918-4c56-867e-29600be217f4",
   "metadata": {},
   "source": [
    "Lệnh của Marlowe Runtime `marlowe-runtime-cli create` sẽ tạo giao dịch tạo cho hợp đồng Marlowe. Chúng ta cung cấp cho nó tệp JSON chứa hợp đồng và cho nó biết giá trị `MIN_LOVELACE` mà chúng ta đã chọn trước đó. Bất kỳ ai cũng có thể tạo hợp đồng, nhưng trong ví dụ này, người cho vay sẽ làm như vậy, vì vậy chúng ta cung cấp địa chỉ của họ để tài trợ cho giao dịch và nhận tiền thay đổi từ đó."
   ]
  },
  {
   "cell_type": "code",
   "execution_count": 18,
   "id": "87672246-de07-4356-8cee-3692eeb36572",
   "metadata": {
    "tags": [],
    "vscode": {
     "languageId": "shellscript"
    }
   },
   "outputs": [
    {
     "name": "stdout",
     "output_type": "stream",
     "text": [
      "Usage: marlowe-runtime-cli create --change-address ADDRESS [-a|--address ADDRESS] \n",
      "                      [--collateral-utxo UTXO] --manual-sign FILE_PATH \n",
      "                      [-m|--metadata-file FILE_PATH] [--tags-file FILE_PATH] \n",
      "                      [--v1] \n",
      "                      [(-r|--role ROLE=ADDRESS) | \n",
      "                        --roles-config-file FILE_PATH | \n",
      "                        --role-token-policy-id POLICY_ID] \n",
      "                      (--core-file FILE_PATH | --contract-file FILE_PATH \n",
      "                        [--args-file FILE_PATH | \n",
      "                          [--timeout-arg NAME=POSIX_TIMESTAMP] \n",
      "                          [--value-arg NAME=INTEGER]]) --min-utxo LOVELACE\n",
      "\n",
      "  Create a new Marlowe Contract\n",
      "\n",
      "Available options:\n",
      "  --change-address ADDRESS The address to which the change of the transaction\n",
      "                           should be sent.\n",
      "  -a,--address ADDRESS     An address whose UTXOs can be used as inputs to the\n",
      "                           transaction\n",
      "  --collateral-utxo UTXO   A UTXO which may be used as a collateral input\n",
      "  --manual-sign FILE_PATH  Sign the transaction manually. Writes the CBOR bytes\n",
      "                           of the unsigned transaction to the specified file for\n",
      "                           manual signing. Use the submit command to submit the\n",
      "                           signed transaction.\n",
      "  -m,--metadata-file FILE_PATH\n",
      "                           A JSON file containing a map of integer indexes to\n",
      "                           arbitrary JSON values that will be added to the\n",
      "                           transaction's metadata.\n",
      "  --tags-file FILE_PATH    A JSON file containing a map of tags indexes to\n",
      "                           optional JSON-encoded metadata values that will be\n",
      "                           added to the transaction's 1564 metadata key. Note\n",
      "                           that the entire 1564 key will be overridden if also\n",
      "                           specified in --metadata-file.\n",
      "  --v1                     Run command in Marlowe V1\n",
      "  -r,--role ROLE=ADDRESS   The name of a role in the contract with the address\n",
      "                           to send the token to\n",
      "  --roles-config-file FILE_PATH\n",
      "                           A JSON file containing a map of role token names to a\n",
      "                           roles configuration object. The roles configuration\n",
      "                           object has two keys, \"address\" and \"metadata\", where\n",
      "                           \"address\" is the address to send the newly minted\n",
      "                           role token and \"metadata\" is the CIP-25 metadata\n",
      "                           object to associate with the token.\n",
      "  --role-token-policy-id POLICY_ID\n",
      "                           The hexadecimal-encoded policy ID of the role tokens\n",
      "                           for this contract. This option is used to support\n",
      "                           role tokens minted in a separate transaction.\n",
      "  --core-file FILE_PATH    A file containing the Core Marlowe JSON definition of\n",
      "                           the contract to create.\n",
      "  --contract-file FILE_PATH\n",
      "                           A file containing the Extended Marlowe JSON\n",
      "                           definition of the contract to create.\n",
      "  --args-file FILE_PATH    A file containing the Extended Marlowe arguments to\n",
      "                           apply to the contract.\n",
      "  --timeout-arg NAME=POSIX_TIMESTAMP\n",
      "                           The name of a timeout parameter in the contract and a\n",
      "                           value to assign to it (in POSIX milliseconds).\n",
      "  --value-arg NAME=INTEGER The name of a numeric parameter in the contract and a\n",
      "                           value to assign to it.\n",
      "  --min-utxo LOVELACE      An amount which should be used as min ADA requirement\n",
      "                           for the Contract UTxO.\n",
      "  -h,--help                Show this help text\n"
     ]
    }
   ],
   "source": [
    "marlowe-runtime-cli create --help"
   ]
  },
  {
   "cell_type": "code",
   "execution_count": 19,
   "id": "f8c85b72-afe2-460c-a48a-6e347ace520c",
   "metadata": {
    "vscode": {
     "languageId": "shellscript"
    }
   },
   "outputs": [
    {
     "name": "stdout",
     "output_type": "stream",
     "text": [
      "CONTRACT_ID = 3bd6f3011ebabd0d55182aa657a7b841faa9f4b823d1fd76a215d917d0c61895#1\n"
     ]
    }
   ],
   "source": [
    "CONTRACT_ID=$(\n",
    "marlowe-runtime-cli create \\\n",
    "  --core-file zcb-contract.json \\\n",
    "  --min-utxo \"$MIN_LOVELACE\" \\\n",
    "  --change-address \"$LENDER_ADDR\" \\\n",
    "  --manual-sign tx-1.unsigned \\\n",
    "| jq -r 'fromjson | .contractId' \\\n",
    ")\n",
    "echo \"CONTRACT_ID = $CONTRACT_ID\""
   ]
  },
  {
   "cell_type": "markdown",
   "id": "fb633e68-7177-44ac-a46b-009539093419",
   "metadata": {},
   "source": [
    "Marlowe Runtime sử dụng UTxO (sáng tạo) đầu tiên của hợp đồng để xác định nó trong suốt vòng đời của nó.\n",
    "\n",
    "Kết quả của việc xây dựng giao dịch là mã định danh cho hợp đồng và tệp `tx-1.unsigned`, chứa giao dịch chưa được ký của Cardano để tạo hợp đồng, ở định dạng phong bì văn bản."
   ]
  },
  {
   "cell_type": "code",
   "execution_count": 20,
   "id": "43ddbc79-cc07-45e6-9266-aac7447b7fe3",
   "metadata": {
    "vscode": {
     "languageId": "shellscript"
    }
   },
   "outputs": [
    {
     "name": "stdout",
     "output_type": "stream",
     "text": [
      "cborHex: 86a400818258208461a35e612b38d4cb592e4ba1b7f13c2ff2825942d66e7200acc575cd4c8f1c010182a200581d601b120d7221aa5e7db58fd8e0753e156cf8c38742546a907e8104cc59011a3b793fffa300581d702ed2631dbb277c84334453c5c437b86325d371f0835a28b910a91a6e011a001e84800282005820a3d7e66932dd99e0a1ca6eb6f3f72d1ac2810f04f62571ed817f9559ad12feb1021a000305810b58206f2e3fee174fcd550f939e9badb11bf3cf549203070c67bc7ddc376926f9f98d9fff81d8799fd8799f40ffd8799fa1d8799fd8799fd87980d8799fd8799f581c1b120d7221aa5e7db58fd8e0753e156cf8c38742546a907e8104cc59ffd87a80ffffd8799f4040ffff1a001e8480a0a000ffd87c9f9fd8799fd8799fd8799fd87980d8799fd8799f581c1b120d7221aa5e7db58fd8e0753e156cf8c38742546a907e8104cc59ffd87a80ffffd8799fd87980d8799fd8799f581c1b120d7221aa5e7db58fd8e0753e156cf8c38742546a907e8104cc59ffd87a80ffffd8799f4040ffd87a9f1a04c4b400ffffd87a9fd8799fd87980d8799fd8799f581c1b120d7221aa5e7db58fd8e0753e156cf8c38742546a907e8104cc59ffd87a80ffffd87a9fd8799fd87980d8799fd8799f581c4959d439bd61c63c94a102be0defd6a54b36071d6789f05b7b0224a1ffd87a80ffffffd8799f4040ffd87a9f1a04c4b400ffd87c9f9fd8799fd8799fd8799fd87980d8799fd8799f581c4959d439bd61c63c94a102be0defd6a54b36071d6789f05b7b0224a1ffd87a80ffffd8799fd87980d8799fd8799f581c4959d439bd61c63c94a102be0defd6a54b36071d6789f05b7b0224a1ffd87a80ffffd8799f4040ffd87c9fd87a9f1a04c4b400ffd87a9f1a004c4b40ffffffd87a9fd8799fd87980d8799fd8799f581c4959d439bd61c63c94a102be0defd6a54b36071d6789f05b7b0224a1ffd87a80ffffd87a9fd8799fd87980d8799fd8799f581c1b120d7221aa5e7db58fd8e0753e156cf8c38742546a907e8104cc59ffd87a80ffffffd8799f4040ffd87c9fd87a9f1a04c4b400ffd87a9f1a004c4b40ffffd87980ffffff1b0000018710c47c08d87980ffffffff1b0000018710569f08d87980ffff80f5f6\n",
      "description: ''\n",
      "type: TxBodyBabbage\n"
     ]
    }
   ],
   "source": [
    "json2yaml tx-1.unsigned"
   ]
  },
  {
   "cell_type": "markdown",
   "id": "1f0d00de-4fd7-41bd-a933-170de9ef2688",
   "metadata": {},
   "source": [
    "Có nhiều cách để ký và gửi giao dịch Cardano:\n",
    "- `cardano-cli` tại dòng lệnh\n",
    "- `cardano-wallet` tại dòng lệnh hoặc dưới dạng dịch vụ REST\n",
    "- `cardano-hw-cli` đối với ví phần cứng tại dòng lệnh\n",
    "- ví CIP-30 tương thích với Babbage trong trình duyệt web\n",
    "- `marlowe-cli` tại dòng lệnh\n",
    "\n",
    "Để thuận tiện, ở đây chúng ta sử dụng `marlowe-cli giao dịch gửi`. Người ta có thể phải đợi một phút hoặc lâu hơn để các giao dịch được xác nhận trên blockchain."
   ]
  },
  {
   "cell_type": "code",
   "execution_count": 21,
   "id": "ae1f6a5f-b4f7-452f-9d1b-f0545135deb5",
   "metadata": {
    "vscode": {
     "languageId": "shellscript"
    }
   },
   "outputs": [
    {
     "name": "stdout",
     "output_type": "stream",
     "text": [
      "TX_1 = 3bd6f3011ebabd0d55182aa657a7b841faa9f4b823d1fd76a215d917d0c61895\n"
     ]
    }
   ],
   "source": [
    "TX_1=$(\n",
    "marlowe-cli transaction submit \\\n",
    "  --tx-body-file tx-1.unsigned \\\n",
    "  --required-signer \"$LENDER_SKEY\" \\\n",
    "  --timeout 600 \\\n",
    "| sed -e 's/^TxId \"\\(.*\\)\"$/\\1/' \\\n",
    ")\n",
    "echo \"TX_1 = $TX_1\""
   ]
  },
  {
   "cell_type": "markdown",
   "id": "aa349a31-4e44-42c9-8c3d-e910f195325d",
   "metadata": {},
   "source": [
    "Người ta có thể xem giao dịch trên Cardano explorer. Đôi khi phải mất ba mươi giây hoặc lâu hơn để giao dịch hiển thị trong explorer."
   ]
  },
  {
   "cell_type": "code",
   "execution_count": 22,
   "id": "72115506-5bfd-480f-b3f0-47520dca84c1",
   "metadata": {
    "vscode": {
     "languageId": "shellscript"
    }
   },
   "outputs": [
    {
     "name": "stdout",
     "output_type": "stream",
     "text": [
      "https://preprod.cardanoscan.io/transaction/3bd6f3011ebabd0d55182aa657a7b841faa9f4b823d1fd76a215d917d0c61895?tab=utxo\n"
     ]
    }
   ],
   "source": [
    "echo \"$EXPLORER_URL\"/transaction/\"$TX_1?tab=utxo\""
   ]
  },
  {
   "cell_type": "markdown",
   "id": "3b3dae70-a556-4621-bab9-fd92b9f165eb",
   "metadata": {},
   "source": [
    "Người ta cũng có thể kiểm tra UTxO của hợp đồng bằng cách sử dụng `cardano-cli`."
   ]
  },
  {
   "cell_type": "code",
   "execution_count": 23,
   "id": "c4af1000-9220-4f31-92e8-ee5eb405df0b",
   "metadata": {
    "vscode": {
     "languageId": "shellscript"
    }
   },
   "outputs": [
    {
     "name": "stdout",
     "output_type": "stream",
     "text": [
      "                           TxHash                                 TxIx        Amount\n",
      "--------------------------------------------------------------------------------------\n",
      "3bd6f3011ebabd0d55182aa657a7b841faa9f4b823d1fd76a215d917d0c61895     1        2000000 lovelace + TxOutDatumHash ScriptDataInBabbageEra \"a3d7e66932dd99e0a1ca6eb6f3f72d1ac2810f04f62571ed817f9559ad12feb1\"\n"
     ]
    }
   ],
   "source": [
    "cardano-cli query utxo --testnet-magic \"$CARDANO_TESTNET_MAGIC\" --tx-in \"$TX_1#1\""
   ]
  },
  {
   "cell_type": "markdown",
   "id": "c42fef94-fbf9-4208-90c3-3f93a2eb5290",
   "metadata": {},
   "source": [
    "## Xem chi tiết của hợp đồng trên blockchain\n",
    "\n",
    "Lệnh  `marlowe-runtime-cli log` của Marlowe Runtime có thể tìm nạp hợp đồng từ blockchain và in thông tin về hợp đồng đó."
   ]
  },
  {
   "cell_type": "code",
   "execution_count": 24,
   "id": "a753938c-92bb-43aa-bb13-d09a112939c6",
   "metadata": {
    "vscode": {
     "languageId": "shellscript"
    }
   },
   "outputs": [
    {
     "name": "stdout",
     "output_type": "stream",
     "text": [
      "\u001b[93mtransaction 3bd6f3011ebabd0d55182aa657a7b841faa9f4b823d1fd76a215d917d0c61895 (creation)\n",
      "\u001b[0mContractId:      3bd6f3011ebabd0d55182aa657a7b841faa9f4b823d1fd76a215d917d0c61895#1\n",
      "SlotNo:          23920017\n",
      "BlockNo:         755074\n",
      "BlockId:         3235ba612d6df4e536da88890b39cc0fbb96ff3313643dd999ef31ed699f3af2\n",
      "ScriptAddress:   addr_test1wqhdyccahvnheppng3fut3phhp3jt5m37zp4529ezz535ms2u9jqv\n",
      "Marlowe Version: 1\n",
      "\n",
      "    When [\n",
      "      (Case\n",
      "         (Deposit (Address \"addr_test1vqd3yrtjyx49uld43lvwqaf7z4k03su8gf2x4yr7syzvckgfzm4ck\") (Address \"addr_test1vqd3yrtjyx49uld43lvwqaf7z4k03su8gf2x4yr7syzvckgfzm4ck\")\n",
      "            (Token \"\" \"\")\n",
      "            (Constant 80000000))\n",
      "         (Pay (Address \"addr_test1vqd3yrtjyx49uld43lvwqaf7z4k03su8gf2x4yr7syzvckgfzm4ck\")\n",
      "            (Party (Address \"addr_test1vpy4n4peh4suv0y55yptur0066j5kds8r4ncnuzm0vpzfgg0dhz6d\"))\n",
      "            (Token \"\" \"\")\n",
      "            (Constant 80000000)\n",
      "            (When [\n",
      "               (Case\n",
      "                  (Deposit (Address \"addr_test1vpy4n4peh4suv0y55yptur0066j5kds8r4ncnuzm0vpzfgg0dhz6d\") (Address \"addr_test1vpy4n4peh4suv0y55yptur0066j5kds8r4ncnuzm0vpzfgg0dhz6d\")\n",
      "                     (Token \"\" \"\")\n",
      "                     (AddValue\n",
      "                        (Constant 80000000)\n",
      "                        (Constant 5000000)))\n",
      "                  (Pay (Address \"addr_test1vpy4n4peh4suv0y55yptur0066j5kds8r4ncnuzm0vpzfgg0dhz6d\")\n",
      "                     (Party (Address \"addr_test1vqd3yrtjyx49uld43lvwqaf7z4k03su8gf2x4yr7syzvckgfzm4ck\"))\n",
      "                     (Token \"\" \"\")\n",
      "                     (AddValue\n",
      "                        (Constant 80000000)\n",
      "                        (Constant 5000000)) Close))] 1679613525000 Close)))] 1679606325000 Close\n",
      "\n"
     ]
    }
   ],
   "source": [
    "marlowe-runtime-cli log --show-contract \"$CONTRACT_ID\""
   ]
  },
  {
   "cell_type": "markdown",
   "id": "d44441bd-5679-498a-a4f0-156b7087a2b9",
   "metadata": {},
   "source": [
    "Bạn có thể truy xuất thêm chi tiết bằng cách sử dụng `marlowe-pipe`."
   ]
  },
  {
   "cell_type": "code",
   "execution_count": 25,
   "id": "2ea93a41-ad4a-4040-842a-6c2eec4ba4ae",
   "metadata": {
    "vscode": {
     "languageId": "shellscript"
    }
   },
   "outputs": [
    {
     "name": "stdout",
     "output_type": "stream",
     "text": [
      "creation:\n",
      "  output:\n",
      "    address: 702ed2631dbb277c84334453c5c437b86325d371f0835a28b910a91a6e\n",
      "    assets:\n",
      "      ada: 2000000\n",
      "      tokens: []\n",
      "    datum:\n",
      "      marloweContract:\n",
      "        timeout: 1679606325000\n",
      "        timeout_continuation: close\n",
      "        when:\n",
      "        - case:\n",
      "            deposits: 80000000\n",
      "            into_account:\n",
      "              address: addr_test1vqd3yrtjyx49uld43lvwqaf7z4k03su8gf2x4yr7syzvckgfzm4ck\n",
      "            of_token:\n",
      "              currency_symbol: ''\n",
      "              token_name: ''\n",
      "            party:\n",
      "              address: addr_test1vqd3yrtjyx49uld43lvwqaf7z4k03su8gf2x4yr7syzvckgfzm4ck\n",
      "          then:\n",
      "            from_account:\n",
      "              address: addr_test1vqd3yrtjyx49uld43lvwqaf7z4k03su8gf2x4yr7syzvckgfzm4ck\n",
      "            pay: 80000000\n",
      "            then:\n",
      "              timeout: 1679613525000\n",
      "              timeout_continuation: close\n",
      "              when:\n",
      "              - case:\n",
      "                  deposits:\n",
      "                    add: 80000000\n",
      "                    and: 5000000\n",
      "                  into_account:\n",
      "                    address: addr_test1vpy4n4peh4suv0y55yptur0066j5kds8r4ncnuzm0vpzfgg0dhz6d\n",
      "                  of_token:\n",
      "                    currency_symbol: ''\n",
      "                    token_name: ''\n",
      "                  party:\n",
      "                    address: addr_test1vpy4n4peh4suv0y55yptur0066j5kds8r4ncnuzm0vpzfgg0dhz6d\n",
      "                then:\n",
      "                  from_account:\n",
      "                    address: addr_test1vpy4n4peh4suv0y55yptur0066j5kds8r4ncnuzm0vpzfgg0dhz6d\n",
      "                  pay:\n",
      "                    add: 80000000\n",
      "                    and: 5000000\n",
      "                  then: close\n",
      "                  to:\n",
      "                    party:\n",
      "                      address: addr_test1vqd3yrtjyx49uld43lvwqaf7z4k03su8gf2x4yr7syzvckgfzm4ck\n",
      "                  token:\n",
      "                    currency_symbol: ''\n",
      "                    token_name: ''\n",
      "            to:\n",
      "              party:\n",
      "                address: addr_test1vpy4n4peh4suv0y55yptur0066j5kds8r4ncnuzm0vpzfgg0dhz6d\n",
      "            token:\n",
      "              currency_symbol: ''\n",
      "              token_name: ''\n",
      "      marloweParams:\n",
      "        rolesCurrency: ''\n",
      "      marloweState:\n",
      "        accounts:\n",
      "        - - - address: addr_test1vqd3yrtjyx49uld43lvwqaf7z4k03su8gf2x4yr7syzvckgfzm4ck\n",
      "            - currency_symbol: ''\n",
      "              token_name: ''\n",
      "          - 2000000\n",
      "        boundValues: []\n",
      "        choices: []\n",
      "        minTime: 0\n",
      "    utxo:\n",
      "      txId: 3bd6f3011ebabd0d55182aa657a7b841faa9f4b823d1fd76a215d917d0c61895\n",
      "      txIx: 1\n",
      "  payoutValidatorHash: e165610232235bbbbeff5b998b233daae42979dec92a6722d9cda989\n",
      "response: info\n",
      "steps: []\n"
     ]
    }
   ],
   "source": [
    "echo '{\"request\" : \"get\", \"contractId\" : \"'\"$CONTRACT_ID\"'\"}' | marlowe-pipe 2> /dev/null | json2yaml"
   ]
  },
  {
   "cell_type": "markdown",
   "id": "cd4fa3da-0f75-4b96-a911-0ba5bea722f8",
   "metadata": {},
   "source": [
    "## Giao dịch 2. Người cho vay gửi tiền gốc\n",
    "\n",
    "Người cho vay gửi 80 ADA tiền gốc của họ vào hợp đồng bằng cách sử dụng lệnh `marlowe-runtime-cli deposit` của Marlowe Runtime. Người cho vay đang cung cấp vốn cho và nhận tiền thay đổi từ giao dịch này, vì vậy chúng ta cung cấp địa chỉ của họ. Chúng ta cung cấp số nhận dạng hợp đồng và lưu giao dịch chưa ký trong tệp `tx-2.unsigned`."
   ]
  },
  {
   "cell_type": "code",
   "execution_count": 26,
   "id": "bf42d7d0-be81-42a1-8da7-5ff07b9611ee",
   "metadata": {
    "tags": [],
    "vscode": {
     "languageId": "shellscript"
    }
   },
   "outputs": [
    {
     "name": "stdout",
     "output_type": "stream",
     "text": [
      "Usage: marlowe-runtime-cli deposit --change-address ADDRESS [-a|--address ADDRESS] \n",
      "                       [--collateral-utxo UTXO] --manual-sign FILE_PATH \n",
      "                       [-m|--metadata-file FILE_PATH] [--tags-file FILE_PATH]\n",
      "                       (-c|--contract CONTRACT_ID) --to-party ROLE_NAME|ADDRESS\n",
      "                       --from-party ROLE_NAME|ADDRESS \n",
      "                       ((-c|--currency MINTING_POLICY_ID)\n",
      "                         (-n|--token-name TOKEN_NAME) (-q|--quantity INTEGER) |\n",
      "                         (-l|--lovelace INTEGER)) \n",
      "                       [--continuation-file FILE_PATH] \n",
      "                       [-l|--validity-lower-bound TIMESTAMP] \n",
      "                       [-u|--validity-upper-bound TIMESTAMP]\n",
      "\n",
      "  Deposit funds into a contract\n",
      "\n",
      "Available options:\n",
      "  --change-address ADDRESS The address to which the change of the transaction\n",
      "                           should be sent.\n",
      "  -a,--address ADDRESS     An address whose UTXOs can be used as inputs to the\n",
      "                           transaction\n",
      "  --collateral-utxo UTXO   A UTXO which may be used as a collateral input\n",
      "  --manual-sign FILE_PATH  Sign the transaction manually. Writes the CBOR bytes\n",
      "                           of the unsigned transaction to the specified file for\n",
      "                           manual signing. Use the submit command to submit the\n",
      "                           signed transaction.\n",
      "  -m,--metadata-file FILE_PATH\n",
      "                           A JSON file containing a map of integer indexes to\n",
      "                           arbitrary JSON values that will be added to the\n",
      "                           transaction's metadata.\n",
      "  --tags-file FILE_PATH    A JSON file containing a map of tags indexes to\n",
      "                           optional JSON-encoded metadata values that will be\n",
      "                           added to the transaction's 1564 metadata key. Note\n",
      "                           that the entire 1564 key will be overridden if also\n",
      "                           specified in --metadata-file.\n",
      "  -c,--contract CONTRACT_ID\n",
      "                           The ID of the Marlowe contract to deposit funds into\n",
      "  --to-party ROLE_NAME|ADDRESS\n",
      "                           The party into whose account to deposit the funds.\n",
      "  --from-party ROLE_NAME|ADDRESS\n",
      "                           The party depositing the funds.\n",
      "  -c,--currency MINTING_POLICY_ID\n",
      "                           The minting policy ID of the token(s) to deposit.\n",
      "  -n,--token-name TOKEN_NAME\n",
      "                           The name of the token(s) to deposit.\n",
      "  -q,--quantity INTEGER    The quantity of tokens to deposit.\n",
      "  -l,--lovelace INTEGER    The quantity of lovelace to deposit.\n",
      "  --continuation-file FILE_PATH\n",
      "                           A file containing the continuation contract JSON for\n",
      "                           making a choice in a Merkleized contract.\n",
      "  -l,--validity-lower-bound TIMESTAMP\n",
      "                           The lower bound of the transaction validity interval\n",
      "                           in POSIX milliseconds. If not specified, the current\n",
      "                           time (as determined by the Cardano node) will be\n",
      "                           used.\n",
      "  -u,--validity-upper-bound TIMESTAMP\n",
      "                           The upper bound of the transaction validity interval\n",
      "                           in POSIX milliseconds. If not specified, the next\n",
      "                           timeout in the contract will be used (bounded by the\n",
      "                           maximum value allowed by the Cardano node).\n",
      "  -h,--help                Show this help text\n"
     ]
    }
   ],
   "source": [
    "marlowe-runtime-cli deposit --help"
   ]
  },
  {
   "cell_type": "code",
   "execution_count": 27,
   "id": "96e0b7b9-4816-46d3-ad2c-580dd7547b07",
   "metadata": {
    "vscode": {
     "languageId": "shellscript"
    }
   },
   "outputs": [
    {
     "name": "stdout",
     "output_type": "stream",
     "text": [
      "TX_2 = bc286bb53f50a7355e2765462546e03d17cabde30420b6bfd1531617386facf4\n"
     ]
    }
   ],
   "source": [
    "TX_2=$(\n",
    "marlowe-runtime-cli deposit \\\n",
    "  --contract \"$CONTRACT_ID\" \\\n",
    "  --from-party \"$LENDER_ADDR\" \\\n",
    "  --to-party \"$LENDER_ADDR\" \\\n",
    "  --lovelace \"$PRINCIPAL\" \\\n",
    "  --change-address \"$LENDER_ADDR\" \\\n",
    "  --manual-sign tx-2.unsigned \\\n",
    "| jq -r 'fromjson | .txId' \\\n",
    ")\n",
    "echo \"TX_2 = $TX_2\""
   ]
  },
  {
   "cell_type": "markdown",
   "id": "d888ede9-b756-4ab4-bd8a-f9090870d8ca",
   "metadata": {},
   "source": [
    "Lưu ý rằng nếu giao dịch vi phạm logic của hợp đồng Marlowe, người ta sẽ nhận được thông báo lỗi. Ví dụ: giả sử chúng ta gửi số tiền không chính xác hoặc gửi số tiền đó vào tài khoản nội bộ của bên sai."
   ]
  },
  {
   "cell_type": "code",
   "execution_count": 28,
   "id": "28c51136-8e5a-483b-891a-e9345f1a6be5",
   "metadata": {
    "vscode": {
     "languageId": "shellscript"
    }
   },
   "outputs": [
    {
     "name": "stdout",
     "output_type": "stream",
     "text": [
      "ApplyFailed (ApplyInputsConstraintsBuildupFailed (MarloweComputeTransactionFailed \"TEApplyNoMatchError\"))\n"
     ]
    },
    {
     "ename": "",
     "evalue": "1",
     "output_type": "error",
     "traceback": []
    }
   ],
   "source": [
    "marlowe-runtime-cli deposit \\\n",
    "  --contract \"$CONTRACT_ID\" \\\n",
    "  --from-party \"$LENDER_ADDR\" \\\n",
    "  --to-party \"$LENDER_ADDR\" \\\n",
    "  --lovelace 80 \\\n",
    "  --change-address \"$LENDER_ADDR\" \\\n",
    "  --manual-sign /dev/null"
   ]
  },
  {
   "cell_type": "code",
   "execution_count": 29,
   "id": "ab45188c-ab07-4918-96f2-79da42ab92f8",
   "metadata": {
    "vscode": {
     "languageId": "shellscript"
    }
   },
   "outputs": [
    {
     "name": "stdout",
     "output_type": "stream",
     "text": [
      "ApplyFailed (ApplyInputsConstraintsBuildupFailed (MarloweComputeTransactionFailed \"TEApplyNoMatchError\"))\n"
     ]
    },
    {
     "ename": "",
     "evalue": "1",
     "output_type": "error",
     "traceback": []
    }
   ],
   "source": [
    "marlowe-runtime-cli deposit \\\n",
    "  --contract \"$CONTRACT_ID\" \\\n",
    "  --from-party \"$LENDER_ADDR\" \\\n",
    "  --to-party \"$BORROWER_ADDR\" \\\n",
    "  --lovelace \"$PRINCIPAL\"\\\n",
    "  --change-address \"$LENDER_ADDR\" \\\n",
    "  --manual-sign /dev/null"
   ]
  },
  {
   "cell_type": "markdown",
   "id": "a75dc0f2-9be5-4f3c-bce4-ec902063967d",
   "metadata": {},
   "source": [
    "[Sách hướng dẫn gỡ lỗi Marlowe](https://github.com/input-output-hk/marlowe-cardano/blob/main/marlowe/debugging-cookbook.md) hướng dẫn giải thích các thông báo lỗi. Ngoài ra, người ta có thể xác định các hành động có thể thực hiện đối với hợp đồng ở giai đoạn thực hiện hiện tại bằng cách nghiên cứu trạng thái hiện tại của hợp đồng hoặc bằng cách sử dụng sân chơi Marlowe để mô phỏng hợp đồng.\n",
    "\n",
    "![Simulation of zero-coupon bond contract in Marlowe Playground](images/zcb-simulation.png)"
   ]
  },
  {
   "cell_type": "markdown",
   "id": "877807a1-7e62-4258-8d3c-b82664821dc9",
   "metadata": {},
   "source": [
    "Một lần nữa, hãy sử dụng `marlowe-cli` để gửi giao dịch rồi đợi xác nhận."
   ]
  },
  {
   "cell_type": "code",
   "execution_count": 30,
   "id": "bb1b0e65-3cf7-42e1-9495-ce45007e331a",
   "metadata": {
    "vscode": {
     "languageId": "shellscript"
    }
   },
   "outputs": [
    {
     "name": "stdout",
     "output_type": "stream",
     "text": [
      "TxId \"bc286bb53f50a7355e2765462546e03d17cabde30420b6bfd1531617386facf4\"\n"
     ]
    }
   ],
   "source": [
    "marlowe-cli transaction submit \\\n",
    "  --tx-body-file tx-2.unsigned \\\n",
    "  --required-signer \"$LENDER_SKEY\" \\\n",
    "  --timeout 600"
   ]
  },
  {
   "cell_type": "markdown",
   "id": "eed6b35f-7aa9-4266-98d2-ac7320ccaf69",
   "metadata": {},
   "source": [
    "Người ta có thể xem giao dịch trên Cardano explorer. Đôi khi phải mất ba mươi giây hoặc lâu hơn để giao dịch hiển thị trong explorer."
   ]
  },
  {
   "cell_type": "code",
   "execution_count": 31,
   "id": "bb813544-092a-4831-bff5-5ea7ce8a9259",
   "metadata": {
    "vscode": {
     "languageId": "shellscript"
    }
   },
   "outputs": [
    {
     "name": "stdout",
     "output_type": "stream",
     "text": [
      "https://preprod.cardanoscan.io/transaction/bc286bb53f50a7355e2765462546e03d17cabde30420b6bfd1531617386facf4?tab=utxo\n"
     ]
    }
   ],
   "source": [
    "echo \"$EXPLORER_URL\"/transaction/\"$TX_2?tab=utxo\""
   ]
  },
  {
   "cell_type": "markdown",
   "id": "44cd316b-d4db-4d2b-87a7-eb38b95f5fb3",
   "metadata": {},
   "source": [
    "Người ta có thể thấy rằng người cho vay có ít hơn 82 ADA so với ban đầu. Hai ADA đã được gửi vào hợp đồng khi nó được tạo ra và 80 ADA đã được trả cho người vay trong giao dịch thứ hai."
   ]
  },
  {
   "cell_type": "code",
   "execution_count": 32,
   "id": "b45dc15d-f54f-49cb-a36d-0524f47fd70e",
   "metadata": {
    "vscode": {
     "languageId": "shellscript"
    }
   },
   "outputs": [
    {
     "name": "stdout",
     "output_type": "stream",
     "text": [
      "                           TxHash                                 TxIx        Amount\n",
      "--------------------------------------------------------------------------------------\n",
      "bc286bb53f50a7355e2765462546e03d17cabde30420b6bfd1531617386facf4     0        917043702 lovelace + TxOutDatumNone\n"
     ]
    }
   ],
   "source": [
    "cardano-cli query utxo --testnet-magic \"$CARDANO_TESTNET_MAGIC\" --address \"$LENDER_ADDR\""
   ]
  },
  {
   "cell_type": "markdown",
   "id": "8538b320-c3d6-45cb-88f7-aab77f77b78b",
   "metadata": {},
   "source": [
    "Người vay hiện có thêm 80 ADA (tiền gốc của khoản vay)."
   ]
  },
  {
   "cell_type": "code",
   "execution_count": 33,
   "id": "304baf28-2a07-4ca7-8576-c10c8a960fcd",
   "metadata": {
    "vscode": {
     "languageId": "shellscript"
    }
   },
   "outputs": [
    {
     "name": "stdout",
     "output_type": "stream",
     "text": [
      "                           TxHash                                 TxIx        Amount\n",
      "--------------------------------------------------------------------------------------\n",
      "8461a35e612b38d4cb592e4ba1b7f13c2ff2825942d66e7200acc575cd4c8f1c     2        1000000000 lovelace + TxOutDatumNone\n",
      "bc286bb53f50a7355e2765462546e03d17cabde30420b6bfd1531617386facf4     2        80000000 lovelace + TxOutDatumNone\n"
     ]
    }
   ],
   "source": [
    "cardano-cli query utxo --testnet-magic \"$CARDANO_TESTNET_MAGIC\" --address \"$BORROWER_ADDR\""
   ]
  },
  {
   "cell_type": "markdown",
   "id": "369f3945-299b-41dd-9cbf-f3864002b6aa",
   "metadata": {},
   "source": [
    "Hợp đồng Marlowe vẫn có 2 ADA từ khi tạo ra nó."
   ]
  },
  {
   "cell_type": "code",
   "execution_count": 34,
   "id": "6485d605-dec4-4bab-86f6-81bf002041ed",
   "metadata": {
    "vscode": {
     "languageId": "shellscript"
    }
   },
   "outputs": [
    {
     "name": "stdout",
     "output_type": "stream",
     "text": [
      "                           TxHash                                 TxIx        Amount\n",
      "--------------------------------------------------------------------------------------\n",
      "bc286bb53f50a7355e2765462546e03d17cabde30420b6bfd1531617386facf4     1        2000000 lovelace + TxOutDatumHash ScriptDataInBabbageEra \"a93e880b40ff61cda04fd23696b1abe3d8ee13591896aaad3f42441ced75f5b2\"\n"
     ]
    }
   ],
   "source": [
    "cardano-cli query utxo --testnet-magic \"$CARDANO_TESTNET_MAGIC\" --tx-in \"$TX_2#1\""
   ]
  },
  {
   "cell_type": "markdown",
   "id": "3eb0d02e-c30c-4845-86b5-602c2279b518",
   "metadata": {},
   "source": [
    "## Xem thêm tiến độ của hợp đồng trên blockchain\n",
    "\n",
    "Lệnh  `marlowe-runtime-cli log` của Marlowe Runtime có thể tìm nạp hợp đồng từ blockchain và in thông tin về hợp đồng đó."
   ]
  },
  {
   "cell_type": "code",
   "execution_count": 35,
   "id": "e0461725-7f2b-4256-ac83-8e681ecb3e35",
   "metadata": {
    "vscode": {
     "languageId": "shellscript"
    }
   },
   "outputs": [
    {
     "name": "stdout",
     "output_type": "stream",
     "text": [
      "\u001b[93mtransaction 3bd6f3011ebabd0d55182aa657a7b841faa9f4b823d1fd76a215d917d0c61895 (creation)\n",
      "\u001b[0mContractId:      3bd6f3011ebabd0d55182aa657a7b841faa9f4b823d1fd76a215d917d0c61895#1\n",
      "SlotNo:          23920017\n",
      "BlockNo:         755074\n",
      "BlockId:         3235ba612d6df4e536da88890b39cc0fbb96ff3313643dd999ef31ed699f3af2\n",
      "ScriptAddress:   addr_test1wqhdyccahvnheppng3fut3phhp3jt5m37zp4529ezz535ms2u9jqv\n",
      "Marlowe Version: 1\n",
      "\n",
      "    When [\n",
      "      (Case\n",
      "         (Deposit (Address \"addr_test1vqd3yrtjyx49uld43lvwqaf7z4k03su8gf2x4yr7syzvckgfzm4ck\") (Address \"addr_test1vqd3yrtjyx49uld43lvwqaf7z4k03su8gf2x4yr7syzvckgfzm4ck\")\n",
      "            (Token \"\" \"\")\n",
      "            (Constant 80000000))\n",
      "         (Pay (Address \"addr_test1vqd3yrtjyx49uld43lvwqaf7z4k03su8gf2x4yr7syzvckgfzm4ck\")\n",
      "            (Party (Address \"addr_test1vpy4n4peh4suv0y55yptur0066j5kds8r4ncnuzm0vpzfgg0dhz6d\"))\n",
      "            (Token \"\" \"\")\n",
      "            (Constant 80000000)\n",
      "            (When [\n",
      "               (Case\n",
      "                  (Deposit (Address \"addr_test1vpy4n4peh4suv0y55yptur0066j5kds8r4ncnuzm0vpzfgg0dhz6d\") (Address \"addr_test1vpy4n4peh4suv0y55yptur0066j5kds8r4ncnuzm0vpzfgg0dhz6d\")\n",
      "                     (Token \"\" \"\")\n",
      "                     (AddValue\n",
      "                        (Constant 80000000)\n",
      "                        (Constant 5000000)))\n",
      "                  (Pay (Address \"addr_test1vpy4n4peh4suv0y55yptur0066j5kds8r4ncnuzm0vpzfgg0dhz6d\")\n",
      "                     (Party (Address \"addr_test1vqd3yrtjyx49uld43lvwqaf7z4k03su8gf2x4yr7syzvckgfzm4ck\"))\n",
      "                     (Token \"\" \"\")\n",
      "                     (AddValue\n",
      "                        (Constant 80000000)\n",
      "                        (Constant 5000000)) Close))] 1679613525000 Close)))] 1679606325000 Close\n",
      "\n",
      "\u001b[93mtransaction bc286bb53f50a7355e2765462546e03d17cabde30420b6bfd1531617386facf4\n",
      "\u001b[0mContractId: 3bd6f3011ebabd0d55182aa657a7b841faa9f4b823d1fd76a215d917d0c61895#1\n",
      "SlotNo:     23920533\n",
      "BlockNo:    755085\n",
      "BlockId:    afb9ca1ee1d06282e65943ae57d09622ca8d648a63d69eab1dd186fa5b3b7bc4\n",
      "Inputs:     [NormalInput (IDeposit \"\\\"addr_test1vqd3yrtjyx49uld43lvwqaf7z4k03su8gf2x4yr7syzvckgfzm4ck\\\"\" \"\\\"addr_test1vqd3yrtjyx49uld43lvwqaf7z4k03su8gf2x4yr7syzvckgfzm4ck\\\"\" (Token \"\" \"\") 80000000)]\n",
      "\n",
      "    When [\n",
      "      (Case\n",
      "         (Deposit (Address \"addr_test1vpy4n4peh4suv0y55yptur0066j5kds8r4ncnuzm0vpzfgg0dhz6d\") (Address \"addr_test1vpy4n4peh4suv0y55yptur0066j5kds8r4ncnuzm0vpzfgg0dhz6d\")\n",
      "            (Token \"\" \"\")\n",
      "            (AddValue\n",
      "               (Constant 80000000)\n",
      "               (Constant 5000000)))\n",
      "         (Pay (Address \"addr_test1vpy4n4peh4suv0y55yptur0066j5kds8r4ncnuzm0vpzfgg0dhz6d\")\n",
      "            (Party (Address \"addr_test1vqd3yrtjyx49uld43lvwqaf7z4k03su8gf2x4yr7syzvckgfzm4ck\"))\n",
      "            (Token \"\" \"\")\n",
      "            (AddValue\n",
      "               (Constant 80000000)\n",
      "               (Constant 5000000)) Close))] 1679613525000 Close\n",
      "\n"
     ]
    }
   ],
   "source": [
    "marlowe-runtime-cli log --show-contract \"$CONTRACT_ID\""
   ]
  },
  {
   "cell_type": "markdown",
   "id": "488eb566-c1d7-49a5-91bd-09922aa8493c",
   "metadata": {},
   "source": [
    "Bạn có thể truy xuất thêm chi tiết bằng cách sử dụng `marlowe-pipe`."
   ]
  },
  {
   "cell_type": "code",
   "execution_count": 36,
   "id": "d373efd1-9947-4ce9-837e-ba0796d89146",
   "metadata": {
    "vscode": {
     "languageId": "shellscript"
    }
   },
   "outputs": [
    {
     "name": "stdout",
     "output_type": "stream",
     "text": [
      "creation:\n",
      "  output:\n",
      "    address: 702ed2631dbb277c84334453c5c437b86325d371f0835a28b910a91a6e\n",
      "    assets:\n",
      "      ada: 2000000\n",
      "      tokens: []\n",
      "    datum:\n",
      "      marloweContract:\n",
      "        timeout: 1679606325000\n",
      "        timeout_continuation: close\n",
      "        when:\n",
      "        - case:\n",
      "            deposits: 80000000\n",
      "            into_account:\n",
      "              address: addr_test1vqd3yrtjyx49uld43lvwqaf7z4k03su8gf2x4yr7syzvckgfzm4ck\n",
      "            of_token:\n",
      "              currency_symbol: ''\n",
      "              token_name: ''\n",
      "            party:\n",
      "              address: addr_test1vqd3yrtjyx49uld43lvwqaf7z4k03su8gf2x4yr7syzvckgfzm4ck\n",
      "          then:\n",
      "            from_account:\n",
      "              address: addr_test1vqd3yrtjyx49uld43lvwqaf7z4k03su8gf2x4yr7syzvckgfzm4ck\n",
      "            pay: 80000000\n",
      "            then:\n",
      "              timeout: 1679613525000\n",
      "              timeout_continuation: close\n",
      "              when:\n",
      "              - case:\n",
      "                  deposits:\n",
      "                    add: 80000000\n",
      "                    and: 5000000\n",
      "                  into_account:\n",
      "                    address: addr_test1vpy4n4peh4suv0y55yptur0066j5kds8r4ncnuzm0vpzfgg0dhz6d\n",
      "                  of_token:\n",
      "                    currency_symbol: ''\n",
      "                    token_name: ''\n",
      "                  party:\n",
      "                    address: addr_test1vpy4n4peh4suv0y55yptur0066j5kds8r4ncnuzm0vpzfgg0dhz6d\n",
      "                then:\n",
      "                  from_account:\n",
      "                    address: addr_test1vpy4n4peh4suv0y55yptur0066j5kds8r4ncnuzm0vpzfgg0dhz6d\n",
      "                  pay:\n",
      "                    add: 80000000\n",
      "                    and: 5000000\n",
      "                  then: close\n",
      "                  to:\n",
      "                    party:\n",
      "                      address: addr_test1vqd3yrtjyx49uld43lvwqaf7z4k03su8gf2x4yr7syzvckgfzm4ck\n",
      "                  token:\n",
      "                    currency_symbol: ''\n",
      "                    token_name: ''\n",
      "            to:\n",
      "              party:\n",
      "                address: addr_test1vpy4n4peh4suv0y55yptur0066j5kds8r4ncnuzm0vpzfgg0dhz6d\n",
      "            token:\n",
      "              currency_symbol: ''\n",
      "              token_name: ''\n",
      "      marloweParams:\n",
      "        rolesCurrency: ''\n",
      "      marloweState:\n",
      "        accounts:\n",
      "        - - - address: addr_test1vqd3yrtjyx49uld43lvwqaf7z4k03su8gf2x4yr7syzvckgfzm4ck\n",
      "            - currency_symbol: ''\n",
      "              token_name: ''\n",
      "          - 2000000\n",
      "        boundValues: []\n",
      "        choices: []\n",
      "        minTime: 0\n",
      "    utxo:\n",
      "      txId: 3bd6f3011ebabd0d55182aa657a7b841faa9f4b823d1fd76a215d917d0c61895\n",
      "      txIx: 1\n",
      "  payoutValidatorHash: e165610232235bbbbeff5b998b233daae42979dec92a6722d9cda989\n",
      "response: info\n",
      "steps:\n",
      "- contractId: 3bd6f3011ebabd0d55182aa657a7b841faa9f4b823d1fd76a215d917d0c61895#1\n",
      "  payouts: []\n",
      "  redeemer:\n",
      "  - input_from_party:\n",
      "      address: addr_test1vqd3yrtjyx49uld43lvwqaf7z4k03su8gf2x4yr7syzvckgfzm4ck\n",
      "    into_account:\n",
      "      address: addr_test1vqd3yrtjyx49uld43lvwqaf7z4k03su8gf2x4yr7syzvckgfzm4ck\n",
      "    of_token:\n",
      "      currency_symbol: ''\n",
      "      token_name: ''\n",
      "    that_deposits: 80000000\n",
      "  scriptOutput:\n",
      "    address: 702ed2631dbb277c84334453c5c437b86325d371f0835a28b910a91a6e\n",
      "    assets:\n",
      "      ada: 2000000\n",
      "      tokens: []\n",
      "    datum:\n",
      "      marloweContract:\n",
      "        timeout: 1679613525000\n",
      "        timeout_continuation: close\n",
      "        when:\n",
      "        - case:\n",
      "            deposits:\n",
      "              add: 80000000\n",
      "              and: 5000000\n",
      "            into_account:\n",
      "              address: addr_test1vpy4n4peh4suv0y55yptur0066j5kds8r4ncnuzm0vpzfgg0dhz6d\n",
      "            of_token:\n",
      "              currency_symbol: ''\n",
      "              token_name: ''\n",
      "            party:\n",
      "              address: addr_test1vpy4n4peh4suv0y55yptur0066j5kds8r4ncnuzm0vpzfgg0dhz6d\n",
      "          then:\n",
      "            from_account:\n",
      "              address: addr_test1vpy4n4peh4suv0y55yptur0066j5kds8r4ncnuzm0vpzfgg0dhz6d\n",
      "            pay:\n",
      "              add: 80000000\n",
      "              and: 5000000\n",
      "            then: close\n",
      "            to:\n",
      "              party:\n",
      "                address: addr_test1vqd3yrtjyx49uld43lvwqaf7z4k03su8gf2x4yr7syzvckgfzm4ck\n",
      "            token:\n",
      "              currency_symbol: ''\n",
      "              token_name: ''\n",
      "      marloweParams:\n",
      "        rolesCurrency: ''\n",
      "      marloweState:\n",
      "        accounts:\n",
      "        - - - address: addr_test1vqd3yrtjyx49uld43lvwqaf7z4k03su8gf2x4yr7syzvckgfzm4ck\n",
      "            - currency_symbol: ''\n",
      "              token_name: ''\n",
      "          - 2000000\n",
      "        boundValues: []\n",
      "        choices: []\n",
      "        minTime: 1679603355000\n",
      "    utxo:\n",
      "      txId: bc286bb53f50a7355e2765462546e03d17cabde30420b6bfd1531617386facf4\n",
      "      txIx: 1\n",
      "  step: apply\n",
      "  txId: bc286bb53f50a7355e2765462546e03d17cabde30420b6bfd1531617386facf4\n"
     ]
    }
   ],
   "source": [
    "echo '{\"request\" : \"get\", \"contractId\" : \"'\"$CONTRACT_ID\"'\"}' | marlowe-pipe 2> /dev/null | json2yaml"
   ]
  },
  {
   "cell_type": "markdown",
   "id": "e7c652f6-02da-4786-a54d-755d59e4aba9",
   "metadata": {},
   "source": [
    "## Giao dịch 3. Người vay hoàn trả khoản vay\n",
    "\n",
    "Sau một thời gian, người vay trả lại tiền gốc cộng với tiền lãi. Vì vậy, họ tài trợ cho giao dịch và nhận tiền thay đổi tại địa chỉ của họ."
   ]
  },
  {
   "cell_type": "code",
   "execution_count": 37,
   "id": "9756dcb3-a357-4b7d-b132-9c85105f0387",
   "metadata": {
    "vscode": {
     "languageId": "shellscript"
    }
   },
   "outputs": [
    {
     "name": "stdout",
     "output_type": "stream",
     "text": [
      "TX_3 = d159062c1321707d12d7abe14cfaca1881a7b1e3c65bb4d637070e4fc0da08c3\n"
     ]
    }
   ],
   "source": [
    "TX_3=$(\n",
    "marlowe-runtime-cli deposit \\\n",
    "  --contract \"$CONTRACT_ID\" \\\n",
    "  --from-party \"$BORROWER_ADDR\" \\\n",
    "  --to-party \"$BORROWER_ADDR\" \\\n",
    "  --lovelace \"$((PRINCIPAL+INTEREST))\" \\\n",
    "  --change-address \"$BORROWER_ADDR\" \\\n",
    "  --manual-sign tx-3.unsigned \\\n",
    "| jq -r 'fromjson | .txId' \\\n",
    ")\n",
    "echo \"TX_3 = $TX_3\""
   ]
  },
  {
   "cell_type": "markdown",
   "id": "ccdcc822-ba62-41cb-bde1-55bfc661ce16",
   "metadata": {},
   "source": [
    "Một lần nữa, hãy sử dụng `marlowe-cli` để gửi giao dịch rồi chờ xác nhận."
   ]
  },
  {
   "cell_type": "code",
   "execution_count": 38,
   "id": "5fa86263-3fde-4995-be45-9625cbb35237",
   "metadata": {
    "vscode": {
     "languageId": "shellscript"
    }
   },
   "outputs": [
    {
     "name": "stdout",
     "output_type": "stream",
     "text": [
      "TxId \"d159062c1321707d12d7abe14cfaca1881a7b1e3c65bb4d637070e4fc0da08c3\"\n"
     ]
    }
   ],
   "source": [
    "marlowe-cli transaction submit \\\n",
    "  --tx-body-file tx-3.unsigned \\\n",
    "  --required-signer \"$BORROWER_SKEY\" \\\n",
    "  --timeout 600"
   ]
  },
  {
   "cell_type": "markdown",
   "id": "3ef67b53-b30a-4408-a43e-97f1f0715ed0",
   "metadata": {},
   "source": [
    "Người ta có thể xem giao dịch trên Cardano explorer. Đôi khi phải mất ba mươi giây hoặc lâu hơn để giao dịch hiển thị trong explorer."
   ]
  },
  {
   "cell_type": "code",
   "execution_count": 39,
   "id": "94e9f529-529b-4777-b829-dcab0a5fc3b8",
   "metadata": {
    "vscode": {
     "languageId": "shellscript"
    }
   },
   "outputs": [
    {
     "name": "stdout",
     "output_type": "stream",
     "text": [
      "https://preprod.cardanoscan.io/transaction/d159062c1321707d12d7abe14cfaca1881a7b1e3c65bb4d637070e4fc0da08c3?tab=utxo\n"
     ]
    }
   ],
   "source": [
    "echo \"$EXPLORER_URL\"/transaction/\"$TX_3?tab=utxo\""
   ]
  },
  {
   "cell_type": "markdown",
   "id": "af13b1f3-d5e2-4ebc-8023-f0fd5875c0a5",
   "metadata": {},
   "source": [
    "Người ta có thể thấy rằng người cho vay đã nhận lại 80 ADA tiền gốc và 2 ADA PRINCIPAL khi hợp đồng được tạo, cùng với 5 ADA tiền lãi bổ sung, tổng cộng là 87 ADA."
   ]
  },
  {
   "cell_type": "code",
   "execution_count": 40,
   "id": "492de5e8-7f07-437c-9f88-80ccdf00636f",
   "metadata": {
    "vscode": {
     "languageId": "shellscript"
    }
   },
   "outputs": [
    {
     "name": "stdout",
     "output_type": "stream",
     "text": [
      "                           TxHash                                 TxIx        Amount\n",
      "--------------------------------------------------------------------------------------\n",
      "bc286bb53f50a7355e2765462546e03d17cabde30420b6bfd1531617386facf4     0        917043702 lovelace + TxOutDatumNone\n",
      "d159062c1321707d12d7abe14cfaca1881a7b1e3c65bb4d637070e4fc0da08c3     1        87000000 lovelace + TxOutDatumNone\n"
     ]
    }
   ],
   "source": [
    "cardano-cli query utxo --testnet-magic \"$CARDANO_TESTNET_MAGIC\" --address \"$LENDER_ADDR\""
   ]
  },
  {
   "cell_type": "markdown",
   "id": "1196c641-e92e-4848-a20b-b673d7fcbc71",
   "metadata": {},
   "source": [
    "Người vay bây giờ có ít hơn khoảng 5 ADA (tiền lãi của khoản vay) so với ban đầu."
   ]
  },
  {
   "cell_type": "code",
   "execution_count": 41,
   "id": "3e8f27e3-e94a-4332-94a2-2f8af8800d56",
   "metadata": {
    "vscode": {
     "languageId": "shellscript"
    }
   },
   "outputs": [
    {
     "name": "stdout",
     "output_type": "stream",
     "text": [
      "                           TxHash                                 TxIx        Amount\n",
      "--------------------------------------------------------------------------------------\n",
      "bc286bb53f50a7355e2765462546e03d17cabde30420b6bfd1531617386facf4     2        80000000 lovelace + TxOutDatumNone\n",
      "d159062c1321707d12d7abe14cfaca1881a7b1e3c65bb4d637070e4fc0da08c3     0        914430977 lovelace + TxOutDatumNone\n"
     ]
    }
   ],
   "source": [
    "cardano-cli query utxo --testnet-magic \"$CARDANO_TESTNET_MAGIC\" --address \"$BORROWER_ADDR\""
   ]
  },
  {
   "cell_type": "markdown",
   "id": "8b4951f7-58bb-4399-a09a-2029f4e2dfe4",
   "metadata": {},
   "source": [
    "Hợp đồng Marlowe đã đóng, vì vậy không có đầu ra nào cho địa chỉ tập lệnh của nó."
   ]
  },
  {
   "cell_type": "markdown",
   "id": "bbe2049a-1507-45c1-888f-2079619be474",
   "metadata": {},
   "source": [
    "## Xem việc hoàn thành hợp đồng trên blockchain\n",
    "\n",
    "Lệnh  `marlowe-runtime-cli log` của Marlowe Runtime có thể tìm nạp hợp đồng từ blockchain và in thông tin về hợp đồng đó."
   ]
  },
  {
   "cell_type": "code",
   "execution_count": 42,
   "id": "14a0a55a-f0f4-40e7-9cc6-9bcc6600d7b1",
   "metadata": {
    "vscode": {
     "languageId": "shellscript"
    }
   },
   "outputs": [
    {
     "name": "stdout",
     "output_type": "stream",
     "text": [
      "\u001b[93mtransaction 3bd6f3011ebabd0d55182aa657a7b841faa9f4b823d1fd76a215d917d0c61895 (creation)\n",
      "\u001b[0mContractId:      3bd6f3011ebabd0d55182aa657a7b841faa9f4b823d1fd76a215d917d0c61895#1\n",
      "SlotNo:          23920017\n",
      "BlockNo:         755074\n",
      "BlockId:         3235ba612d6df4e536da88890b39cc0fbb96ff3313643dd999ef31ed699f3af2\n",
      "ScriptAddress:   addr_test1wqhdyccahvnheppng3fut3phhp3jt5m37zp4529ezz535ms2u9jqv\n",
      "Marlowe Version: 1\n",
      "\n",
      "    When [\n",
      "      (Case\n",
      "         (Deposit (Address \"addr_test1vqd3yrtjyx49uld43lvwqaf7z4k03su8gf2x4yr7syzvckgfzm4ck\") (Address \"addr_test1vqd3yrtjyx49uld43lvwqaf7z4k03su8gf2x4yr7syzvckgfzm4ck\")\n",
      "            (Token \"\" \"\")\n",
      "            (Constant 80000000))\n",
      "         (Pay (Address \"addr_test1vqd3yrtjyx49uld43lvwqaf7z4k03su8gf2x4yr7syzvckgfzm4ck\")\n",
      "            (Party (Address \"addr_test1vpy4n4peh4suv0y55yptur0066j5kds8r4ncnuzm0vpzfgg0dhz6d\"))\n",
      "            (Token \"\" \"\")\n",
      "            (Constant 80000000)\n",
      "            (When [\n",
      "               (Case\n",
      "                  (Deposit (Address \"addr_test1vpy4n4peh4suv0y55yptur0066j5kds8r4ncnuzm0vpzfgg0dhz6d\") (Address \"addr_test1vpy4n4peh4suv0y55yptur0066j5kds8r4ncnuzm0vpzfgg0dhz6d\")\n",
      "                     (Token \"\" \"\")\n",
      "                     (AddValue\n",
      "                        (Constant 80000000)\n",
      "                        (Constant 5000000)))\n",
      "                  (Pay (Address \"addr_test1vpy4n4peh4suv0y55yptur0066j5kds8r4ncnuzm0vpzfgg0dhz6d\")\n",
      "                     (Party (Address \"addr_test1vqd3yrtjyx49uld43lvwqaf7z4k03su8gf2x4yr7syzvckgfzm4ck\"))\n",
      "                     (Token \"\" \"\")\n",
      "                     (AddValue\n",
      "                        (Constant 80000000)\n",
      "                        (Constant 5000000)) Close))] 1679613525000 Close)))] 1679606325000 Close\n",
      "\n",
      "\u001b[93mtransaction bc286bb53f50a7355e2765462546e03d17cabde30420b6bfd1531617386facf4\n",
      "\u001b[0mContractId: 3bd6f3011ebabd0d55182aa657a7b841faa9f4b823d1fd76a215d917d0c61895#1\n",
      "SlotNo:     23920533\n",
      "BlockNo:    755085\n",
      "BlockId:    afb9ca1ee1d06282e65943ae57d09622ca8d648a63d69eab1dd186fa5b3b7bc4\n",
      "Inputs:     [NormalInput (IDeposit \"\\\"addr_test1vqd3yrtjyx49uld43lvwqaf7z4k03su8gf2x4yr7syzvckgfzm4ck\\\"\" \"\\\"addr_test1vqd3yrtjyx49uld43lvwqaf7z4k03su8gf2x4yr7syzvckgfzm4ck\\\"\" (Token \"\" \"\") 80000000)]\n",
      "\n",
      "    When [\n",
      "      (Case\n",
      "         (Deposit (Address \"addr_test1vpy4n4peh4suv0y55yptur0066j5kds8r4ncnuzm0vpzfgg0dhz6d\") (Address \"addr_test1vpy4n4peh4suv0y55yptur0066j5kds8r4ncnuzm0vpzfgg0dhz6d\")\n",
      "            (Token \"\" \"\")\n",
      "            (AddValue\n",
      "               (Constant 80000000)\n",
      "               (Constant 5000000)))\n",
      "         (Pay (Address \"addr_test1vpy4n4peh4suv0y55yptur0066j5kds8r4ncnuzm0vpzfgg0dhz6d\")\n",
      "            (Party (Address \"addr_test1vqd3yrtjyx49uld43lvwqaf7z4k03su8gf2x4yr7syzvckgfzm4ck\"))\n",
      "            (Token \"\" \"\")\n",
      "            (AddValue\n",
      "               (Constant 80000000)\n",
      "               (Constant 5000000)) Close))] 1679613525000 Close\n",
      "\n",
      "\u001b[93mtransaction d159062c1321707d12d7abe14cfaca1881a7b1e3c65bb4d637070e4fc0da08c3 (close)\n",
      "\u001b[0mContractId: 3bd6f3011ebabd0d55182aa657a7b841faa9f4b823d1fd76a215d917d0c61895#1\n",
      "SlotNo:     23920774\n",
      "BlockNo:    755092\n",
      "BlockId:    a844fdf2efe9508fa24c34f0a095e8de691e0e16df815e55b95acb5e217151de\n",
      "Inputs:     [NormalInput (IDeposit \"\\\"addr_test1vpy4n4peh4suv0y55yptur0066j5kds8r4ncnuzm0vpzfgg0dhz6d\\\"\" \"\\\"addr_test1vpy4n4peh4suv0y55yptur0066j5kds8r4ncnuzm0vpzfgg0dhz6d\\\"\" (Token \"\" \"\") 85000000)]\n",
      "\n",
      "\n"
     ]
    }
   ],
   "source": [
    "marlowe-runtime-cli log --show-contract \"$CONTRACT_ID\""
   ]
  },
  {
   "cell_type": "markdown",
   "id": "cfb3e13d-91b3-4db5-8cde-2277d7a71008",
   "metadata": {},
   "source": [
    "Bạn có thể truy xuất thêm chi tiết bằng cách sử dụng `marlowe-pipe`."
   ]
  },
  {
   "cell_type": "code",
   "execution_count": 43,
   "id": "bf25d4d4-ca3b-4d61-b4f9-546a44bbcddc",
   "metadata": {
    "vscode": {
     "languageId": "shellscript"
    }
   },
   "outputs": [
    {
     "name": "stdout",
     "output_type": "stream",
     "text": [
      "creation:\n",
      "  output:\n",
      "    address: 702ed2631dbb277c84334453c5c437b86325d371f0835a28b910a91a6e\n",
      "    assets:\n",
      "      ada: 2000000\n",
      "      tokens: []\n",
      "    datum:\n",
      "      marloweContract:\n",
      "        timeout: 1679606325000\n",
      "        timeout_continuation: close\n",
      "        when:\n",
      "        - case:\n",
      "            deposits: 80000000\n",
      "            into_account:\n",
      "              address: addr_test1vqd3yrtjyx49uld43lvwqaf7z4k03su8gf2x4yr7syzvckgfzm4ck\n",
      "            of_token:\n",
      "              currency_symbol: ''\n",
      "              token_name: ''\n",
      "            party:\n",
      "              address: addr_test1vqd3yrtjyx49uld43lvwqaf7z4k03su8gf2x4yr7syzvckgfzm4ck\n",
      "          then:\n",
      "            from_account:\n",
      "              address: addr_test1vqd3yrtjyx49uld43lvwqaf7z4k03su8gf2x4yr7syzvckgfzm4ck\n",
      "            pay: 80000000\n",
      "            then:\n",
      "              timeout: 1679613525000\n",
      "              timeout_continuation: close\n",
      "              when:\n",
      "              - case:\n",
      "                  deposits:\n",
      "                    add: 80000000\n",
      "                    and: 5000000\n",
      "                  into_account:\n",
      "                    address: addr_test1vpy4n4peh4suv0y55yptur0066j5kds8r4ncnuzm0vpzfgg0dhz6d\n",
      "                  of_token:\n",
      "                    currency_symbol: ''\n",
      "                    token_name: ''\n",
      "                  party:\n",
      "                    address: addr_test1vpy4n4peh4suv0y55yptur0066j5kds8r4ncnuzm0vpzfgg0dhz6d\n",
      "                then:\n",
      "                  from_account:\n",
      "                    address: addr_test1vpy4n4peh4suv0y55yptur0066j5kds8r4ncnuzm0vpzfgg0dhz6d\n",
      "                  pay:\n",
      "                    add: 80000000\n",
      "                    and: 5000000\n",
      "                  then: close\n",
      "                  to:\n",
      "                    party:\n",
      "                      address: addr_test1vqd3yrtjyx49uld43lvwqaf7z4k03su8gf2x4yr7syzvckgfzm4ck\n",
      "                  token:\n",
      "                    currency_symbol: ''\n",
      "                    token_name: ''\n",
      "            to:\n",
      "              party:\n",
      "                address: addr_test1vpy4n4peh4suv0y55yptur0066j5kds8r4ncnuzm0vpzfgg0dhz6d\n",
      "            token:\n",
      "              currency_symbol: ''\n",
      "              token_name: ''\n",
      "      marloweParams:\n",
      "        rolesCurrency: ''\n",
      "      marloweState:\n",
      "        accounts:\n",
      "        - - - address: addr_test1vqd3yrtjyx49uld43lvwqaf7z4k03su8gf2x4yr7syzvckgfzm4ck\n",
      "            - currency_symbol: ''\n",
      "              token_name: ''\n",
      "          - 2000000\n",
      "        boundValues: []\n",
      "        choices: []\n",
      "        minTime: 0\n",
      "    utxo:\n",
      "      txId: 3bd6f3011ebabd0d55182aa657a7b841faa9f4b823d1fd76a215d917d0c61895\n",
      "      txIx: 1\n",
      "  payoutValidatorHash: e165610232235bbbbeff5b998b233daae42979dec92a6722d9cda989\n",
      "response: info\n",
      "steps:\n",
      "- contractId: 3bd6f3011ebabd0d55182aa657a7b841faa9f4b823d1fd76a215d917d0c61895#1\n",
      "  payouts: []\n",
      "  redeemer:\n",
      "  - input_from_party:\n",
      "      address: addr_test1vqd3yrtjyx49uld43lvwqaf7z4k03su8gf2x4yr7syzvckgfzm4ck\n",
      "    into_account:\n",
      "      address: addr_test1vqd3yrtjyx49uld43lvwqaf7z4k03su8gf2x4yr7syzvckgfzm4ck\n",
      "    of_token:\n",
      "      currency_symbol: ''\n",
      "      token_name: ''\n",
      "    that_deposits: 80000000\n",
      "  scriptOutput:\n",
      "    address: 702ed2631dbb277c84334453c5c437b86325d371f0835a28b910a91a6e\n",
      "    assets:\n",
      "      ada: 2000000\n",
      "      tokens: []\n",
      "    datum:\n",
      "      marloweContract:\n",
      "        timeout: 1679613525000\n",
      "        timeout_continuation: close\n",
      "        when:\n",
      "        - case:\n",
      "            deposits:\n",
      "              add: 80000000\n",
      "              and: 5000000\n",
      "            into_account:\n",
      "              address: addr_test1vpy4n4peh4suv0y55yptur0066j5kds8r4ncnuzm0vpzfgg0dhz6d\n",
      "            of_token:\n",
      "              currency_symbol: ''\n",
      "              token_name: ''\n",
      "            party:\n",
      "              address: addr_test1vpy4n4peh4suv0y55yptur0066j5kds8r4ncnuzm0vpzfgg0dhz6d\n",
      "          then:\n",
      "            from_account:\n",
      "              address: addr_test1vpy4n4peh4suv0y55yptur0066j5kds8r4ncnuzm0vpzfgg0dhz6d\n",
      "            pay:\n",
      "              add: 80000000\n",
      "              and: 5000000\n",
      "            then: close\n",
      "            to:\n",
      "              party:\n",
      "                address: addr_test1vqd3yrtjyx49uld43lvwqaf7z4k03su8gf2x4yr7syzvckgfzm4ck\n",
      "            token:\n",
      "              currency_symbol: ''\n",
      "              token_name: ''\n",
      "      marloweParams:\n",
      "        rolesCurrency: ''\n",
      "      marloweState:\n",
      "        accounts:\n",
      "        - - - address: addr_test1vqd3yrtjyx49uld43lvwqaf7z4k03su8gf2x4yr7syzvckgfzm4ck\n",
      "            - currency_symbol: ''\n",
      "              token_name: ''\n",
      "          - 2000000\n",
      "        boundValues: []\n",
      "        choices: []\n",
      "        minTime: 1679603355000\n",
      "    utxo:\n",
      "      txId: bc286bb53f50a7355e2765462546e03d17cabde30420b6bfd1531617386facf4\n",
      "      txIx: 1\n",
      "  step: apply\n",
      "  txId: bc286bb53f50a7355e2765462546e03d17cabde30420b6bfd1531617386facf4\n",
      "- contractId: 3bd6f3011ebabd0d55182aa657a7b841faa9f4b823d1fd76a215d917d0c61895#1\n",
      "  payouts: []\n",
      "  redeemer:\n",
      "  - input_from_party:\n",
      "      address: addr_test1vpy4n4peh4suv0y55yptur0066j5kds8r4ncnuzm0vpzfgg0dhz6d\n",
      "    into_account:\n",
      "      address: addr_test1vpy4n4peh4suv0y55yptur0066j5kds8r4ncnuzm0vpzfgg0dhz6d\n",
      "    of_token:\n",
      "      currency_symbol: ''\n",
      "      token_name: ''\n",
      "    that_deposits: 85000000\n",
      "  scriptOutput: null\n",
      "  step: apply\n",
      "  txId: d159062c1321707d12d7abe14cfaca1881a7b1e3c65bb4d637070e4fc0da08c3\n"
     ]
    }
   ],
   "source": [
    "echo '{\"request\" : \"get\", \"contractId\" : \"'\"$CONTRACT_ID\"'\"}' | marlowe-pipe 2> /dev/null | json2yaml"
   ]
  }
 ],
 "metadata": {
  "kernelspec": {
   "display_name": "Bash with Marlowe Tools",
   "language": "bash",
   "name": "bash-minimal"
  },
  "language_info": {
   "codemirror_mode": "shell",
   "file_extension": ".sh",
   "mimetype": "text/x-sh",
   "name": "bash"
  }
 },
 "nbformat": 4,
 "nbformat_minor": 5
}
