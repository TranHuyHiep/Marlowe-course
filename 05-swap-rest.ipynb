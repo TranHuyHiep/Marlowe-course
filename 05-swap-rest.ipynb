{
 "cells": [
  {
   "cell_type": "markdown",
   "id": "a8b9d3ec-9b61-4c11-8465-504673116f9d",
   "metadata": {},
   "source": [
    "# Hoán đổi token bằng cách sử dụng API REST của Marlowe Runtime\n",
    "\n",
    "***Trước khi chạy sổ ghi chép này, bạn có thể muốn sử dụng chức năng \"xóa đầu ra\" của Jupyter để xóa kết quả thực hiện trước đó của sổ ghi chép này. Điều đó sẽ làm rõ hơn những gì đã được thực thi trong phiên hiện tại.***\n",
    "\n",
    "Ví dụ về hợp đồng token-swap là một hợp đồng Marlowe đơn giản cho phép các bên giao dịch ADA lấy token.\n",
    "\n",
    "[Một video hoạt động thông qua sổ tay Jupyter này.](https://youtu.be/sSrVCRNoytU)\n",
    "\n",
    "Bạn có thể đặt câu hỏi về Marlowe trong [kênh #ask-marlowe trên IOG Discord](https://discord.com/channels/826816523368005654/936295815926927390) hoặc đăng các vấn đề với bài học này lên [danh sách các vấn đề của Bộ công cụ dành cho người mới bắt đầu Marlowe kho lưu trữ github.](https://github.com/input-output-hk/marlowe-starter-kit/issues).\n",
    "\n",
    "Trong phần trình diễn này, chúng ta sử dụng API REST của Marlowe Runtime\\, được cung cấp qua `marlowe-web-server`, để chạy hợp đồng này trên mạng thử nghiệm công khai `preprod` của Cardano\\. Hợp đồng Marlowe có thể sử dụng địa chỉ hoặc vai trò token để ủy quyền: ở đây chúng ta sử dụng vai trò token và chúng ta có Marlowe Runtime đúc chúng.\n",
    "\n",
    "Trong [Marlowe Playground](https://play.marlowe-finance.io/), hợp đồng có dạng như sau ở định dạng Blockly.\n",
    "\n",
    "![Marlowe contract for swapping tokens](images/swap-playground.png)\n",
    "\n",
    "Ở định dạng Marlowe, nó xuất hiện dưới dạng\n",
    "```\n",
    "When\n",
    "    [Case\n",
    "        (Deposit\n",
    "            (Role \"Ada provider\")\n",
    "            (Role \"Ada provider\")\n",
    "            (Token \"\" \"\")\n",
    "            (MulValue\n",
    "                (Constant 1000000)\n",
    "                (ConstantParam \"Amount of Ada\")\n",
    "            )\n",
    "        )\n",
    "        (When\n",
    "            [Case\n",
    "                (Deposit\n",
    "                    (Role \"Dollar provider\")\n",
    "                    (Role \"Dollar provider\")\n",
    "                    (Token \"9772ff715b691c0444f333ba1db93b055c0864bec48fff92d1f2a7fe\" \"Djed_testMicroUSD\")\n",
    "                    (ConstantParam \"Amount of dollars\")\n",
    "                )\n",
    "                (Pay\n",
    "                    (Role \"Ada provider\")\n",
    "                    (Party (Role \"Dollar provider\"))\n",
    "                    (Token \"\" \"\")\n",
    "                    (MulValue\n",
    "                        (Constant 1000000)\n",
    "                        (ConstantParam \"Amount of Ada\")\n",
    "                    )\n",
    "                    (Pay\n",
    "                        (Role \"Dollar provider\")\n",
    "                        (Party (Role \"Ada provider\"))\n",
    "                        (Token \"9772ff715b691c0444f333ba1db93b055c0864bec48fff92d1f2a7fe\" \"Djed_testMicroUSD\")\n",
    "                        (ConstantParam \"Amount of dollars\")\n",
    "                        Close \n",
    "                    )\n",
    "                )]\n",
    "            (TimeParam \"Timeout for dollar deposit\")\n",
    "            Close \n",
    "        )]\n",
    "    (TimeParam \"Timeout for Ada deposit\")\n",
    "    Close\n",
    "```"
   ]
  },
  {
   "cell_type": "markdown",
   "id": "f128e27a-afe6-4d03-8c46-ef6e5753e4a8",
   "metadata": {},
   "source": [
    "## Chuẩn bị\n",
    "\n",
    "Xem [Lesson 0. Preliminaries](00-preliminaries.md) để biết thông tin về cách thiết lập môi trường của một người để sử dụng hướng dẫn này.\n",
    "\n",
    "Bài học giả định rằng các biến môi trường sau đây đã được thiết lập.\n",
    "- `CARDANO_NODE_SOCKET_PATH`: vị trí socket của node Cardano.\n",
    "- `CARDANO_TESTNET_MAGIC`: số magic testnet.\n",
    "- `MARLOWE_RT_WEBSERVER_HOST`: Địa chỉ IP của máy chủ web Marlowe Runtime.\n",
    "- `MARLOWE_RT_WEBSERVER_PORT`: Số cổng cho máy chủ web Marlowe Runtime.\n",
    "\n",
    "Nó cũng giả định rằng các bên có địa chỉ, khóa ký và tiền.\n",
    "- Người bán\n",
    "    - [keys/lender.address](keys/lender.address): Địa chỉ Cardano của người bán\n",
    "    - [keys/lender.skey](keys/lender.skey): vị trí ký file key cho người bán\n",
    "- Người mua\n",
    "    - [keys/borrower.address](keys/borrower.address): Địa chỉ Cardano cho người mua\n",
    "    - [keys/borrower.skey](keys/borrower.skey): vị trí ký file key cho người mua\n",
    "- Hòa giải viên\n",
    "    - [keys/mediator.address](keys/mediator.address): Địa chỉ Cardano cho người hòa giải\n",
    "    - [keys/mediator.skey](keys/mediator.skey): vị trí ký tệp khóa cho người hòa giải"
   ]
  },
  {
   "cell_type": "markdown",
   "id": "053cac6c-9bfc-4c47-ba48-c5cc145734d7",
   "metadata": {},
   "source": [
    "### Truy cập vào node Cardano và Runtimes Marlowe\n",
    "\n",
    "Nếu chúng ta đang sử dụng tiện ích mở rộng [demeter.run](https://demeter.run/), thì chúng ta đã có quyền truy cập vào Cardano Node và Marlowe Runtime. Các lệnh sau sẽ đặt các biến môi trường cần thiết để sử dụng triển khai docker cục bộ trên các cổng mặc định. Nó cũng sẽ thiết lập một số biến môi trường bổ sung."
   ]
  },
  {
   "cell_type": "code",
   "execution_count": 1,
   "id": "e1859d35-ded3-4e16-be43-b1ef030d7f16",
   "metadata": {
    "tags": [],
    "vscode": {
     "languageId": "shellscript"
    }
   },
   "outputs": [
    {
     "name": "stdout",
     "output_type": "stream",
     "text": [
      "CARDANO_NODE_SOCKET_PATH = ~/.local/share/containers/storage/volumes/marlowe-starter-kit_shared/_data/node.socket\n",
      "CARDANO_TESTNET_MAGIC = 1\n",
      "MARLOWE_RT_WEBSERVER_HOST = 127.0.0.1\n",
      "MARLOWE_RT_WEBSERVER_PORT = 3780\n",
      "MARLOWE_RT_WEBSERVER_URL = http://127.0.0.1:3780\n"
     ]
    }
   ],
   "source": [
    "if [[ -z \"$MARLOWE_RT_WEBSERVER_PORT\" ]]\n",
    "then\n",
    "\n",
    "  # Only required for `marlowe-cli` and `cardano-cli`.\n",
    "  export CARDANO_NODE_SOCKET_PATH=\"$(docker volume inspect marlowe-starter-kit_shared | jq -r '.[0].Mountpoint')/node.socket\"\n",
    "  export CARDANO_TESTNET_MAGIC=1 # Note that preprod=1 and preview=2. Do not set this variable if using mainnet.\n",
    "\n",
    "  # Only required for Marlowe Runtime REST API.\n",
    "  export MARLOWE_RT_WEBSERVER_HOST=\"127.0.0.1\"\n",
    "  export MARLOWE_RT_WEBSERVER_PORT=3780\n",
    "\n",
    "fi\n",
    "\n",
    "# FIXME: This should have been inherited from the parent environment.\n",
    "if [[ -z \"$CARDANO_NODE_SOCKET_PATH\" ]]\n",
    "then\n",
    "  export CARDANO_NODE_SOCKET_PATH=/ipc/node.socket\n",
    "fi\n",
    "\n",
    "# FIXME: This should have been set in the parent environment.\n",
    "if [[ -z \"$CARDANO_TESTNET_MAGIC\" ]]\n",
    "then\n",
    "  export CARDANO_TESTNET_MAGIC=$CARDANO_NODE_MAGIC\n",
    "fi\n",
    "\n",
    "case \"$CARDANO_TESTNET_MAGIC\" in\n",
    "  1)\n",
    "    export \"EXPLORER_URL=https://preprod.cardanoscan.io\"\n",
    "    ;;\n",
    "  2)\n",
    "    export \"EXPLORER_URL=https://preview.cardanoscan.io\"\n",
    "    ;;\n",
    "  *)\n",
    "    # Use `mainnet` as the default.\n",
    "    export \"EXPLORER_URL=https://cardanoscan.io\"\n",
    "    ;;\n",
    "esac\n",
    "\n",
    "MARLOWE_RT_WEBSERVER_URL=\"http://$MARLOWE_RT_WEBSERVER_HOST\":\"$MARLOWE_RT_WEBSERVER_PORT\"\n",
    "\n",
    "echo \"CARDANO_NODE_SOCKET_PATH = $CARDANO_NODE_SOCKET_PATH\"\n",
    "echo \"CARDANO_TESTNET_MAGIC = $CARDANO_TESTNET_MAGIC\"\n",
    "echo \"MARLOWE_RT_WEBSERVER_HOST = $MARLOWE_RT_WEBSERVER_HOST\"\n",
    "echo \"MARLOWE_RT_WEBSERVER_PORT = $MARLOWE_RT_WEBSERVER_PORT\"\n",
    "echo \"MARLOWE_RT_WEBSERVER_URL = $MARLOWE_RT_WEBSERVER_URL\""
   ]
  },
  {
   "cell_type": "markdown",
   "id": "d95b634e-944e-4f16-aa1d-880cbf53ddb6",
   "metadata": {
    "tags": []
   },
   "source": [
    "Lưu ý số magic mạng thử nghiệm:\n",
    "- `preprod` = 1\n",
    "- `preview` = 2"
   ]
  },
  {
   "cell_type": "markdown",
   "id": "1f209e22-2e7c-444c-a72b-aa88d676e0f8",
   "metadata": {
    "tags": [],
    "vscode": {
     "languageId": "shellscript"
    }
   },
   "source": [
    "### Địa chỉ và tiền của Nhà cung cấp Ada\n",
    "\n",
    "Kiểm tra xem địa chỉ và khóa đã được tạo cho nhà cung cấp ADA chưa. Nếu không, hãy xem phần \"Tạo địa chỉ và khóa ký\" trong Sơ bộ."
   ]
  },
  {
   "cell_type": "code",
   "execution_count": 2,
   "id": "38d0bad1-3b9e-4d80-9aec-a4357c8dc79a",
   "metadata": {
    "tags": [],
    "vscode": {
     "languageId": "shellscript"
    }
   },
   "outputs": [
    {
     "name": "stdout",
     "output_type": "stream",
     "text": [
      "ADA_PROVIDER_ADDR = addr_test1vqd3yrtjyx49uld43lvwqaf7z4k03su8gf2x4yr7syzvckgfzm4ck\n"
     ]
    }
   ],
   "source": [
    "ADA_PROVIDER_SKEY=keys/lender.skey\n",
    "ADA_PROVIDER_ADDR=$(cat keys/lender.address)\n",
    "echo \"ADA_PROVIDER_ADDR = $ADA_PROVIDER_ADDR\""
   ]
  },
  {
   "cell_type": "markdown",
   "id": "112cbd18-2567-4563-a452-e4a5c529a171",
   "metadata": {},
   "source": [
    "Kiểm tra xem nhà cung cấp ADA có ít nhất ba trăm ADA không."
   ]
  },
  {
   "cell_type": "code",
   "execution_count": 3,
   "id": "a16fd543-cabf-4540-879c-ed0594ca5ff1",
   "metadata": {
    "tags": [],
    "vscode": {
     "languageId": "shellscript"
    }
   },
   "outputs": [
    {
     "name": "stdout",
     "output_type": "stream",
     "text": [
      "                           TxHash                                 TxIx        Amount\n",
      "--------------------------------------------------------------------------------------\n",
      "81fdeb10a575ba9998c1229b1b2b6a4006acf4a641a66e13bd787b769cd8fb51     1        1000000000 lovelace + TxOutDatumNone\n"
     ]
    }
   ],
   "source": [
    "cardano-cli query utxo --testnet-magic \"$CARDANO_TESTNET_MAGIC\" --address \"$ADA_PROVIDER_ADDR\""
   ]
  },
  {
   "cell_type": "markdown",
   "id": "d23a2695-2d68-4fa3-80cb-3afe5afe2196",
   "metadata": {},
   "source": [
    "Người ta có thể xem địa chỉ trên Cardano explorer. Đôi khi phải mất ba mươi giây hoặc lâu hơn để giao dịch hiển thị trong explorer."
   ]
  },
  {
   "cell_type": "code",
   "execution_count": 4,
   "id": "b1d78493-a1a1-4739-b911-02b901c73bda",
   "metadata": {
    "tags": [],
    "vscode": {
     "languageId": "shellscript"
    }
   },
   "outputs": [
    {
     "name": "stdout",
     "output_type": "stream",
     "text": [
      "https://preprod.cardanoscan.io/address/addr_test1vqd3yrtjyx49uld43lvwqaf7z4k03su8gf2x4yr7syzvckgfzm4ck\n"
     ]
    }
   ],
   "source": [
    "echo \"$EXPLORER_URL\"/address/\"$ADA_PROVIDER_ADDR\""
   ]
  },
  {
   "cell_type": "markdown",
   "id": "754f546b-b42d-434c-ad78-b4e1fada39b9",
   "metadata": {
    "tags": [],
    "vscode": {
     "languageId": "shellscript"
    }
   },
   "source": [
    "### Địa chỉ và tiền của Nhà cung cấp Dollar\n",
    "\n",
    "Kiểm tra xem địa chỉ và khóa đã được tạo cho nhà cung cấp đô la chưa. Nếu không, hãy xem phần \"Tạo địa chỉ và khóa ký\" trong Sơ bộ."
   ]
  },
  {
   "cell_type": "code",
   "execution_count": 5,
   "id": "5103b793-05a7-4a9c-bb5b-ed250bcbcc1e",
   "metadata": {
    "tags": [],
    "vscode": {
     "languageId": "shellscript"
    }
   },
   "outputs": [
    {
     "name": "stdout",
     "output_type": "stream",
     "text": [
      "USD_PROVIDER_ADDR = addr_test1vpy4n4peh4suv0y55yptur0066j5kds8r4ncnuzm0vpzfgg0dhz6d\n"
     ]
    }
   ],
   "source": [
    "USD_PROVIDER_SKEY=keys/borrower.skey\n",
    "USD_PROVIDER_ADDR=$(cat keys/borrower.address)\n",
    "echo \"USD_PROVIDER_ADDR = $USD_PROVIDER_ADDR\""
   ]
  },
  {
   "cell_type": "markdown",
   "id": "41a004a6-8681-4ce1-b07e-6d6d07ee1b38",
   "metadata": {},
   "source": [
    "Kiểm tra để đảm bảo rằng nhà cung cấp đô la có ít nhất một trăm USD token."
   ]
  },
  {
   "cell_type": "code",
   "execution_count": 6,
   "id": "3af7a962-3038-4b55-a31a-cd7ade94b5ec",
   "metadata": {
    "tags": [],
    "vscode": {
     "languageId": "shellscript"
    }
   },
   "outputs": [
    {
     "name": "stdout",
     "output_type": "stream",
     "text": [
      "                           TxHash                                 TxIx        Amount\n",
      "--------------------------------------------------------------------------------------\n",
      "81fdeb10a575ba9998c1229b1b2b6a4006acf4a641a66e13bd787b769cd8fb51     2        1000000000 lovelace + TxOutDatumNone\n",
      "81fdeb10a575ba9998c1229b1b2b6a4006acf4a641a66e13bd787b769cd8fb51     3        2000000 lovelace + 100000000 9772ff715b691c0444f333ba1db93b055c0864bec48fff92d1f2a7fe.446a65645f746573744d6963726f555344 + TxOutDatumNone\n"
     ]
    }
   ],
   "source": [
    "cardano-cli query utxo --testnet-magic \"$CARDANO_TESTNET_MAGIC\" --address \"$USD_PROVIDER_ADDR\""
   ]
  },
  {
   "cell_type": "markdown",
   "id": "0bf7ec49-14c5-4f3a-9eb7-c97cd38fcfcf",
   "metadata": {},
   "source": [
    "Người ta có thể xem địa chỉ trên Cardano explorer. Đôi khi phải mất ba mươi giây hoặc lâu hơn để giao dịch hiển thị trong explorer."
   ]
  },
  {
   "cell_type": "code",
   "execution_count": 7,
   "id": "3455b47d-45f9-4d31-aebe-ab0ea7b36aa9",
   "metadata": {
    "tags": [],
    "vscode": {
     "languageId": "shellscript"
    }
   },
   "outputs": [
    {
     "name": "stdout",
     "output_type": "stream",
     "text": [
      "https://preprod.cardanoscan.io/address/addr_test1vpy4n4peh4suv0y55yptur0066j5kds8r4ncnuzm0vpzfgg0dhz6d\n"
     ]
    }
   ],
   "source": [
    "echo \"$EXPLORER_URL\"/address/\"$USD_PROVIDER_ADDR\""
   ]
  },
  {
   "cell_type": "markdown",
   "id": "00396fbb-ce2d-4666-9bac-85a8ccd7945b",
   "metadata": {},
   "source": [
    "## Thiết kế hợp đồng\n",
    "\n",
    "Bạn có thể tải xuống hợp đồng hoán đổi từ [Marlowe Playground](https://play.marlowe-finance.io/) dưới dạng tệp JSON hoặc có thể tạo bằng cách sử dụng [Marlowe CLI](https://github.com/input-output-hk/marlowe-cardano/tree/main/marlowe-cli#readme) bằng lệnh `marlowe-cli template`.\n",
    "\n",
    "Đặt số tiền ADA thành 294 và số tiền đô la thành 100.000000."
   ]
  },
  {
   "cell_type": "code",
   "execution_count": 8,
   "id": "8d28fcbc-c73f-4c27-8d68-069d8ebe98ce",
   "metadata": {
    "vscode": {
     "languageId": "shellscript"
    }
   },
   "outputs": [
    {
     "name": "stdout",
     "output_type": "stream",
     "text": [
      "LOVELACE_AMOUNT = 294000000 lovelace\n",
      "MICROUSD_AMOUNT = 100000000 µUSD\n"
     ]
    }
   ],
   "source": [
    "ADA=1000000  # 1 ada = 1,000,000 lovelace\n",
    "LOVELACE_AMOUNT=$((294 * ADA))\n",
    "MICROUSD_AMOUNT=$((100 * 1000000))\n",
    "echo \"LOVELACE_AMOUNT = $LOVELACE_AMOUNT lovelace\"\n",
    "echo \"MICROUSD_AMOUNT = $MICROUSD_AMOUNT µUSD\""
   ]
  },
  {
   "cell_type": "markdown",
   "id": "5a11195d-000f-44e4-a217-50e5d7de01ed",
   "metadata": {},
   "source": [
    "Trên blockchain Cardano, các tham số giao thức yêu cầu mỗi UTxO chứa ít nhất một số ADA. Ở đây chúng ta sẽ bắt đầu hợp đồng với 2 ADA."
   ]
  },
  {
   "cell_type": "code",
   "execution_count": 9,
   "id": "8f699238-b0a0-4626-b04f-e93d93b0f458",
   "metadata": {
    "vscode": {
     "languageId": "shellscript"
    }
   },
   "outputs": [
    {
     "name": "stdout",
     "output_type": "stream",
     "text": [
      "MIN_LOVELACE = 2000000 lovelace\n"
     ]
    }
   ],
   "source": [
    "MIN_LOVELACE=\"$((2 * ADA))\"\n",
    "echo \"MIN_LOVELACE = $MIN_LOVELACE lovelace\""
   ]
  },
  {
   "cell_type": "markdown",
   "id": "0b4c28e3-3f4b-4fa8-8dd4-aa7b51921132",
   "metadata": {},
   "source": [
    "Ở phần sau của ví dụ, chúng ta sẽ cần một số hằng số để chuyển đổi thời gian."
   ]
  },
  {
   "cell_type": "code",
   "execution_count": 10,
   "id": "d06a9229-9e53-4a00-accf-ae06b115ff39",
   "metadata": {
    "tags": [],
    "vscode": {
     "languageId": "shellscript"
    }
   },
   "outputs": [],
   "source": [
    "SECOND=1000 # 1 second = 1000 milliseconds\n",
    "MINUTE=$((60 * SECOND)) # 1 minute = 60 seconds\n",
    "HOUR=$((60 * MINUTE)) # 1 hour = 60 minutes"
   ]
  },
  {
   "cell_type": "markdown",
   "id": "94d3ddb1-35e9-49ff-9062-1854febca9b7",
   "metadata": {},
   "source": [
    "Bây giờ hãy thiết kế hợp đồng.\n",
    "\n",
    "1. Truy cập https://play.marlowe-finance.io/ trong trình duyệt web.\n",
    "2. Chọn \"Open an Example\".\n",
    "3. Chọn \"Marlowe\" hoặc \"Blockly\" trong \"Swap\".\n",
    "4. Chỉnh sửa hợp đồng để đô la token có ID chính sách và tên cho đô la token. Trong ví dụ này, chúng ta sử dụng test djed, có ID chính sách `9772ff715b691c0444f333ba1db93b055c0864bec48fff92d1f2a7fe` và tên token `Djed_testMicroUSD`.\n",
    "5. Chọn \"Send to Simulator\".\n",
    "6. Đặt \"Timeout for ada deposit\" thành một giờ trong tương lai.\n",
    "7. Đặt \"Timeout for dollar deposit\" thành hai giờ trong tương lai\n",
    "8. Đặt \"Amount of Ada\" thành 294.\n",
    "9. Đặt \"Amount of dollars\" thành 100.000.000, vì đơn vị đo lường là phần triệu.\n",
    "10. Chọn \"Download as JSON\", đặt tên tệp thành \"swap-contract.json\", và lưu trữ tệp trong thư mục này, cụ thể là [marlowe-starter-kit/](.).\n",
    "\n",
    "![Setting parameters for the swap contract in Marlowe Playground](images/swap-simulation.png)"
   ]
  },
  {
   "cell_type": "markdown",
   "id": "b158c36f-c316-4a08-8db5-8464645f2466",
   "metadata": {},
   "source": [
    "## Kiểm tra hợp đồng\n",
    "\n",
    "Xem tệp hợp đồng dưới dạng YAML."
   ]
  },
  {
   "cell_type": "code",
   "execution_count": 11,
   "id": "58855a22-decd-4730-bac7-800d0f766034",
   "metadata": {
    "vscode": {
     "languageId": "shellscript"
    }
   },
   "outputs": [
    {
     "name": "stdout",
     "output_type": "stream",
     "text": [
      "timeout: 1679669100000\n",
      "timeout_continuation: close\n",
      "when:\n",
      "- case:\n",
      "    deposits:\n",
      "      multiply: 1000000\n",
      "      times: 294\n",
      "    into_account:\n",
      "      role_token: Ada provider\n",
      "    of_token:\n",
      "      currency_symbol: ''\n",
      "      token_name: ''\n",
      "    party:\n",
      "      role_token: Ada provider\n",
      "  then:\n",
      "    timeout: 1679673000000\n",
      "    timeout_continuation: close\n",
      "    when:\n",
      "    - case:\n",
      "        deposits: 100000000\n",
      "        into_account:\n",
      "          role_token: Dollar provider\n",
      "        of_token:\n",
      "          currency_symbol: 9772ff715b691c0444f333ba1db93b055c0864bec48fff92d1f2a7fe\n",
      "          token_name: Djed_testMicroUSD\n",
      "        party:\n",
      "          role_token: Dollar provider\n",
      "      then:\n",
      "        from_account:\n",
      "          role_token: Ada provider\n",
      "        pay:\n",
      "          multiply: 1000000\n",
      "          times: 294\n",
      "        then:\n",
      "          from_account:\n",
      "            role_token: Dollar provider\n",
      "          pay: 100000000\n",
      "          then: close\n",
      "          to:\n",
      "            party:\n",
      "              role_token: Ada provider\n",
      "          token:\n",
      "            currency_symbol: 9772ff715b691c0444f333ba1db93b055c0864bec48fff92d1f2a7fe\n",
      "            token_name: Djed_testMicroUSD\n",
      "        to:\n",
      "          party:\n",
      "            role_token: Dollar provider\n",
      "        token:\n",
      "          currency_symbol: ''\n",
      "          token_name: ''\n"
     ]
    }
   ],
   "source": [
    "json2yaml swap-contract.json"
   ]
  },
  {
   "cell_type": "markdown",
   "id": "4c4c1547-2bb6-4517-ba71-bf1ff35ad973",
   "metadata": {},
   "source": [
    "### \\[Không bắt buộc, nhưng nên dùng\\] Kiểm tra mức độ an toàn của hợp đồng\n",
    "\n",
    "Nếu chúng ta đang chạy hợp đồng trên Cardano `mainnet`, thì chúng ta muốn kiểm tra tính an toàn của nó trước khi tạo nó, để không có khả năng chúng ta có thể mất tiền.\n",
    "\n",
    "Dưới đây là các bước để kiểm tra mức độ an toàn của hợp đồng:\n",
    "\n",
    "1. Hiểu [Ngôn ngữ Marlowe](https://marlowe-finance.io/).\n",
    "2. Hiểu [Mô hình UTxO mở rộng] của Cardano (https://docs.cardano.org/learn/eutxo-explainer).\n",
    "3. Đọc và hiểu [Hướng dẫn về các phương pháp hay nhất của Marlowe](https://github.com/input-output-hk/marlowe-cardano/blob/main/marlowe/best-practices.md).\n",
    "4. Đọc và hiểu [Hướng dẫn bảo mật của Marlowe](https://github.com/input-output-hk/marlowe-cardano/blob/main/marlowe/security.md).\n",
    "5. Sử dụng [Marlowe Playground](https://play.marlowe-finance.io/) để gắn cờ cảnh báo, thực hiện phân tích tĩnh và mô phỏng hợp đồng.\n",
    "6. Sử dụng [Marlowe CLI\\'s](https://github.com/input-output-hk/marlowe-cardano/blob/main/marlowe-cli/ReadMe.md) công cụ `marlowe-cli run analyze` để nghiên cứu xem hợp đồng có thể chạy trên mạng Cardano hay không.\n",
    "7. Chạy *tất cả đường dẫn thực thi* của hợp đồng trên [Cardano testnet](https://docs.cardano.org/cardano-testnet/overview).\n",
    "\n",
    "Ở đây, chúng ta sẽ thực hiện bước 6. Đầu tiên, chúng ta gộp hợp đồng và trạng thái ban đầu của nó vào một tệp duy nhất."
   ]
  },
  {
   "cell_type": "markdown",
   "id": "87bb70c0-a8ed-4a9a-b0b7-732c40f0cad6",
   "metadata": {},
   "source": [
    "## Giao dịch 1: Nhà cung cấp Ada tạo Hợp đồng hoán đổi với ADA ban đầu\n",
    "\n",
    "Yêu cầu `HTTP` `POST` đối với điểm cuối `/contracts` của Marlowe Runtime\\ sẽ xây dựng giao dịch tạo cho hợp đồng Marlowe. Chúng ta cung cấp cho nó tệp JSON chứa hợp đồng và cho nó biết giá trị `MIN_LOVELACE` mà chúng ta đã chọn trước đó. Bất kỳ ai cũng có thể tạo hợp đồng, nhưng trong ví dụ này, người cho vay sẽ làm như vậy, vì vậy chúng ta cung cấp địa chỉ của họ để tài trợ cho giao dịch và nhận tiền thay đổi từ đó.\n",
    "\n",
    "Trước tiên, chúng ta tạo phần thân JSON của yêu cầu để xây dựng giao dịch tạo."
   ]
  },
  {
   "cell_type": "code",
   "execution_count": 12,
   "id": "4314ece0-462f-4df8-b739-f9db58cbc6a9",
   "metadata": {
    "vscode": {
     "languageId": "shellscript"
    }
   },
   "outputs": [
    {
     "name": "stdout",
     "output_type": "stream",
     "text": [
      "{\"contract\":{\"timeout\":1679669100000,\"timeout_continuation\":\"close\",\"when\":[{\"case\":{\"deposits\":{\"multiply\":1000000,\"times\":294},\"into_account\":{\"role_token\":\"Ada provider\"},\"of_token\":{\"currency_symbol\":\"\",\"token_name\":\"\"},\"party\":{\"role_token\":\"Ada provider\"}},\"then\":{\"timeout\":1679673000000,\"timeout_continuation\":\"close\",\"when\":[{\"case\":{\"deposits\":100000000,\"into_account\":{\"role_token\":\"Dollar provider\"},\"of_token\":{\"currency_symbol\":\"9772ff715b691c0444f333ba1db93b055c0864bec48fff92d1f2a7fe\",\"token_name\":\"Djed_testMicroUSD\"},\"party\":{\"role_token\":\"Dollar provider\"}},\"then\":{\"from_account\":{\"role_token\":\"Ada provider\"},\"pay\":{\"multiply\":1000000,\"times\":294},\"then\":{\"from_account\":{\"role_token\":\"Dollar provider\"},\"pay\":100000000,\"then\":\"close\",\"to\":{\"party\":{\"role_token\":\"Ada provider\"}},\"token\":{\"currency_symbol\":\"9772ff715b691c0444f333ba1db93b055c0864bec48fff92d1f2a7fe\",\"token_name\":\"Djed_testMicroUSD\"}},\"to\":{\"party\":{\"role_token\":\"Dollar provider\"}},\"token\":{\"currency_symbol\":\"\",\"token_name\":\"\"}}}]}}]},\"metadata\":{},\"minUTxODeposit\":2000000,\"roles\":{\"Ada provider\":\"addr_test1vqd3yrtjyx49uld43lvwqaf7z4k03su8gf2x4yr7syzvckgfzm4ck\",\"Dollar provider\":\"addr_test1vpy4n4peh4suv0y55yptur0066j5kds8r4ncnuzm0vpzfgg0dhz6d\"},\"tags\":{},\"version\":\"v1\"}\n"
     ]
    }
   ],
   "source": [
    "yaml2json << EOI > request-1.json\n",
    "version: v1\n",
    "contract: `cat swap-contract.json`\n",
    "roles:\n",
    "  Ada provider: \"$ADA_PROVIDER_ADDR\"\n",
    "  Dollar provider: \"$USD_PROVIDER_ADDR\"\n",
    "minUTxODeposit: $MIN_LOVELACE\n",
    "metadata: {}\n",
    "tags: {}\n",
    "EOI\n",
    "cat request-1.json"
   ]
  },
  {
   "cell_type": "markdown",
   "id": "6b04626a-20d3-4b72-9cf0-0465e818311b",
   "metadata": {},
   "source": [
    "Tiếp theo, chúng ta đăng yêu cầu và xem phản hồi."
   ]
  },
  {
   "cell_type": "code",
   "execution_count": 13,
   "id": "5843b85f-f87e-46d2-a6e8-2550328bb6c6",
   "metadata": {
    "tags": [],
    "vscode": {
     "languageId": "shellscript"
    }
   },
   "outputs": [
    {
     "name": "stdout",
     "output_type": "stream",
     "text": [
      "links:\n",
      "  contract: contracts/c73c08a937cc0244abc28224ee0bd8fddef4c3315a74a9207776dfed87ff11ef%231\n",
      "resource:\n",
      "  contractId: c73c08a937cc0244abc28224ee0bd8fddef4c3315a74a9207776dfed87ff11ef#1\n",
      "  txBody:\n",
      "    cborHex: 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\n",
      "    description: ''\n",
      "    type: TxBodyBabbage\n"
     ]
    }
   ],
   "source": [
    "curl \"$MARLOWE_RT_WEBSERVER_URL/contracts\" \\\n",
    "  -X POST \\\n",
    "  -H 'Content-Type: application/json' \\\n",
    "  -H \"X-Change-Address: $ADA_PROVIDER_ADDR\" \\\n",
    "  -d @request-1.json \\\n",
    "  -o response-1.json \\\n",
    "  -sS\n",
    "json2yaml response-1.json"
   ]
  },
  {
   "cell_type": "markdown",
   "id": "fde4adcb-8e68-4cae-bc3a-c3ef077ff47c",
   "metadata": {},
   "source": [
    "Mã định danh cho hợp đồng được nhúng trong phản hồi."
   ]
  },
  {
   "cell_type": "code",
   "execution_count": 14,
   "id": "2e882a2e-07a0-4bf7-891d-cf99651c8c5a",
   "metadata": {
    "vscode": {
     "languageId": "shellscript"
    }
   },
   "outputs": [
    {
     "name": "stdout",
     "output_type": "stream",
     "text": [
      "CONTRACT_ID = c73c08a937cc0244abc28224ee0bd8fddef4c3315a74a9207776dfed87ff11ef#1\n"
     ]
    }
   ],
   "source": [
    "CONTRACT_ID=\"$(jq -r '.resource.contractId' response-1.json)\"\n",
    "echo \"CONTRACT_ID = $CONTRACT_ID\""
   ]
  },
  {
   "cell_type": "markdown",
   "id": "c1be0970-cd75-484d-a745-6e88208b612a",
   "metadata": {},
   "source": [
    "Việc xê-ri hóa CBOR (ở định dạng phong bì văn bản) cũng được nhúng trong phản hồi."
   ]
  },
  {
   "cell_type": "code",
   "execution_count": 15,
   "id": "fb237371-071c-4b70-baca-c67f0751ac3e",
   "metadata": {
    "vscode": {
     "languageId": "shellscript"
    }
   },
   "outputs": [],
   "source": [
    "jq '.resource.txBody' response-1.json > tx-1.unsigned"
   ]
  },
  {
   "cell_type": "markdown",
   "id": "a59332a1-b1a0-4264-a84e-6b613eb20d72",
   "metadata": {},
   "source": [
    "Có nhiều cách để ký và gửi giao dịch Cardano:\n",
    "- `cardano-cli` tại dòng lệnh\n",
    "- `cardano-wallet` tại dòng lệnh hoặc dưới dạng dịch vụ REST\n",
    "- `cardano-hw-cli` đối với ví phần cứng tại dòng lệnh\n",
    "- ví CIP-30 tương thích với Babbage trong trình duyệt web\n",
    "- `marlowe-cli` tại dòng lệnh\n",
    "\n",
    "Để thuận tiện, ở đây chúng ta sử dụng `marlowe-cli` giao dịch gửi. Người ta có thể phải đợi một phút hoặc lâu hơn để các giao dịch được xác nhận trên blockchain."
   ]
  },
  {
   "cell_type": "code",
   "execution_count": 16,
   "id": "89bb49ae-2353-4d85-9ae5-ad805061f2cd",
   "metadata": {
    "vscode": {
     "languageId": "shellscript"
    }
   },
   "outputs": [
    {
     "name": "stdout",
     "output_type": "stream",
     "text": [
      "TX_1 = c73c08a937cc0244abc28224ee0bd8fddef4c3315a74a9207776dfed87ff11ef\n"
     ]
    }
   ],
   "source": [
    "TX_1=$(\n",
    "marlowe-cli transaction submit \\\n",
    "  --tx-body-file tx-1.unsigned \\\n",
    "  --required-signer \"$ADA_PROVIDER_SKEY\" \\\n",
    "  --timeout 600 \\\n",
    "| sed -e 's/^TxId \"\\(.*\\)\"$/\\1/' \\\n",
    ")\n",
    "echo \"TX_1 = $TX_1\""
   ]
  },
  {
   "cell_type": "markdown",
   "id": "df082e87-eeaf-4924-b55b-94a4ba50c327",
   "metadata": {},
   "source": [
    "Người ta có thể xem giao dịch trên Cardano explorer và thấy rằng hợp đồng đã được tạo và các bên đã nhận được vai trò token của họ. Đôi khi phải mất ba mươi giây hoặc lâu hơn để giao dịch hiển thị trong explorer."
   ]
  },
  {
   "cell_type": "code",
   "execution_count": 17,
   "id": "006ca411-2088-439f-b735-b49892de22e8",
   "metadata": {
    "vscode": {
     "languageId": "shellscript"
    }
   },
   "outputs": [
    {
     "name": "stdout",
     "output_type": "stream",
     "text": [
      "https://preprod.cardanoscan.io/transaction/c73c08a937cc0244abc28224ee0bd8fddef4c3315a74a9207776dfed87ff11ef?tab=utxo\n"
     ]
    }
   ],
   "source": [
    "echo \"$EXPLORER_URL\"/transaction/\"$TX_1?tab=utxo\""
   ]
  },
  {
   "cell_type": "markdown",
   "id": "9a1f44ce-de67-4b87-95d8-c1e052cc308a",
   "metadata": {},
   "source": [
    "Cụ thể, chúng ta thấy rằng hợp đồng Marlowe giữ 2 ADA đã được đặt là `MINIMUM_LOVELACE`."
   ]
  },
  {
   "cell_type": "code",
   "execution_count": 18,
   "id": "bc7b2078-d23c-47f4-9f12-697de8469ce1",
   "metadata": {
    "vscode": {
     "languageId": "shellscript"
    }
   },
   "outputs": [
    {
     "name": "stdout",
     "output_type": "stream",
     "text": [
      "                           TxHash                                 TxIx        Amount\n",
      "--------------------------------------------------------------------------------------\n",
      "c73c08a937cc0244abc28224ee0bd8fddef4c3315a74a9207776dfed87ff11ef     1        2000000 lovelace + TxOutDatumHash ScriptDataInBabbageEra \"bf610358ef3035e032f179bffee0de88c48478d4aef7b7b2bcb0d3a7351092bd\"\n"
     ]
    }
   ],
   "source": [
    "cardano-cli query utxo --testnet-magic \"$CARDANO_TESTNET_MAGIC\" --tx-in \"$CONTRACT_ID\""
   ]
  },
  {
   "cell_type": "markdown",
   "id": "9ce2b5b3-4c0b-4c53-ab6d-a1373499097c",
   "metadata": {},
   "source": [
    "Có thể thấy rằng các nhà cung cấp ADA và đô la đã nhận được vai trò token của họ. Lưu ý rằng `4164612070726f7669646572 = \"Ada provider`, `4275796572 = Buyer`, và `446f6c6c61722070726f7669646572 = \"Dollar provider\"` ở dạng ký hiệu thập lục phân. Cũng lưu ý rằng `446a65645f746573744d696372 = Djed_testMicroUSD`."
   ]
  },
  {
   "cell_type": "code",
   "execution_count": 19,
   "id": "613f0751-3bc5-4ca7-b208-ef5830eef61d",
   "metadata": {
    "tags": [],
    "vscode": {
     "languageId": "shellscript"
    }
   },
   "outputs": [
    {
     "name": "stdout",
     "output_type": "stream",
     "text": [
      "                           TxHash                                 TxIx        Amount\n",
      "--------------------------------------------------------------------------------------\n",
      "c73c08a937cc0244abc28224ee0bd8fddef4c3315a74a9207776dfed87ff11ef     0        995413303 lovelace + TxOutDatumNone\n",
      "c73c08a937cc0244abc28224ee0bd8fddef4c3315a74a9207776dfed87ff11ef     2        1060260 lovelace + 1 bb7053ce07dda2292f779c92ae789b4c4a99376f5f6d92b5c4a9f6a4.4164612070726f7669646572 + TxOutDatumNone\n"
     ]
    }
   ],
   "source": [
    "cardano-cli query utxo --testnet-magic \"$CARDANO_TESTNET_MAGIC\" --address \"$ADA_PROVIDER_ADDR\""
   ]
  },
  {
   "cell_type": "code",
   "execution_count": 20,
   "id": "7f6d2b5e-86c2-4f53-ba20-8f95b43c3145",
   "metadata": {
    "tags": [],
    "vscode": {
     "languageId": "shellscript"
    }
   },
   "outputs": [
    {
     "name": "stdout",
     "output_type": "stream",
     "text": [
      "                           TxHash                                 TxIx        Amount\n",
      "--------------------------------------------------------------------------------------\n",
      "81fdeb10a575ba9998c1229b1b2b6a4006acf4a641a66e13bd787b769cd8fb51     2        1000000000 lovelace + TxOutDatumNone\n",
      "81fdeb10a575ba9998c1229b1b2b6a4006acf4a641a66e13bd787b769cd8fb51     3        2000000 lovelace + 100000000 9772ff715b691c0444f333ba1db93b055c0864bec48fff92d1f2a7fe.446a65645f746573744d6963726f555344 + TxOutDatumNone\n",
      "c73c08a937cc0244abc28224ee0bd8fddef4c3315a74a9207776dfed87ff11ef     3        1073190 lovelace + 1 bb7053ce07dda2292f779c92ae789b4c4a99376f5f6d92b5c4a9f6a4.446f6c6c61722070726f7669646572 + TxOutDatumNone\n"
     ]
    }
   ],
   "source": [
    "cardano-cli query utxo --testnet-magic \"$CARDANO_TESTNET_MAGIC\" --address \"$USD_PROVIDER_ADDR\""
   ]
  },
  {
   "cell_type": "markdown",
   "id": "3a7f985a-dba3-4b5f-aab8-8418270c5dda",
   "metadata": {},
   "source": [
    "## Xem chi tiết của hợp đồng trên blockchain\n",
    "\n",
    "Marlowe Runtime\\'s `HTTP` `GET` điểm cuối `/contracts/{contractId}` có thể tìm nạp hợp đồng từ blockchain và trả lại thông tin về hợp đồng đó."
   ]
  },
  {
   "cell_type": "code",
   "execution_count": 21,
   "id": "8328b458-43fb-4e53-8060-1740d25cf93b",
   "metadata": {
    "vscode": {
     "languageId": "shellscript"
    }
   },
   "outputs": [
    {
     "name": "stdout",
     "output_type": "stream",
     "text": [
      "CONTRACT_URL = http://127.0.0.1:3780/contracts/c73c08a937cc0244abc28224ee0bd8fddef4c3315a74a9207776dfed87ff11ef%231\n"
     ]
    }
   ],
   "source": [
    "CONTRACT_URL=\"$MARLOWE_RT_WEBSERVER_URL/`jq -r '.links.contract' response-1.json`\"\n",
    "echo \"CONTRACT_URL = $CONTRACT_URL\""
   ]
  },
  {
   "cell_type": "code",
   "execution_count": 22,
   "id": "e805f893-bcd8-4169-a2da-90f1cfa080b2",
   "metadata": {
    "vscode": {
     "languageId": "shellscript"
    }
   },
   "outputs": [
    {
     "name": "stdout",
     "output_type": "stream",
     "text": [
      "links:\n",
      "  transactions: contracts/c73c08a937cc0244abc28224ee0bd8fddef4c3315a74a9207776dfed87ff11ef%231/transactions\n",
      "resource:\n",
      "  block:\n",
      "    blockHeaderHash: 65a52894d0f20909681734f5b5f461e0e24fdc79c9115b8f2b127856ed754378\n",
      "    blockNo: 757491\n",
      "    slotNo: 23982361\n",
      "  continuations: null\n",
      "  contractId: c73c08a937cc0244abc28224ee0bd8fddef4c3315a74a9207776dfed87ff11ef#1\n",
      "  currentContract:\n",
      "    timeout: 1679669100000\n",
      "    timeout_continuation: close\n",
      "    when:\n",
      "    - case:\n",
      "        deposits:\n",
      "          multiply: 1000000\n",
      "          times: 294\n",
      "        into_account:\n",
      "          role_token: Ada provider\n",
      "        of_token:\n",
      "          currency_symbol: ''\n",
      "          token_name: ''\n",
      "        party:\n",
      "          role_token: Ada provider\n",
      "      then:\n",
      "        timeout: 1679673000000\n",
      "        timeout_continuation: close\n",
      "        when:\n",
      "        - case:\n",
      "            deposits: 100000000\n",
      "            into_account:\n",
      "              role_token: Dollar provider\n",
      "            of_token:\n",
      "              currency_symbol: 9772ff715b691c0444f333ba1db93b055c0864bec48fff92d1f2a7fe\n",
      "              token_name: Djed_testMicroUSD\n",
      "            party:\n",
      "              role_token: Dollar provider\n",
      "          then:\n",
      "            from_account:\n",
      "              role_token: Ada provider\n",
      "            pay:\n",
      "              multiply: 1000000\n",
      "              times: 294\n",
      "            then:\n",
      "              from_account:\n",
      "                role_token: Dollar provider\n",
      "              pay: 100000000\n",
      "              then: close\n",
      "              to:\n",
      "                party:\n",
      "                  role_token: Ada provider\n",
      "              token:\n",
      "                currency_symbol: 9772ff715b691c0444f333ba1db93b055c0864bec48fff92d1f2a7fe\n",
      "                token_name: Djed_testMicroUSD\n",
      "            to:\n",
      "              party:\n",
      "                role_token: Dollar provider\n",
      "            token:\n",
      "              currency_symbol: ''\n",
      "              token_name: ''\n",
      "  initialContract:\n",
      "    timeout: 1679669100000\n",
      "    timeout_continuation: close\n",
      "    when:\n",
      "    - case:\n",
      "        deposits:\n",
      "          multiply: 1000000\n",
      "          times: 294\n",
      "        into_account:\n",
      "          role_token: Ada provider\n",
      "        of_token:\n",
      "          currency_symbol: ''\n",
      "          token_name: ''\n",
      "        party:\n",
      "          role_token: Ada provider\n",
      "      then:\n",
      "        timeout: 1679673000000\n",
      "        timeout_continuation: close\n",
      "        when:\n",
      "        - case:\n",
      "            deposits: 100000000\n",
      "            into_account:\n",
      "              role_token: Dollar provider\n",
      "            of_token:\n",
      "              currency_symbol: 9772ff715b691c0444f333ba1db93b055c0864bec48fff92d1f2a7fe\n",
      "              token_name: Djed_testMicroUSD\n",
      "            party:\n",
      "              role_token: Dollar provider\n",
      "          then:\n",
      "            from_account:\n",
      "              role_token: Ada provider\n",
      "            pay:\n",
      "              multiply: 1000000\n",
      "              times: 294\n",
      "            then:\n",
      "              from_account:\n",
      "                role_token: Dollar provider\n",
      "              pay: 100000000\n",
      "              then: close\n",
      "              to:\n",
      "                party:\n",
      "                  role_token: Ada provider\n",
      "              token:\n",
      "                currency_symbol: 9772ff715b691c0444f333ba1db93b055c0864bec48fff92d1f2a7fe\n",
      "                token_name: Djed_testMicroUSD\n",
      "            to:\n",
      "              party:\n",
      "                role_token: Dollar provider\n",
      "            token:\n",
      "              currency_symbol: ''\n",
      "              token_name: ''\n",
      "  metadata: {}\n",
      "  roleTokenMintingPolicyId: bb7053ce07dda2292f779c92ae789b4c4a99376f5f6d92b5c4a9f6a4\n",
      "  state:\n",
      "    accounts:\n",
      "    - - - address: addr_test1vqd3yrtjyx49uld43lvwqaf7z4k03su8gf2x4yr7syzvckgfzm4ck\n",
      "        - currency_symbol: ''\n",
      "          token_name: ''\n",
      "      - 2000000\n",
      "    boundValues: []\n",
      "    choices: []\n",
      "    minTime: 0\n",
      "  status: confirmed\n",
      "  tags: {}\n",
      "  txBody: null\n",
      "  utxo: c73c08a937cc0244abc28224ee0bd8fddef4c3315a74a9207776dfed87ff11ef#1\n",
      "  version: v1\n"
     ]
    }
   ],
   "source": [
    "curl -sS \"$CONTRACT_URL\" | json2yaml"
   ]
  },
  {
   "cell_type": "markdown",
   "id": "e2166e0c-108b-40e5-b720-00043d697e1a",
   "metadata": {},
   "source": [
    "## Giao dịch 2: Nhà cung cấp Ada gửi 294 Ada vào Hợp đồng\n",
    "\n",
    "Nhà cung cấp ADA gửi 294 ADA của họ vào hợp đồng bằng cách sử dụng `HTTP` `POST` `/contract/{contractId}/transactions` của Marlowe Runtime\\'s . Người mua đang cung cấp tiền cho và nhận tiền thay đổi từ giao dịch này, vì vậy chúng ta cung cấp địa chỉ của họ.\n",
    "\n",
    "Khoản tiền gửi được thể hiện dưới dạng đầu vào JSON cho hợp đồng. Công cụ `marlowe-cli input Deposit` định dạng JSON chính xác cho một khoản tiền gửi một cách tiện lợi."
   ]
  },
  {
   "cell_type": "code",
   "execution_count": 23,
   "id": "3c8a6076-f342-489c-939c-e9c017b6b445",
   "metadata": {
    "vscode": {
     "languageId": "shellscript"
    }
   },
   "outputs": [
    {
     "name": "stdout",
     "output_type": "stream",
     "text": [
      "input_from_party:\n",
      "  role_token: Ada provider\n",
      "into_account:\n",
      "  role_token: Ada provider\n",
      "of_token:\n",
      "  currency_symbol: ''\n",
      "  token_name: ''\n",
      "that_deposits: 294000000\n"
     ]
    }
   ],
   "source": [
    "marlowe-cli input deposit \\\n",
    "  --deposit-party 'Ada provider' \\\n",
    "  --deposit-account 'Ada provider' \\\n",
    "  --deposit-amount \"$LOVELACE_AMOUNT\" \\\n",
    "  --out-file input-2.json\n",
    "json2yaml input-2.json"
   ]
  },
  {
   "cell_type": "code",
   "execution_count": 24,
   "id": "4fc16b02-358c-438f-9e5b-7d709da7eac5",
   "metadata": {
    "vscode": {
     "languageId": "shellscript"
    }
   },
   "outputs": [
    {
     "name": "stdout",
     "output_type": "stream",
     "text": [
      "{\"inputs\":[{\"input_from_party\":{\"role_token\":\"Ada provider\"},\"into_account\":{\"role_token\":\"Ada provider\"},\"of_token\":{\"currency_symbol\":\"\",\"token_name\":\"\"},\"that_deposits\":294000000}],\"metadata\":{},\"tags\":{},\"version\":\"v1\"}\n"
     ]
    }
   ],
   "source": [
    "yaml2json << EOI > request-2.json\n",
    "version: v1\n",
    "inputs: [$(cat input-2.json)]\n",
    "metadata: {}\n",
    "tags: {}\n",
    "EOI\n",
    "cat request-2.json"
   ]
  },
  {
   "cell_type": "markdown",
   "id": "7f66252b-23fc-47e3-825d-7aba51a86368",
   "metadata": {},
   "source": [
    "Tiếp theo, chúng ta đăng yêu cầu và lưu trữ phản hồi."
   ]
  },
  {
   "cell_type": "code",
   "execution_count": 25,
   "id": "465152a1-eaaa-4dab-9035-aa306c0022fa",
   "metadata": {
    "vscode": {
     "languageId": "shellscript"
    }
   },
   "outputs": [
    {
     "name": "stdout",
     "output_type": "stream",
     "text": [
      "links:\n",
      "  transaction: contracts/c73c08a937cc0244abc28224ee0bd8fddef4c3315a74a9207776dfed87ff11ef%231/transactions/84e284b1ad405c2b32e4eb4d93c31ec15b10470737716f3461ed0623e8572e58\n",
      "resource:\n",
      "  contractId: c73c08a937cc0244abc28224ee0bd8fddef4c3315a74a9207776dfed87ff11ef#1\n",
      "  transactionId: 84e284b1ad405c2b32e4eb4d93c31ec15b10470737716f3461ed0623e8572e58\n",
      "  txBody:\n",
      "    cborHex: 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\n",
      "    description: ''\n",
      "    type: TxBodyBabbage\n"
     ]
    }
   ],
   "source": [
    "curl \"$CONTRACT_URL/transactions\" \\\n",
    "  -X POST \\\n",
    "  -H 'Content-Type: application/json' \\\n",
    "  -H \"X-Change-Address: $ADA_PROVIDER_ADDR\" \\\n",
    "  -d @request-2.json \\\n",
    "  -o response-2.json \\\n",
    "  -sS\n",
    "json2yaml response-2.json"
   ]
  },
  {
   "cell_type": "markdown",
   "id": "69e4024a-c61f-4e5a-8272-d1f958f82a15",
   "metadata": {},
   "source": [
    "Một lần nữa, hãy sử dụng `marlowe-cli` để gửi giao dịch rồi chờ xác nhận."
   ]
  },
  {
   "cell_type": "code",
   "execution_count": 26,
   "id": "6fb5d4c0-c158-434b-8dac-b2160f426e01",
   "metadata": {
    "vscode": {
     "languageId": "shellscript"
    }
   },
   "outputs": [],
   "source": [
    "jq '.resource.txBody' response-2.json > tx-2.unsigned"
   ]
  },
  {
   "cell_type": "code",
   "execution_count": 27,
   "id": "b2aa2f81-d6b7-4994-b90b-0812d5fb3fca",
   "metadata": {
    "vscode": {
     "languageId": "shellscript"
    }
   },
   "outputs": [
    {
     "name": "stdout",
     "output_type": "stream",
     "text": [
      "TX_2 = 84e284b1ad405c2b32e4eb4d93c31ec15b10470737716f3461ed0623e8572e58\n"
     ]
    }
   ],
   "source": [
    "TX_2=$(\n",
    "marlowe-cli transaction submit \\\n",
    "  --tx-body-file tx-2.unsigned \\\n",
    "  --required-signer \"$ADA_PROVIDER_SKEY\" \\\n",
    "  --timeout 600 \\\n",
    "| sed -e 's/^TxId \"\\(.*\\)\"$/\\1/' \\\n",
    ")\n",
    "echo \"TX_2 = $TX_2\""
   ]
  },
  {
   "cell_type": "markdown",
   "id": "b7d1ac41-f3c3-47b0-b192-e0f8ad53fdfa",
   "metadata": {},
   "source": [
    "Người ta có thể xem giao dịch trên Cardano explorer. Đôi khi phải mất ba mươi giây hoặc lâu hơn để giao dịch hiển thị trong explorer."
   ]
  },
  {
   "cell_type": "code",
   "execution_count": 28,
   "id": "9b994073-d1b9-44a4-8149-9b307a69a4e4",
   "metadata": {
    "vscode": {
     "languageId": "shellscript"
    }
   },
   "outputs": [
    {
     "name": "stdout",
     "output_type": "stream",
     "text": [
      "https://preprod.cardanoscan.io/transaction/84e284b1ad405c2b32e4eb4d93c31ec15b10470737716f3461ed0623e8572e58?tab=utxo\n"
     ]
    }
   ],
   "source": [
    "echo \"$EXPLORER_URL\"/transaction/\"$TX_2?tab=utxo\""
   ]
  },
  {
   "cell_type": "markdown",
   "id": "664d2826-7d6c-4564-9ef9-6b12e3e76f53",
   "metadata": {},
   "source": [
    "Có thể thấy rằng nhà cung cấp ADA có ít hơn khoảng 294 ADA so với ban đầu."
   ]
  },
  {
   "cell_type": "code",
   "execution_count": 29,
   "id": "b45dc15d-f54f-49cb-a36d-0524f47fd70e",
   "metadata": {
    "vscode": {
     "languageId": "shellscript"
    }
   },
   "outputs": [
    {
     "name": "stdout",
     "output_type": "stream",
     "text": [
      "                           TxHash                                 TxIx        Amount\n",
      "--------------------------------------------------------------------------------------\n",
      "84e284b1ad405c2b32e4eb4d93c31ec15b10470737716f3461ed0623e8572e58     0        700685264 lovelace + TxOutDatumNone\n",
      "84e284b1ad405c2b32e4eb4d93c31ec15b10470737716f3461ed0623e8572e58     2        1060260 lovelace + 1 bb7053ce07dda2292f779c92ae789b4c4a99376f5f6d92b5c4a9f6a4.4164612070726f7669646572 + TxOutDatumNone\n"
     ]
    }
   ],
   "source": [
    "cardano-cli query utxo --testnet-magic \"$CARDANO_TESTNET_MAGIC\" --address \"$ADA_PROVIDER_ADDR\""
   ]
  },
  {
   "cell_type": "markdown",
   "id": "4d2574d2-587f-46f7-8129-431694172296",
   "metadata": {},
   "source": [
    "Hợp đồng Marlowe vẫn có 2 ADA từ khi tạo ra nó và thêm 294 ADA."
   ]
  },
  {
   "cell_type": "code",
   "execution_count": 30,
   "id": "6485d605-dec4-4bab-86f6-81bf002041ed",
   "metadata": {
    "vscode": {
     "languageId": "shellscript"
    }
   },
   "outputs": [
    {
     "name": "stdout",
     "output_type": "stream",
     "text": [
      "                           TxHash                                 TxIx        Amount\n",
      "--------------------------------------------------------------------------------------\n",
      "84e284b1ad405c2b32e4eb4d93c31ec15b10470737716f3461ed0623e8572e58     1        296000000 lovelace + TxOutDatumHash ScriptDataInBabbageEra \"c945bedf448b262fe3e5c36cf3033a4a4914456277f0de38432c4f28bd352ed3\"\n"
     ]
    }
   ],
   "source": [
    "cardano-cli query utxo --testnet-magic \"$CARDANO_TESTNET_MAGIC\" --tx-in \"$TX_2#1\""
   ]
  },
  {
   "cell_type": "markdown",
   "id": "2bbf4214-ecf6-4d4f-a8ea-acdb6ff8bcb7",
   "metadata": {},
   "source": [
    "## Xem thêm tiến trình của hợp đồng trên blockchain\n",
    "\n",
    "Marlowe Runtime\\'s `HTTP` `GET` điểm cuối `/contracts/{contractId}/transactions/{transactionId}` có thể tìm nạp hợp đồng từ blockchain và trả lại thông tin về hợp đồng đó."
   ]
  },
  {
   "cell_type": "code",
   "execution_count": 31,
   "id": "e0461725-7f2b-4256-ac83-8e681ecb3e35",
   "metadata": {
    "vscode": {
     "languageId": "shellscript"
    }
   },
   "outputs": [
    {
     "name": "stdout",
     "output_type": "stream",
     "text": [
      "links: {}\n",
      "resource:\n",
      "  block:\n",
      "    blockHeaderHash: a8e43ba8381f9c177cb788476bb3143ae122b9251e04d5f6fa74260a9b36e122\n",
      "    blockNo: 757501\n",
      "    slotNo: 23982522\n",
      "  consumingTx: null\n",
      "  continuations: null\n",
      "  contractId: c73c08a937cc0244abc28224ee0bd8fddef4c3315a74a9207776dfed87ff11ef#1\n",
      "  inputUtxo: c73c08a937cc0244abc28224ee0bd8fddef4c3315a74a9207776dfed87ff11ef#1\n",
      "  inputs:\n",
      "  - input_from_party:\n",
      "      role_token: Ada provider\n",
      "    into_account:\n",
      "      role_token: Ada provider\n",
      "    of_token:\n",
      "      currency_symbol: ''\n",
      "      token_name: ''\n",
      "    that_deposits: 294000000\n",
      "  invalidBefore: 2023-03-24T13:48:07Z\n",
      "  invalidHereafter: 2023-03-24T14:45:00Z\n",
      "  metadata: {}\n",
      "  outputContract:\n",
      "    timeout: 1679673000000\n",
      "    timeout_continuation: close\n",
      "    when:\n",
      "    - case:\n",
      "        deposits: 100000000\n",
      "        into_account:\n",
      "          role_token: Dollar provider\n",
      "        of_token:\n",
      "          currency_symbol: 9772ff715b691c0444f333ba1db93b055c0864bec48fff92d1f2a7fe\n",
      "          token_name: Djed_testMicroUSD\n",
      "        party:\n",
      "          role_token: Dollar provider\n",
      "      then:\n",
      "        from_account:\n",
      "          role_token: Ada provider\n",
      "        pay:\n",
      "          multiply: 1000000\n",
      "          times: 294\n",
      "        then:\n",
      "          from_account:\n",
      "            role_token: Dollar provider\n",
      "          pay: 100000000\n",
      "          then: close\n",
      "          to:\n",
      "            party:\n",
      "              role_token: Ada provider\n",
      "          token:\n",
      "            currency_symbol: 9772ff715b691c0444f333ba1db93b055c0864bec48fff92d1f2a7fe\n",
      "            token_name: Djed_testMicroUSD\n",
      "        to:\n",
      "          party:\n",
      "            role_token: Dollar provider\n",
      "        token:\n",
      "          currency_symbol: ''\n",
      "          token_name: ''\n",
      "  outputState:\n",
      "    accounts:\n",
      "    - - - address: addr_test1vqd3yrtjyx49uld43lvwqaf7z4k03su8gf2x4yr7syzvckgfzm4ck\n",
      "        - currency_symbol: ''\n",
      "          token_name: ''\n",
      "      - 2000000\n",
      "    - - - role_token: Ada provider\n",
      "        - currency_symbol: ''\n",
      "          token_name: ''\n",
      "      - 294000000\n",
      "    boundValues: []\n",
      "    choices: []\n",
      "    minTime: 1679665687000\n",
      "  outputUtxo: 84e284b1ad405c2b32e4eb4d93c31ec15b10470737716f3461ed0623e8572e58#1\n",
      "  status: confirmed\n",
      "  tags: {}\n",
      "  transactionId: 84e284b1ad405c2b32e4eb4d93c31ec15b10470737716f3461ed0623e8572e58\n",
      "  txBody: null\n"
     ]
    }
   ],
   "source": [
    "curl -sS \"$CONTRACT_URL\"/transactions/\"$TX_2\" | json2yaml"
   ]
  },
  {
   "cell_type": "markdown",
   "id": "1a416c81-4ccb-4964-aab8-e2d76fc4512a",
   "metadata": {},
   "source": [
    "## Giao dịch 3: Nhà cung cấp Dollar gửi 100 Djed vào Hợp đồng\n",
    "\n",
    "Nhà cung cấp đô la gửi 100 djed của họ vào hợp đồng bằng cách sử dụng điểm cuối `HTTP` `POST` `/contract/{contractId}/transactions` của Marlowe Runtime\\'s. Người mua đang cung cấp tiền cho và nhận tiền thay đổi từ giao dịch này, vì vậy chúng ta cung cấp địa chỉ của họ.\n",
    "\n",
    "Khoản tiền gửi được thể hiện dưới dạng đầu vào JSON cho hợp đồng. Công cụ `marlowe-cli input Deposit` định dạng JSON chính xác cho một khoản tiền gửi một cách tiện lợi."
   ]
  },
  {
   "cell_type": "code",
   "execution_count": 32,
   "id": "42aeee88-13e1-4170-b18a-727cd5cde877",
   "metadata": {
    "tags": [],
    "vscode": {
     "languageId": "shellscript"
    }
   },
   "outputs": [
    {
     "name": "stdout",
     "output_type": "stream",
     "text": [
      "input_from_party:\n",
      "  role_token: Dollar provider\n",
      "into_account:\n",
      "  role_token: Dollar provider\n",
      "of_token:\n",
      "  currency_symbol: 9772ff715b691c0444f333ba1db93b055c0864bec48fff92d1f2a7fe\n",
      "  token_name: Djed_testMicroUSD\n",
      "that_deposits: 100000000\n"
     ]
    }
   ],
   "source": [
    "marlowe-cli input deposit \\\n",
    "  --deposit-party 'Dollar provider' \\\n",
    "  --deposit-account 'Dollar provider' \\\n",
    "  --deposit-token 9772ff715b691c0444f333ba1db93b055c0864bec48fff92d1f2a7fe.Djed_testMicroUSD \\\n",
    "  --deposit-amount \"$MICROUSD_AMOUNT\" \\\n",
    "  --out-file input-3.json\n",
    "json2yaml input-3.json"
   ]
  },
  {
   "cell_type": "code",
   "execution_count": 33,
   "id": "3fee1c9b-c4d9-4ab4-9b47-061db363d31f",
   "metadata": {
    "vscode": {
     "languageId": "shellscript"
    }
   },
   "outputs": [
    {
     "name": "stdout",
     "output_type": "stream",
     "text": [
      "{\"inputs\":[{\"input_from_party\":{\"role_token\":\"Dollar provider\"},\"into_account\":{\"role_token\":\"Dollar provider\"},\"of_token\":{\"currency_symbol\":\"9772ff715b691c0444f333ba1db93b055c0864bec48fff92d1f2a7fe\",\"token_name\":\"Djed_testMicroUSD\"},\"that_deposits\":100000000}],\"metadata\":{},\"tags\":{},\"version\":\"v1\"}\n"
     ]
    }
   ],
   "source": [
    "yaml2json << EOI > request-3.json\n",
    "version: v1\n",
    "inputs: [$(cat input-3.json)]\n",
    "metadata: {}\n",
    "tags: {}\n",
    "EOI\n",
    "cat request-3.json"
   ]
  },
  {
   "cell_type": "markdown",
   "id": "8787ec8b-f045-4fbc-adfd-f68bc88303b4",
   "metadata": {},
   "source": [
    "Tiếp theo, chúng ta đăng yêu cầu và lưu trữ phản hồi."
   ]
  },
  {
   "cell_type": "code",
   "execution_count": 34,
   "id": "387362e6-8cb8-4a46-9222-4a065d964167",
   "metadata": {
    "vscode": {
     "languageId": "shellscript"
    }
   },
   "outputs": [
    {
     "name": "stdout",
     "output_type": "stream",
     "text": [
      "links:\n",
      "  transaction: contracts/c73c08a937cc0244abc28224ee0bd8fddef4c3315a74a9207776dfed87ff11ef%231/transactions/05b05966afb5d346d3f2a03470df632b5b697265f637d2adb5fcb463bd127f5e\n",
      "resource:\n",
      "  contractId: c73c08a937cc0244abc28224ee0bd8fddef4c3315a74a9207776dfed87ff11ef#1\n",
      "  transactionId: 05b05966afb5d346d3f2a03470df632b5b697265f637d2adb5fcb463bd127f5e\n",
      "  txBody:\n",
      "    cborHex: 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\n",
      "    description: ''\n",
      "    type: TxBodyBabbage\n"
     ]
    }
   ],
   "source": [
    "curl \"$CONTRACT_URL/transactions\" \\\n",
    "  -X POST \\\n",
    "  -H 'Content-Type: application/json' \\\n",
    "  -H \"X-Change-Address: $USD_PROVIDER_ADDR\" \\\n",
    "  -d @request-3.json \\\n",
    "  -o response-3.json \\\n",
    "  -sS\n",
    "json2yaml response-3.json"
   ]
  },
  {
   "cell_type": "markdown",
   "id": "29fe4142-1525-47ef-8270-571c3a5744fc",
   "metadata": {},
   "source": [
    "Một lần nữa, hãy sử dụng `marlowe-cli` để gửi giao dịch rồi đợi xác nhận."
   ]
  },
  {
   "cell_type": "code",
   "execution_count": 35,
   "id": "57490822-4650-481c-b2a3-beb73075ae6b",
   "metadata": {
    "vscode": {
     "languageId": "shellscript"
    }
   },
   "outputs": [],
   "source": [
    "jq '.resource.txBody' response-3.json > tx-3.unsigned"
   ]
  },
  {
   "cell_type": "code",
   "execution_count": 36,
   "id": "61733dd3-cac6-4ef3-bee8-9cb7ec4362ff",
   "metadata": {
    "vscode": {
     "languageId": "shellscript"
    }
   },
   "outputs": [
    {
     "name": "stdout",
     "output_type": "stream",
     "text": [
      "TX_3 = 05b05966afb5d346d3f2a03470df632b5b697265f637d2adb5fcb463bd127f5e\n"
     ]
    }
   ],
   "source": [
    "TX_3=$(\n",
    "marlowe-cli transaction submit \\\n",
    "  --tx-body-file tx-3.unsigned \\\n",
    "  --required-signer \"$USD_PROVIDER_SKEY\" \\\n",
    "  --timeout 600 \\\n",
    "| sed -e 's/^TxId \"\\(.*\\)\"$/\\1/' \\\n",
    ")\n",
    "echo \"TX_3 = $TX_3\""
   ]
  },
  {
   "cell_type": "markdown",
   "id": "5aa0221d-485b-4c7f-b711-3dc2773d616d",
   "metadata": {},
   "source": [
    "Người ta có thể xem giao dịch trên Cardano explorer. Đôi khi phải mất ba mươi giây hoặc lâu hơn để giao dịch hiển thị trong explorer."
   ]
  },
  {
   "cell_type": "code",
   "execution_count": 37,
   "id": "b7424735-4fba-433d-99ee-ae9b5ec91ab2",
   "metadata": {
    "vscode": {
     "languageId": "shellscript"
    }
   },
   "outputs": [
    {
     "name": "stdout",
     "output_type": "stream",
     "text": [
      "https://preprod.cardanoscan.io/transaction/05b05966afb5d346d3f2a03470df632b5b697265f637d2adb5fcb463bd127f5e?tab=utxo\n"
     ]
    }
   ],
   "source": [
    "echo \"$EXPLORER_URL\"/transaction/\"$TX_3?tab=utxo\""
   ]
  },
  {
   "cell_type": "markdown",
   "id": "39055157-6c46-4b48-94ea-42fa54ec2fb5",
   "metadata": {},
   "source": [
    "Người ta có thể thấy rằng nhà cung cấp đô la đã giảm chính xác 100 djed so với ban đầu."
   ]
  },
  {
   "cell_type": "code",
   "execution_count": 38,
   "id": "1f831ae4-36e9-4fb6-9c7b-c6a19e6f249f",
   "metadata": {
    "vscode": {
     "languageId": "shellscript"
    }
   },
   "outputs": [
    {
     "name": "stdout",
     "output_type": "stream",
     "text": [
      "                           TxHash                                 TxIx        Amount\n",
      "--------------------------------------------------------------------------------------\n",
      "05b05966afb5d346d3f2a03470df632b5b697265f637d2adb5fcb463bd127f5e     0        999831306 lovelace + TxOutDatumNone\n",
      "05b05966afb5d346d3f2a03470df632b5b697265f637d2adb5fcb463bd127f5e     1        1073190 lovelace + 1 bb7053ce07dda2292f779c92ae789b4c4a99376f5f6d92b5c4a9f6a4.446f6c6c61722070726f7669646572 + TxOutDatumNone\n"
     ]
    }
   ],
   "source": [
    "cardano-cli query utxo --testnet-magic \"$CARDANO_TESTNET_MAGIC\" --address \"$USD_PROVIDER_ADDR\""
   ]
  },
  {
   "cell_type": "markdown",
   "id": "3b092c43-548e-4ee4-8e0b-8898296d5cf5",
   "metadata": {},
   "source": [
    "Hợp đồng Marlowe đã kết thúc, nhưng địa chỉ thanh toán cuộn vẫn giữ 100 djed vì lợi ích của nhà cung cấp ADA."
   ]
  },
  {
   "cell_type": "code",
   "execution_count": 39,
   "id": "0020850f-5700-4a2e-a1b6-f3486ab9eb14",
   "metadata": {
    "vscode": {
     "languageId": "shellscript"
    }
   },
   "outputs": [
    {
     "name": "stdout",
     "output_type": "stream",
     "text": [
      "                           TxHash                                 TxIx        Amount\n",
      "--------------------------------------------------------------------------------------\n",
      "05b05966afb5d346d3f2a03470df632b5b697265f637d2adb5fcb463bd127f5e     2        1258520 lovelace + 100000000 9772ff715b691c0444f333ba1db93b055c0864bec48fff92d1f2a7fe.446a65645f746573744d6963726f555344 + TxOutDatumHash ScriptDataInBabbageEra \"758d98b7ec8818a2cd32baa416d6a337bcb837a2393815744e3f4935bebedd3e\"\n"
     ]
    }
   ],
   "source": [
    "cardano-cli query utxo --testnet-magic \"$CARDANO_TESTNET_MAGIC\" --tx-in \"$TX_3#2\""
   ]
  },
  {
   "cell_type": "markdown",
   "id": "7b5be623-0611-464c-a2ac-51fddb6649d6",
   "metadata": {},
   "source": [
    "Địa chỉ thanh toán cuộn cũng giữ 294 ADA vì lợi ích của nhà cung cấp đô la."
   ]
  },
  {
   "cell_type": "code",
   "execution_count": 40,
   "id": "059097db-7be5-4c14-841b-8f208e915413",
   "metadata": {
    "vscode": {
     "languageId": "shellscript"
    }
   },
   "outputs": [
    {
     "name": "stdout",
     "output_type": "stream",
     "text": [
      "                           TxHash                                 TxIx        Amount\n",
      "--------------------------------------------------------------------------------------\n",
      "05b05966afb5d346d3f2a03470df632b5b697265f637d2adb5fcb463bd127f5e     3        294000000 lovelace + TxOutDatumHash ScriptDataInBabbageEra \"366c6e0ba1da1c0fe3488c49fba1f8dcdd6f4dcc723bbd08bc62caf12633facc\"\n"
     ]
    }
   ],
   "source": [
    "cardano-cli query utxo --testnet-magic \"$CARDANO_TESTNET_MAGIC\" --tx-in \"$TX_3#3\""
   ]
  },
  {
   "cell_type": "markdown",
   "id": "4a2e8aac-9a19-48b9-97c7-5b0dc82e75c9",
   "metadata": {},
   "source": [
    "## Xem thêm tiến trình của hợp đồng trên blockchain\n",
    "\n",
    "Marlowe Runtime\\'s HTTP GET điểm cuối /contracts/{contractId}/transactions/{transactionId} có thể tìm nạp hợp đồng từ blockchain và trả lại thông tin về hợp đồng đó."
   ]
  },
  {
   "cell_type": "code",
   "execution_count": 41,
   "id": "b91dc7ca-2cf8-4d8d-81a7-3d0880aafd90",
   "metadata": {
    "vscode": {
     "languageId": "shellscript"
    }
   },
   "outputs": [
    {
     "name": "stdout",
     "output_type": "stream",
     "text": [
      "links:\n",
      "  previous: contracts/c73c08a937cc0244abc28224ee0bd8fddef4c3315a74a9207776dfed87ff11ef%231/transactions/84e284b1ad405c2b32e4eb4d93c31ec15b10470737716f3461ed0623e8572e58\n",
      "resource:\n",
      "  block:\n",
      "    blockHeaderHash: c331402d98a3e77d8d78123a915118e39e4acef61613e57cae46cc047d796fb7\n",
      "    blockNo: 757509\n",
      "    slotNo: 23982639\n",
      "  consumingTx: null\n",
      "  continuations: null\n",
      "  contractId: c73c08a937cc0244abc28224ee0bd8fddef4c3315a74a9207776dfed87ff11ef#1\n",
      "  inputUtxo: 84e284b1ad405c2b32e4eb4d93c31ec15b10470737716f3461ed0623e8572e58#1\n",
      "  inputs:\n",
      "  - input_from_party:\n",
      "      role_token: Dollar provider\n",
      "    into_account:\n",
      "      role_token: Dollar provider\n",
      "    of_token:\n",
      "      currency_symbol: 9772ff715b691c0444f333ba1db93b055c0864bec48fff92d1f2a7fe\n",
      "      token_name: Djed_testMicroUSD\n",
      "    that_deposits: 100000000\n",
      "  invalidBefore: 2023-03-24T13:50:04Z\n",
      "  invalidHereafter: 2023-03-24T15:50:00Z\n",
      "  metadata: {}\n",
      "  outputContract: null\n",
      "  outputState: null\n",
      "  outputUtxo: null\n",
      "  status: confirmed\n",
      "  tags: {}\n",
      "  transactionId: 05b05966afb5d346d3f2a03470df632b5b697265f637d2adb5fcb463bd127f5e\n",
      "  txBody: null\n"
     ]
    }
   ],
   "source": [
    "curl -sS \"$CONTRACT_URL\"/transactions/\"$TX_3\" | json2yaml"
   ]
  },
  {
   "cell_type": "markdown",
   "id": "1111ac65-fd60-429a-811f-dfe3440e6b95",
   "metadata": {},
   "source": [
    "## Giao dịch 4: Nhà cung cấp Ada rút đô la\n",
    "\n",
    "100 djed được giữ tại địa chỉ thanh toán theo vai trò của Marlowe vì lợi ích của nhà cung cấp ADA. Nhà cung cấp ADA có thể rút các khoản tiền này bất cứ lúc nào. ID hợp đồng và tên vai trò được bao gồm trong nội dung yêu cầu rút tiền."
   ]
  },
  {
   "cell_type": "code",
   "execution_count": 42,
   "id": "223cd7b7-30d5-4e7d-b99d-76a5926ff737",
   "metadata": {
    "tags": [],
    "vscode": {
     "languageId": "shellscript"
    }
   },
   "outputs": [
    {
     "name": "stdout",
     "output_type": "stream",
     "text": [
      "{\"contractId\":\"c73c08a937cc0244abc28224ee0bd8fddef4c3315a74a9207776dfed87ff11ef#1\",\"role\":\"Ada provider\"}\n"
     ]
    }
   ],
   "source": [
    "yaml2json << EOI > request-4.json\n",
    "contractId: \"$CONTRACT_ID\"\n",
    "role: \"Ada provider\"\n",
    "EOI\n",
    "cat request-4.json"
   ]
  },
  {
   "cell_type": "markdown",
   "id": "7b3c9b1f-b55a-4a09-b0da-6a33ec67fb2c",
   "metadata": {},
   "source": [
    "Tiếp theo, chúng ta đăng yêu cầu và lưu trữ phản hồi."
   ]
  },
  {
   "cell_type": "code",
   "execution_count": 43,
   "id": "fae22f06-a0b5-4366-88c1-4926948dfb50",
   "metadata": {
    "vscode": {
     "languageId": "shellscript"
    }
   },
   "outputs": [
    {
     "name": "stdout",
     "output_type": "stream",
     "text": [
      "links:\n",
      "  withdrawal: withdrawals/cdd5691e3085d6dd50ac45911b2a6bbd372a232a05a68851263279a568973a37\n",
      "resource:\n",
      "  txBody:\n",
      "    cborHex: 86a8008382582005b05966afb5d346d3f2a03470df632b5b697265f637d2adb5fcb463bd127f5e0282582084e284b1ad405c2b32e4eb4d93c31ec15b10470737716f3461ed0623e8572e580082582084e284b1ad405c2b32e4eb4d93c31ec15b10470737716f3461ed0623e8572e58020d8182582084e284b1ad405c2b32e4eb4d93c31ec15b10470737716f3461ed0623e8572e580012818258209a8a6f387a3330b4141e1cb019380b9ac5c72151c0abc52aa4266245d3c555cd020183a200581d601b120d7221aa5e7db58fd8e0753e156cf8c38742546a907e8104cc59011a29c08003a200581d601b120d7221aa5e7db58fd8e0753e156cf8c38742546a907e8104cc5901821a00102da4a1581cbb7053ce07dda2292f779c92ae789b4c4a99376f5f6d92b5c4a9f6a4a14c4164612070726f766964657201a200581d601b120d7221aa5e7db58fd8e0753e156cf8c38742546a907e8104cc5901821a0010c52aa1581c9772ff715b691c0444f333ba1db93b055c0864bec48fff92d1f2a7fea151446a65645f746573744d6963726f5553441a05f5e10010a200581d601b120d7221aa5e7db58fd8e0753e156cf8c38742546a907e8104cc59011a29bb4bb7111a00085019021a00058abb0b58203ac49c838441bdb02d7c570282e1ee5e39d6cc4185accc03aeb9e5601bcdd0129fff81d8799f581cbb7053ce07dda2292f779c92ae789b4c4a99376f5f6d92b5c4a9f6a44c4164612070726f7669646572ff81840000d87980821a0020eb241a2376bbf5f5f6\n",
      "    description: ''\n",
      "    type: TxBodyBabbage\n",
      "  withdrawalId: cdd5691e3085d6dd50ac45911b2a6bbd372a232a05a68851263279a568973a37\n"
     ]
    }
   ],
   "source": [
    "curl \"$MARLOWE_RT_WEBSERVER_URL/withdrawals\" \\\n",
    "  -X POST \\\n",
    "  -H 'Content-Type: application/json' \\\n",
    "  -H \"X-Change-Address: $ADA_PROVIDER_ADDR\" \\\n",
    "  -d @request-4.json \\\n",
    "  -o response-4.json \\\n",
    "  -sS\n",
    "json2yaml response-4.json"
   ]
  },
  {
   "cell_type": "markdown",
   "id": "afefec57-7bba-4c88-82db-6a0f429bf6bb",
   "metadata": {},
   "source": [
    "Một lần nữa, hãy sử dụng `marlowe-cli` để gửi giao dịch rồi đợi xác nhận."
   ]
  },
  {
   "cell_type": "code",
   "execution_count": 44,
   "id": "e5d6f45f-89cf-402b-8a17-520a85d9f757",
   "metadata": {
    "vscode": {
     "languageId": "shellscript"
    }
   },
   "outputs": [],
   "source": [
    "jq '.resource.txBody' response-4.json > tx-4.unsigned"
   ]
  },
  {
   "cell_type": "code",
   "execution_count": 45,
   "id": "c7fa907d-07d8-46b2-9ece-a6f52320e628",
   "metadata": {
    "vscode": {
     "languageId": "shellscript"
    }
   },
   "outputs": [
    {
     "name": "stdout",
     "output_type": "stream",
     "text": [
      "TX_4 = cdd5691e3085d6dd50ac45911b2a6bbd372a232a05a68851263279a568973a37\n"
     ]
    }
   ],
   "source": [
    "TX_4=$(\n",
    "marlowe-cli transaction submit \\\n",
    "  --tx-body-file tx-4.unsigned \\\n",
    "  --required-signer \"$ADA_PROVIDER_SKEY\" \\\n",
    "  --timeout 600 \\\n",
    "| sed -e 's/^TxId \"\\(.*\\)\"$/\\1/' \\\n",
    ")\n",
    "echo \"TX_4 = $TX_4\""
   ]
  },
  {
   "cell_type": "markdown",
   "id": "89158154-d547-4378-806b-de1d7662503e",
   "metadata": {},
   "source": [
    "Bạn có thể xem giao dịch trên Cardano explorer. Đôi khi phải mất ba mươi giây hoặc lâu hơn để giao dịch hiển thị trong explorer."
   ]
  },
  {
   "cell_type": "code",
   "execution_count": 46,
   "id": "331d652b-e7fa-4eb0-96a3-e5cfa565b1b9",
   "metadata": {
    "vscode": {
     "languageId": "shellscript"
    }
   },
   "outputs": [
    {
     "name": "stdout",
     "output_type": "stream",
     "text": [
      "https://preprod.cardanoscan.io/transaction/cdd5691e3085d6dd50ac45911b2a6bbd372a232a05a68851263279a568973a37?tab=utxo\n"
     ]
    }
   ],
   "source": [
    "echo \"$EXPLORER_URL\"/transaction/\"$TX_4?tab=utxo\""
   ]
  },
  {
   "cell_type": "markdown",
   "id": "2dfa5c8a-938f-4d0d-a806-ca65b688ae32",
   "metadata": {},
   "source": [
    "Nhà cung cấp ADA hiện có 100 djed."
   ]
  },
  {
   "cell_type": "code",
   "execution_count": 47,
   "id": "18fabe44-1bd2-40ba-8764-f0b384fb5739",
   "metadata": {
    "vscode": {
     "languageId": "shellscript"
    }
   },
   "outputs": [
    {
     "name": "stdout",
     "output_type": "stream",
     "text": [
      "                           TxHash                                 TxIx        Amount\n",
      "--------------------------------------------------------------------------------------\n",
      "05b05966afb5d346d3f2a03470df632b5b697265f637d2adb5fcb463bd127f5e     4        2000000 lovelace + TxOutDatumNone\n",
      "cdd5691e3085d6dd50ac45911b2a6bbd372a232a05a68851263279a568973a37     0        700481539 lovelace + TxOutDatumNone\n",
      "cdd5691e3085d6dd50ac45911b2a6bbd372a232a05a68851263279a568973a37     1        1060260 lovelace + 1 bb7053ce07dda2292f779c92ae789b4c4a99376f5f6d92b5c4a9f6a4.4164612070726f7669646572 + TxOutDatumNone\n",
      "cdd5691e3085d6dd50ac45911b2a6bbd372a232a05a68851263279a568973a37     2        1099050 lovelace + 100000000 9772ff715b691c0444f333ba1db93b055c0864bec48fff92d1f2a7fe.446a65645f746573744d6963726f555344 + TxOutDatumNone\n"
     ]
    }
   ],
   "source": [
    "cardano-cli query utxo --testnet-magic \"$CARDANO_TESTNET_MAGIC\" --address \"$ADA_PROVIDER_ADDR\""
   ]
  },
  {
   "cell_type": "markdown",
   "id": "97b64a91-527f-4456-9798-c214a8a795b8",
   "metadata": {},
   "source": [
    "## Xem giao dịch rút tiền\n",
    "\n",
    "Marlowe Runtime\\'s `HTTP` `GET` điểm cuối `/drawals/{transactionId}` có thể tìm nạp một giao dịch rút tiền từ blockchain và trả lại thông tin về giao dịch đó."
   ]
  },
  {
   "cell_type": "code",
   "execution_count": 48,
   "id": "72ca3c23-4074-4581-ac08-30f46fca17b4",
   "metadata": {
    "vscode": {
     "languageId": "shellscript"
    }
   },
   "outputs": [
    {
     "name": "stdout",
     "output_type": "stream",
     "text": [
      "block:\n",
      "  blockHeaderHash: b41c4d2ed3de99126ddfbd379c6e6f4387cbf5bbc8af744a04b66754280bd3ed\n",
      "  blockNo: 757514\n",
      "  slotNo: 23982857\n",
      "payouts:\n",
      "- contractId: c73c08a937cc0244abc28224ee0bd8fddef4c3315a74a9207776dfed87ff11ef#1\n",
      "  payout: 05b05966afb5d346d3f2a03470df632b5b697265f637d2adb5fcb463bd127f5e#2\n",
      "  role: Ada provider\n",
      "  roleTokenMintingPolicyId: bb7053ce07dda2292f779c92ae789b4c4a99376f5f6d92b5c4a9f6a4\n",
      "status: confirmed\n",
      "withdrawalId: cdd5691e3085d6dd50ac45911b2a6bbd372a232a05a68851263279a568973a37\n"
     ]
    }
   ],
   "source": [
    "curl -sS \"$MARLOWE_RT_WEBSERVER_URL\"/withdrawals/\"$TX_4\" | json2yaml"
   ]
  },
  {
   "cell_type": "markdown",
   "id": "bf69b83d-560a-433e-9f00-570dd5e75724",
   "metadata": {},
   "source": [
    "## Giao dịch 5: Nhà cung cấp Dollar rút Ada\n",
    "\n",
    "294 ADA được giữ tại địa chỉ thanh toán theo vai trò của Marlowe vì lợi ích của nhà cung cấp đô la. Nhà cung cấp đô la có thể rút các khoản tiền này bất cứ lúc nào. ID hợp đồng và tên vai trò được bao gồm trong nội dung yêu cầu rút tiền."
   ]
  },
  {
   "cell_type": "code",
   "execution_count": 49,
   "id": "be3d3614-94a4-4ebc-af0c-b87b12180baf",
   "metadata": {
    "tags": [],
    "vscode": {
     "languageId": "shellscript"
    }
   },
   "outputs": [
    {
     "name": "stdout",
     "output_type": "stream",
     "text": [
      "{\"contractId\":\"c73c08a937cc0244abc28224ee0bd8fddef4c3315a74a9207776dfed87ff11ef#1\",\"role\":\"Dollar provider\"}\n"
     ]
    }
   ],
   "source": [
    "yaml2json << EOI > request-5.json\n",
    "contractId: \"$CONTRACT_ID\"\n",
    "role: \"Dollar provider\"\n",
    "EOI\n",
    "cat request-5.json"
   ]
  },
  {
   "cell_type": "markdown",
   "id": "4edc76dd-be00-4317-ad22-f885898a0903",
   "metadata": {},
   "source": [
    "Tiếp theo, chúng ta đăng yêu cầu và lưu trữ phản hồi."
   ]
  },
  {
   "cell_type": "code",
   "execution_count": 50,
   "id": "a4e151cb-0df7-4d70-a6b3-09da7066601a",
   "metadata": {
    "vscode": {
     "languageId": "shellscript"
    }
   },
   "outputs": [
    {
     "name": "stdout",
     "output_type": "stream",
     "text": [
      "links:\n",
      "  withdrawal: withdrawals/315f54a7c39c96f1bcc521954edc5e33b378d3aebfc71f2a1168d358adef5867\n",
      "resource:\n",
      "  txBody:\n",
      "    cborHex: 86a8008382582005b05966afb5d346d3f2a03470df632b5b697265f637d2adb5fcb463bd127f5e0082582005b05966afb5d346d3f2a03470df632b5b697265f637d2adb5fcb463bd127f5e0182582005b05966afb5d346d3f2a03470df632b5b697265f637d2adb5fcb463bd127f5e030d8182582005b05966afb5d346d3f2a03470df632b5b697265f637d2adb5fcb463bd127f5e0012818258209a8a6f387a3330b4141e1cb019380b9ac5c72151c0abc52aa4266245d3c555cd020182a200581d604959d439bd61c63c94a102be0defd6a54b36071d6789f05b7b0224a1011a4d193a50a200581d604959d439bd61c63c94a102be0defd6a54b36071d6789f05b7b0224a101821a00106026a1581cbb7053ce07dda2292f779c92ae789b4c4a99376f5f6d92b5c4a9f6a4a14f446f6c6c61722070726f76696465720110a200581d604959d439bd61c63c94a102be0defd6a54b36071d6789f05b7b0224a1011a3b909bb3111a00079b57021a0005123a0b5820424a94276d7c3699508f073d8809325917434fbf05bd0b48f82aba66a55997c49fff81d8799f581cbb7053ce07dda2292f779c92ae789b4c4a99376f5f6d92b5c4a9f6a44f446f6c6c61722070726f7669646572ff81840002d87980821a001b8ea21a1df568ebf5f6\n",
      "    description: ''\n",
      "    type: TxBodyBabbage\n",
      "  withdrawalId: 315f54a7c39c96f1bcc521954edc5e33b378d3aebfc71f2a1168d358adef5867\n"
     ]
    }
   ],
   "source": [
    "curl \"$MARLOWE_RT_WEBSERVER_URL/withdrawals\" \\\n",
    "  -X POST \\\n",
    "  -H 'Content-Type: application/json' \\\n",
    "  -H \"X-Change-Address: $USD_PROVIDER_ADDR\" \\\n",
    "  -d @request-5.json \\\n",
    "  -o response-5.json \\\n",
    "  -sS\n",
    "json2yaml response-5.json"
   ]
  },
  {
   "cell_type": "markdown",
   "id": "f0278141-5eb1-40ae-be06-f89de14f371a",
   "metadata": {},
   "source": [
    "Một lần nữa, hãy sử dụng `marlowe-cli` để gửi giao dịch rồi chờ xác nhận."
   ]
  },
  {
   "cell_type": "code",
   "execution_count": 51,
   "id": "476ccaa4-2da7-4f83-8bda-085f4574a6f7",
   "metadata": {
    "vscode": {
     "languageId": "shellscript"
    }
   },
   "outputs": [],
   "source": [
    "jq '.resource.txBody' response-5.json > tx-5.unsigned"
   ]
  },
  {
   "cell_type": "code",
   "execution_count": 52,
   "id": "a40b3d0d-01d4-4c08-998f-5649446fc7fe",
   "metadata": {
    "vscode": {
     "languageId": "shellscript"
    }
   },
   "outputs": [
    {
     "name": "stdout",
     "output_type": "stream",
     "text": [
      "TX_5 = 315f54a7c39c96f1bcc521954edc5e33b378d3aebfc71f2a1168d358adef5867\n"
     ]
    }
   ],
   "source": [
    "TX_5=$(\n",
    "marlowe-cli transaction submit \\\n",
    "  --tx-body-file tx-5.unsigned \\\n",
    "  --required-signer \"$USD_PROVIDER_SKEY\" \\\n",
    "  --timeout 600 \\\n",
    "| sed -e 's/^TxId \"\\(.*\\)\"$/\\1/' \\\n",
    ")\n",
    "echo \"TX_5 = $TX_5\""
   ]
  },
  {
   "cell_type": "markdown",
   "id": "0f92114c-dc21-426c-a9e7-c9bed8d1183e",
   "metadata": {},
   "source": [
    "Bạn có thể xem giao dịch trên Cardano explorer. Đôi khi phải mất ba mươi giây hoặc lâu hơn để giao dịch hiển thị trong explorer."
   ]
  },
  {
   "cell_type": "code",
   "execution_count": 53,
   "id": "55f05104-8def-4817-b68a-5da197d131d0",
   "metadata": {
    "vscode": {
     "languageId": "shellscript"
    }
   },
   "outputs": [
    {
     "name": "stdout",
     "output_type": "stream",
     "text": [
      "https://preprod.cardanoscan.io/transaction/315f54a7c39c96f1bcc521954edc5e33b378d3aebfc71f2a1168d358adef5867?tab=utxo\n"
     ]
    }
   ],
   "source": [
    "echo \"$EXPLORER_URL\"/transaction/\"$TX_5?tab=utxo\""
   ]
  },
  {
   "cell_type": "markdown",
   "id": "57b69ece-3691-438a-b2fb-c6ace506b949",
   "metadata": {},
   "source": [
    "Nhà cung cấp đô la hiện có thêm khoảng 294 ADA."
   ]
  },
  {
   "cell_type": "code",
   "execution_count": 54,
   "id": "daa35baf-eade-49c5-8d3f-d204f31a5600",
   "metadata": {
    "vscode": {
     "languageId": "shellscript"
    }
   },
   "outputs": [
    {
     "name": "stdout",
     "output_type": "stream",
     "text": [
      "                           TxHash                                 TxIx        Amount\n",
      "--------------------------------------------------------------------------------------\n",
      "315f54a7c39c96f1bcc521954edc5e33b378d3aebfc71f2a1168d358adef5867     0        1293498960 lovelace + TxOutDatumNone\n",
      "315f54a7c39c96f1bcc521954edc5e33b378d3aebfc71f2a1168d358adef5867     1        1073190 lovelace + 1 bb7053ce07dda2292f779c92ae789b4c4a99376f5f6d92b5c4a9f6a4.446f6c6c61722070726f7669646572 + TxOutDatumNone\n"
     ]
    }
   ],
   "source": [
    "cardano-cli query utxo --testnet-magic \"$CARDANO_TESTNET_MAGIC\" --address \"$USD_PROVIDER_ADDR\""
   ]
  },
  {
   "cell_type": "markdown",
   "id": "aedb161e-cfa9-4657-a7bf-a93eea800013",
   "metadata": {},
   "source": [
    "## Xem rút tiền\n",
    "\n",
    "Marlowe Runtime\\'s `HTTP` `GET` điểm cuối `/drawals/{transactionId}` có thể tìm nạp một khoản rút tiền từ chuỗi khối và trả về thông tin về nó."
   ]
  },
  {
   "cell_type": "code",
   "execution_count": 55,
   "id": "6fda49c9-f5f1-4cc9-95aa-7ab9a9df2b12",
   "metadata": {
    "vscode": {
     "languageId": "shellscript"
    }
   },
   "outputs": [
    {
     "name": "stdout",
     "output_type": "stream",
     "text": [
      "block:\n",
      "  blockHeaderHash: f4a1cfc8471034fcc5f58008909c429e8f9d0bdd8efdb93ab29d2e62b7a0bfa0\n",
      "  blockNo: 757519\n",
      "  slotNo: 23982974\n",
      "payouts:\n",
      "- contractId: c73c08a937cc0244abc28224ee0bd8fddef4c3315a74a9207776dfed87ff11ef#1\n",
      "  payout: 05b05966afb5d346d3f2a03470df632b5b697265f637d2adb5fcb463bd127f5e#3\n",
      "  role: Dollar provider\n",
      "  roleTokenMintingPolicyId: bb7053ce07dda2292f779c92ae789b4c4a99376f5f6d92b5c4a9f6a4\n",
      "status: confirmed\n",
      "withdrawalId: 315f54a7c39c96f1bcc521954edc5e33b378d3aebfc71f2a1168d358adef5867\n"
     ]
    }
   ],
   "source": [
    "curl -sS \"$MARLOWE_RT_WEBSERVER_URL\"/withdrawals/\"$TX_5\" | json2yaml"
   ]
  }
 ],
 "metadata": {
  "kernelspec": {
   "display_name": "Bash with Marlowe Tools",
   "language": "bash",
   "name": "bash-minimal"
  },
  "language_info": {
   "codemirror_mode": "shell",
   "file_extension": ".sh",
   "mimetype": "text/x-sh",
   "name": "bash"
  }
 },
 "nbformat": 4,
 "nbformat_minor": 5
}
